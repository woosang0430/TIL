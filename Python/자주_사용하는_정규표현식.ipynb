{
 "cells": [
  {
   "cell_type": "markdown",
   "metadata": {},
   "source": [
    "전자우편 주소:\n",
    "/^[a-z0-9_+.-]+@([a-z0-9-]+\\.)+[a-z0-9]{2,4}$/\n",
    "\n",
    "URL:\n",
    "/^(file|gopher|news|nntp|telnet|https?|ftps?|sftp):\\/\\/([a-z0-9-]+\\.)+[a-z0-9]{2,4}.*$/\n",
    "\n",
    "HTML 태그 - HTML tags:\n",
    "/\\<(/?[^\\>]+)\\>/\n",
    "\n",
    "전화 번호 - 예, 123-123-2344 혹은 123-1234-1234:\n",
    "/(\\d{3}).*(\\d{3}).*(\\d{4})/\n",
    "\n",
    "날짜 - 예, 3/28/2007 혹은 3/28/07:\n",
    "/^\\d{1,2}\\/\\d{1,2}\\/\\d{2,4}$/\n",
    "\n",
    "jpg, gif 또는 png 확장자를 가진 그림 파일명:\n",
    "/([^\\s]+(?=\\.(jpg|gif|png))\\.\\2)/\n",
    "\n",
    "1부터 50 사이의 번호 - 1과 50 포함:\n",
    "/^[1-9]{1}$|^[1-4]{1}[0-9]{1}$|^50$/\n",
    "\n",
    "16 진수로 된 색깔 번호:\n",
    "/#?([A-Fa-f0-9]){3}(([A-Fa-f0-9]){3})?/\n",
    "\n",
    "적어도 소문자 하나, 대문자 하나, 숫자 하나가 포함되어 있는 문자열(8글자 이상 15글자 이하) - 올바른 암호 형식을 확인할 때 사용될 수 있음:\n",
    "/(?=.*\\d)(?=.*[a-z])(?=.*[A-Z]).{8,15}/\n",
    "\n",
    "출처 : https://gocoding.tistory.com/m/93"
   ]
  },
  {
   "cell_type": "code",
   "execution_count": null,
   "metadata": {},
   "outputs": [],
   "source": []
  }
 ],
 "metadata": {
  "kernelspec": {
   "display_name": "Python 3",
   "language": "python",
   "name": "python3"
  },
  "language_info": {
   "codemirror_mode": {
    "name": "ipython",
    "version": 3
   },
   "file_extension": ".py",
   "mimetype": "text/x-python",
   "name": "python",
   "nbconvert_exporter": "python",
   "pygments_lexer": "ipython3",
   "version": "3.8.5"
  }
 },
 "nbformat": 4,
 "nbformat_minor": 4
}
