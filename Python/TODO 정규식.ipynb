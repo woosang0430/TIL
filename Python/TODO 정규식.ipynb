{
 "cells": [
  {
   "cell_type": "code",
   "execution_count": 2,
   "metadata": {
    "ExecuteTime": {
     "end_time": "2020-05-20T11:54:58.078440Z",
     "start_time": "2020-05-20T11:54:58.075447Z"
    }
   },
   "outputs": [],
   "source": [
    "# 다음 중 image 파일명만 추출하시오.\n",
    "file_names = \"\"\".conda\n",
    "head.PNG\n",
    "model.jpg\n",
    "python.txt\n",
    "resume.doc\n",
    "숙제-국어.hwp\n",
    "브라우저점유율-파이차트.png\n",
    "2010.12.5.사진.JPG\n",
    "exam.doc\n",
    "favicon.gif\"\"\"\n",
    "\n",
    "# 결과 : ['head.PNG', 'model.jpg', '브라우저점유율-파이차트.png', '2010.12.5.사진.JPG', 'favicon.gif']"
   ]
  },
  {
   "cell_type": "code",
   "execution_count": 3,
   "metadata": {},
   "outputs": [
    {
     "name": "stdout",
     "output_type": "stream",
     "text": [
      "['head.PNG', 'model.jpg', '브라우저점유율-파이차트.png', '2010.12.5.사진.JPG', 'favicon.gif']\n"
     ]
    }
   ],
   "source": [
    "import re\n",
    "pattern = r\".+PNG|.+jpg|.+png|.+JPG|.+gif\"\n",
    "img_file = re.findall(pattern, file_names)\n",
    "print(img_file)"
   ]
  },
  {
   "cell_type": "code",
   "execution_count": 4,
   "metadata": {},
   "outputs": [
    {
     "name": "stdout",
     "output_type": "stream",
     "text": [
      "['head.PNG', 'model.jpg', '브라우저점유율-파이차트.png', '2010.12.5.사진.JPG', 'favicon.gif']\n"
     ]
    }
   ],
   "source": [
    "pattern = r\".*jpg|.*png|.*gif\"\n",
    "l = re.findall(pattern, file_names, re.IGNORECASE)\n",
    "print(l)"
   ]
  },
  {
   "cell_type": "code",
   "execution_count": 12,
   "metadata": {},
   "outputs": [
    {
     "name": "stdout",
     "output_type": "stream",
     "text": [
      "['head.PNG', 'model.jpg', '브라우저점유율-파이차트.png', 'favicon.gif']\n"
     ]
    }
   ],
   "source": [
    "import re\n",
    "# (?:패턴) : 소그룹(grouping)으로 묶기위한 것이 아니다.\n",
    "pattern = r\"(?:[\\w\\-\\.]*)\\.(?:jp[e]?g|png|gif|bmp|PNG|JP[e]G)\"\n",
    "img_files = re.findall(pattern, file_names)\n",
    "print(img_files)"
   ]
  },
  {
   "cell_type": "code",
   "execution_count": 13,
   "metadata": {
    "ExecuteTime": {
     "end_time": "2020-05-20T11:32:50.603245Z",
     "start_time": "2020-05-20T11:32:50.600237Z"
    }
   },
   "outputs": [],
   "source": [
    "# html내에서 태그이름만 추출하시오. \n",
    "html = \"\"\"<div>DIV 태그는 block 태그입니다.</div>\n",
    "<a href='http://www.google.com'>구글</a>\n",
    "<img src='img.jpg'>\n",
    "<span class='black'>span 태그는 <b>inline</b> 태그입니다.</span>\"\"\"\n",
    "\n",
    "#결과: ['div', 'a', 'img', 'span', 'b']"
   ]
  },
  {
   "cell_type": "code",
   "execution_count": 16,
   "metadata": {},
   "outputs": [
    {
     "name": "stdout",
     "output_type": "stream",
     "text": [
      "['div', 'a', 'img', 'span', 'b']\n"
     ]
    }
   ],
   "source": [
    "import re\n",
    "pattern2 = r\"<\\w+\"\n",
    "teg_name = re.findall(pattern2, html)\n",
    "teg_name = re.sub(r\"[<>]\", \"\", str(teg_name))\n",
    "print(teg_name)"
   ]
  },
  {
   "cell_type": "code",
   "execution_count": 8,
   "metadata": {},
   "outputs": [
    {
     "name": "stdout",
     "output_type": "stream",
     "text": [
      "['div', 'a', 'img', 'span', 'b']\n"
     ]
    }
   ],
   "source": [
    "pattern2 = r\"<(\\w+)\"\n",
    "l2 = re.findall(pattern2, html)\n",
    "print(l2)"
   ]
  },
  {
   "cell_type": "code",
   "execution_count": 19,
   "metadata": {},
   "outputs": [
    {
     "name": "stdout",
     "output_type": "stream",
     "text": [
      "['div', 'a', 'img', 'span', 'b']\n"
     ]
    }
   ],
   "source": [
    "import re\n",
    "pattern = r\"<\\w+\"\n",
    "tag_lst = re.findall(pattern, html)\n",
    "print(tag_lst)\n",
    "# 패턴을 찾을 때는 `<`를 사용. 최종 결과로 반환할 때는 `<` 빼자.\n",
    "# (?<=패턴1)패턴2 (?<=패턴1)패턴2  찾을때 : 패턴1+패턴2 => 결과반환 : 패턴 2"
   ]
  },
  {
   "cell_type": "code",
   "execution_count": 21,
   "metadata": {},
   "outputs": [
    {
     "name": "stdout",
     "output_type": "stream",
     "text": [
      "['div', 'a', 'img', 'span', 'b']\n"
     ]
    }
   ],
   "source": [
    "# (?<=패턴1)패턴2 (?<=패턴1)패턴2  찾을때 : 패턴1+패턴2 => 결과반환 : 패턴 2\n",
    "# r\"<\\w+  => (패턴1 = <), (패턴2 = r\"(?<=<)\\w+\") \n",
    "import re\n",
    "pattern = r\"(?<=<)\\w+\"  # 후방탐색\n",
    "tag_lst2= re.findall(pattern, html)\n",
    "print(tag_lst2)"
   ]
  },
  {
   "cell_type": "code",
   "execution_count": 25,
   "metadata": {},
   "outputs": [
    {
     "name": "stdout",
     "output_type": "stream",
     "text": [
      "div\n"
     ]
    }
   ],
   "source": [
    "pattern = r\"(?<=<)\\w+\"\n",
    "# pattern = \"<(\\w+)\"\n",
    "m = re.search(pattern, html)\n",
    "print(m.group())\n",
    "# print(m.group(1))"
   ]
  },
  {
   "cell_type": "code",
   "execution_count": 30,
   "metadata": {},
   "outputs": [
    {
     "name": "stdout",
     "output_type": "stream",
     "text": [
      "['홍길동', '박영수', '김미영']\n"
     ]
    }
   ],
   "source": [
    "txt = \"\"\"\n",
    "뉴스입니다.\n",
    "홍길동 기자\n",
    "박영수 기자\n",
    "김미영 기자\n",
    "\"\"\"\n",
    "# 기자 이름만 조회 ===> 이름 기자 : 패턴1 패턴2 - 이름:패턴 1, 기자:패턴2\n",
    "# 전방탐색 패턴1(?=패턴2)\n",
    "import re\n",
    "pattern = r\"([가-힣]{2,}) 기자\"\n",
    "# pattern = r\"[가-힣]{2,}(?= 기자)\"\n",
    "reporter = re.findall(pattern, txt)\n",
    "print(reporter)"
   ]
  },
  {
   "cell_type": "markdown",
   "metadata": {},
   "source": [
    "- (?) 괄호 안에 물음표를 넣으면 그룹이 아니라는 표시\n",
    "- 후방 탐색 (?<=패턴1)패턴2\n",
    "- 전방 탐색 패턴1(?=패턴2)"
   ]
  }
 ],
 "metadata": {
  "kernelspec": {
   "display_name": "Python 3",
   "language": "python",
   "name": "python3"
  },
  "language_info": {
   "codemirror_mode": {
    "name": "ipython",
    "version": 3
   },
   "file_extension": ".py",
   "mimetype": "text/x-python",
   "name": "python",
   "nbconvert_exporter": "python",
   "pygments_lexer": "ipython3",
   "version": "3.8.5"
  },
  "toc": {
   "base_numbering": 1,
   "nav_menu": {},
   "number_sections": false,
   "sideBar": true,
   "skip_h1_title": false,
   "title_cell": "Table of Contents",
   "title_sidebar": "Contents",
   "toc_cell": false,
   "toc_position": {},
   "toc_section_display": true,
   "toc_window_display": false
  },
  "varInspector": {
   "cols": {
    "lenName": 16,
    "lenType": 16,
    "lenVar": 40
   },
   "kernels_config": {
    "python": {
     "delete_cmd_postfix": "",
     "delete_cmd_prefix": "del ",
     "library": "var_list.py",
     "varRefreshCmd": "print(var_dic_list())"
    },
    "r": {
     "delete_cmd_postfix": ") ",
     "delete_cmd_prefix": "rm(",
     "library": "var_list.r",
     "varRefreshCmd": "cat(var_dic_list()) "
    }
   },
   "types_to_exclude": [
    "module",
    "function",
    "builtin_function_or_method",
    "instance",
    "_Feature"
   ],
   "window_display": false
  }
 },
 "nbformat": 4,
 "nbformat_minor": 2
}
