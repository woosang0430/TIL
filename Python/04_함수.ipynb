{
 "cells": [
  {
   "cell_type": "markdown",
   "metadata": {},
   "source": [
    "# 함수(function)\n",
    "```python\n",
    "def 함수이름([변수, 변수, ....]): # 변수 : 파라미터, 매개변수\n",
    "    실행문\n",
    "    실행문\n",
    "    [return 반환값] # return이 실행 안되면 None이 반환.\n",
    "```\n",
    "\n",
    "- 함수이름 : 관례적으로 소문자만 사용, 단어와 단어 사이는 '-' 로 연결\n",
    "    (보통 동사로 시작을 한다.)\n",
    "    - 어떤 값을 제공하는 함수 : get_제공하는 값\n",
    "         - ex) get_name() => 이름 제공\n",
    "         - ex) get_age() => 나이 제공\n",
    "         \n",
    "    - 어떤 값을 변경하는 함수 : set_변경할 값\n",
    "         - ex) set_name() => 이름 변경\n",
    "         - ex) set_age() => 나이 변경\n",
    "         \n",
    "    - 어떤 값을 제거(삭제) 함수 : remove_삭제할 값\n",
    "         - ex) remove_name() => 이름 삭제\n",
    "         - ex) remove_age() => 나이 삭제"
   ]
  },
  {
   "cell_type": "code",
   "execution_count": 18,
   "metadata": {},
   "outputs": [],
   "source": [
    "# 함수 정의 - 코드 작성 + 실행 (메모리에 올려서 호출 할 수있게 해준다.)\n",
    "def say_hello(): # 선언부\n",
    "    # 구현부\n",
    "    print('안녕하세요')\n",
    "    print('hello')"
   ]
  },
  {
   "cell_type": "code",
   "execution_count": 19,
   "metadata": {},
   "outputs": [
    {
     "name": "stdout",
     "output_type": "stream",
     "text": [
      "안녕하세요\n",
      "hello\n"
     ]
    }
   ],
   "source": [
    "#호출 = 함수이름([전달할 값])\n",
    "say_hello()"
   ]
  },
  {
   "cell_type": "code",
   "execution_count": 20,
   "metadata": {},
   "outputs": [],
   "source": [
    "def say_hello2(name): #name : 파라미터\n",
    "    print('{0}님 안녕하세요'.format(name))\n",
    "    print('{0}, Hello'.format(name))\n",
    "    pass"
   ]
  },
  {
   "cell_type": "code",
   "execution_count": 21,
   "metadata": {},
   "outputs": [
    {
     "name": "stdout",
     "output_type": "stream",
     "text": [
      "홍길동님 안녕하세요\n",
      "홍길동, Hello\n"
     ]
    }
   ],
   "source": [
    "say_hello2('홍길동')"
   ]
  },
  {
   "cell_type": "code",
   "execution_count": 22,
   "metadata": {},
   "outputs": [
    {
     "name": "stdout",
     "output_type": "stream",
     "text": [
      "john님 안녕하세요\n",
      "john, Hello\n"
     ]
    }
   ],
   "source": [
    "say_hello2('john')"
   ]
  },
  {
   "cell_type": "code",
   "execution_count": 29,
   "metadata": {},
   "outputs": [],
   "source": [
    "def say_hello3(name):\n",
    "    greeting = '{0}님 안녕하세요. {0}. Hello'.format(name)\n",
    "    return greeting # 반환값(return value) 처리결과로서 호출한 곳에 전달."
   ]
  },
  {
   "cell_type": "code",
   "execution_count": 31,
   "metadata": {},
   "outputs": [
    {
     "name": "stdout",
     "output_type": "stream",
     "text": [
      "이순신님 안녕하세요. 이순신. Hello\n",
      "이순신님 안녕하세요. 이순신. Hello이순신님 안녕하세요. 이순신. Hello이순신님 안녕하세요. 이순신. Hello\n"
     ]
    }
   ],
   "source": [
    "g = say_hello3('이순신')\n",
    "print(g)\n",
    "print(g*3)"
   ]
  },
  {
   "cell_type": "code",
   "execution_count": 34,
   "metadata": {},
   "outputs": [
    {
     "name": "stdout",
     "output_type": "stream",
     "text": [
      "홍길동님 안녕하세요\n",
      "홍길동, Hello\n"
     ]
    }
   ],
   "source": [
    "r = say_hello2('홍길동')"
   ]
  },
  {
   "cell_type": "code",
   "execution_count": 35,
   "metadata": {},
   "outputs": [
    {
     "name": "stdout",
     "output_type": "stream",
     "text": [
      "None\n"
     ]
    }
   ],
   "source": [
    "print(r)"
   ]
  },
  {
   "cell_type": "code",
   "execution_count": 37,
   "metadata": {},
   "outputs": [
    {
     "name": "stdout",
     "output_type": "stream",
     "text": [
      "100\n"
     ]
    }
   ],
   "source": [
    "i = int('100')\n",
    "print(i)# + 20)"
   ]
  },
  {
   "cell_type": "code",
   "execution_count": 38,
   "metadata": {},
   "outputs": [
    {
     "name": "stdout",
     "output_type": "stream",
     "text": [
      "abc\n",
      "None\n"
     ]
    }
   ],
   "source": [
    "j = print(\"abc\")\n",
    "print(j)"
   ]
  },
  {
   "cell_type": "code",
   "execution_count": 133,
   "metadata": {},
   "outputs": [],
   "source": [
    "# 두개의 숫자를 받아 사칙연산 결과를 반환.\n",
    "def calculate(num1, num2):\n",
    "    a = num1 + num2\n",
    "    b = num1 - num2\n",
    "    c = num1 * num2\n",
    "    d = None\n",
    "#     if num2 != 0:\n",
    "    if num2:\n",
    "        d = num1 / num2\n",
    "#     return [a, b, c, d] ###### 리스트로 리턴 \n",
    "    return a, b, c, d ######### 튜플로 리턴 \"()\"를 생략 => 일반적\n",
    "# return 값. 리턴 값 : 반드시 하나만 가능"
   ]
  },
  {
   "cell_type": "code",
   "execution_count": 134,
   "metadata": {},
   "outputs": [
    {
     "name": "stdout",
     "output_type": "stream",
     "text": [
      "(15, 5, 50, 2.0)\n"
     ]
    }
   ],
   "source": [
    "result = calculate(10, 5)\n",
    "print(result)"
   ]
  },
  {
   "cell_type": "code",
   "execution_count": 135,
   "metadata": {},
   "outputs": [
    {
     "name": "stdout",
     "output_type": "stream",
     "text": [
      "덧셈: 15, 뺄셈: 5, 곱셉: 50, 나눗셈: 2.0\n"
     ]
    }
   ],
   "source": [
    "a, b, c, d = calculate(10, 5)\n",
    "print('덧셈: {0}, 뺄셈: {1}, 곱셉: {2}, 나눗셈: {3}'.format(a, b, c, d))"
   ]
  },
  {
   "cell_type": "code",
   "execution_count": 136,
   "metadata": {},
   "outputs": [
    {
     "data": {
      "text/plain": [
       "(10, 10, 0, None)"
      ]
     },
     "execution_count": 136,
     "metadata": {},
     "output_type": "execute_result"
    }
   ],
   "source": [
    "result = calculate(10, 0)\n",
    "result"
   ]
  },
  {
   "cell_type": "markdown",
   "metadata": {},
   "source": [
    "#  매개변수(parameter) 선언의 여러가지 문법\n",
    "\n",
    "###  Positional Parameter(Argument)\n",
    "- 매개변수를 순서대로 나열한것.\n",
    "    - ex) def my_func(a, b, c):\n",
    "    - Parameter = Argument (Paramer라는 변수에 Argument란 값을 담는다.)\n",
    "- 호출할때 각 파라미터에 전달할 값을 순서대로 나열한다. 전달할 값을 생략할 수 없다.\n",
    "    - ex) my_func(10, 20, 30) a<=10, b<=20, c<=30\n",
    "    - ex) my_func(10, 20) c에 전달할 값이 없으므로 Error.\n",
    "    \n",
    "### 기본값이 있는 매개변수\n",
    "\n",
    "- 매개변수를 선언할 때 값을 대입한다.\n",
    "\n",
    "- 기본값이 있는 매개변수\n",
    "\n",
    "    - ex) def my_func(a=기본값, b=기본값, c=기본값):\n",
    "\n",
    "    - ex) print(f'이름 : {name}, 나이 : {age}, 키 : {tall}')\n",
    "\n",
    "    \n",
    "\n",
    "### Keyword Parameter(Argument-키워드 인자)\n",
    "\n",
    "- 호출시 전달할 값(Argument)을 어떤 파라미터에 대입할 지 변수명을 이용해 지정할 수 있다.\n",
    "\n",
    "    - ex) print_info2(tall=180, age=30, name=\"홍길동\")\n",
    "    \n",
    "###  기본값이 없는 Parameter와 기본값이 있는 Parameter 같이 선언할 때\n",
    " - 기본값이 없는 Parameter들을 먼저 선언해야한다.\n",
    " \n",
    " ##  가변인자\n",
    "- def 함수명(*변수명) => 0 ~ n개의 argument 값들을 튜플로 묶어서 받는다.\n",
    "- 관례적으로 변수명은 args\n",
    "- args 가 리스트일 경우 리스트를 벗길때는 *argus 이렇게\n",
    "\n",
    "- def sum_nums2(*num_list):\n",
    "- nums = [10, 20, 30, 40, 50]\n",
    "- sum_nums2(*nums) # 리스트의 원소들을 풀어서 전달 sum_num2(10,20,30,40)\n",
    "\n",
    "- def 함수명(**변수명)\n",
    "    - 호출할 때 keyword 인자 형태로 전달하고 가변인수는 이것을 dictionary로 처리한다.\n",
    "    - 관례적으로 변수명은 kwargs 로 준다.\n",
    "    \n",
    "##  가변인자\n",
    "- 하나의 함수 정의당 가변인자는 각각 한개씩만 가능.\n",
    "- 가변인자와 일반 매개변수를 같이 선언할 경우 일반 매개변수를 먼저 선언해야 한다.\n",
    "- 변수명 관례 : \\*args, \\*\\*kwargs"
   ]
  },
  {
   "cell_type": "markdown",
   "metadata": {},
   "source": [
    "###  Positional Parameter(Argument)\n",
    "- 매개변수를 순서대로 나열한것.\n",
    "    - ex) def my_func(a, b, c):\n",
    "    - Parameter = Argument (Paramer라는 변수에 Argument란 값을 담는다.)\n",
    "- 호출할때 각 파라미터에 전달할 값을 순서대로 나열한다. 전달할 값을 생략할 수 없다.\n",
    "    - ex) my_func(10, 20, 30) a<=10, b<=20, c<=30\n",
    "    - ex) my_func(10, 20) c에 전달할 값이 없으므로 Error."
   ]
  },
  {
   "cell_type": "code",
   "execution_count": 233,
   "metadata": {},
   "outputs": [],
   "source": [
    "def print_info(name, age, tall):\n",
    "    print(f'이름 : {name}, 나이 : {age}, 키 : {tall}')"
   ]
  },
  {
   "cell_type": "code",
   "execution_count": 234,
   "metadata": {},
   "outputs": [
    {
     "name": "stdout",
     "output_type": "stream",
     "text": [
      "이름 : 홍길동, 나이 : 20, 키 : 175.8\n"
     ]
    }
   ],
   "source": [
    "print_info('홍길동', 20, 175.8)"
   ]
  },
  {
   "cell_type": "code",
   "execution_count": 235,
   "metadata": {},
   "outputs": [
    {
     "name": "stdout",
     "output_type": "stream",
     "text": [
      "이름 : 30, 나이 : 180, 키 : 이순신\n"
     ]
    }
   ],
   "source": [
    "print_info(30, 180, '이순신')"
   ]
  },
  {
   "cell_type": "code",
   "execution_count": 236,
   "metadata": {},
   "outputs": [],
   "source": [
    "# print_info(30, 170)"
   ]
  },
  {
   "cell_type": "markdown",
   "metadata": {},
   "source": [
    "### 기본값이 있는 매개변수\n",
    "- 매개변수를 선언할 때 값을 대입한다.\n",
    "- 기본값이 있는 매개변수\n",
    "    - ex) def my_func(a=기본값, b=기본값, c=기본값):\n",
    "    - ex) print(f'이름 : {name}, 나이 : {age}, 키 : {tall}')\n",
    "    \n",
    "### Keyword Parameter(Argument-키워드 인자)\n",
    "- 호출시 전달할 값(Argument)을 어떤 파라미터에 대입할 지 변수명을 이용해 지정할 수 있다.\n",
    "    - ex) print_info2(tall=180, age=30, name=\"홍길동\")"
   ]
  },
  {
   "cell_type": "code",
   "execution_count": 237,
   "metadata": {},
   "outputs": [],
   "source": [
    "def print_info2(name=None, age=None, tall=None):\n",
    "    print(f'이름 : {name}, 나이 : {age}, 키 : {tall}')"
   ]
  },
  {
   "cell_type": "code",
   "execution_count": 238,
   "metadata": {},
   "outputs": [
    {
     "name": "stdout",
     "output_type": "stream",
     "text": [
      "이름 : 이순신, 나이 : 35, 키 : 177.7\n"
     ]
    }
   ],
   "source": [
    "print_info2(\"이순신\", 35, 177.7)"
   ]
  },
  {
   "cell_type": "code",
   "execution_count": 239,
   "metadata": {
    "scrolled": true
   },
   "outputs": [
    {
     "name": "stdout",
     "output_type": "stream",
     "text": [
      "이름 : 홍길동, 나이 : None, 키 : None\n"
     ]
    }
   ],
   "source": [
    "print_info2(\"홍길동\") #name = 홍길동, age, tall은 기본값"
   ]
  },
  {
   "cell_type": "code",
   "execution_count": 240,
   "metadata": {},
   "outputs": [
    {
     "name": "stdout",
     "output_type": "stream",
     "text": [
      "이름 : 홍길동, 나이 : 30, 키 : 180\n"
     ]
    }
   ],
   "source": [
    "# 키워드 인자\n",
    "print_info2(tall=180, age=30, name=\"홍길동\")"
   ]
  },
  {
   "cell_type": "markdown",
   "metadata": {},
   "source": [
    "###  기본값이 없는 Parameter와 기본값이 있는 Parameter 같이 선언할 때\n",
    " - 기본값이 없는 Parameter들을 먼저 선언해야한다."
   ]
  },
  {
   "cell_type": "code",
   "execution_count": 241,
   "metadata": {},
   "outputs": [],
   "source": [
    "# 기본값이 없는 Parameter : 필수\n",
    "# 기본값이 있는 Parameter : 옵션\n",
    "def print_info3(name, age, address, tall=None, weight=None):\n",
    "#     if tall == None\n",
    "    \n",
    "    print(f'이름 : {name}, 나이 : {age},  주소 : {address}, 키 : {tall}, 몸무게 : {weight}')"
   ]
  },
  {
   "cell_type": "code",
   "execution_count": 242,
   "metadata": {},
   "outputs": [
    {
     "name": "stdout",
     "output_type": "stream",
     "text": [
      "이름 : 홍길동, 나이 : 20,  주소 : 서울, 키 : None, 몸무게 : None\n"
     ]
    }
   ],
   "source": [
    "print_info3(\"홍길동\", 20, \"서울\")"
   ]
  },
  {
   "cell_type": "markdown",
   "metadata": {},
   "source": [
    "##  가변인자\n",
    "- def 함수명(*변수명) => 0 ~ n개의 argument 값들을 튜플로 묶어서 받는다.\n",
    "- 관례적으로 변수명은 args\n",
    "- args 가 리스트일 경우 리스트를 벗길때는 *argus 이렇게"
   ]
  },
  {
   "cell_type": "code",
   "execution_count": 1,
   "metadata": {},
   "outputs": [],
   "source": [
    "# 리스트를 받아서 총 합계를 구하는 함수\n",
    "def sum_nums(num_list):\n",
    "    print(num_list)"
   ]
  },
  {
   "cell_type": "code",
   "execution_count": 2,
   "metadata": {},
   "outputs": [
    {
     "name": "stdout",
     "output_type": "stream",
     "text": [
      "[1, 3, 4, 5, 6]\n"
     ]
    }
   ],
   "source": [
    "sum_nums([1, 3, 4, 5, 6])"
   ]
  },
  {
   "cell_type": "code",
   "execution_count": 5,
   "metadata": {},
   "outputs": [],
   "source": [
    "def sum_nums2(*num_list):\n",
    "    # 튜플로 처리한다.\n",
    "    print(num_list)\n",
    "    print(type(num_list))\n",
    "    print(len(num_list))"
   ]
  },
  {
   "cell_type": "code",
   "execution_count": 6,
   "metadata": {},
   "outputs": [],
   "source": [
    "nums = [10, 20, 30, 40, 50]"
   ]
  },
  {
   "cell_type": "code",
   "execution_count": 7,
   "metadata": {},
   "outputs": [
    {
     "name": "stdout",
     "output_type": "stream",
     "text": [
      "([10, 20, 30, 40, 50],)\n",
      "<class 'tuple'>\n",
      "1\n",
      "(10, 20, 30, 40, 50)\n",
      "<class 'tuple'>\n",
      "5\n"
     ]
    }
   ],
   "source": [
    "sum_nums2(nums) # 리스트 1개를 전달                 sum_num2([10,20,30,40])\n",
    "sum_nums2(*nums) # 리스트의 원소들을 풀어서 전달    sum_num2(10,20,30,40), tuple, list"
   ]
  },
  {
   "cell_type": "code",
   "execution_count": 248,
   "metadata": {},
   "outputs": [
    {
     "name": "stdout",
     "output_type": "stream",
     "text": [
      "([10, 20, 30, 40, 50],)\n",
      "<class 'tuple'>\n",
      "1\n"
     ]
    }
   ],
   "source": [
    "sum_nums2(nums)"
   ]
  },
  {
   "cell_type": "code",
   "execution_count": 249,
   "metadata": {},
   "outputs": [
    {
     "name": "stdout",
     "output_type": "stream",
     "text": [
      "()\n",
      "<class 'tuple'>\n",
      "0\n"
     ]
    }
   ],
   "source": [
    "sum_nums2()"
   ]
  },
  {
   "cell_type": "code",
   "execution_count": 250,
   "metadata": {},
   "outputs": [
    {
     "name": "stdout",
     "output_type": "stream",
     "text": [
      "(1, 2, 3)\n",
      "<class 'tuple'>\n",
      "3\n"
     ]
    }
   ],
   "source": [
    "sum_nums2(1, 2, 3)"
   ]
  },
  {
   "cell_type": "code",
   "execution_count": 251,
   "metadata": {},
   "outputs": [
    {
     "name": "stdout",
     "output_type": "stream",
     "text": [
      "(1, 2, 3, 4, 5, 6, 7, 8, 9)\n",
      "<class 'tuple'>\n",
      "9\n"
     ]
    }
   ],
   "source": [
    "sum_nums2(1, 2, 3,4, 5, 6, 7, 8, 9)"
   ]
  },
  {
   "cell_type": "markdown",
   "metadata": {},
   "source": [
    "- def 함수명(**변수명)\n",
    "    - 호출할 때 keyword 인자 형태로 전달하고 가변인수는 이것을 dictionary로 처리한다.\n",
    "    - 관례적으로 변수명은 kwargs 로 준다."
   ]
  },
  {
   "cell_type": "code",
   "execution_count": 252,
   "metadata": {},
   "outputs": [],
   "source": [
    "def person_info(**info):\n",
    "    print(info)\n",
    "    print(type(info))"
   ]
  },
  {
   "cell_type": "code",
   "execution_count": 262,
   "metadata": {},
   "outputs": [],
   "source": [
    "d = {\n",
    "    \"id\" : \"id-1\",\n",
    "    \"password\" : \"1111\",\n",
    "    \"name\": \"윤우상\",\n",
    "}"
   ]
  },
  {
   "cell_type": "code",
   "execution_count": 270,
   "metadata": {},
   "outputs": [
    {
     "name": "stdout",
     "output_type": "stream",
     "text": [
      "{'id': 'id-1', 'password': '1111', 'name': '윤우상'}\n",
      "<class 'dict'>\n"
     ]
    }
   ],
   "source": [
    "person_info(**d) # ** 딕셔너리\n",
    "# person_info(id ='id-1', password = '1111', name = '윤우상')"
   ]
  },
  {
   "cell_type": "code",
   "execution_count": 253,
   "metadata": {},
   "outputs": [
    {
     "name": "stdout",
     "output_type": "stream",
     "text": [
      "{'name': '홍길동', 'age': 20}\n",
      "<class 'dict'>\n"
     ]
    }
   ],
   "source": [
    "# person_info(\"홍길동\", 20) => Error\n",
    "person_info(name = \"홍길동\", age =20)"
   ]
  },
  {
   "cell_type": "code",
   "execution_count": 254,
   "metadata": {},
   "outputs": [
    {
     "name": "stdout",
     "output_type": "stream",
     "text": [
      "{}\n",
      "<class 'dict'>\n"
     ]
    }
   ],
   "source": [
    "person_info()"
   ]
  },
  {
   "cell_type": "code",
   "execution_count": 255,
   "metadata": {},
   "outputs": [
    {
     "name": "stdout",
     "output_type": "stream",
     "text": [
      "{'name': '이순신'}\n",
      "<class 'dict'>\n"
     ]
    }
   ],
   "source": [
    "person_info(name=\"이순신\")"
   ]
  },
  {
   "cell_type": "code",
   "execution_count": 256,
   "metadata": {},
   "outputs": [
    {
     "name": "stdout",
     "output_type": "stream",
     "text": [
      "{'name': '이순신', 'age': 20, 'address': '서울', 'tall': 180, 'weight': 70}\n",
      "<class 'dict'>\n"
     ]
    }
   ],
   "source": [
    "person_info(name=\"이순신\", age=20, address=\"서울\", tall=180, weight=70)"
   ]
  },
  {
   "cell_type": "markdown",
   "metadata": {},
   "source": [
    "##  가변인자\n",
    "- 하나의 함수 정의당 가변인자는 각각 한개씩만 가능.\n",
    "- 가변인자와 일반 매개변수를 같이 선언할 경우 일반 매개변수를 먼저 선언해야 한다.\n",
    "- 변수명 관례 : \\*args, \\*\\*kwargs"
   ]
  },
  {
   "cell_type": "code",
   "execution_count": 257,
   "metadata": {},
   "outputs": [],
   "source": [
    "def test(a, b, *args):\n",
    "# def test(a, b, *args, *args2): #같은 종류의 가변인자를 2개 이상 선언할 수 없다.\n",
    "    print(a, b, args)"
   ]
  },
  {
   "cell_type": "code",
   "execution_count": 258,
   "metadata": {},
   "outputs": [
    {
     "name": "stdout",
     "output_type": "stream",
     "text": [
      "1 2 (3, 4, 5, 6, 7)\n"
     ]
    }
   ],
   "source": [
    "test(1, 2, 3, 4, 5, 6, 7)"
   ]
  },
  {
   "cell_type": "code",
   "execution_count": 259,
   "metadata": {},
   "outputs": [],
   "source": [
    "def test2(*args, **kwargs):\n",
    "    print(args)\n",
    "    print(kwargs)"
   ]
  },
  {
   "cell_type": "code",
   "execution_count": 260,
   "metadata": {},
   "outputs": [
    {
     "name": "stdout",
     "output_type": "stream",
     "text": [
      "(1, 2, 3, 4, 5)\n",
      "{'name': '이름', 'address': '주소'}\n"
     ]
    }
   ],
   "source": [
    "test2(1, 2, 3, 4, 5, name=\"이름\", address=\"주소\")"
   ]
  },
  {
   "cell_type": "code",
   "execution_count": null,
   "metadata": {},
   "outputs": [],
   "source": []
  },
  {
   "cell_type": "markdown",
   "metadata": {},
   "source": [
    "##  변수의 유효범위(Scope)"
   ]
  },
  {
   "cell_type": "code",
   "execution_count": 293,
   "metadata": {},
   "outputs": [],
   "source": [
    "def my_func():\n",
    "    # 함수내에서 선언된 변수 : 지역변수 (Local Variable) => 함수내부에서만 사용가능\n",
    "    x = 10\n",
    "    print(x)"
   ]
  },
  {
   "cell_type": "code",
   "execution_count": 294,
   "metadata": {
    "scrolled": true
   },
   "outputs": [
    {
     "name": "stdout",
     "output_type": "stream",
     "text": [
      "10\n"
     ]
    }
   ],
   "source": [
    "my_func()"
   ]
  },
  {
   "cell_type": "code",
   "execution_count": 300,
   "metadata": {},
   "outputs": [
    {
     "name": "stdout",
     "output_type": "stream",
     "text": [
      "1000\n"
     ]
    }
   ],
   "source": [
    "var = 1000\n",
    "\n",
    "print(var)"
   ]
  },
  {
   "cell_type": "code",
   "execution_count": 308,
   "metadata": {},
   "outputs": [],
   "source": [
    "def test_func3():\n",
    "    global var # 이제부터 var에 값을 대입하는 것은 전역변수 var에 하는 것이다.\n",
    "    var = 200 # 전역변수 var의 값을 재할당\n",
    "    print(var)"
   ]
  },
  {
   "cell_type": "code",
   "execution_count": 309,
   "metadata": {},
   "outputs": [
    {
     "name": "stdout",
     "output_type": "stream",
     "text": [
      "200\n"
     ]
    }
   ],
   "source": [
    "test_func3()"
   ]
  },
  {
   "cell_type": "code",
   "execution_count": 314,
   "metadata": {},
   "outputs": [
    {
     "name": "stdout",
     "output_type": "stream",
     "text": [
      "200\n"
     ]
    }
   ],
   "source": [
    "print(var)"
   ]
  },
  {
   "cell_type": "code",
   "execution_count": 310,
   "metadata": {},
   "outputs": [],
   "source": [
    "def test_func2():\n",
    "    print(var)"
   ]
  },
  {
   "cell_type": "code",
   "execution_count": 311,
   "metadata": {},
   "outputs": [
    {
     "name": "stdout",
     "output_type": "stream",
     "text": [
      "200\n"
     ]
    }
   ],
   "source": [
    "test_func2()"
   ]
  },
  {
   "cell_type": "code",
   "execution_count": null,
   "metadata": {},
   "outputs": [],
   "source": []
  },
  {
   "cell_type": "code",
   "execution_count": 315,
   "metadata": {},
   "outputs": [],
   "source": [
    "def test_func():\n",
    "    var = 50 # 지역 변수와 전역 변수의 변수명은 다른게 하는게 좋다\n",
    "    print(var)"
   ]
  },
  {
   "cell_type": "code",
   "execution_count": 313,
   "metadata": {},
   "outputs": [
    {
     "name": "stdout",
     "output_type": "stream",
     "text": [
      "50\n",
      "200\n"
     ]
    }
   ],
   "source": [
    "test_func()\n",
    "print(var)"
   ]
  },
  {
   "cell_type": "markdown",
   "metadata": {},
   "source": [
    "## 함수(Function)는 일급 시민 객체(First class citizen object)\n",
    "\n",
    "### 일급시민객체(값)\n",
    "- 변수에 대입할 수 있는 값(type). \n",
    "- 함수 호출시 매개변수로 전달할 수 있는 값(type). (argument)\n",
    "- 함수의 반환값으로 사용할 수 있는 값(type)."
   ]
  },
  {
   "cell_type": "code",
   "execution_count": 321,
   "metadata": {},
   "outputs": [],
   "source": [
    "a = 10 # 정수(int)\n",
    "def test_func(num):\n",
    "    print(num)\n",
    "    return 10   # int를 반환값"
   ]
  },
  {
   "cell_type": "code",
   "execution_count": 322,
   "metadata": {},
   "outputs": [
    {
     "name": "stdout",
     "output_type": "stream",
     "text": [
      "10\n",
      "10\n"
     ]
    }
   ],
   "source": [
    "i = test_func(10) # int 10을 argument\n",
    "print(i)"
   ]
  },
  {
   "cell_type": "code",
   "execution_count": 323,
   "metadata": {},
   "outputs": [],
   "source": [
    "# int(정수)는 일급시민객체"
   ]
  },
  {
   "cell_type": "code",
   "execution_count": 325,
   "metadata": {},
   "outputs": [],
   "source": [
    "# 함수의 이름 : hello\n",
    "def hello():\n",
    "    print(\"안녕하세요\")"
   ]
  },
  {
   "cell_type": "code",
   "execution_count": 326,
   "metadata": {},
   "outputs": [
    {
     "name": "stdout",
     "output_type": "stream",
     "text": [
      "안녕하세요\n"
     ]
    }
   ],
   "source": [
    "hello()"
   ]
  },
  {
   "cell_type": "code",
   "execution_count": 327,
   "metadata": {},
   "outputs": [
    {
     "name": "stdout",
     "output_type": "stream",
     "text": [
      "안녕하세요\n"
     ]
    }
   ],
   "source": [
    "hello()"
   ]
  },
  {
   "cell_type": "code",
   "execution_count": 328,
   "metadata": {},
   "outputs": [],
   "source": [
    "my_hello = hello"
   ]
  },
  {
   "cell_type": "code",
   "execution_count": 329,
   "metadata": {},
   "outputs": [
    {
     "name": "stdout",
     "output_type": "stream",
     "text": [
      "안녕하세요\n"
     ]
    }
   ],
   "source": [
    "my_hello()"
   ]
  },
  {
   "cell_type": "code",
   "execution_count": 332,
   "metadata": {},
   "outputs": [
    {
     "name": "stdout",
     "output_type": "stream",
     "text": [
      "안녕하세요\n"
     ]
    }
   ],
   "source": [
    "your_hello = hello\n",
    "your_hello()"
   ]
  },
  {
   "cell_type": "code",
   "execution_count": 333,
   "metadata": {},
   "outputs": [],
   "source": [
    "def plus(num1, num2):\n",
    "    return num1 + num2 # 리턴값이 있는 함수."
   ]
  },
  {
   "cell_type": "code",
   "execution_count": 335,
   "metadata": {},
   "outputs": [
    {
     "name": "stdout",
     "output_type": "stream",
     "text": [
      "3\n"
     ]
    }
   ],
   "source": [
    "v = plus(1, 2) #plus함수를 호출해서 반환된 값을 변수 v에 넣어라.\n",
    "print(v)"
   ]
  },
  {
   "cell_type": "code",
   "execution_count": 336,
   "metadata": {},
   "outputs": [],
   "source": [
    "v2 = plus # plus 함수 자체를 v2에 대입"
   ]
  },
  {
   "cell_type": "code",
   "execution_count": 338,
   "metadata": {},
   "outputs": [
    {
     "data": {
      "text/plain": [
       "30"
      ]
     },
     "execution_count": 338,
     "metadata": {},
     "output_type": "execute_result"
    }
   ],
   "source": [
    "v2(10, 20)"
   ]
  },
  {
   "cell_type": "code",
   "execution_count": 339,
   "metadata": {},
   "outputs": [
    {
     "data": {
      "text/plain": [
       "30"
      ]
     },
     "execution_count": 339,
     "metadata": {},
     "output_type": "execute_result"
    }
   ],
   "source": [
    "plus(10, 20)"
   ]
  },
  {
   "cell_type": "code",
   "execution_count": 340,
   "metadata": {},
   "outputs": [
    {
     "name": "stdout",
     "output_type": "stream",
     "text": [
      "3\n"
     ]
    }
   ],
   "source": [
    "print(plus(1, 2))"
   ]
  },
  {
   "cell_type": "code",
   "execution_count": 341,
   "metadata": {},
   "outputs": [
    {
     "name": "stdout",
     "output_type": "stream",
     "text": [
      "<function plus at 0x00000000050620D0>\n"
     ]
    }
   ],
   "source": [
    "print(plus)"
   ]
  },
  {
   "cell_type": "code",
   "execution_count": 346,
   "metadata": {},
   "outputs": [],
   "source": [
    "def wrapper(f):\n",
    "    a = f(10, 100)\n",
    "    print(a)"
   ]
  },
  {
   "cell_type": "code",
   "execution_count": 347,
   "metadata": {
    "scrolled": true
   },
   "outputs": [
    {
     "name": "stdout",
     "output_type": "stream",
     "text": [
      "110\n"
     ]
    }
   ],
   "source": [
    "wrapper(plus) # f = plus"
   ]
  },
  {
   "cell_type": "code",
   "execution_count": 348,
   "metadata": {},
   "outputs": [],
   "source": [
    "def plus(num1, num2):\n",
    "    return num1 + num2 # 리턴값이 있는 함수."
   ]
  },
  {
   "cell_type": "code",
   "execution_count": null,
   "metadata": {},
   "outputs": [],
   "source": [
    "def minus(num1, num2):\n",
    "    return num1 - num2"
   ]
  },
  {
   "cell_type": "code",
   "execution_count": null,
   "metadata": {},
   "outputs": [],
   "source": [
    "def multiply(num1, num2):\n",
    "    return num1 * num2"
   ]
  },
  {
   "cell_type": "code",
   "execution_count": null,
   "metadata": {},
   "outputs": [],
   "source": []
  },
  {
   "cell_type": "code",
   "execution_count": 353,
   "metadata": {},
   "outputs": [],
   "source": [
    "def calculate(func):\n",
    "    #n1, n2를 어떻게 처리할지 매개변수(func)를 통해서 함수로 받는다.\n",
    "    n1 = 10\n",
    "    n2 = 20\n",
    "    result = func(n1, n2)\n",
    "    print(result)"
   ]
  },
  {
   "cell_type": "code",
   "execution_count": 404,
   "metadata": {},
   "outputs": [],
   "source": [
    "# def calculate1(n):\n",
    "#     #n1, n2를 어떻게 처리할지 매개변수(func)를 통해서 함수로 받는다.\n",
    "#     n1 = 10\n",
    "#     n2 = 20\n",
    "#     result = func(n1, n2)\n",
    "#     print(result)"
   ]
  },
  {
   "cell_type": "code",
   "execution_count": 405,
   "metadata": {},
   "outputs": [],
   "source": [
    "# calculate1(10, key=multiply)"
   ]
  },
  {
   "cell_type": "code",
   "execution_count": 354,
   "metadata": {},
   "outputs": [
    {
     "name": "stdout",
     "output_type": "stream",
     "text": [
      "30\n"
     ]
    }
   ],
   "source": [
    "calculate(plus)"
   ]
  },
  {
   "cell_type": "code",
   "execution_count": 357,
   "metadata": {
    "scrolled": true
   },
   "outputs": [
    {
     "name": "stdout",
     "output_type": "stream",
     "text": [
      "-10\n"
     ]
    }
   ],
   "source": [
    "calculate(minus)"
   ]
  },
  {
   "cell_type": "code",
   "execution_count": 358,
   "metadata": {},
   "outputs": [
    {
     "name": "stdout",
     "output_type": "stream",
     "text": [
      "200\n"
     ]
    }
   ],
   "source": [
    "calculate(multiply)"
   ]
  },
  {
   "cell_type": "code",
   "execution_count": 368,
   "metadata": {},
   "outputs": [],
   "source": [
    "# 튜플을 받아서 index 0의 값을 반환\n",
    "def get_key(tu):\n",
    "    return tu[1]"
   ]
  },
  {
   "cell_type": "code",
   "execution_count": 372,
   "metadata": {},
   "outputs": [
    {
     "data": {
      "text/plain": [
       "(6, 2)"
      ]
     },
     "execution_count": 372,
     "metadata": {},
     "output_type": "execute_result"
    }
   ],
   "source": [
    "get_key((1, 6, 3)), get_key((10, 2, 3))"
   ]
  },
  {
   "cell_type": "code",
   "execution_count": 370,
   "metadata": {},
   "outputs": [],
   "source": [
    "lst = [\n",
    "    (1, 2, 3),\n",
    "    (10, -10, 5),\n",
    "    (0, 100, 1),\n",
    "]"
   ]
  },
  {
   "cell_type": "code",
   "execution_count": 371,
   "metadata": {},
   "outputs": [],
   "source": [
    "# sorted(iterable, key=함수) 정렬 : 오름/내림차순\n",
    "# 원소 하나 하나를 함수의 매개변수에 전달. 그 함수가 반환하는 값을 기준으로 정렬"
   ]
  },
  {
   "cell_type": "code",
   "execution_count": 374,
   "metadata": {},
   "outputs": [
    {
     "data": {
      "text/plain": [
       "[(0, 100, 1), (1, 2, 3), (10, -10, 5)]"
      ]
     },
     "execution_count": 374,
     "metadata": {},
     "output_type": "execute_result"
    }
   ],
   "source": [
    "sorted(lst) #오름차순"
   ]
  },
  {
   "cell_type": "code",
   "execution_count": 387,
   "metadata": {},
   "outputs": [
    {
     "data": {
      "text/plain": [
       "[(10, -10, 5), (1, 2, 3), (0, 100, 1)]"
      ]
     },
     "execution_count": 387,
     "metadata": {},
     "output_type": "execute_result"
    }
   ],
   "source": [
    "sorted(lst, key=get_key) # key = 정렬의 기준 값"
   ]
  },
  {
   "cell_type": "code",
   "execution_count": 377,
   "metadata": {},
   "outputs": [
    {
     "data": {
      "text/plain": [
       "(1, 2, 3)"
      ]
     },
     "execution_count": 377,
     "metadata": {},
     "output_type": "execute_result"
    }
   ],
   "source": [
    "lst[0]"
   ]
  },
  {
   "cell_type": "code",
   "execution_count": 388,
   "metadata": {},
   "outputs": [
    {
     "data": {
      "text/plain": [
       "-10"
      ]
     },
     "execution_count": 388,
     "metadata": {},
     "output_type": "execute_result"
    }
   ],
   "source": [
    "get_key(lst[1]) # 0:2, 1:-10, 2:100"
   ]
  },
  {
   "cell_type": "code",
   "execution_count": 380,
   "metadata": {},
   "outputs": [],
   "source": [
    "def tu_sum(tu):\n",
    "    return sum(tu)"
   ]
  },
  {
   "cell_type": "code",
   "execution_count": 381,
   "metadata": {},
   "outputs": [
    {
     "data": {
      "text/plain": [
       "15"
      ]
     },
     "execution_count": 381,
     "metadata": {},
     "output_type": "execute_result"
    }
   ],
   "source": [
    "tu_sum((1,2,3,4,5))"
   ]
  },
  {
   "cell_type": "code",
   "execution_count": 385,
   "metadata": {},
   "outputs": [
    {
     "data": {
      "text/plain": [
       "[(10, -10, 5), (1, 2, 3), (0, 100, 1)]"
      ]
     },
     "execution_count": 385,
     "metadata": {},
     "output_type": "execute_result"
    }
   ],
   "source": [
    "sorted(lst, key=tu_sum)"
   ]
  },
  {
   "cell_type": "code",
   "execution_count": 386,
   "metadata": {},
   "outputs": [
    {
     "data": {
      "text/plain": [
       "[(0, 100, 1), (1, 2, 3), (10, -10, 5)]"
      ]
     },
     "execution_count": 386,
     "metadata": {},
     "output_type": "execute_result"
    }
   ],
   "source": [
    "sorted(lst, key=tu_sum, reverse=True)"
   ]
  },
  {
   "cell_type": "markdown",
   "metadata": {},
   "source": [
    "###  람다표현식(람다식 - Lambda Expression)\n",
    "- 단일 구문으로 표현하는 익명함수\n",
    "    - 익명함수 : 이름(함수선언)없이 구현만 가지고 있는 함수 표현식\n",
    "- 일회성 사용 함수를 만들때 주로 사용.\n",
    "    - 함수호출시 매개변수에 함수를 전달할 때 많이 사용.\n",
    "- 구문\n",
    "```python\n",
    "lambda [매개변수] : 실행문\n",
    "```\n",
    "- 실행문 : 하나의 구문만 가능. 실행문의 처리결과를 자동으로 반환한다.(리턴 구문 필요없다.(생략))"
   ]
  },
  {
   "cell_type": "code",
   "execution_count": 406,
   "metadata": {},
   "outputs": [],
   "source": [
    "def plus(num1, num2):\n",
    "    return num1 + num2"
   ]
  },
  {
   "cell_type": "code",
   "execution_count": 408,
   "metadata": {},
   "outputs": [],
   "source": [
    "# lambda num1, num2 : num1 + num2 "
   ]
  },
  {
   "cell_type": "code",
   "execution_count": null,
   "metadata": {},
   "outputs": [],
   "source": [
    "def calculate(func):\n",
    "    n1 = 10\n",
    "    n2 = 20\n",
    "    result = func(n1, n2)\n",
    "    print(result)"
   ]
  },
  {
   "cell_type": "code",
   "execution_count": 414,
   "metadata": {},
   "outputs": [
    {
     "name": "stdout",
     "output_type": "stream",
     "text": [
      "30\n",
      "-10\n",
      "200\n",
      "0.5\n"
     ]
    }
   ],
   "source": [
    "calculate(lambda num1, num2: num1 + num2)\n",
    "calculate(func = lambda num1, num2: num1 - num2)\n",
    "calculate(lambda num1, num2: num1 * num2)\n",
    "calculate(func = lambda num1, num2: num1 / num2)"
   ]
  },
  {
   "cell_type": "code",
   "execution_count": 415,
   "metadata": {},
   "outputs": [
    {
     "name": "stdout",
     "output_type": "stream",
     "text": [
      "30\n"
     ]
    }
   ],
   "source": [
    "calculate(lambda x, y : x+y)"
   ]
  },
  {
   "cell_type": "code",
   "execution_count": 416,
   "metadata": {},
   "outputs": [],
   "source": [
    "lst = [\n",
    "    (1, 2, 3),\n",
    "    (10, -10, 5),\n",
    "    (0, 100, 1),\n",
    "]"
   ]
  },
  {
   "cell_type": "code",
   "execution_count": 418,
   "metadata": {},
   "outputs": [
    {
     "data": {
      "text/plain": [
       "[(0, 100, 1), (1, 2, 3), (10, -10, 5)]"
      ]
     },
     "execution_count": 418,
     "metadata": {},
     "output_type": "execute_result"
    }
   ],
   "source": [
    "# 튜플들의 총합을 기준으로 sorting\n",
    "sorted(lst, key=lambda t: t[0])"
   ]
  },
  {
   "cell_type": "code",
   "execution_count": null,
   "metadata": {},
   "outputs": [],
   "source": [
    "def tu_sum(tu):\n",
    "    return sum(tu)\n",
    "\n",
    "lambda tu:sum(t)"
   ]
  },
  {
   "cell_type": "code",
   "execution_count": 11,
   "metadata": {},
   "outputs": [],
   "source": [
    "d = {\n",
    "    \"id\" : \"id-1\",\n",
    "    \"password\" : \"1111\",\n",
    "    \"name\": \"윤우상\",\n",
    "}"
   ]
  },
  {
   "cell_type": "code",
   "execution_count": 22,
   "metadata": {},
   "outputs": [],
   "source": [
    "d_split = lambda **x : d"
   ]
  },
  {
   "cell_type": "code",
   "execution_count": 30,
   "metadata": {},
   "outputs": [
    {
     "name": "stdout",
     "output_type": "stream",
     "text": [
      "{'id': 'id-1', 'password': '1111', 'name': '윤우상'}\n"
     ]
    }
   ],
   "source": [
    "print(d_split())"
   ]
  },
  {
   "cell_type": "code",
   "execution_count": 31,
   "metadata": {},
   "outputs": [
    {
     "data": {
      "text/plain": [
       "['adasd', 'dsfngfhdhdfa', 'idnikuj', 'sf0oinidifdas']"
      ]
     },
     "execution_count": 31,
     "metadata": {},
     "output_type": "execute_result"
    }
   ],
   "source": [
    "str_list = ['adasd', 'dsfngfhdhdfa', 'sf0oinidifdas', 'idnikuj']\n",
    "sorted(str_list)"
   ]
  },
  {
   "cell_type": "code",
   "execution_count": 32,
   "metadata": {},
   "outputs": [
    {
     "data": {
      "text/plain": [
       "['adasd', 'idnikuj', 'dsfngfhdhdfa', 'sf0oinidifdas']"
      ]
     },
     "execution_count": 32,
     "metadata": {},
     "output_type": "execute_result"
    }
   ],
   "source": [
    "sorted(str_list, key=lambda x: len(x))"
   ]
  },
  {
   "cell_type": "code",
   "execution_count": 33,
   "metadata": {},
   "outputs": [],
   "source": [
    "def check_length(s):\n",
    "    return len(S)"
   ]
  },
  {
   "cell_type": "code",
   "execution_count": 35,
   "metadata": {},
   "outputs": [
    {
     "data": {
      "text/plain": [
       "['adasd', 'idnikuj', 'dsfngfhdhdfa', 'sf0oinidifdas']"
      ]
     },
     "execution_count": 35,
     "metadata": {},
     "output_type": "execute_result"
    }
   ],
   "source": [
    "sorted(str_list, key=len)"
   ]
  },
  {
   "cell_type": "code",
   "execution_count": 36,
   "metadata": {},
   "outputs": [],
   "source": [
    "# dictionary 정렬\n",
    "dic = {\n",
    "    'b':100, \n",
    "    'a':200,\n",
    "    'c':50\n",
    "}"
   ]
  },
  {
   "cell_type": "code",
   "execution_count": 39,
   "metadata": {},
   "outputs": [
    {
     "data": {
      "text/plain": [
       "['a', 'b', 'c']"
      ]
     },
     "execution_count": 39,
     "metadata": {},
     "output_type": "execute_result"
    }
   ],
   "source": [
    "sorted(dic) #key 값들을 정렬한 뒤 리스트로 반환."
   ]
  },
  {
   "cell_type": "code",
   "execution_count": 47,
   "metadata": {},
   "outputs": [
    {
     "data": {
      "text/plain": [
       "{'c': 50, 'b': 100, 'a': 200}"
      ]
     },
     "execution_count": 47,
     "metadata": {},
     "output_type": "execute_result"
    }
   ],
   "source": [
    "# value를 기준으로 정렬을 하려는 경우. (전제 : value의 데이터 타입이 동일한 경우.)\n",
    "result = sorted(dic.items(), key=lambda x: x[1])\n",
    "sorted_dic = {k:v for k, v in result}\n",
    "sorted_dic"
   ]
  },
  {
   "cell_type": "code",
   "execution_count": 48,
   "metadata": {},
   "outputs": [
    {
     "data": {
      "text/plain": [
       "dict_items([('c', 50), ('b', 100), ('a', 200)])"
      ]
     },
     "execution_count": 48,
     "metadata": {},
     "output_type": "execute_result"
    }
   ],
   "source": [
    "dic.items()"
   ]
  },
  {
   "cell_type": "code",
   "execution_count": 49,
   "metadata": {},
   "outputs": [
    {
     "data": {
      "text/plain": [
       "dict_values([50, 100, 200])"
      ]
     },
     "execution_count": 49,
     "metadata": {},
     "output_type": "execute_result"
    }
   ],
   "source": [
    "dic.values()"
   ]
  },
  {
   "cell_type": "code",
   "execution_count": 50,
   "metadata": {},
   "outputs": [
    {
     "data": {
      "text/plain": [
       "dict_keys(['c', 'b', 'a'])"
      ]
     },
     "execution_count": 50,
     "metadata": {},
     "output_type": "execute_result"
    }
   ],
   "source": [
    "dic.keys()"
   ]
  },
  {
   "cell_type": "markdown",
   "metadata": {},
   "source": [
    "- filter(함수, iterable한 type) : iterable의 원소들 중에서 특정 조건을 만족하는 원소들만 걸러주는 함수.\n",
    "    - 함수 : bool 값을 반환, 매개변수는 1개\n",
    "    - iterable의 원소 하나 하나를 함수의 매개변수로 전달. 함수가 True를 반환하는 원소만 반환.\n",
    "    \n",
    "- map(함수, iterable한 type) : iterable의 원소들 하나하나를 처리해서 그 처리결과를 반환( 처리하는 방법을 함수)\n",
    "    - 함수 : 어떻게 처리할지를 정의. 매개변수 1개, 반환값을 원소로 처리한 결과.\n",
    "\n",
    "- filter/map함수의 반환타입은 iterable한 타입(generator)"
   ]
  },
  {
   "cell_type": "code",
   "execution_count": 69,
   "metadata": {},
   "outputs": [
    {
     "data": {
      "text/plain": [
       "[1, 2, 3, 4, 5, 6, 7, 8, 9, 10]"
      ]
     },
     "execution_count": 69,
     "metadata": {},
     "output_type": "execute_result"
    }
   ],
   "source": [
    "num_list = list(range(1, 11))\n",
    "num_list"
   ]
  },
  {
   "cell_type": "code",
   "execution_count": 78,
   "metadata": {},
   "outputs": [],
   "source": [
    "# num_list의 각각의 값들(원소들)을 10배한 값을 반환.\n",
    "m = map(lambda x:x*10, num_list) # mapping은 전부 바꿔서 반환\n",
    "m_lst = [i*10 for i in numlist]\n",
    "\n",
    "f = filter(lambda x: x%10 == 0, num_list) # filtering은 일부 분류에서 반환\n",
    "f_lst = [i for i in num_list if i%10 == 0]"
   ]
  },
  {
   "cell_type": "code",
   "execution_count": 79,
   "metadata": {},
   "outputs": [
    {
     "name": "stdout",
     "output_type": "stream",
     "text": [
      "<map object at 0x0000000004FF1CD0>\n"
     ]
    }
   ],
   "source": [
    "for i in range(1):\n",
    "    print(m)"
   ]
  },
  {
   "cell_type": "code",
   "execution_count": 67,
   "metadata": {
    "scrolled": true
   },
   "outputs": [
    {
     "name": "stdout",
     "output_type": "stream",
     "text": [
      "[0, 10, 20, 30, 40, 50, 60, 70, 80, 90]\n"
     ]
    }
   ],
   "source": [
    "num_list = list(range(100))\n",
    "# 10의 배수만 걸러내기\n",
    "f = filter(lambda x: x%10 == 0, num_list)\n",
    "f_list =[i for i in f]\n",
    "print(f_list)"
   ]
  },
  {
   "cell_type": "code",
   "execution_count": 68,
   "metadata": {},
   "outputs": [
    {
     "name": "stdout",
     "output_type": "stream",
     "text": [
      "[0, 10, 20, 30, 40, 50, 60, 70, 80, 90]\n",
      "[0, 10, 20, 30, 40, 50, 60, 70, 80, 90]\n"
     ]
    }
   ],
   "source": [
    "f_lst = [i for i in num_list if i%10 == 0]\n",
    "print(f_lst)\n",
    "\n",
    "f = filter(lambda x: x%10 == 0, num_list)\n",
    "f_list =[i for i in f]\n",
    "print(f_list)"
   ]
  },
  {
   "cell_type": "markdown",
   "metadata": {},
   "source": [
    "## docstring\n",
    "- 함수/class에 대한 설명\n",
    "- 함수선언부와 구현부 사이에 여러줄 짜리 문자열 (\"\"\"  \"\"\")로 작성한다.\n",
    "- 함수가 하는 역할, 매개변수 설명, 리턴값 설명(원하는대로 성명)"
   ]
  },
  {
   "cell_type": "code",
   "execution_count": 91,
   "metadata": {},
   "outputs": [],
   "source": [
    "def print_info(name, age, address):\n",
    "    \"\"\"\n",
    "    회원 정보를 출력하는 함수\n",
    "    info1 \n",
    "    info2 \n",
    "    [parameter]\n",
    "        name : str - name of member\n",
    "        age : int - age of member\n",
    "        address : str - address of member\n",
    "    [return]\n",
    "        int : 나이의 10 곱한값\n",
    "    \"\"\"\n",
    "    print(\"이름: {0}, 나이: {1}, 주소: {2}\".format(name, age, address))\n",
    "    return age*10"
   ]
  },
  {
   "cell_type": "code",
   "execution_count": 84,
   "metadata": {},
   "outputs": [
    {
     "data": {
      "text/plain": [
       "<function __main__.print_info(name, age, address)>"
      ]
     },
     "execution_count": 84,
     "metadata": {},
     "output_type": "execute_result"
    }
   ],
   "source": [
    "print_info # shift + tab"
   ]
  },
  {
   "cell_type": "markdown",
   "metadata": {},
   "source": [
    "### pass 키워드(예약어)\n",
    "- 코드블럭을 하는일 없이 채울때."
   ]
  },
  {
   "cell_type": "code",
   "execution_count": 86,
   "metadata": {},
   "outputs": [],
   "source": [
    "def test():\n",
    "    pass\n",
    "    # 구현은 나중에"
   ]
  },
  {
   "cell_type": "code",
   "execution_count": 88,
   "metadata": {},
   "outputs": [],
   "source": [
    "if False:\n",
    "    pass"
   ]
  },
  {
   "cell_type": "code",
   "execution_count": 89,
   "metadata": {},
   "outputs": [],
   "source": [
    "for i in range(10):\n",
    "    pass"
   ]
  },
  {
   "cell_type": "code",
   "execution_count": 90,
   "metadata": {},
   "outputs": [],
   "source": [
    "while False:\n",
    "    pass"
   ]
  },
  {
   "cell_type": "code",
   "execution_count": 174,
   "metadata": {},
   "outputs": [
    {
     "name": "stdout",
     "output_type": "stream",
     "text": [
      "단 :3\n",
      "3 x 1 = 3\n",
      "3 x 2 = 6\n",
      "3 x 3 = 9\n",
      "3 x 4 = 12\n",
      "3 x 5 = 15\n",
      "3 x 6 = 18\n",
      "3 x 7 = 21\n",
      "3 x 8 = 24\n",
      "3 x 9 = 27\n"
     ]
    }
   ],
   "source": [
    "# 1. 사용자가 입력한 단의 구구단을 출력하는 함수를 구현\n",
    "def gugudan():\n",
    "    n = int(input(\"단 :\"))\n",
    "    for i in range(1, 10):\n",
    "        print(\"{0} x {1} = {2}\".format(n, i, n*i))\n",
    "        \n",
    "gugudan()"
   ]
  },
  {
   "cell_type": "code",
   "execution_count": 143,
   "metadata": {},
   "outputs": [
    {
     "name": "stdout",
     "output_type": "stream",
     "text": [
      "3\n",
      "6\n",
      "18\n"
     ]
    }
   ],
   "source": [
    "# 2. 시작 정수, 끝 정수를 받아 그 사이의 모든 정수의 합을 구해서 반환하는 함수를 구현\n",
    "def total_sum():\n",
    "    n1 = int(input())\n",
    "    n2 = int(input())\n",
    "    ret = 0\n",
    "    for i in range(n1, n2+1):\n",
    "        ret +=i\n",
    "    return ret\n",
    "    \n",
    "print(total_sum())"
   ]
  },
  {
   "cell_type": "code",
   "execution_count": 185,
   "metadata": {},
   "outputs": [
    {
     "name": "stdout",
     "output_type": "stream",
     "text": [
      "55\n"
     ]
    }
   ],
   "source": [
    "def accumulate(start, end):\n",
    "    \"\"\"\n",
    "    시작 정수부터 종료정수 정수에 포함된 모든 정수의 합계를 계산해서 반환.\n",
    "    [매개변수]\n",
    "        start : int - 시작정수\n",
    "        end : int - 종료정수\n",
    "    [반환값]\n",
    "        int : 총합계\n",
    "    \n",
    "    \"\"\"\n",
    "    ret = 0\n",
    "    for i in range(start, end+1):\n",
    "        ret += i\n",
    "    return ret\n",
    "\n",
    "print(accumulate(1, 10))"
   ]
  },
  {
   "cell_type": "code",
   "execution_count": 187,
   "metadata": {},
   "outputs": [
    {
     "data": {
      "text/plain": [
       "55"
      ]
     },
     "execution_count": 187,
     "metadata": {},
     "output_type": "execute_result"
    }
   ],
   "source": [
    "def accumulate2(start, end):\n",
    "    return sum(range(start, end+1))\n",
    "\n",
    "accumulate2(1, 10)"
   ]
  },
  {
   "cell_type": "code",
   "execution_count": 175,
   "metadata": {},
   "outputs": [
    {
     "name": "stdout",
     "output_type": "stream",
     "text": [
      "10\n",
      "0\n",
      "18\n"
     ]
    }
   ],
   "source": [
    "# 3. 2번 문제에서 시작을 받지 않은 경우 0을, 끝 정수를 받지 않으면 10이 들어가도록 구현을 변경\n",
    "# def gugudan(n):\n",
    "    \n",
    "#     for i in range(1, 10):\n",
    "#         print(\"{0} x {1} = {2}\".format(n, i, n*i))\n",
    "        \n",
    "def total_sum(start=None, end=None):\n",
    "#     n1 = int(input(\"시작 숫자를 입력하세요 : \"))\n",
    "#     n2 = int(input(\"끝 숫자를 입력하세요 : \"))\n",
    "    \n",
    "    ret = 0\n",
    "    if start == None:\n",
    "        ret = 0\n",
    "    elif end == None:\n",
    "        ret = 10\n",
    "    else:\n",
    "        for i in range(start, end+1):\n",
    "            ret +=i\n",
    "    return ret\n",
    "    \n",
    "\n",
    "print(total_sum(start = 3))\n",
    "print(total_sum(end = 6))\n",
    "print(total_sum(3, 6))"
   ]
  },
  {
   "cell_type": "code",
   "execution_count": 190,
   "metadata": {},
   "outputs": [
    {
     "data": {
      "text/plain": [
       "55"
      ]
     },
     "execution_count": 190,
     "metadata": {},
     "output_type": "execute_result"
    }
   ],
   "source": [
    "def accumulate3(start=0, end=10):\n",
    "    return sum(range(start, end+1))\n",
    "\n",
    "accumulate3(1)"
   ]
  },
  {
   "cell_type": "code",
   "execution_count": 192,
   "metadata": {},
   "outputs": [
    {
     "data": {
      "text/plain": [
       "46"
      ]
     },
     "execution_count": 192,
     "metadata": {},
     "output_type": "execute_result"
    }
   ],
   "source": [
    "def accumulate4(*values):\n",
    "    return sum(values)\n",
    "accumulate4(1, 10, 20, 5, 10)"
   ]
  },
  {
   "cell_type": "code",
   "execution_count": 217,
   "metadata": {},
   "outputs": [],
   "source": [
    "# 4. 체질량 지수(體質量指數, Body Mass Index, BMI)는 비만도를 나타내는 지수로 키가 a미터 이고 몸무게가 b kg일때 b/a**2 로 구한다.\n",
    "# 체질량 지수가\n",
    "#- 18.5 미만이면 저체중\n",
    "#- 18.5이상 25미만이면 정상\n",
    "#- 25이상이면 과체중\n",
    "#- 30이상이면 비만으로 하는데\n",
    "#몸무게와 키를 매개변수로 받아 비만인지 과체중인지 반환하는 함수를 구현하시오.\n",
    "# 람다식\n",
    "def bmi_func(a, b):\n",
    "    bmi = lambda a, b: b/(a/100)**2\n",
    "    \n",
    "    ret = None\n",
    "    if bmi(a, b) >= 30:\n",
    "        ret = \"비만\"\n",
    "    elif bmi(a, b) >= 25:\n",
    "        ret = \"과체중\"\n",
    "    elif bmi(a, b) >= 18.5:\n",
    "        ret = \"정상\"\n",
    "    else:\n",
    "        ret = \"저체중\"\n",
    "    return bmi(a,b), ret"
   ]
  },
  {
   "cell_type": "code",
   "execution_count": 218,
   "metadata": {},
   "outputs": [
    {
     "data": {
      "text/plain": [
       "(18.68512110726644, '정상')"
      ]
     },
     "execution_count": 218,
     "metadata": {},
     "output_type": "execute_result"
    }
   ],
   "source": [
    "bmi_func(170, 54)"
   ]
  },
  {
   "cell_type": "code",
   "execution_count": 219,
   "metadata": {},
   "outputs": [],
   "source": [
    "def check_bmi(tall, weight):\n",
    "    \"\"\"\n",
    "    BMI 지수를 계산해서 비만도를 반환\n",
    "    [매개변수]\n",
    "        tall : double - 키(미터)\n",
    "        weight : double - 몸무게(kg)\n",
    "    [반환값]\n",
    "        str : 비만도(저체중, 정상, 과체중, 비만)\n",
    "    \"\"\"\n",
    "    bmi = weight/(tall**2)\n",
    "    result = None\n",
    "    if bmi < 18.5:\n",
    "        result = \"저체중\"\n",
    "    elif bmi < 25:\n",
    "        result = \"정상\"\n",
    "    elif bmi < 30:\n",
    "        result = \"과체중\"\n",
    "    else:\n",
    "        result = \"비만\"\n",
    "    return bmi, result"
   ]
  },
  {
   "cell_type": "code",
   "execution_count": 220,
   "metadata": {},
   "outputs": [
    {
     "name": "stdout",
     "output_type": "stream",
     "text": [
      "(18.68512110726644, '정상')\n"
     ]
    }
   ],
   "source": [
    "r = check_bmi(1.7, 54)\n",
    "print(r)"
   ]
  },
  {
   "cell_type": "code",
   "execution_count": 158,
   "metadata": {},
   "outputs": [
    {
     "name": "stdout",
     "output_type": "stream",
     "text": [
      "[1, 20, 3, 21]\n"
     ]
    }
   ],
   "source": [
    "#5. filter를 이용해 다음 리스트에서 양수만 추출히 리스트를 구현\n",
    "ex1 = [1, -10, -2, 20, 3, -5, -7, 21]\n",
    "fil_lst = list(filter(lambda x: x>=0, ex1))\n",
    "print(fil_lst)"
   ]
  },
  {
   "cell_type": "code",
   "execution_count": 163,
   "metadata": {},
   "outputs": [
    {
     "name": "stdout",
     "output_type": "stream",
     "text": [
      "[100, 4, 25, 49]\n"
     ]
    }
   ],
   "source": [
    "#6. filter와 map을 이용해 다음 리스트에서 음수만 추출한 뒤 그 제곱한 값들을 가지는 리스트를 구현\n",
    "ex2 = [1, -10, -2, 20, 3, -5, -7, 21]\n",
    "result_lst = list(map(lambda x: x**2, filter(lambda x: x<0, ex2)))\n",
    "print(result_lst)"
   ]
  },
  {
   "cell_type": "code",
   "execution_count": null,
   "metadata": {},
   "outputs": [],
   "source": []
  },
  {
   "cell_type": "code",
   "execution_count": null,
   "metadata": {},
   "outputs": [],
   "source": []
  },
  {
   "cell_type": "code",
   "execution_count": null,
   "metadata": {},
   "outputs": [],
   "source": []
  },
  {
   "cell_type": "code",
   "execution_count": null,
   "metadata": {},
   "outputs": [],
   "source": []
  },
  {
   "cell_type": "code",
   "execution_count": null,
   "metadata": {},
   "outputs": [],
   "source": []
  },
  {
   "cell_type": "code",
   "execution_count": null,
   "metadata": {},
   "outputs": [],
   "source": []
  },
  {
   "cell_type": "code",
   "execution_count": null,
   "metadata": {},
   "outputs": [],
   "source": []
  },
  {
   "cell_type": "code",
   "execution_count": null,
   "metadata": {},
   "outputs": [],
   "source": []
  }
 ],
 "metadata": {
  "kernelspec": {
   "display_name": "Python 3",
   "language": "python",
   "name": "python3"
  },
  "language_info": {
   "codemirror_mode": {
    "name": "ipython",
    "version": 3
   },
   "file_extension": ".py",
   "mimetype": "text/x-python",
   "name": "python",
   "nbconvert_exporter": "python",
   "pygments_lexer": "ipython3",
   "version": "3.8.5"
  }
 },
 "nbformat": 4,
 "nbformat_minor": 4
}
