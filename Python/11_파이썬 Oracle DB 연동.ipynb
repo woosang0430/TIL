{
 "cells": [
  {
   "cell_type": "markdown",
   "metadata": {
    "slideshow": {
     "slide_type": "slide"
    }
   },
   "source": [
    "# cx_Oracle 모듈\n",
    "- 파이썬에서 오라클 DBMS와 연동는 다양한 함수를 제공하는 모듈\n",
    "- Python DB API 2.0 표준을 따른다. \n",
    "\n",
    "## 참고\n",
    "- [cx_Oracle 모듈 홈페이지](https://oracle.github.io/python-cx_Oracle/)\n",
    "- [Python DB API](https://docs.python.org/ko/3/library/sqlite3.html)"
   ]
  },
  {
   "cell_type": "markdown",
   "metadata": {
    "slideshow": {
     "slide_type": "slide"
    }
   },
   "source": [
    "## cx_Oracle 모듈 설치\n",
    "- [설치 튜토리얼](https://cx-oracle.readthedocs.io/en/latest/user_guide/installation.html)\n",
    "- 패키지 설치\n",
    "```\n",
    "conda install cx_oracle\n",
    "pip install cx_Oracle --upgrade\n",
    "```"
   ]
  },
  {
   "cell_type": "code",
   "execution_count": null,
   "metadata": {},
   "outputs": [],
   "source": []
  },
  {
   "cell_type": "markdown",
   "metadata": {
    "slideshow": {
     "slide_type": "slide"
    }
   },
   "source": [
    "## 코딩 절차\n",
    "1. cx_Oracle 모듈 import"
   ]
  },
  {
   "cell_type": "markdown",
   "metadata": {
    "slideshow": {
     "slide_type": "fragment"
    }
   },
   "source": [
    "2. cx_Oracle모듈의 connect() 함수를 이용해 디비연결\n",
    "     - ##### DB (접속)"
   ]
  },
  {
   "cell_type": "markdown",
   "metadata": {
    "slideshow": {
     "slide_type": "fragment"
    }
   },
   "source": [
    "3. Connection 객체의 cursor() 메소드를 이용해 Cursor객체 조회.\n",
    "    - Cursor객체: sql문을 전송하고 select결과 조회 기능을 제공하는 객체\n",
    "    - ###### 워크시트라고 생각하자"
   ]
  },
  {
   "cell_type": "markdown",
   "metadata": {
    "slideshow": {
     "slide_type": "fragment"
    }
   },
   "source": [
    "4. Cursor 의 execute() 메소드를 이용해 SQL문 전송 (임시저장)"
   ]
  },
  {
   "cell_type": "markdown",
   "metadata": {
    "slideshow": {
     "slide_type": "fragment"
    }
   },
   "source": [
    "5. SELECT 의 경우 결과 조회.\n",
    "    - 조회결과 한행씩 반환받아 사용 (프라이머리 키같은 애들 조회할때)\n",
    "    - 조회결과 한번에 반환받아 사용 (여러개를 조회할 때)"
   ]
  },
  {
   "cell_type": "markdown",
   "metadata": {
    "slideshow": {
     "slide_type": "fragment"
    }
   },
   "source": [
    "6. INSERT/DELETE/UPDATE의 경우  SQL 문 실행 후 Connection의 **commit()(완전저장)** 메소드를 이용해 Transaction 처리"
   ]
  },
  {
   "cell_type": "markdown",
   "metadata": {
    "slideshow": {
     "slide_type": "fragment"
    }
   },
   "source": [
    "7. Cursor, Connection 연결 닫기"
   ]
  },
  {
   "cell_type": "markdown",
   "metadata": {
    "slideshow": {
     "slide_type": "slide"
    }
   },
   "source": [
    "### DB 연결\n",
    "- connect() 함수를 이용하며 연결 후 Connection 객체를 받는다.\n",
    "- 연결시 필요한 값\n",
    "    - **host** ------ 오라클 서버(ip주소)\n",
    "    - **port번호**--- 오라클 서버\n",
    "    - **SID[오라클에서는 SID라 부름](나머지는 `DB이름`이라 부름)**\n",
    "    - **user name**\n",
    "    - **password**\n",
    "    - flow : ip => port => SID => user_name, password\n",
    "\n",
    "### Connection 주요 메소드\n",
    "- commit(): 커밋\n",
    "- rollback(): 롤백\n",
    "- close(): 연결 닫기"
   ]
  },
  {
   "cell_type": "code",
   "execution_count": 4,
   "metadata": {},
   "outputs": [
    {
     "name": "stdout",
     "output_type": "stream",
     "text": [
      "<class 'cx_Oracle.Connection'>\n"
     ]
    }
   ],
   "source": [
    "# connect()함수를 이용해 연결. 연결(접속) 성공하면 Connection객체를 반환\n",
    "# Connection객체 : 연결정보를 가지고 있는 객체\n",
    "\n",
    "# DB연결 1번째 방법\n",
    "import cx_Oracle\n",
    "username = 'c##scott_join'\n",
    "password = 'tiger'\n",
    "url = 'localhost:1521/XE' # host:post/sid (문자열로)\n",
    "conn = cx_Oracle.connect(username, password, url) # 연결\n",
    "print(type(conn))\n",
    "conn.close() # 닫기"
   ]
  },
  {
   "cell_type": "code",
   "execution_count": 5,
   "metadata": {},
   "outputs": [
    {
     "name": "stdout",
     "output_type": "stream",
     "text": [
      "<class 'cx_Oracle.Connection'>\n"
     ]
    }
   ],
   "source": [
    "# DB연결 2번째 방법\n",
    "# username/password@host:port/sid\n",
    "conn2 = cx_Oracle.connect('c##scott_join/tiger@localhost:1521/XE')\n",
    "print(type(conn))\n",
    "conn2.close()"
   ]
  },
  {
   "cell_type": "markdown",
   "metadata": {
    "slideshow": {
     "slide_type": "slide"
    }
   },
   "source": [
    "#### DSN (Data Source Name) 을 이용한 연결\n",
    "- DSN: DBMS를 연결하기 위한 정보를 모아 놓은 것. (서로 다른 DBMS의 연결정보를 통일하기 위해서 방식)\n",
    "- makedsn(host, port번호, SID) 함수 이용해 생성한다."
   ]
  },
  {
   "cell_type": "code",
   "execution_count": 7,
   "metadata": {},
   "outputs": [
    {
     "name": "stdout",
     "output_type": "stream",
     "text": [
      "(DESCRIPTION=(ADDRESS=(PROTOCOL=TCP)(HOST=localhost)(PORT=1521))(CONNECT_DATA=(SID=XE)))\n",
      "<class 'cx_Oracle.Connection'>\n"
     ]
    }
   ],
   "source": [
    "# DB연결 3번째 방법\n",
    "username = 'c##scott_join'\n",
    "password = 'tiger'\n",
    "host = 'localhost'\n",
    "port = 1521\n",
    "sid = 'XE'\n",
    "dsn = cx_Oracle.makedsn(host, port, sid)\n",
    "print(dsn)\n",
    "conn3 = cx_Oracle.connect(username, password, dsn)\n",
    "print(type(conn3))\n",
    "conn3.close()"
   ]
  },
  {
   "cell_type": "code",
   "execution_count": 8,
   "metadata": {},
   "outputs": [
    {
     "name": "stdout",
     "output_type": "stream",
     "text": [
      "<class 'cx_Oracle.Connection'>\n"
     ]
    }
   ],
   "source": [
    "# with block을 빠져나오면 자동으로 close()처리.\n",
    "with cx_Oracle.connect(username, password, dsn) as conn4:\n",
    "    # DB관련 작업\n",
    "    pass\n",
    "print(type(conn4))"
   ]
  },
  {
   "cell_type": "markdown",
   "metadata": {
    "slideshow": {
     "slide_type": "slide"
    }
   },
   "source": [
    "## Cursor 객체 \n",
    "#### (현재위치라는 뜻)\n",
    "- SQL문을 전송하고 select결과를 조회하는 메소드들을 제공한다.\n",
    "- Connection객체의 cursor() 메소드로 받아온다."
   ]
  },
  {
   "cell_type": "markdown",
   "metadata": {
    "slideshow": {
     "slide_type": "subslide"
    }
   },
   "source": [
    "### Cursor의 주요 메소드\n",
    "#### SQL 실행 메소드\n",
    "- execute(sql) : 하나의 sql 문 실행. 많이 사용한다.\n",
    "- executemany(sql): insert, update, delete 배치 처리\n",
    "    - insert, update, delete는 다 처리후 conn.commit()으로 커밋 처리해야한다.\n",
    "    "
   ]
  },
  {
   "cell_type": "markdown",
   "metadata": {
    "slideshow": {
     "slide_type": "fragment"
    }
   },
   "source": [
    "#### select 결과 조회 메소드\n",
    "- execute()로 실행한 SQL이 select인 경우 다음 메소드로 조회한다.\n",
    "- fetchall()  : 조회된 모든 행을 한번에 가져올 때 사용한다. 결과를 tuple들을 묶은 리스트로 반환\n",
    "- fetchone()  : 호출시 마다 한행씩 반환한다. PK로 조회한 경우 많이 사용한다.\n",
    "- fetchmany(n): n행만큼 조회한다. n기본값-100. 특정개수반큼 반복문을 이용해 가져올때 사용."
   ]
  },
  {
   "cell_type": "code",
   "execution_count": 9,
   "metadata": {},
   "outputs": [],
   "source": [
    "import cx_Oracle\n",
    "from pprint import pprint # 자료구조를 보기좋게 출력해주는 print함수."
   ]
  },
  {
   "cell_type": "code",
   "execution_count": 18,
   "metadata": {
    "scrolled": true
   },
   "outputs": [
    {
     "name": "stdout",
     "output_type": "stream",
     "text": [
      "연결완료\n",
      "<class 'list'> <class 'tuple'>\n",
      "69\n",
      "[(100, 'Steven', 'AD_PRES'),\n",
      " (101, 'Neena', 'AD_VP'),\n",
      " (102, 'Lex', 'AD_VP'),\n",
      " (103, 'Alexander', 'IT_PROG'),\n",
      " (104, 'Bruce', 'IT_PROG'),\n",
      " (105, 'David', 'IT_PROG'),\n",
      " (106, 'Valli', 'IT_PROG'),\n",
      " (107, 'Diana', 'IT_PROG'),\n",
      " (108, 'Nancy', 'FI_MGR'),\n",
      " (109, 'Daniel', 'FI_ACCOUNT'),\n",
      " (110, 'John', 'FI_ACCOUNT'),\n",
      " (111, 'Ismael', 'FI_ACCOUNT'),\n",
      " (112, 'Jose Manuel', 'FI_ACCOUNT'),\n",
      " (113, 'Luis', 'FI_ACCOUNT'),\n",
      " (114, 'Den', 'PU_MAN'),\n",
      " (115, 'Alexander', 'PU_MAN'),\n",
      " (120, 'Matthew', 'ST_MAN'),\n",
      " (121, 'Adam', 'ST_MAN'),\n",
      " (122, 'Payam', 'ST_MAN'),\n",
      " (123, 'Shanta', 'ST_MAN'),\n",
      " (124, 'Kevin', 'ST_MAN'),\n",
      " (130, 'Mozhe', None),\n",
      " (131, 'James', None),\n",
      " (140, 'Joshua', None),\n",
      " (145, 'John', 'SA_MAN'),\n",
      " (146, 'Karen', 'SA_MAN'),\n",
      " (147, 'Alberto', 'SA_MAN'),\n",
      " (150, 'Peter', 'SA_REP'),\n",
      " (151, 'David', 'SA_REP'),\n",
      " (152, 'Peter', 'SA_REP'),\n",
      " (153, 'Christopher', 'SA_REP'),\n",
      " (154, 'Nanette', 'SA_REP'),\n",
      " (155, 'Oliver', 'SA_REP'),\n",
      " (156, 'Janette', 'SA_REP'),\n",
      " (157, 'Patrick', 'SA_REP'),\n",
      " (158, 'Allan', 'SA_REP'),\n",
      " (159, 'Lindsey', 'SA_REP'),\n",
      " (160, 'Louise', 'SA_REP'),\n",
      " (161, 'Sarath', 'SA_REP'),\n",
      " (162, 'Clara', 'SA_REP'),\n",
      " (163, 'Danielle', 'SA_REP'),\n",
      " (164, 'Mattea', 'SA_REP'),\n",
      " (165, 'David', 'SA_REP'),\n",
      " (166, 'Sundar', 'SA_REP'),\n",
      " (167, 'Amit', 'SA_REP'),\n",
      " (168, 'Lisa', 'SA_REP'),\n",
      " (169, 'Harrison', 'SA_REP'),\n",
      " (170, 'Tayler', 'SA_REP'),\n",
      " (171, 'William', 'SA_REP'),\n",
      " (172, 'Elizabeth', 'SA_REP'),\n",
      " (173, 'Sundita', 'SA_REP'),\n",
      " (174, 'Ellen', 'SA_REP'),\n",
      " (176, 'Jonathon', 'SA_REP'),\n",
      " (177, 'Jack', 'SA_REP'),\n",
      " (179, 'Charles', 'SA_REP'),\n",
      " (187, 'Anthony', None),\n",
      " (190, 'Timothy', None),\n",
      " (191, 'Randall', None),\n",
      " (200, 'Jennifer', 'AD_ASST'),\n",
      " (201, 'Michael', 'MK_MAN'),\n",
      " (202, 'Pat', 'MK_REP'),\n",
      " (203, 'Susan', 'HR_REP'),\n",
      " (204, 'Hermann', 'PR_REP'),\n",
      " (205, 'Shelley', 'AC_MGR'),\n",
      " (206, 'William', 'AC_ACCOUNT'),\n",
      " (1000, '홍길동', 'FI_ACCOUNT'),\n",
      " (1200, '박영희', 'FI_ACCOUNT'),\n",
      " (1300, '박영희', 'FI_ACCOUNT'),\n",
      " (1500, '홍길동', 'FI_ACCOUNT')]\n"
     ]
    }
   ],
   "source": [
    "# sql문 : 문자열로 작성. 대소문자 구분 안한다. (keyword of sql 은 보통 대문자로 작성, 컬럼명/테이블명은 소문자)\n",
    "# sql문 : ';'은 뒤에 붙이지 않는다.\n",
    "select_sql = \"SELECT emp_id, emp_name, job_id FROM emp\" # 쿼리문은 오라클에서 한번 실행해보고 넣기\n",
    "\n",
    "# 오라클에서는 date가 알아서 변환이 되지만 파이썬에서 넘겨줄때는 변환이 안되므로 변환을 해주어야한다.\n",
    "insert_sql = \"INSERT INTO emp VALUES (1500, '홍길동', 'FI_ACCOUNT',\\\n",
    "101, to_date('2021/02/15', 'yyyy/mm/dd'), 30000, 0.2, 100)\" # 쿼리문은 똑같이 작성해야한다.\n",
    "# pk와 uk, fk들이 있는 경우 에러가 난다.\n",
    "conn = None # Connection을 대입할 변수\n",
    "cursor = None # Cursor객체를 대입할 변수\n",
    "\n",
    "# INSERT 후에 SELECT\n",
    "try:\n",
    "    #1. 연결\n",
    "    conn = cx_Oracle.connect('c##scott_join/tiger@localhost:1521/XE')\n",
    "    print('연결완료')\n",
    "    #2. Cursor생성\n",
    "    cursor = conn.cursor()\n",
    "    #3. sql 실행\n",
    "    cursor.execute(insert_sql)\n",
    "    cursor.execute(select_sql)\n",
    "    #4. select결과 조회\n",
    "    result = cursor.fetchall() # 조회결과를 한번에 반환. 한행 - Tuple, 리스트로 tuple들을 묶어 반환\n",
    "    print(type(result), type(result[0]))\n",
    "    print(len(result))\n",
    "    pprint(result)\n",
    "    # 5. insert/update/delete를 실행한 경우 commit 처리\n",
    "    conn.commit()\n",
    "except Exception as e:\n",
    "    print(e)\n",
    "finally:\n",
    "    # 6. 연결 닫기 : cursor/connection\n",
    "    if cursor: \n",
    "        cursor.close()\n",
    "    if conn:\n",
    "        conn.close()"
   ]
  },
  {
   "cell_type": "code",
   "execution_count": null,
   "metadata": {},
   "outputs": [],
   "source": []
  },
  {
   "cell_type": "code",
   "execution_count": null,
   "metadata": {},
   "outputs": [],
   "source": []
  },
  {
   "cell_type": "code",
   "execution_count": null,
   "metadata": {},
   "outputs": [],
   "source": []
  },
  {
   "cell_type": "markdown",
   "metadata": {
    "slideshow": {
     "slide_type": "slide"
    }
   },
   "source": [
    "## placeholder(자리표시자)를 이용해 sql 실행\n",
    "- 파이썬의 format이랑 비슷하게 일한다.\n",
    "- SQL에 값이 들어갈 자리에 값을 대신할 문자 **`:순번` 또는 `:이름`** 를 넣고 SQL 실행시 값을 전달\n",
    "> placehold 는 DBMS마다 다르다. \n",
    "- execute(SQL, placeholder에 들어갈 값)\n",
    "    - 딕셔너리: placeholder의 이름-값 형식 `:이름`\n",
    "    - 리스트나 튜플: placeholder 순서 `:순번`"
   ]
  },
  {
   "cell_type": "code",
   "execution_count": 33,
   "metadata": {},
   "outputs": [
    {
     "name": "stdout",
     "output_type": "stream",
     "text": [
      "15000 ~ 20000 사이 salary 조회\n",
      "[(101,\n",
      "  'Neena',\n",
      "  'AD_VP',\n",
      "  100,\n",
      "  datetime.datetime(2005, 9, 21, 0, 0),\n",
      "  17000.0,\n",
      "  None,\n",
      "  90),\n",
      " (102,\n",
      "  'Lex',\n",
      "  'AD_VP',\n",
      "  100,\n",
      "  datetime.datetime(2001, 1, 13, 0, 0),\n",
      "  17000.0,\n",
      "  None,\n",
      "  90),\n",
      " (104,\n",
      "  'Bruce',\n",
      "  'IT_PROG',\n",
      "  103,\n",
      "  datetime.datetime(2007, 5, 21, 0, 0),\n",
      "  18000.0,\n",
      "  None,\n",
      "  60),\n",
      " (105,\n",
      "  'David',\n",
      "  'IT_PROG',\n",
      "  103,\n",
      "  datetime.datetime(2005, 6, 25, 0, 0),\n",
      "  14400.0,\n",
      "  None,\n",
      "  60),\n",
      " (106,\n",
      "  'Valli',\n",
      "  'IT_PROG',\n",
      "  103,\n",
      "  datetime.datetime(2006, 2, 5, 0, 0),\n",
      "  14400.0,\n",
      "  None,\n",
      "  60),\n",
      " (107,\n",
      "  'Diana',\n",
      "  'IT_PROG',\n",
      "  103,\n",
      "  datetime.datetime(2007, 2, 7, 0, 0),\n",
      "  12600.0,\n",
      "  None,\n",
      "  60),\n",
      " (108,\n",
      "  'Nancy',\n",
      "  'FI_MGR',\n",
      "  101,\n",
      "  datetime.datetime(2002, 8, 17, 0, 0),\n",
      "  12008.0,\n",
      "  None,\n",
      "  100),\n",
      " (113,\n",
      "  'Luis',\n",
      "  'FI_ACCOUNT',\n",
      "  108,\n",
      "  datetime.datetime(2007, 12, 7, 0, 0),\n",
      "  10350.0,\n",
      "  None,\n",
      "  100),\n",
      " (114,\n",
      "  'Den',\n",
      "  'PU_MAN',\n",
      "  100,\n",
      "  datetime.datetime(2002, 12, 7, 0, 0),\n",
      "  11000.0,\n",
      "  None,\n",
      "  30),\n",
      " (145,\n",
      "  'John',\n",
      "  'SA_MAN',\n",
      "  100,\n",
      "  datetime.datetime(2004, 10, 1, 0, 0),\n",
      "  14000.0,\n",
      "  None,\n",
      "  80),\n",
      " (146,\n",
      "  'Karen',\n",
      "  'SA_MAN',\n",
      "  100,\n",
      "  datetime.datetime(2004, 10, 1, 0, 0),\n",
      "  13500.0,\n",
      "  None,\n",
      "  80),\n",
      " (147,\n",
      "  'Alberto',\n",
      "  'SA_MAN',\n",
      "  100,\n",
      "  datetime.datetime(2005, 3, 10, 0, 0),\n",
      "  12000.0,\n",
      "  None,\n",
      "  80),\n",
      " (150,\n",
      "  'Peter',\n",
      "  'SA_REP',\n",
      "  145,\n",
      "  datetime.datetime(2007, 10, 15, 0, 0),\n",
      "  10000.0,\n",
      "  None,\n",
      "  80),\n",
      " (155,\n",
      "  'Oliver',\n",
      "  'SA_REP',\n",
      "  145,\n",
      "  datetime.datetime(2007, 11, 23, 0, 0),\n",
      "  10500.0,\n",
      "  0.15,\n",
      "  80),\n",
      " (156,\n",
      "  'Janette',\n",
      "  'SA_REP',\n",
      "  146,\n",
      "  datetime.datetime(2004, 1, 30, 0, 0),\n",
      "  10000.0,\n",
      "  None,\n",
      "  80),\n",
      " (161,\n",
      "  'Sarath',\n",
      "  'SA_REP',\n",
      "  146,\n",
      "  datetime.datetime(2006, 11, 3, 0, 0),\n",
      "  10500.0,\n",
      "  0.25,\n",
      "  80),\n",
      " (162,\n",
      "  'Clara',\n",
      "  'SA_REP',\n",
      "  147,\n",
      "  datetime.datetime(2005, 11, 11, 0, 0),\n",
      "  10500.0,\n",
      "  0.25,\n",
      "  80),\n",
      " (165,\n",
      "  'David',\n",
      "  'SA_REP',\n",
      "  147,\n",
      "  datetime.datetime(2008, 2, 23, 0, 0),\n",
      "  10200.0,\n",
      "  0.1,\n",
      "  80),\n",
      " (168,\n",
      "  'Lisa',\n",
      "  'SA_REP',\n",
      "  None,\n",
      "  datetime.datetime(2005, 3, 11, 0, 0),\n",
      "  11500.0,\n",
      "  0.25,\n",
      "  80),\n",
      " (169,\n",
      "  'Harrison',\n",
      "  'SA_REP',\n",
      "  None,\n",
      "  datetime.datetime(2006, 3, 23, 0, 0),\n",
      "  10000.0,\n",
      "  0.2,\n",
      "  80),\n",
      " (174,\n",
      "  'Ellen',\n",
      "  'SA_REP',\n",
      "  None,\n",
      "  datetime.datetime(2004, 5, 11, 0, 0),\n",
      "  11000.0,\n",
      "  None,\n",
      "  80),\n",
      " (201,\n",
      "  'Michael',\n",
      "  'MK_MAN',\n",
      "  100,\n",
      "  datetime.datetime(2004, 2, 17, 0, 0),\n",
      "  13000.0,\n",
      "  None,\n",
      "  20),\n",
      " (204,\n",
      "  'Hermann',\n",
      "  'PR_REP',\n",
      "  101,\n",
      "  datetime.datetime(2002, 6, 7, 0, 0),\n",
      "  10000.0,\n",
      "  None,\n",
      "  70),\n",
      " (205,\n",
      "  'Shelley',\n",
      "  'AC_MGR',\n",
      "  101,\n",
      "  datetime.datetime(2002, 6, 7, 0, 0),\n",
      "  12008.0,\n",
      "  None,\n",
      "  110),\n",
      " (1200,\n",
      "  '박영희',\n",
      "  'FI_ACCOUNT',\n",
      "  None,\n",
      "  datetime.datetime(2020, 1, 2, 0, 0),\n",
      "  10500.0,\n",
      "  None,\n",
      "  10),\n",
      " (1300,\n",
      "  '박영희',\n",
      "  'FI_ACCOUNT',\n",
      "  None,\n",
      "  datetime.datetime(2020, 1, 1, 0, 0),\n",
      "  10500.0,\n",
      "  None,\n",
      "  10),\n",
      " (2000,\n",
      "  '이순신',\n",
      "  'FI_ACCOUNT',\n",
      "  101,\n",
      "  datetime.datetime(2021, 2, 13, 0, 0),\n",
      "  19990.0,\n",
      "  None,\n",
      "  110)]\n",
      "2000 ~ 3000 사이 salary 조회\n",
      "[]\n"
     ]
    }
   ],
   "source": [
    "import cx_Oracle\n",
    "from pprint import pprint\n",
    "\n",
    "# SQL문 작성\n",
    "select_sql = \"SELECT * FROM emp WHERE salary BETWEEN :1 AND :2\" # format문자열이랑 비슷\n",
    "insert_sql = \"INSERT INTO emp VALUES \\\n",
    "(:id, :name, :job_id, :mgr_id, to_date(:hire_date, 'yyyymmdd'), :salary, :comm_pct, :dept_id)\"\n",
    "# 순번을 사든 이름을 하든 아무거나 상관은지만 개취 or 상황에 맞게\n",
    "\n",
    "conn = None\n",
    "cursor = None\n",
    "try:\n",
    "    conn = cx_Oracle.connect('c##scott_join/tiger@localhost:1521/XE')\n",
    "    cursor = conn.cursor()\n",
    "#     SQL 문 실행\n",
    "#     varchar2/char/nvarchar/nchar - str\n",
    "#     number (정수/실수) - int/double\n",
    "#     date - datetime 객체\n",
    "#     null - None\n",
    "    param_dict = {\n",
    "        'id' : 2000,\n",
    "        'name' : '이순신',\n",
    "        'job_id' : 'FI_ACCOUNT',\n",
    "        'mgr_id' : 101,\n",
    "        'hire_date' : '20210213',\n",
    "        'salary' : 19990,\n",
    "        'comm_pct' : None,\n",
    "        'dept_id' : 110\n",
    "    }\n",
    "    cursor.execute(insert_sql, param_dict)\n",
    "\n",
    "    cursor.execute(select_sql, [10000, 20000])\n",
    "    result1 = cursor.fetchall()\n",
    "    print(\"15000 ~ 20000 사이 salary 조회\")\n",
    "    pprint(result1)\n",
    "    \n",
    "    cursor.execute(select_sql, [2000, 3000])\n",
    "    result2 = cursor.fetchall()\n",
    "    print(\"2000 ~ 3000 사이 salary 조회\")\n",
    "    pprint(result2)\n",
    "    conn.commit()\n",
    "    \n",
    "except Exception as e:\n",
    "    print(e)\n",
    "finally:\n",
    "    if cursor:\n",
    "        cursor.close()\n",
    "    if conn:\n",
    "        conn.close()"
   ]
  },
  {
   "cell_type": "code",
   "execution_count": null,
   "metadata": {},
   "outputs": [],
   "source": []
  },
  {
   "cell_type": "markdown",
   "metadata": {
    "slideshow": {
     "slide_type": "slide"
    }
   },
   "source": [
    "## SELECT  결과 조회\n",
    "\n",
    "### fetchone()\n",
    "- 조회결과 한행씩 반환한다.\n",
    "- PK로 조회시 사용한다.(조회결과가 한행은 것)\n",
    "- 반환 type: tuple"
   ]
  },
  {
   "cell_type": "markdown",
   "metadata": {
    "slideshow": {
     "slide_type": "fragment"
    }
   },
   "source": [
    "### fetchall()\n",
    "- 조회한 전체 결과셋을 반환한다.\n",
    "- 한 row를 Tuple로 묶고 그 Tuple들을 List로 묶어서 반환한다."
   ]
  },
  {
   "cell_type": "markdown",
   "metadata": {
    "slideshow": {
     "slide_type": "fragment"
    }
   },
   "source": [
    "### fetchmany(n)\n",
    "- n 행씩 조회할 때 사용\n",
    "- n 기본값 100\n",
    "- 지정값만큼 끈어서 가져온다.paging 개념"
   ]
  },
  {
   "cell_type": "code",
   "execution_count": 37,
   "metadata": {},
   "outputs": [],
   "source": [
    "# emp_id(PK)로 직원 정보를 조회하는 함수\n",
    "def select_emp_by_id(emp_id):\n",
    "    sql = \"SELECT * FROM emp WHERE emp_id = :1\"\n",
    "#     conn, cursor = None, None\n",
    "    with cx_Oracle.connect(\"c##scott_join/tiger@localhost:1521/XE\") as conn:\n",
    "        with conn.cursor() as cursor:\n",
    "            # sql 실행\n",
    "            cursor.execute(sql, [emp_id])\n",
    "            result = cursor.fetchone() # 1행 조회, 조회결과가 없으면 None을 반환\n",
    "            return result"
   ]
  },
  {
   "cell_type": "code",
   "execution_count": 40,
   "metadata": {
    "scrolled": true
   },
   "outputs": [
    {
     "name": "stdout",
     "output_type": "stream",
     "text": [
      "(100, 'Steven', 'AD_PRES', 100, datetime.datetime(2003, 6, 17, 0, 0), 27000.0, 0.2, 90) id: 100 이름:  Steven\n"
     ]
    }
   ],
   "source": [
    "r = select_emp_by_id(100)\n",
    "if r:\n",
    "    print(r, \"id:\", r[0], '이름: ', r[1])\n",
    "else:\n",
    "    print('조회결과 없습니다.')"
   ]
  },
  {
   "cell_type": "code",
   "execution_count": 42,
   "metadata": {},
   "outputs": [
    {
     "name": "stdout",
     "output_type": "stream",
     "text": [
      "조회결과 없습니다. None\n"
     ]
    }
   ],
   "source": [
    "r = select_emp_by_id(10000)\n",
    "if r:\n",
    "    print(r, \"id:\", r[0], '이름: ', r[1])\n",
    "else:\n",
    "    print('조회결과 없습니다.', r)"
   ]
  },
  {
   "cell_type": "code",
   "execution_count": 50,
   "metadata": {
    "scrolled": true
   },
   "outputs": [
    {
     "name": "stdout",
     "output_type": "stream",
     "text": [
      "10\n",
      "[(100, 'Steven', 'AD_PRES', 100, datetime.datetime(2003, 6, 17, 0, 0), 27000.0, 0.2, 90), (101, 'Neena', 'AD_VP', 100, datetime.datetime(2005, 9, 21, 0, 0), 17000.0, None, 90), (102, 'Lex', 'AD_VP', 100, datetime.datetime(2001, 1, 13, 0, 0), 17000.0, None, 90), (103, 'Alexander', 'IT_PROG', 102, datetime.datetime(2006, 1, 3, 0, 0), 27000.0, None, 60), (104, 'Bruce', 'IT_PROG', 103, datetime.datetime(2007, 5, 21, 0, 0), 18000.0, None, 60), (105, 'David', 'IT_PROG', 103, datetime.datetime(2005, 6, 25, 0, 0), 14400.0, None, 60), (106, 'Valli', 'IT_PROG', 103, datetime.datetime(2006, 2, 5, 0, 0), 14400.0, None, 60), (107, 'Diana', 'IT_PROG', 103, datetime.datetime(2007, 2, 7, 0, 0), 12600.0, None, 60), (108, 'Nancy', 'FI_MGR', 101, datetime.datetime(2002, 8, 17, 0, 0), 12008.0, None, 100), (109, 'Daniel', 'FI_ACCOUNT', 108, datetime.datetime(2002, 8, 16, 0, 0), 9000.0, None, 100)]\n",
      "10\n",
      "[(110, 'John', 'FI_ACCOUNT', 108, datetime.datetime(2005, 9, 28, 0, 0), 8200.0, None, 100), (111, 'Ismael', 'FI_ACCOUNT', 108, datetime.datetime(2005, 9, 30, 0, 0), 7700.0, None, 100), (112, 'Jose Manuel', 'FI_ACCOUNT', 108, datetime.datetime(2006, 3, 7, 0, 0), 7800.0, None, 100), (113, 'Luis', 'FI_ACCOUNT', 108, datetime.datetime(2007, 12, 7, 0, 0), 10350.0, None, 100), (114, 'Den', 'PU_MAN', 100, datetime.datetime(2002, 12, 7, 0, 0), 11000.0, None, 30), (115, 'Alexander', 'PU_MAN', 100, datetime.datetime(2003, 5, 18, 0, 0), 9100.0, None, 30), (120, 'Matthew', 'ST_MAN', 100, datetime.datetime(2004, 7, 18, 0, 0), 8000.0, None, 50), (121, 'Adam', 'ST_MAN', 100, datetime.datetime(2004, 7, 18, 0, 0), 8200.0, None, 50), (122, 'Payam', 'ST_MAN', 100, datetime.datetime(2003, 5, 1, 0, 0), 7900.0, None, 50), (123, 'Shanta', 'ST_MAN', 100, datetime.datetime(2005, 10, 10, 0, 0), 9750.0, None, 50)]\n",
      "10\n",
      "[(124, 'Kevin', 'ST_MAN', 100, datetime.datetime(2007, 11, 16, 0, 0), 8700.0, None, 50), (130, 'Mozhe', None, 121, datetime.datetime(2005, 7, 16, 0, 0), 4200.0, None, 50), (131, 'James', None, 121, datetime.datetime(2005, 2, 16, 0, 0), 3750.0, None, 50), (140, 'Joshua', None, 123, datetime.datetime(2008, 2, 6, 0, 0), 3750.0, None, 50), (145, 'John', 'SA_MAN', 100, datetime.datetime(2004, 10, 1, 0, 0), 14000.0, None, 80), (146, 'Karen', 'SA_MAN', 100, datetime.datetime(2004, 10, 1, 0, 0), 13500.0, None, 80), (147, 'Alberto', 'SA_MAN', 100, datetime.datetime(2005, 3, 10, 0, 0), 12000.0, None, 80), (150, 'Peter', 'SA_REP', 145, datetime.datetime(2007, 10, 15, 0, 0), 10000.0, None, 80), (151, 'David', 'SA_REP', 145, datetime.datetime(2005, 3, 24, 0, 0), 9500.0, 0.25, 80), (152, 'Peter', 'SA_REP', 145, datetime.datetime(2005, 8, 20, 0, 0), 9000.0, 0.25, 80)]\n"
     ]
    }
   ],
   "source": [
    "sql = \"SELECT * FROM emp ORDER BY emp_id\"\n",
    "with cx_Oracle.connect(\"c##scott_join/tiger@localhost:1521/XE\") as conn:\n",
    "    with conn.cursor() as cursor:\n",
    "        cursor.execute(sql)\n",
    "        result = cursor.fetchmany(10) # 10개만 조회\n",
    "        print(len(result))\n",
    "        print(result)\n",
    "        \n",
    "        result = cursor.fetchmany(10) # 다음 10개\n",
    "        print(len(result))\n",
    "        print(result)\n",
    "        \n",
    "        result = cursor.fetchmany(10)\n",
    "        print(len(result))\n",
    "        print(result)"
   ]
  },
  {
   "cell_type": "markdown",
   "metadata": {},
   "source": [
    "### cursor를 for in 문을 이용해 select결과 조회\n",
    "- select후 cursor는 Iterable 한 객체.\n",
    "- cursor는 반복시마다 조회한 한행을 반환."
   ]
  },
  {
   "cell_type": "code",
   "execution_count": 55,
   "metadata": {
    "scrolled": true
   },
   "outputs": [
    {
     "name": "stdout",
     "output_type": "stream",
     "text": [
      "1. (100, 'Steven', 'AD_PRES', 100, datetime.datetime(2003, 6, 17, 0, 0), 27000.0, 0.2, 90)\n",
      "2. (151, 'David', 'SA_REP', 145, datetime.datetime(2005, 3, 24, 0, 0), 9500.0, 0.25, 80)\n",
      "3. (152, 'Peter', 'SA_REP', 145, datetime.datetime(2005, 8, 20, 0, 0), 9000.0, 0.25, 80)\n",
      "4. (153, 'Christopher', 'SA_REP', 145, datetime.datetime(2006, 3, 30, 0, 0), 8000.0, 0.2, 80)\n",
      "5. (154, 'Nanette', 'SA_REP', 145, datetime.datetime(2006, 12, 9, 0, 0), 7500.0, 0.2, 80)\n",
      "6. (155, 'Oliver', 'SA_REP', 145, datetime.datetime(2007, 11, 23, 0, 0), 10500.0, 0.15, 80)\n",
      "7. (161, 'Sarath', 'SA_REP', 146, datetime.datetime(2006, 11, 3, 0, 0), 10500.0, 0.25, 80)\n",
      "8. (162, 'Clara', 'SA_REP', 147, datetime.datetime(2005, 11, 11, 0, 0), 10500.0, 0.25, 80)\n",
      "9. (163, 'Danielle', 'SA_REP', 147, datetime.datetime(2007, 3, 19, 0, 0), 9500.0, 0.15, 80)\n",
      "10. (164, 'Mattea', 'SA_REP', 147, datetime.datetime(2008, 1, 24, 0, 0), 7200.0, 0.1, 80)\n",
      "11. (165, 'David', 'SA_REP', 147, datetime.datetime(2008, 2, 23, 0, 0), 10200.0, 0.1, 80)\n",
      "12. (166, 'Sundar', 'SA_REP', 147, datetime.datetime(2008, 3, 24, 0, 0), 9600.0, 0.1, 80)\n",
      "13. (167, 'Amit', 'SA_REP', 147, datetime.datetime(2008, 4, 21, 0, 0), 9300.0, 0.1, 80)\n",
      "14. (168, 'Lisa', 'SA_REP', None, datetime.datetime(2005, 3, 11, 0, 0), 11500.0, 0.25, 80)\n",
      "15. (169, 'Harrison', 'SA_REP', None, datetime.datetime(2006, 3, 23, 0, 0), 10000.0, 0.2, 80)\n",
      "16. (170, 'Tayler', 'SA_REP', None, datetime.datetime(2006, 1, 24, 0, 0), 9600.0, 0.2, 80)\n",
      "17. (171, 'William', 'SA_REP', None, datetime.datetime(2007, 2, 23, 0, 0), 7400.0, 0.15, 80)\n",
      "18. (172, 'Elizabeth', 'SA_REP', None, datetime.datetime(2007, 3, 24, 0, 0), 7300.0, 0.15, 80)\n",
      "19. (173, 'Sundita', 'SA_REP', None, datetime.datetime(2008, 4, 21, 0, 0), 9150.0, 0.1, 80)\n",
      "20. (176, 'Jonathon', 'SA_REP', None, datetime.datetime(2006, 3, 24, 0, 0), 8600.0, 0.2, 80)\n",
      "21. (177, 'Jack', 'SA_REP', None, datetime.datetime(2006, 4, 23, 0, 0), 8400.0, 0.2, 80)\n",
      "22. (179, 'Charles', 'SA_REP', None, datetime.datetime(2008, 1, 4, 0, 0), 9300.0, 0.1, 80)\n",
      "23. (1000, '홍길동', 'FI_ACCOUNT', 100, datetime.datetime(2017, 10, 20, 0, 0), 7500.0, 0.1, 20)\n",
      "24. (1500, '홍길동', 'FI_ACCOUNT', 101, datetime.datetime(2021, 2, 15, 0, 0), 30000.0, 0.2, 100)\n"
     ]
    }
   ],
   "source": [
    "sql = \"SELECT * FROM emp WHERE comm_pct IS NOT NULL ORDER BY emp_id\"\n",
    "with cx_Oracle.connect('c##scott_join/tiger@localhost:1521/XE') as conn:\n",
    "    with conn.cursor() as cursor:\n",
    "        cursor.execute(sql)\n",
    "        # 한행씩 처리하는 겨우\n",
    "        for idx, row in enumerate(cursor, 1): # 한번 반복할 때 마다 cursor.fetchone()을 실행.\n",
    "            print(f'{idx}. {row}')\n",
    "            \n",
    "#         r = cursor.fetchone()\n",
    "#         while r:\n",
    "#             print(r)\n",
    "#             r = cursor.fetchone()"
   ]
  },
  {
   "cell_type": "code",
   "execution_count": 58,
   "metadata": {},
   "outputs": [
    {
     "name": "stdout",
     "output_type": "stream",
     "text": [
      "[('AD_VP', 34000, 17000),\n",
      " ('FI_ACCOUNT', 121540, 12154),\n",
      " ('HR_REP', 9750, 9750),\n",
      " ('PU_MAN', 20100, 10050),\n",
      " ('AC_MGR', 12008, 12008),\n",
      " ('AD_ASST', 8250, 8250),\n",
      " ('IT_PROG', 86400, 17280),\n",
      " (None, 24300, 4050),\n",
      " ('SA_MAN', 39500, 13166.67),\n",
      " ('AC_ACCOUNT', 8300, 8300),\n",
      " ('FI_MGR', 12008, 12008),\n",
      " ('ST_MAN', 42550, 8510),\n",
      " ('AD_PRES', 27000, 27000),\n",
      " ('MK_MAN', 13000, 13000),\n",
      " ('SA_REP', 257550, 9198.21),\n",
      " ('MK_REP', 9000, 9000),\n",
      " ('PR_REP', 10000, 10000)]\n"
     ]
    }
   ],
   "source": [
    "sql = \"SELECT job_id, sum(salary), round(avg(salary), 2) FROM emp GROUP BY job_id\"\n",
    "with cx_Oracle.connect(\"c##scott_join/tiger@localhost:1521/XE\") as conn:\n",
    "    with conn.cursor() as cursor:\n",
    "        cursor.execute(sql)\n",
    "        result = cursor.fetchall()\n",
    "        pprint(result)"
   ]
  },
  {
   "cell_type": "code",
   "execution_count": 60,
   "metadata": {
    "scrolled": true
   },
   "outputs": [
    {
     "name": "stdout",
     "output_type": "stream",
     "text": [
      "[('Jennifer', 'Administration'),\n",
      " ('박영희', 'Administration'),\n",
      " ('박영희', 'Administration'),\n",
      " ('Michael', 'Marketing'),\n",
      " ('Pat', 'Marketing'),\n",
      " ('홍길동', 'Marketing'),\n",
      " ('Den', 'Purchasing'),\n",
      " ('Alexander', 'Purchasing'),\n",
      " ('Susan', 'Human Resources'),\n",
      " ('Matthew', 'Shipping'),\n",
      " ('Adam', 'Shipping'),\n",
      " ('Payam', 'Shipping'),\n",
      " ('Shanta', 'Shipping'),\n",
      " ('Kevin', 'Shipping'),\n",
      " ('Mozhe', 'Shipping'),\n",
      " ('James', 'Shipping'),\n",
      " ('Joshua', 'Shipping'),\n",
      " ('Anthony', 'Shipping'),\n",
      " ('Timothy', 'Shipping'),\n",
      " ('Randall', 'Shipping'),\n",
      " ('Alexander', 'IT'),\n",
      " ('Bruce', 'IT'),\n",
      " ('David', 'IT'),\n",
      " ('Valli', 'IT'),\n",
      " ('Diana', 'IT'),\n",
      " ('Hermann', 'Public Relations'),\n",
      " ('John', 'Sales'),\n",
      " ('Karen', 'Sales'),\n",
      " ('Alberto', 'Sales'),\n",
      " ('Peter', 'Sales'),\n",
      " ('David', 'Sales'),\n",
      " ('Peter', 'Sales'),\n",
      " ('Christopher', 'Sales'),\n",
      " ('Nanette', 'Sales'),\n",
      " ('Oliver', 'Sales'),\n",
      " ('Janette', 'Sales'),\n",
      " ('Patrick', 'Sales'),\n",
      " ('Allan', 'Sales'),\n",
      " ('Lindsey', 'Sales'),\n",
      " ('Louise', 'Sales'),\n",
      " ('Sarath', 'Sales'),\n",
      " ('Clara', 'Sales'),\n",
      " ('Danielle', 'Sales'),\n",
      " ('Mattea', 'Sales'),\n",
      " ('David', 'Sales'),\n",
      " ('Sundar', 'Sales'),\n",
      " ('Amit', 'Sales'),\n",
      " ('Lisa', 'Sales'),\n",
      " ('Harrison', 'Sales'),\n",
      " ('Tayler', 'Sales'),\n",
      " ('William', 'Sales'),\n",
      " ('Elizabeth', 'Sales'),\n",
      " ('Sundita', 'Sales'),\n",
      " ('Ellen', 'Sales'),\n",
      " ('Jonathon', 'Sales'),\n",
      " ('Jack', 'Sales'),\n",
      " ('Charles', 'Sales'),\n",
      " ('Steven', 'Executive'),\n",
      " ('Neena', 'Executive'),\n",
      " ('Lex', 'Executive'),\n",
      " ('Nancy', 'Finance'),\n",
      " ('Daniel', 'Finance'),\n",
      " ('John', 'Finance'),\n",
      " ('Ismael', 'Finance'),\n",
      " ('Jose Manuel', 'Finance'),\n",
      " ('Luis', 'Finance'),\n",
      " ('홍길동', 'Finance'),\n",
      " ('Shelley', 'Accounting'),\n",
      " ('William', 'Accounting'),\n",
      " ('이순신', 'Accounting')]\n"
     ]
    }
   ],
   "source": [
    "sql = \"SELECT e.emp_name, d.dept_name FROM emp e left join dept d ON e.dept_id = d.dept_id\"\n",
    "with cx_Oracle.connect(\"c##scott_join/tiger@localhost:1521/XE\") as conn:\n",
    "    with conn.cursor() as cursor:\n",
    "        cursor.execute(sql)\n",
    "        result = cursor.fetchall()\n",
    "        pprint(result)"
   ]
  },
  {
   "cell_type": "markdown",
   "metadata": {
    "slideshow": {
     "slide_type": "slide"
    }
   },
   "source": [
    "## INSERT / UPDATE/ DELETE\n",
    "- SQL 실행 후 Connection객체의 commit()을 호출 해야 최종적으로 적용된다.\n",
    "- commit()\n",
    "    - 최종 적용\n",
    "- rollback()\n",
    "    - 변경전 상태로 되돌리기\n",
    "\n",
    "### 사용할 테이블\n",
    "```sql\n",
    "create table test(\n",
    "    id varchar2(10),\n",
    "    name varchar2(100),\n",
    "    age number(3));\n",
    "```"
   ]
  },
  {
   "cell_type": "code",
   "execution_count": 119,
   "metadata": {},
   "outputs": [],
   "source": [
    "create_sql = \"create table test (id varchar2(10), name varchar2(100), age number(3))\"\n",
    "insert_sql = \"INSERT INTO test VALUES (:1, :2, :3)\"\n",
    "\n",
    "# insert_sql = \"INSERT INTO emp VALUES (1500, '홍길동', 'FI_ACCOUNT',\\\n",
    "# 101, to_date('2021/02/15', 'yyyy/mm/dd'), 30000, 0.2, 100)\"\n",
    "\n",
    "\n",
    "with cx_Oracle.connect('c##scott_join/tiger@localhost:1521/XE') as conn:\n",
    "    with conn.cursor() as cursor:\n",
    "#         try:\n",
    "#             cursor.execute(create_sql) # 테이블 생성\n",
    "#         except Exception as e:\n",
    "#             print(e)\n",
    "        cursor.execute(insert_sql, [1, '이름1', 20])\n",
    "        cursor.execute(insert_sql, [2, '이름2', 30])\n",
    "        cursor.execute(insert_sql, [3, '이름3', 40])"
   ]
  },
  {
   "cell_type": "code",
   "execution_count": 113,
   "metadata": {},
   "outputs": [],
   "source": [
    "delete_sql = \"DELETE FROM test WHERE name = :1\"\n",
    "with cx_Oracle.connect('c##scott_join/tiger@localhost:1521/XE') as conn:\n",
    "    with conn.cursor() as cursor:\n",
    "        cursor.execute(delete_sql, ['이름1'])\n",
    "        conn.commit()"
   ]
  },
  {
   "cell_type": "code",
   "execution_count": 114,
   "metadata": {},
   "outputs": [],
   "source": [
    "update_sql = \"UPDATE test SET name = :1\"\n",
    "with cx_Oracle.connect('c##scott_join/tiger@localhost:1521/XE') as conn:\n",
    "    with conn.cursor() as cursor:\n",
    "        cursor.execute(update_sql, ['새이름'])\n",
    "        conn.commit()"
   ]
  },
  {
   "cell_type": "code",
   "execution_count": 120,
   "metadata": {},
   "outputs": [
    {
     "name": "stdout",
     "output_type": "stream",
     "text": [
      "[('2', '새이름', 30),\n",
      " ('3', '새이름', 40),\n",
      " ('a-2', '새이름', 30),\n",
      " ('a-2', '새이름', 30),\n",
      " ('a-3', '새이름', 35),\n",
      " ('a-3', '새이름', 35),\n",
      " ('a-4', '새이름', 40),\n",
      " ('a-4', '새이름', 40)]\n"
     ]
    }
   ],
   "source": [
    "select_sql = \"SELECT * FROM test order by id\"\n",
    "with cx_Oracle.connect('c##scott_join/tiger@localhost:1521/XE') as conn:\n",
    "    with conn.cursor() as cursor:\n",
    "            cursor.execute(select_sql) \n",
    "            pprint(cursor.fetchall())"
   ]
  },
  {
   "cell_type": "code",
   "execution_count": null,
   "metadata": {},
   "outputs": [],
   "source": []
  },
  {
   "cell_type": "markdown",
   "metadata": {
    "slideshow": {
     "slide_type": "slide"
    }
   },
   "source": [
    "## batch(일괄작업) 처리\n",
    "- 한번에 메소드 호출로 다수 행을 처리한다.\n",
    "- executemany(sql, placeholder에 전달할값) - 주로 인설트 할때 많이 쓴다.\n",
    "    - placeholder에 전달할 값을 list로 묶어서 전달하면 sql문이 그 개수만큼 한번에 처리된다."
   ]
  },
  {
   "cell_type": "code",
   "execution_count": 95,
   "metadata": {},
   "outputs": [],
   "source": [
    "insert_sql = 'INSERT INTO test VALUES (:1, :2, :3)'\n",
    "param = [\n",
    "    ['a-1', '이름1', 20],\n",
    "    ['a-2', '이름2', 30],\n",
    "    ['a-3', '이름3', 35],\n",
    "    ['a-4', '이름4', 40]\n",
    "]\n",
    "\n",
    "with cx_Oracle.connect('c##scott_join/tiger@localhost:1521/XE') as conn:\n",
    "    with conn.cursor() as cursor:\n",
    "        cursor.executemany(insert_sql, param) # executemany가 for문 역할을 대신해준다.\n",
    "        conn.commit()"
   ]
  },
  {
   "cell_type": "markdown",
   "metadata": {},
   "source": [
    "## TODO : 매개변수로 dept_id를 받아서 EMP 테이블에서 그 부서의 직원들의 salary를 두배 update하는 함수."
   ]
  },
  {
   "cell_type": "code",
   "execution_count": 1,
   "metadata": {
    "scrolled": true
   },
   "outputs": [],
   "source": [
    "# import cx_Oracle\n",
    "# from pprint import pprint\n",
    "# def update_salary_by_dept_id(dept_id):\n",
    "#     update_sql = \"UPDATE emp SET salary = salary*2 where dept_id = :1\"\n",
    "#     with cx_Oracle.connect(\"c##scott_join/tiger@localhost:1521/XE\") as conn:\n",
    "#         with conn.cursor() as cursor:\n",
    "#             cursor.execute(update_sql, [dept_id])\n",
    "#             conn.commit()\n",
    "  \n",
    "import cx_Oracle\n",
    "def update_salary_by_dept_id(dept_id):\n",
    "    sql = \"UPDATE emp SET salary = salary *2 where dept_id = :1\"\n",
    "    with cx_Oracle.connect(\"c##scott_join/tiger@localhost:1521/XE\") as conn: # DB연결\n",
    "        with conn.cursor() as cursor: # 커서 생성\n",
    "            cursor.execute(sql, [dept_id]) # update문 실행\n",
    "            conn.commit()"
   ]
  },
  {
   "cell_type": "code",
   "execution_count": 2,
   "metadata": {},
   "outputs": [],
   "source": [
    "update_salary_by_dept_id(80)"
   ]
  },
  {
   "cell_type": "markdown",
   "metadata": {},
   "source": [
    "## TODO : 매개변수로 job_id를 받아서 그 업무를 하는 직원들을 EMP 테이블에서 삭제하는 함수."
   ]
  },
  {
   "cell_type": "code",
   "execution_count": 144,
   "metadata": {},
   "outputs": [],
   "source": [
    "def delete_job_id_by_emp(job_id):\n",
    "    delete_sql = \"delete from emp where job_id = :1\"\n",
    "    with cx_Oracle.connect(\"c##scott_join/tiger@localhost:1521/XE\") as conn:\n",
    "        with conn.cursor() as cursor:\n",
    "            cursor.execute(delete_sql, [job_id])"
   ]
  },
  {
   "cell_type": "code",
   "execution_count": 3,
   "metadata": {},
   "outputs": [],
   "source": [
    "def delete_emp_by_job_id(job_id):\n",
    "    # null값이 있을 경우 조건문으로 다룬다.\n",
    "    if job_id != None:        \n",
    "        sql = \"delete from emp where job_id = :1\"\n",
    "    else:\n",
    "        sql = \"delete from emp where job_id is null\"\n",
    "    with cx_Oracle.connet(\"c##scott_join/tiger@localhost:1521/XE\") as conn:\n",
    "        with conn.cursor() as cursor:\n",
    "            if job_id != None:\n",
    "                cursor.execute(sql, [job_id])\n",
    "            else:\n",
    "                cursor.execute(sql)\n",
    "            cursor.commit()"
   ]
  },
  {
   "cell_type": "code",
   "execution_count": null,
   "metadata": {},
   "outputs": [],
   "source": [
    "delete_emp_by_job_id(None) # job id 가 null인 행을 삭제는 그냥 안된다.\n",
    "## delete from emp where job_id is null로 지워야 된다."
   ]
  },
  {
   "cell_type": "markdown",
   "metadata": {
    "slideshow": {
     "slide_type": "slide"
    }
   },
   "source": [
    "# TODO : 매개변수로 직원 이름을 입력받아 EMP 테이블에서 그  직원들의 전체 정보를 조회결과를 출력하는 함수."
   ]
  },
  {
   "cell_type": "code",
   "execution_count": 4,
   "metadata": {},
   "outputs": [],
   "source": [
    "def select_all_by_emp(emp_name):\n",
    "    select_sql = \"select * from emp where emp_name = :1\"\n",
    "    with cx_Oracle.connect(\"c##scott_join/tiger@localhost:1521/Xe\") as conn:\n",
    "        with conn.cursor() as cursor:\n",
    "            cursor.execute(select_sql, [emp_name])\n",
    "            result = cursor.fetchall()\n",
    "            return result"
   ]
  },
  {
   "cell_type": "code",
   "execution_count": 11,
   "metadata": {},
   "outputs": [
    {
     "name": "stdout",
     "output_type": "stream",
     "text": [
      "[(105, 'David', 'IT_PROG', 103, datetime.datetime(2005, 6, 25, 0, 0), 14400.0, None, 60), (151, 'David', 'SA_REP', 145, datetime.datetime(2005, 3, 24, 0, 0), 19000.0, 0.25, 80), (165, 'David', 'SA_REP', 147, datetime.datetime(2008, 2, 23, 0, 0), 20400.0, 0.1, 80)]\n"
     ]
    }
   ],
   "source": [
    "import cx_Oracle\n",
    "def select_emp_by_name(emp_name):\n",
    "#     sql = 'select * from emp where emp_name = :1'\n",
    "    sql = \"select * from emp where emp_name like '%'||:1||'%'\" # like연산자의 placeholder사용할때 조심\n",
    "#     sql = \"select * from emp where emp_name like '%'||:name||'%'\"\n",
    "    with cx_Oracle.connect('c##scott_join/tiger@localhost:1521/XE') as conn:\n",
    "        with conn.cursor() as cursor:\n",
    "            cursor.execute(sql, [emp_name])\n",
    "#             cursor.execute(sql, {\"name\": emp_name})\n",
    "            result = cursor.fetchall()\n",
    "            return result\n",
    "print(select_emp_by_name('David'))"
   ]
  },
  {
   "cell_type": "markdown",
   "metadata": {
    "slideshow": {
     "slide_type": "slide"
    }
   },
   "source": [
    "# TODO: 사용자로 부터 직원정보를 입력받아 EMP 테이블에 입력한다.\n",
    "- emp_id, emp_name, job_id, mgr_id, hire_date, salary, comm_pct, dept_id 를 하나씩 입력받는다.\n",
    "- job_id, mgr_id, comm_pct, dept_id 을 입력하지 않은 경우 NULL 을 넣는다. (placehold 사용시 None을 대입)\n",
    "- 입력된 값을 EMP 테이블에 insert 한다.\n",
    "- 주의 job_id, mgr_id, dept_id는 FK 컬럼이므로 부모테이블의 PK값을 넣어야 한다."
   ]
  },
  {
   "cell_type": "code",
   "execution_count": null,
   "metadata": {},
   "outputs": [],
   "source": [
    "import cx_Oracle\n",
    "\n",
    "def insert_info():\n",
    "    insert_sql = 'INSERT INTO emp VALUES (:emp_id, :emp_name, :job_id, :mgr_id, :hire_date, :salary, :comm_pct, :dept_id)'\n",
    "    param = {\n",
    "        \"emp_id\" : int(input(\"emp_id 입력\")),\n",
    "        \"emp_name\" : input(\"emp_name 입력\"),\n",
    "        \"job_id\" : input(\"job_id 입력\"), # null 허용\n",
    "        \"mgr_id\" : input(\"mgr_id 입력\"), # null 허용\n",
    "        'hire_date' : input(\"hire_date 입력\"),\n",
    "        'salary' : input(\"salary 입력\"),\n",
    "        'comm_pct' : input(\"comm_pct 입력\"), # null 허용\n",
    "        'dept_id' : input(\"dept_id 입력\") # null 허용\n",
    "    }\n",
    "    with cx_Oracle.connect('c##scott_join/tiger@localhost:1521/XE') as conn:\n",
    "        with conn.cursor() as cursor:\n",
    "            cursor.executemany(insert_sql, param)\n",
    "            conn.commit()\n"
   ]
  },
  {
   "cell_type": "code",
   "execution_count": 23,
   "metadata": {},
   "outputs": [],
   "source": [
    "import cx_Oracle\n",
    "\n",
    "def insert_emp():\n",
    "    # 사용자로 부터 insert할 값들을 입력 받기 + 검증\n",
    "    emp_id = int(input(\"직원ID: \"))\n",
    "    \n",
    "    emp_name = input(\"이름: \")\n",
    "    \n",
    "    job_id = input(\"업무ID: \")\n",
    "    if len(job_id.strip()) == 0:\n",
    "        job_id = None\n",
    "        \n",
    "    try:\n",
    "        mgr_id = int(input(\"상사ID: \"))\n",
    "    except:\n",
    "        mgr_id = None\n",
    "        \n",
    "    hiredate = input(\"입사일(형식:yyyymmdd) :\")\n",
    "    salary = int(input('급여: '))\n",
    "    \n",
    "    try:\n",
    "        comm_pct = float(input('커미션률:'))\n",
    "        if comm_pct >= 1:\n",
    "            raise Exception()\n",
    "    except:\n",
    "        comm_pct = None\n",
    "        \n",
    "    try:\n",
    "        dept_id = input(\"부서ID: \")\n",
    "    except:\n",
    "        dept_id = None\n",
    "        \n",
    "    param = {\n",
    "        \"emp_id\":emp_id,\n",
    "        \"emp_name\":emp_name,\n",
    "        \"job_id\" : job_id,\n",
    "        \"mgr_id\" : mgr_id,\n",
    "        \"hire_date\" : hire_date,\n",
    "        \"salary\":salary,\n",
    "        \"comm_pct\":comm_pct,\n",
    "        \"dept_id\":dept_id\n",
    "    }\n",
    "    sql = \"INSERT INTO emp VALUES (:emp_id, :emp_name, :job_id, :mgr_id, to_date(:hire_date, 'yyyymmdd'), :salary, :comm_pct, :dept_id)\"\n",
    "    with cx_Oracle.connect(\"c##scott_join/tiger@localhost:1521/XE\") as conn:\n",
    "        with conn.cursor() as cursor:\n",
    "            cursor.execute(sql, param)\n",
    "            conn.commit()\n",
    "            print(\"insert완료\") "
   ]
  },
  {
   "cell_type": "code",
   "execution_count": 24,
   "metadata": {
    "scrolled": false
   },
   "outputs": [
    {
     "name": "stdout",
     "output_type": "stream",
     "text": [
      "직원ID: 3400\n",
      "이름: 윤우상\n",
      "업무ID: FI_ACCOUNT\n",
      "상사ID: \n",
      "입사일(형식:yyyymmdd) :19960430\n",
      "급여: 3000\n",
      "커미션률:\n",
      "부서ID: \n",
      "insert완료\n"
     ]
    }
   ],
   "source": [
    "insert_emp()"
   ]
  },
  {
   "cell_type": "code",
   "execution_count": 25,
   "metadata": {
    "collapsed": true
   },
   "outputs": [
    {
     "data": {
      "text/plain": [
       "'\\n--TODO: 부서별 직원의 급여에 대한 통계 테이블 생성. \\n--      조회결과를 insert. 집계: 합계, 평균, 최대, 최소, 분산, 표준편차\\ncreate table salary_stat(\\n    dept_id number(6),\\n    salary_sum number(15,2),\\n    salary_avg number(10, 2),\\n    salary_max number(7,2),\\n    salary_min number(7,2),\\n    salary_var number(20,2),\\n    salary_stddev number(7,2)\\n);\\n'"
      ]
     },
     "execution_count": 25,
     "metadata": {},
     "output_type": "execute_result"
    }
   ],
   "source": [
    "\"\"\"\n",
    "--TODO: 부서별 직원의 급여에 대한 통계 테이블 생성. \n",
    "--      조회결과를 insert. 집계: 합계, 평균, 최대, 최소, 분산, 표준편차\n",
    "create table salary_stat(\n",
    "    dept_id number(6),\n",
    "    salary_sum number(15,2),\n",
    "    salary_avg number(10, 2),\n",
    "    salary_max number(7,2),\n",
    "    salary_min number(7,2),\n",
    "    salary_var number(20,2),\n",
    "    salary_stddev number(7,2)\n",
    ");\n",
    "\"\"\""
   ]
  },
  {
   "cell_type": "code",
   "execution_count": 8,
   "metadata": {},
   "outputs": [
    {
     "ename": "NameError",
     "evalue": "name 'dept_id' is not defined",
     "output_type": "error",
     "traceback": [
      "\u001b[1;31m---------------------------------------------------------------------------\u001b[0m",
      "\u001b[1;31mNameError\u001b[0m                                 Traceback (most recent call last)",
      "\u001b[1;32m<ipython-input-8-c71af0ea3068>\u001b[0m in \u001b[0;36m<module>\u001b[1;34m\u001b[0m\n\u001b[0;32m     14\u001b[0m     \u001b[1;32mwith\u001b[0m \u001b[0mconn\u001b[0m\u001b[1;33m.\u001b[0m\u001b[0mcursor\u001b[0m\u001b[1;33m(\u001b[0m\u001b[1;33m)\u001b[0m \u001b[1;32mas\u001b[0m \u001b[0mcursor\u001b[0m\u001b[1;33m:\u001b[0m\u001b[1;33m\u001b[0m\u001b[1;33m\u001b[0m\u001b[0m\n\u001b[0;32m     15\u001b[0m         param = {\n\u001b[1;32m---> 16\u001b[1;33m             \u001b[1;34m\"dept_id\"\u001b[0m \u001b[1;33m:\u001b[0m \u001b[0mdept_id\u001b[0m\u001b[1;33m,\u001b[0m\u001b[1;33m\u001b[0m\u001b[1;33m\u001b[0m\u001b[0m\n\u001b[0m\u001b[0;32m     17\u001b[0m             \u001b[1;34m\"salary_sum\"\u001b[0m \u001b[1;33m:\u001b[0m \u001b[0msum\u001b[0m\u001b[1;33m(\u001b[0m\u001b[0msalary\u001b[0m\u001b[1;33m)\u001b[0m\u001b[1;33m,\u001b[0m\u001b[1;33m\u001b[0m\u001b[1;33m\u001b[0m\u001b[0m\n\u001b[0;32m     18\u001b[0m             \u001b[1;34m\"salary_avg\"\u001b[0m \u001b[1;33m:\u001b[0m \u001b[0mround\u001b[0m\u001b[1;33m(\u001b[0m\u001b[0mavg\u001b[0m\u001b[1;33m(\u001b[0m\u001b[0msalary\u001b[0m\u001b[1;33m)\u001b[0m\u001b[1;33m,\u001b[0m \u001b[1;36m2\u001b[0m\u001b[1;33m)\u001b[0m\u001b[1;33m,\u001b[0m\u001b[1;33m\u001b[0m\u001b[1;33m\u001b[0m\u001b[0m\n",
      "\u001b[1;31mNameError\u001b[0m: name 'dept_id' is not defined"
     ]
    }
   ],
   "source": [
    "import cx_Oracle\n",
    "\n",
    "# create_sql = \"CREATE TABLE salary_stat2\\\n",
    "# (dept_id number(6), salary_sum number(15,2), salary_avg numer(10, 2), salary_max number(7, 2),\\\n",
    "# salary_min number(7, 2), salary_var number(20, 2), salary_stddev number(7, 2))\"\n",
    "\n",
    "insert_sql = \"INSERT INTO salary_stat2 \\\n",
    "SELECT :dept_id, :salary_sum, :salary_avg, :salary_max, :salary_min, :salary_var, :salary_stddev\\\n",
    "FROM emp GROUP BY dept_id\"\n",
    "\n",
    "# insert_sql = \"INSERT INTO salary_stat2 SELECT dept_id, sum(salary), round(avg(salary), 2),\\\n",
    "# max(salary), min(salary), round(variance(salary), 2), round(stddev(salary), 2) FROM emp GROUP BY dept_id\"\n",
    "with cx_Oracle.connect(\"c##scott_join/tiger@localhost:1521/XE\") as conn:\n",
    "    with conn.cursor() as cursor:\n",
    "        param = {\n",
    "            \"dept_id\" : dept_id,\n",
    "            \"salary_sum\" : sum(salary),\n",
    "            \"salary_avg\" : round(avg(salary), 2),\n",
    "            \"salary_max\" : max(salary),\n",
    "            \"salary_min\" : min(salary),\n",
    "            \"salary_var\" : round(variance(salary), 2),\n",
    "            \"salary_stddev\": round(stddev(salary), 2)\n",
    "        }\n",
    "        cursor.execute(insert_sql, param)\n",
    "        conn.commit()"
   ]
  },
  {
   "cell_type": "code",
   "execution_count": 5,
   "metadata": {},
   "outputs": [],
   "source": [
    "import cx_Oracle\n",
    "\n",
    "# create_sql = \"CREATE TABLE salary_stat1\\\n",
    "# (dept_id number(6), salary_sum number(15,2), salary_avg number(10, 2), salary_max number(7, 2),\\\n",
    "# salary_min number(7, 2), salary_var number(20, 2), salary_stddev number(7, 2))\"\n",
    "\n",
    "insert_sql = \"INSERT INTO salary_stat SELECT dept_id, sum(salary), round(avg(salary), 2),\\\n",
    "max(salary), min(salary), round(variance(salary), 2), round(stddev(salary), 2) FROM emp GROUP BY dept_id\"\n",
    "\n",
    "with cx_Oracle.connect(\"c##scott_join/tiger@localhost:1521/XE\") as conn:\n",
    "    with conn.cursor() as cursor:\n",
    "#         cursor.execute(create_sql)\n",
    "        cursor.execute(insert_sql)\n",
    "        conn.commit()"
   ]
  },
  {
   "cell_type": "code",
   "execution_count": 47,
   "metadata": {},
   "outputs": [],
   "source": []
  },
  {
   "cell_type": "code",
   "execution_count": null,
   "metadata": {},
   "outputs": [],
   "source": []
  },
  {
   "cell_type": "code",
   "execution_count": null,
   "metadata": {},
   "outputs": [],
   "source": []
  },
  {
   "cell_type": "code",
   "execution_count": null,
   "metadata": {},
   "outputs": [],
   "source": []
  },
  {
   "cell_type": "code",
   "execution_count": null,
   "metadata": {},
   "outputs": [],
   "source": []
  },
  {
   "cell_type": "code",
   "execution_count": null,
   "metadata": {},
   "outputs": [],
   "source": []
  },
  {
   "cell_type": "code",
   "execution_count": null,
   "metadata": {},
   "outputs": [],
   "source": []
  }
 ],
 "metadata": {
  "kernelspec": {
   "display_name": "Python 3",
   "language": "python",
   "name": "python3"
  },
  "language_info": {
   "codemirror_mode": {
    "name": "ipython",
    "version": 3
   },
   "file_extension": ".py",
   "mimetype": "text/x-python",
   "name": "python",
   "nbconvert_exporter": "python",
   "pygments_lexer": "ipython3",
   "version": "3.8.5"
  },
  "toc": {
   "base_numbering": 1,
   "nav_menu": {},
   "number_sections": true,
   "sideBar": true,
   "skip_h1_title": false,
   "title_cell": "Table of Contents",
   "title_sidebar": "Contents",
   "toc_cell": false,
   "toc_position": {},
   "toc_section_display": true,
   "toc_window_display": false
  },
  "varInspector": {
   "cols": {
    "lenName": 16,
    "lenType": 16,
    "lenVar": 40
   },
   "kernels_config": {
    "python": {
     "delete_cmd_postfix": "",
     "delete_cmd_prefix": "del ",
     "library": "var_list.py",
     "varRefreshCmd": "print(var_dic_list())"
    },
    "r": {
     "delete_cmd_postfix": ") ",
     "delete_cmd_prefix": "rm(",
     "library": "var_list.r",
     "varRefreshCmd": "cat(var_dic_list()) "
    }
   },
   "types_to_exclude": [
    "module",
    "function",
    "builtin_function_or_method",
    "instance",
    "_Feature"
   ],
   "window_display": false
  }
 },
 "nbformat": 4,
 "nbformat_minor": 2
}
