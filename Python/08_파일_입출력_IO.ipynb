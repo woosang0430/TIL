{
 "cells": [
  {
   "cell_type": "markdown",
   "metadata": {},
   "source": [
    "## 파일의 경로(path)\n",
    "- 절대경로(Absolute path) : 시작 디렉토리(폴더- Root Directory)부터 자원의 전체 경로를 표현하는 방식.(시작 : Root)\n",
    "    - window:        C:\\text\\python\\io.txt - C:\\ => Root Directory  경로구분자 == \\ (역슬러시)\n",
    "    - 리눅스/유닉스 :   /text/python/io.txt - / => Root Directory    경로구분자 == /(슬러시)\n",
    "- 상대경로 : 현재 디렉토리에서 부터 찾아가는 경로 표현방식(시작 : 현재 디렉토리)\n",
    "    - `.` : 현재 디렉토리\n",
    "    - `..` : 상위 디렉토리\n",
    "    - `/ or \\` : 경로 구분자"
   ]
  },
  {
   "cell_type": "markdown",
   "metadata": {},
   "source": [
    "### os 모듈\n",
    "- 표준 모듈 (설치는 필요 없지만 import는 해야한다.)\n",
    "- 운영체제(os)에서 제공하는 기능들을 파이썬 프로그램에서 사용할 수 있도록 도와주는 모듈\n",
    "```python\n",
    "import os\n",
    "```"
   ]
  },
  {
   "cell_type": "code",
   "execution_count": 1,
   "metadata": {},
   "outputs": [],
   "source": [
    "import os"
   ]
  },
  {
   "cell_type": "code",
   "execution_count": 4,
   "metadata": {},
   "outputs": [
    {
     "name": "stdout",
     "output_type": "stream",
     "text": [
      "C:\\Users\\user\\python_jupyter\n"
     ]
    }
   ],
   "source": [
    "# 현재 디렉토리를 문자열로 반환\n",
    "curr_dir = os.getcwd()  # Current_Work_diretor\n",
    "print(curr_dir) # 주피터노트북 : 현재 작성하는 ipynb 파일이 위치한 경로."
   ]
  },
  {
   "cell_type": "code",
   "execution_count": 13,
   "metadata": {},
   "outputs": [],
   "source": [
    "# 현재디렉토리 변경 \n",
    "os.chdir(\"C:\\\\temp\") #Change Directory\n",
    "os.chdir(\"C:/temp\") #Change Directory\n",
    "os.chdir(r\"C:\\temp\") #Change Directory\n",
    "# os.chdir(\"/temp\") #Change Directory => mac"
   ]
  },
  {
   "cell_type": "code",
   "execution_count": 14,
   "metadata": {},
   "outputs": [
    {
     "data": {
      "text/plain": [
       "'C:\\\\temp'"
      ]
     },
     "execution_count": 14,
     "metadata": {},
     "output_type": "execute_result"
    }
   ],
   "source": [
    "os.getcwd()"
   ]
  },
  {
   "cell_type": "markdown",
   "metadata": {},
   "source": [
    "#### escape 문자\n",
    "- `\\문자` 로 시작하는 문자. text로 표현하짐 못하는 문자를 표현하는 문자.\n",
    "- `\\t` : 엔터\n",
    "- `\\n` : 탭\n",
    "- `\\\\` : \\"
   ]
  },
  {
   "cell_type": "code",
   "execution_count": 15,
   "metadata": {},
   "outputs": [
    {
     "name": "stdout",
     "output_type": "stream",
     "text": [
      "C:\\t\\n\n",
      "C:\\src\u0007.py\n",
      "C:\\src\\a.py\n",
      "C:/src/a.py\n",
      "C:\\src\\a.py\n"
     ]
    }
   ],
   "source": [
    "print(\"C:\\\\t\\\\n\")\n",
    "print(\"C:\\src\\a.py\") # 역슬러시가 이스케이프 문자로 인식된다.\n",
    "print(\"C:\\\\src\\\\a.py\") # 그래서 역슬러시 두번해줘야 제대로 작동\n",
    "print(\"C:/src/a.py\") #파이썬에서 문자열로 파일 경로 표시할 때 windows라고 해도 /(슬러시)를 사용해도 인심함\n",
    "print(r\"C:\\src\\a.py\") # raw string => \\를 escape문자의 접두어로 인식하지 않는다."
   ]
  },
  {
   "cell_type": "code",
   "execution_count": 16,
   "metadata": {},
   "outputs": [
    {
     "data": {
      "text/plain": [
       "'C:\\\\Users\\\\user\\\\python_jupyter'"
      ]
     },
     "execution_count": 16,
     "metadata": {},
     "output_type": "execute_result"
    }
   ],
   "source": [
    "os.chdir(curr_dir)\n",
    "os.getcwd()"
   ]
  },
  {
   "cell_type": "code",
   "execution_count": 21,
   "metadata": {},
   "outputs": [
    {
     "data": {
      "text/plain": [
       "['.ipynb_checkpoints',\n",
       " '01_변수_데이터타입.ipynb',\n",
       " '02_자료구조.ipynb',\n",
       " '03_제어문.ipynb',\n",
       " '04_함수.ipynb',\n",
       " '05_객체지향프로그래밍.ipynb',\n",
       " '06_module_package_import.ipynb',\n",
       " '07_예외와 예외처리.ipynb',\n",
       " '08_파일_입출력_IO.ipynb',\n",
       " 'my_module.py',\n",
       " 'my_package',\n",
       " 'practice.ipynb',\n",
       " 'review_note_객체지향.ipynb',\n",
       " 'review_note_모듈.ipynb',\n",
       " '__pycache__']"
      ]
     },
     "execution_count": 21,
     "metadata": {},
     "output_type": "execute_result"
    }
   ],
   "source": [
    "# 특정 디렉토리 안에 있는 하위디렉토리나 파일들의 이름을 리스트에 담아서 반환.\n",
    "# path를 지정하거나 생략하면 현재 디렉토리내의 내용을 반환.\n",
    "path_list = os.listdir()\n",
    "path_list"
   ]
  },
  {
   "cell_type": "code",
   "execution_count": 23,
   "metadata": {},
   "outputs": [
    {
     "data": {
      "text/plain": [
       "['01_변수_데이터타입.ipynb',\n",
       " '02_자료구조.ipynb',\n",
       " '03_제어문.ipynb',\n",
       " '04_함수.ipynb',\n",
       " '05_객체지향프로그래밍.ipynb',\n",
       " '06_module_package_import.ipynb',\n",
       " '07_예외와 예외처리.ipynb',\n",
       " '08_파일_입출력_IO.ipynb',\n",
       " 'practice.ipynb',\n",
       " 'review_note_객체지향.ipynb',\n",
       " 'review_note_모듈.ipynb']"
      ]
     },
     "execution_count": 23,
     "metadata": {},
     "output_type": "execute_result"
    }
   ],
   "source": [
    "# ipynb 파일들만 가진 리스트\n",
    "[filename for filename in os.listdir() if filename.endswith(\".ipynb\")]"
   ]
  },
  {
   "cell_type": "code",
   "execution_count": 29,
   "metadata": {},
   "outputs": [],
   "source": [
    "# 디렉토리 만들기\n",
    "os.mkdir(\"test\") # os.mkdir(\"./test\")현재디렉토리에 test 디렉토리를 만든다."
   ]
  },
  {
   "cell_type": "code",
   "execution_count": 53,
   "metadata": {},
   "outputs": [],
   "source": [
    "os.mkdir(\"test\") # 못만들면 예외발생"
   ]
  },
  {
   "cell_type": "code",
   "execution_count": 37,
   "metadata": {},
   "outputs": [
    {
     "ename": "FileExistsError",
     "evalue": "[WinError 183] 파일이 이미 있으므로 만들 수 없습니다: 'test1\\\\test2\\\\test3'",
     "output_type": "error",
     "traceback": [
      "\u001b[1;31m---------------------------------------------------------------------------\u001b[0m",
      "\u001b[1;31mFileExistsError\u001b[0m                           Traceback (most recent call last)",
      "\u001b[1;32m<ipython-input-37-e3eae6a80969>\u001b[0m in \u001b[0;36m<module>\u001b[1;34m\u001b[0m\n\u001b[0;32m      1\u001b[0m \u001b[1;31m# 마지막에 지정한 디렉토리만 만든다.(test1/ test2가 있는 상태에서 호출)\u001b[0m\u001b[1;33m\u001b[0m\u001b[1;33m\u001b[0m\u001b[1;33m\u001b[0m\u001b[0m\n\u001b[1;32m----> 2\u001b[1;33m \u001b[0mos\u001b[0m\u001b[1;33m.\u001b[0m\u001b[0mmkdir\u001b[0m\u001b[1;33m(\u001b[0m\u001b[1;34m\"test1\\\\test2\\\\test3\"\u001b[0m\u001b[1;33m)\u001b[0m\u001b[1;33m\u001b[0m\u001b[1;33m\u001b[0m\u001b[0m\n\u001b[0m",
      "\u001b[1;31mFileExistsError\u001b[0m: [WinError 183] 파일이 이미 있으므로 만들 수 없습니다: 'test1\\\\test2\\\\test3'"
     ]
    }
   ],
   "source": [
    "# 마지막에 지정한 디렉토리만 만든다.(test1/ test2가 있는 상태에서 호출)\n",
    "os.mkdir(\"test1\\\\test2\\\\test3\")"
   ]
  },
  {
   "cell_type": "code",
   "execution_count": 46,
   "metadata": {
    "scrolled": true
   },
   "outputs": [],
   "source": [
    "# 없는 경로는 다 만든다.\n",
    "os.makedirs(\"test1\\\\test2\\\\test3\")"
   ]
  },
  {
   "cell_type": "code",
   "execution_count": 49,
   "metadata": {},
   "outputs": [],
   "source": [
    "# 마지막 디렉토리삭제\n",
    "os.rmdir(\"test\") # rmdir() 빈 디렉토리만 삭제 가능"
   ]
  },
  {
   "cell_type": "code",
   "execution_count": 48,
   "metadata": {},
   "outputs": [],
   "source": [
    "# 지정한 디렉토리들 모두 삭제\n",
    "# \n",
    "os.removedirs(\"test1\\\\test2\\\\test3\") \n",
    "# test1 밑에 test2와 다른 디렉토리/파일이 있으면 test2만 삭제\n",
    "# test1은 삭제 못함"
   ]
  },
  {
   "cell_type": "code",
   "execution_count": null,
   "metadata": {},
   "outputs": [],
   "source": [
    "# 파일 삭제\n",
    "os.remove(\"파일명\")"
   ]
  },
  {
   "cell_type": "markdown",
   "metadata": {},
   "source": [
    "### os.path 모듈\n",
    "- 경로 관련 처리를 하는 모듈"
   ]
  },
  {
   "cell_type": "code",
   "execution_count": 50,
   "metadata": {},
   "outputs": [],
   "source": [
    "import os"
   ]
  },
  {
   "cell_type": "code",
   "execution_count": 52,
   "metadata": {},
   "outputs": [
    {
     "data": {
      "text/plain": [
       "(False, True)"
      ]
     },
     "execution_count": 52,
     "metadata": {},
     "output_type": "execute_result"
    }
   ],
   "source": [
    "# 파일이나 디렉토리가 있는지 여부\n",
    "os.path.exists(\"a.txt\"), os.path.exists(\"my_module.py\")"
   ]
  },
  {
   "cell_type": "code",
   "execution_count": 56,
   "metadata": {},
   "outputs": [
    {
     "data": {
      "text/plain": [
       "(False, True, False)"
      ]
     },
     "execution_count": 56,
     "metadata": {},
     "output_type": "execute_result"
    }
   ],
   "source": [
    "# 디렉토리 인지 여부 (없으면 False)\n",
    "os.path.isdir(\"my_module.py\"), os.path.isdir(\"test\"), os.path.isdir(\"aaa\")"
   ]
  },
  {
   "cell_type": "code",
   "execution_count": 57,
   "metadata": {},
   "outputs": [
    {
     "data": {
      "text/plain": [
       "(True, False, False)"
      ]
     },
     "execution_count": 57,
     "metadata": {},
     "output_type": "execute_result"
    }
   ],
   "source": [
    "# 파일인지 여부 (없으면 False)\n",
    "os.path.isfile(\"my_module.py\"), os.path.isfile(\"test\"), os.path.isfile(\"aaa.txt\")"
   ]
  },
  {
   "cell_type": "code",
   "execution_count": 72,
   "metadata": {},
   "outputs": [
    {
     "name": "stdout",
     "output_type": "stream",
     "text": [
      "C:\\project\\data\\image\n"
     ]
    }
   ],
   "source": [
    "# 경로를 문자열로 조합해주는 함수######################많이 쓰임\n",
    "path = os.path.join(\"C:\\project\", \"data\", \"image\")\n",
    "print(path)\n",
    "# 기존에 만든 디렉토리를 이용해 하위 디렉토리 or 파일을 만드는데 용이하다."
   ]
  },
  {
   "cell_type": "code",
   "execution_count": 59,
   "metadata": {},
   "outputs": [],
   "source": [
    "# r\"c:\\projecr\\data\\image"
   ]
  },
  {
   "cell_type": "code",
   "execution_count": null,
   "metadata": {},
   "outputs": [],
   "source": [
    "# 프로젝트 경로 : C:\\project\n",
    "# 데이터들을 저장할 경로 : data\n",
    "#         이미지 데이터 : img\n",
    "#         텍스트 데이터 : txt\n",
    "#            소스 경로 : src"
   ]
  },
  {
   "cell_type": "code",
   "execution_count": 63,
   "metadata": {},
   "outputs": [],
   "source": [
    "base_dir = r\"c:\\project\"\n",
    "src_dir = os.path.join(base_dir, \"src\")\n",
    "data_dir = os.path.join(base_dir, \"data\")\n",
    "data_img_dir = os.path.join(data_dir, \"img\")\n",
    "data_txt_dir = os.path.join(data_dir, \"txt\")"
   ]
  },
  {
   "cell_type": "code",
   "execution_count": 71,
   "metadata": {},
   "outputs": [
    {
     "name": "stdout",
     "output_type": "stream",
     "text": [
      "c:\\project\\data\\img\\1.jpg\n"
     ]
    }
   ],
   "source": [
    "img1_file = os.path.join(data_img_dir, \"1.jpg\")\n",
    "print(img1_file)"
   ]
  },
  {
   "cell_type": "code",
   "execution_count": 68,
   "metadata": {},
   "outputs": [
    {
     "data": {
      "text/plain": [
       "'c:\\\\project\\\\src'"
      ]
     },
     "execution_count": 68,
     "metadata": {},
     "output_type": "execute_result"
    }
   ],
   "source": [
    "src_dir"
   ]
  },
  {
   "cell_type": "code",
   "execution_count": 69,
   "metadata": {},
   "outputs": [
    {
     "data": {
      "text/plain": [
       "'c:\\\\project\\\\data'"
      ]
     },
     "execution_count": 69,
     "metadata": {},
     "output_type": "execute_result"
    }
   ],
   "source": [
    "data_dir"
   ]
  },
  {
   "cell_type": "code",
   "execution_count": 70,
   "metadata": {},
   "outputs": [
    {
     "data": {
      "text/plain": [
       "('c:\\\\project\\\\data\\\\img', 'c:\\\\project\\\\data\\\\txt')"
      ]
     },
     "execution_count": 70,
     "metadata": {},
     "output_type": "execute_result"
    }
   ],
   "source": [
    "data_img_dir, data_txt_dir"
   ]
  },
  {
   "cell_type": "code",
   "execution_count": 73,
   "metadata": {
    "collapsed": true
   },
   "outputs": [
    {
     "name": "stdout",
     "output_type": "stream",
     "text": [
      " C 드라이브의 볼륨에는 이름이 없습니다.\n",
      " 볼륨 일련 번호: AACF-1FD9\n",
      "\n",
      " C:\\Users\\user\\python_jupyter 디렉터리\n",
      "\n",
      "2021-01-19  오후 02:14    <DIR>          .\n",
      "2021-01-19  오후 02:14    <DIR>          ..\n",
      "2021-01-19  오전 10:23    <DIR>          .ipynb_checkpoints\n",
      "2021-01-06  오전 10:59            36,399 01_변수_데이터타입.ipynb\n",
      "2021-01-07  오후 12:15            62,841 02_자료구조.ipynb\n",
      "2021-01-11  오전 10:09            45,461 03_제어문.ipynb\n",
      "2021-01-12  오후 02:55            55,068 04_함수.ipynb\n",
      "2021-01-15  오전 11:35            61,127 05_객체지향프로그래밍.ipynb\n",
      "2021-01-15  오후 05:09            12,590 06_module_package_import.ipynb\n",
      "2021-01-18  오후 05:40            21,367 07_예외와 예외처리.ipynb\n",
      "2021-01-19  오후 02:14            14,180 08_파일_입출력_IO.ipynb\n",
      "2021-01-15  오후 04:19               406 my_module.py\n",
      "2021-01-15  오후 04:34    <DIR>          my_package\n",
      "2021-01-19  오전 10:15            15,779 practice.ipynb\n",
      "2021-01-15  오후 05:25             6,755 review_note_객체지향.ipynb\n",
      "2021-01-15  오후 05:22             5,247 review_note_모듈.ipynb\n",
      "2021-01-19  오후 12:24    <DIR>          test\n",
      "2021-01-15  오후 04:20    <DIR>          __pycache__\n",
      "              12개 파일             337,220 바이트\n",
      "               6개 디렉터리  52,717,772,800 바이트 남음\n"
     ]
    }
   ],
   "source": [
    "# 주피터 노트북에서 명령프롬프트(터미널) 명령이 실행\n",
    "# !명령어\n",
    "!dir"
   ]
  },
  {
   "cell_type": "code",
   "execution_count": 74,
   "metadata": {},
   "outputs": [
    {
     "name": "stdout",
     "output_type": "stream",
     "text": [
      "C:\\Users\\user\\python_jupyter\n"
     ]
    }
   ],
   "source": [
    "!cd"
   ]
  },
  {
   "cell_type": "markdown",
   "metadata": {},
   "source": [
    "# 텍스트 파일 입출력\n",
    "1. 연결 - open()\n",
    "2. 입출력 - read() / write()\n",
    "3. 연결 닫기 - close()"
   ]
  },
  {
   "cell_type": "code",
   "execution_count": 120,
   "metadata": {},
   "outputs": [],
   "source": [
    "# 현재 디렉토리안에 있는 a.txt 과 연결\n",
    "# wt : 쓰기/텍스트 모드 - 쓰기모드 : 출력만 가능\n",
    "# encoding 생략 : os 기본 인코딩 - win : cp949, 유닉스(맥)/리눅스 : utf-8\n",
    "f = open(\"a2.txt\", \"w\")# 상대 경로 t는 기본이므로 생략 가능"
   ]
  },
  {
   "cell_type": "code",
   "execution_count": 121,
   "metadata": {},
   "outputs": [
    {
     "data": {
      "text/plain": [
       "17"
      ]
     },
     "execution_count": 121,
     "metadata": {},
     "output_type": "execute_result"
    }
   ],
   "source": [
    "# 출력\n",
    "txt = \"\"\"안녕하세요\n",
    "ABCDE\n",
    "12345\"\"\"\n",
    "f.write(txt) # 17 : 글자수"
   ]
  },
  {
   "cell_type": "code",
   "execution_count": 122,
   "metadata": {},
   "outputs": [
    {
     "data": {
      "text/plain": [
       "9"
      ]
     },
     "execution_count": 122,
     "metadata": {},
     "output_type": "execute_result"
    }
   ],
   "source": [
    "f.write(\"두번째로 쓴 내용\")"
   ]
  },
  {
   "cell_type": "code",
   "execution_count": 123,
   "metadata": {},
   "outputs": [],
   "source": [
    "# 연결닫기\n",
    "f.close()"
   ]
  },
  {
   "cell_type": "code",
   "execution_count": 96,
   "metadata": {},
   "outputs": [
    {
     "data": {
      "text/plain": [
       "'C:\\\\Users\\\\user\\\\python_jupyter'"
      ]
     },
     "execution_count": 96,
     "metadata": {},
     "output_type": "execute_result"
    }
   ],
   "source": [
    "os.getcwd()"
   ]
  },
  {
   "cell_type": "code",
   "execution_count": 109,
   "metadata": {},
   "outputs": [
    {
     "name": "stdout",
     "output_type": "stream",
     "text": [
      "C:\\Users\\user\\python_jupyter\\my_text.txt\n"
     ]
    }
   ],
   "source": [
    "file = os.path.join(os.getcwd(), \"my_text.txt\")\n",
    "print(file)\n",
    "# 출력 모드일때 파일이 없으면 파일을 생성한다.\n",
    "# w : 덮어쓰기\n",
    "f = open(file, \"wt\")#연결\n",
    "# 출력\n",
    "f.write(\"첫번째 줄\\n\")\n",
    "f.write(\"두번째 줄\\n\")\n",
    "f.write(\"세번째 줄\")\n",
    "# 연결 닫기\n",
    "f.close()"
   ]
  },
  {
   "cell_type": "code",
   "execution_count": 119,
   "metadata": {},
   "outputs": [
    {
     "name": "stdout",
     "output_type": "stream",
     "text": [
      "C:\\Users\\user\\python_jupyter\\my_text3.txt\n"
     ]
    }
   ],
   "source": [
    "file = os.path.join(os.getcwd(), \"my_text3.txt\")\n",
    "print(file)\n",
    "# 출력 모드일때 파일이 없으면 파일을 생성한다.\n",
    "# a : (출력)이어쓰기\n",
    "f = open(file, \"at\")# a : 이어쓰기 모드\n",
    "# 출력\n",
    "f.write(\"첫번째 줄\\n\")\n",
    "f.write(\"두번째 줄\\n\")\n",
    "f.write(\"세번째 줄\")\n",
    "# 연결 닫기\n",
    "f.close() # 최종출력"
   ]
  },
  {
   "cell_type": "code",
   "execution_count": 128,
   "metadata": {},
   "outputs": [
    {
     "name": "stdout",
     "output_type": "stream",
     "text": [
      "C:\\Users\\user\\python_jupyter\\my_text4.txt\n"
     ]
    }
   ],
   "source": [
    "file = os.path.join(os.getcwd(), \"my_text4.txt\")\n",
    "print(file)\n",
    "# 출력 모드일때 파일이 없으면 파일을 생성한다.\n",
    "# a : (출력)이어쓰기\n",
    "f = open(file, \"at\")# a : 이어쓰기 모드\n",
    "# 출력\n",
    "f.write(\"첫번째 줄\\n\")\n",
    "f.flush() # 버퍼(메모리)를 비워라 => 파일에 써라.\n",
    "f.write(\"두번째 줄\\n\")\n",
    "f.flush()\n",
    "f.write(\"세번째 줄\")\n",
    "# 연결 닫기\n",
    "f.close()"
   ]
  },
  {
   "cell_type": "code",
   "execution_count": 132,
   "metadata": {},
   "outputs": [
    {
     "name": "stdout",
     "output_type": "stream",
     "text": [
      "첫번째 줄\n",
      "두번째 줄\n",
      "세번째 줄\n"
     ]
    }
   ],
   "source": [
    "file = \"test.txt\"\n",
    "file = \"my_text3.txt\"\n",
    "# 읽기 / 텍스트\n",
    "# 읽기 모드인 경우 파일이 반드시 존재해야 한다.\n",
    "# if os.path.exists(file):\n",
    "try:\n",
    "    #연결\n",
    "    fi = open(file, \"rt\") # \"rt\" : 생략가능\n",
    "    #읽기\n",
    "    txt = fi.read() #파일에서 읽은 데이터(텍스트)를 반환 => 한번에 전체를 읽어온다.\n",
    "    print(txt)\n",
    "    # 연결 닫기\n",
    "\n",
    "except:\n",
    "    print(f\"파일 {file}를 읽는 도중 오류발생\")\n",
    "finally:\n",
    "    # 연결닫기는 finally에서 처리\n",
    "    fi.close()"
   ]
  },
  {
   "cell_type": "code",
   "execution_count": 134,
   "metadata": {},
   "outputs": [
    {
     "name": "stdout",
     "output_type": "stream",
     "text": [
      "<class 'list'>\n",
      "['첫번째 줄\\n', '두번째 줄\\n', '세번째 줄']\n"
     ]
    }
   ],
   "source": [
    "try:\n",
    "    fi = open(\"my_text3.txt\") #rt모드\n",
    "#     txt = fi.read() # 전체를 읽어온다.\n",
    "    txt_list = fi.readlines()\n",
    "    print(type(txt_list)) # 한줄을 하나의 문자열로 해서 리스트로 묶어서 반환\n",
    "    print(txt_list)\n",
    "except:\n",
    "    print(\"오류발생\")\n",
    "finally:\n",
    "    fi.close()"
   ]
  },
  {
   "cell_type": "code",
   "execution_count": 136,
   "metadata": {},
   "outputs": [
    {
     "name": "stdout",
     "output_type": "stream",
     "text": [
      "1. 첫번째 줄\n"
     ]
    }
   ],
   "source": [
    "try:\n",
    "    fi = open(\"my_text3.txt\")\n",
    "    # 입력 Stream(fi)은 iterable type. => for in문에서 사용시 한번 반복할 때 한줄을 반환\n",
    "    for idx, line_text in enumerate(fi, start=1): # 라인단위로 처리할 경우 사용.\n",
    "        if \"첫\" in line_text:\n",
    "            print(f\"{idx}. {line_text}\", end=\"\")\n",
    "        \n",
    "        \n",
    "except:\n",
    "    print(\"오류발생\")\n",
    "finally:\n",
    "    fi.close()"
   ]
  },
  {
   "cell_type": "code",
   "execution_count": 139,
   "metadata": {},
   "outputs": [
    {
     "name": "stdout",
     "output_type": "stream",
     "text": [
      "첫번째 줄\n",
      "\n",
      "두번째 줄\n",
      "\n",
      "세번째 줄\n"
     ]
    }
   ],
   "source": [
    "fi = open(\"my_text3.txt\")\n",
    "print(fi.readline())\n",
    "print(fi.readline())\n",
    "print(fi.readline())\n",
    "fi.close()"
   ]
  },
  {
   "cell_type": "code",
   "execution_count": null,
   "metadata": {},
   "outputs": [],
   "source": [
    "try:\n",
    "    1. 연결\n",
    "    2. 입출력\n",
    "except:\n",
    "    연결, 입출시 발생한 예외 처리\n",
    "finally:\n",
    "    3. 연결닫기 - 무조건!!"
   ]
  },
  {
   "cell_type": "code",
   "execution_count": null,
   "metadata": {},
   "outputs": [],
   "source": [
    "try:\n",
    "    f = open(\"my_text3.txt\")\n",
    "    x = fi.read()\n",
    "    print(x)\n",
    "finally:\n",
    "    fi.close()\n",
    "\n",
    "with open(\"my_text3.txt\") as fi:\n",
    "    x = fi.read()\n",
    "    print(x)\n",
    "# with 블럭의 실행이 끝나면 알아서 close를 해준다."
   ]
  },
  {
   "cell_type": "code",
   "execution_count": null,
   "metadata": {},
   "outputs": [],
   "source": [
    "try:\n",
    "    fo = open(\"text.txt\", \"wt\")\n",
    "    fo.write(\"a\")\n",
    "    fo.write(\"b\")\n",
    "except:\n",
    "    pass\n",
    "finally:\n",
    "    fo.close()\n",
    "\n",
    "try:    \n",
    "    with open(\"test.txt\", \"wt\") as fo:\n",
    "        fo.write(\"a\")\n",
    "        fo.write(\"b\")\n",
    "except:\n",
    "    pass"
   ]
  },
  {
   "cell_type": "markdown",
   "metadata": {},
   "source": [
    "# TODO"
   ]
  },
  {
   "cell_type": "markdown",
   "metadata": {},
   "source": [
    "TODO - 간단한 메모장  \n",
    "사용자로부터 파일명을 입력받는다.  \n",
    "사용자로 부터 파일에 저장할 문장을 입력받아서 파일에 저장한다.  \n",
    "사용자가 !q 를 입력하면 종료한다.  \n",
    "\n",
    "\n",
    "사용자가 저장한 파일을 읽어서 출력한다.  \n",
    "\n",
    "- input() 사용자로부터 text를 입력받는다.\n",
    "- 함수로"
   ]
  },
  {
   "cell_type": "code",
   "execution_count": 13,
   "metadata": {
    "scrolled": true
   },
   "outputs": [],
   "source": [
    "def simple_memo():\n",
    "    file = input(\"파일명 : \")\n",
    "    try:\n",
    "        with open(file, \"wt\", encoding=\"utf8\") as fw:\n",
    "            # 사용자 입력을 읽어오기\n",
    "            # 사용자가 !q를 입력하기 전까지 입력된 내용을 파일에 출력\n",
    "            while True:\n",
    "                response = input()\n",
    "                if response == \"!q\":\n",
    "                    break\n",
    "                fw.write(response+\"\\n\")\n",
    "            print(\"종료\")\n",
    "\n",
    "    except:\n",
    "        print(\"실행도중 에러발생\")"
   ]
  },
  {
   "cell_type": "code",
   "execution_count": 14,
   "metadata": {},
   "outputs": [
    {
     "name": "stdout",
     "output_type": "stream",
     "text": [
      "파일명 : mo2.txt\n",
      "dskdu\n",
      "asndilasnd]\n",
      "!q\n",
      "종료\n"
     ]
    }
   ],
   "source": [
    "simple_memo()"
   ]
  },
  {
   "cell_type": "code",
   "execution_count": 17,
   "metadata": {
    "scrolled": true
   },
   "outputs": [
    {
     "name": "stdout",
     "output_type": "stream",
     "text": [
      "파일명 : memo1.txt\n",
      "안녕하세요\n",
      "제이름은\n",
      "윤우상입니다.\n",
      "!q\n",
      "종료\n",
      "안녕하세요\n",
      "제이름은\n",
      "윤우상입니다.\n",
      "\n"
     ]
    }
   ],
   "source": [
    "# 1. 파일명 입력\n",
    "file = input(\"파일명 : \")\n",
    "try:\n",
    "    with open(file, \"wt\", encoding=\"utf8\") as fw:\n",
    "        # 사용자 입력을 읽어오기\n",
    "        # 사용자가 !q를 입력하기 전까지 입력된 내용을 파일에 출력\n",
    "        while True:\n",
    "            response = input()\n",
    "            if response == \"!q\":\n",
    "                break\n",
    "            fw.write(response+\"\\n\")\n",
    "        print(\"종료\")\n",
    "        \n",
    "except:\n",
    "    print(\"실행도중 에러발생\")"
   ]
  },
  {
   "cell_type": "code",
   "execution_count": 20,
   "metadata": {},
   "outputs": [
    {
     "name": "stdout",
     "output_type": "stream",
     "text": [
      "안녕하세요\n",
      "제이름은\n",
      "윤우상입니다.\n",
      "\n"
     ]
    }
   ],
   "source": [
    "try:\n",
    "    with open(file, \"rt\", encoding=\"utf8\") as fr:\n",
    "        x = fr.read()\n",
    "        print(x)\n",
    "except:\n",
    "    print(\"불러오는 중 에러 발생\") "
   ]
  },
  {
   "cell_type": "code",
   "execution_count": null,
   "metadata": {},
   "outputs": [],
   "source": [
    "with open(\"file.txt\", \"wt\", encoding=\"utf8\") as file:\n",
    "    while True:\n",
    "        response = input()\n",
    "        if response == \"!q\":\n",
    "            break\n",
    "        else:\n",
    "            file.write(response+\"\\n\")\n",
    "            \n",
    "with open(\"file.txt\", \"rt\", encoding=\"utf8\") as file:\n",
    "    x = file.read()\n",
    "    print(x)"
   ]
  },
  {
   "cell_type": "markdown",
   "metadata": {},
   "source": [
    "## CSV(Comma Separated Value) 파일\n",
    "- 정형데이터(테이블-표 형태)를 파일에 저장하는 방식.\n",
    "- 한개의 데이터를 한줄에 표시\n",
    "- 한개의 데이터를 구성하는 값(속성)은 `,` 로 구분\n",
    "    - tsv(Tab Separated Value) - 속성값들을 tab으로 구분\n",
    "- 텍스트파일 기반\n",
    "- 파일 확장자는 `.csv`, `.tsv`를 사용."
   ]
  },
  {
   "cell_type": "markdown",
   "metadata": {},
   "source": [
    "TODO - csv 파일을 읽어서 각 열의 값을 배열에 담는다.  \n",
    "이름,나이,주소  형태의 csv를 읽어  \n",
    "names = []  \n",
    "ages =[]  \n",
    "address =[] \n",
    "배열에 넣는다. 라인이 index가 된다.  \n",
    "\n",
    "홍길동,20,서울  \n",
    "박영희,30,인천  \n",
    "김영수,17,부산  \n",
    "이경수,20,서울  \n",
    "장경철,22,인천  \n",
    "\n",
    "위에 정보를 data.csv에 담는다."
   ]
  },
  {
   "cell_type": "code",
   "execution_count": 61,
   "metadata": {
    "scrolled": true
   },
   "outputs": [
    {
     "name": "stdout",
     "output_type": "stream",
     "text": [
      "['\\ufeff홍길동', '박영희', '김영수', '이경수', '장경철']\n",
      "['20', '30', '17', '20', '22']\n",
      "['서울', '인천', '부산', '서울', '인천']\n"
     ]
    }
   ],
   "source": [
    "names = []\n",
    "ages = []\n",
    "address = []\n",
    "try:\n",
    "    with open(\"data1.csv\", \"rt\", encoding=\"utf-8\") as file:\n",
    "        for line in file:\n",
    "            name, age, addr = line.split(\",\")\n",
    "            names.append(name.strip())\n",
    "            ages.append(age.strip())\n",
    "            address.append(addr.strip())\n",
    "            \n",
    "except Exception as e:\n",
    "    print(\"에러발생\", e)\n",
    "    \n",
    "print(names)\n",
    "print(ages)\n",
    "print(address)"
   ]
  },
  {
   "cell_type": "markdown",
   "metadata": {},
   "source": [
    "### 리스트들을 튜플로 묶어 csv파일로 만들기!!"
   ]
  },
  {
   "cell_type": "code",
   "execution_count": 37,
   "metadata": {},
   "outputs": [],
   "source": [
    "try:\n",
    "    with open(\"member.csv\", \"wt\", encoding=\"utf8\") as fw:\n",
    "        for mem in zip(names, ages, address):\n",
    "            fw.write(\",\".join(mem) + \"\\n\")\n",
    "except:\n",
    "    print(\"에러 발생\")"
   ]
  },
  {
   "cell_type": "markdown",
   "metadata": {},
   "source": [
    "### csv파일들 읽기!"
   ]
  },
  {
   "cell_type": "code",
   "execution_count": 39,
   "metadata": {},
   "outputs": [
    {
     "name": "stdout",
     "output_type": "stream",
     "text": [
      "홍길동,20,서울\n",
      "박영희,30,인천\n",
      "김영수,17,부산\n",
      "이경수,20,서울\n",
      "장경철,22,인천\n",
      "\n"
     ]
    }
   ],
   "source": [
    "try:\n",
    "    with open(\"member.csv\", \"rt\", encoding=\"utf8\") as fr:\n",
    "        x = fr.read()\n",
    "        print(x)\n",
    "except:\n",
    "    print(\"에러 발생\")"
   ]
  },
  {
   "cell_type": "code",
   "execution_count": 33,
   "metadata": {},
   "outputs": [
    {
     "name": "stdout",
     "output_type": "stream",
     "text": [
      "['홍길동', '박영희', '김영수', '이경수', '장경철']\n",
      "['20', '30', '17', '20', '22']\n",
      "['서울', '인천', '부산', '서울', '인천']\n"
     ]
    }
   ],
   "source": [
    "names = []\n",
    "ages = []\n",
    "address = []\n",
    "try:\n",
    "    with open(\"data1.csv\", \"rt\") as file:\n",
    "        for line in file:\n",
    "            line = line.strip().split(\",\")\n",
    "            names.append(line[0])\n",
    "            ages.append(line[1])\n",
    "            address.append(line[2])\n",
    "except Exception as e:\n",
    "    print(\"에러발생\", e) # => Exception 객체를 e라는 변수에 담고, e 변수를 사용해 에러 내용을 출력 받는다.\n",
    "\n",
    "print(names)\n",
    "print(ages)\n",
    "print(address)"
   ]
  },
  {
   "cell_type": "markdown",
   "metadata": {},
   "source": [
    "1. data.csv 와 읽기모드로 연결\n",
    "    2. 라인단위로 읽어서 이름, 나이, 주소를 분리 => 리스트에 각각 추가."
   ]
  },
  {
   "cell_type": "markdown",
   "metadata": {},
   "source": [
    "## pandas를 이용해 csv파일 읽어오기"
   ]
  },
  {
   "cell_type": "code",
   "execution_count": 53,
   "metadata": {},
   "outputs": [
    {
     "data": {
      "text/html": [
       "<div>\n",
       "<style scoped>\n",
       "    .dataframe tbody tr th:only-of-type {\n",
       "        vertical-align: middle;\n",
       "    }\n",
       "\n",
       "    .dataframe tbody tr th {\n",
       "        vertical-align: top;\n",
       "    }\n",
       "\n",
       "    .dataframe thead th {\n",
       "        text-align: right;\n",
       "    }\n",
       "</style>\n",
       "<table border=\"1\" class=\"dataframe\">\n",
       "  <thead>\n",
       "    <tr style=\"text-align: right;\">\n",
       "      <th></th>\n",
       "      <th>0</th>\n",
       "      <th>1</th>\n",
       "      <th>2</th>\n",
       "    </tr>\n",
       "  </thead>\n",
       "  <tbody>\n",
       "    <tr>\n",
       "      <th>0</th>\n",
       "      <td>홍길동</td>\n",
       "      <td>20</td>\n",
       "      <td>서울</td>\n",
       "    </tr>\n",
       "    <tr>\n",
       "      <th>1</th>\n",
       "      <td>박영희</td>\n",
       "      <td>30</td>\n",
       "      <td>인천</td>\n",
       "    </tr>\n",
       "    <tr>\n",
       "      <th>2</th>\n",
       "      <td>김영수</td>\n",
       "      <td>17</td>\n",
       "      <td>부산</td>\n",
       "    </tr>\n",
       "    <tr>\n",
       "      <th>3</th>\n",
       "      <td>이경수</td>\n",
       "      <td>20</td>\n",
       "      <td>서울</td>\n",
       "    </tr>\n",
       "    <tr>\n",
       "      <th>4</th>\n",
       "      <td>장경철</td>\n",
       "      <td>22</td>\n",
       "      <td>인천</td>\n",
       "    </tr>\n",
       "  </tbody>\n",
       "</table>\n",
       "</div>"
      ],
      "text/plain": [
       "     0   1   2\n",
       "0  홍길동  20  서울\n",
       "1  박영희  30  인천\n",
       "2  김영수  17  부산\n",
       "3  이경수  20  서울\n",
       "4  장경철  22  인천"
      ]
     },
     "execution_count": 53,
     "metadata": {},
     "output_type": "execute_result"
    }
   ],
   "source": [
    "import pandas as pd\n",
    "data = pd.read_csv(\"data1.csv\", encoding=\"utf-8\", header=None)\n",
    "data"
   ]
  },
  {
   "cell_type": "code",
   "execution_count": 54,
   "metadata": {},
   "outputs": [
    {
     "data": {
      "text/plain": [
       "0    홍길동\n",
       "1    박영희\n",
       "2    김영수\n",
       "3    이경수\n",
       "4    장경철\n",
       "Name: 0, dtype: object"
      ]
     },
     "execution_count": 54,
     "metadata": {},
     "output_type": "execute_result"
    }
   ],
   "source": [
    "data[0]"
   ]
  },
  {
   "cell_type": "code",
   "execution_count": 55,
   "metadata": {},
   "outputs": [
    {
     "data": {
      "text/plain": [
       "0    20\n",
       "1    30\n",
       "2    17\n",
       "3    20\n",
       "4    22\n",
       "Name: 1, dtype: int64"
      ]
     },
     "execution_count": 55,
     "metadata": {},
     "output_type": "execute_result"
    }
   ],
   "source": [
    "data[1]"
   ]
  },
  {
   "cell_type": "markdown",
   "metadata": {},
   "source": [
    "## pickle을 이용한 객체 읽고 쓰기\n",
    "- 저장 : `pickle.dump(저장할 객체, 출력)`\n",
    "    - 객체 직렬화(Serialize) - 객체를 출력하는 것.\n",
    "    pickle.dump(p, fo)\n",
    "- 읽기 : `pickle.load(입력)`\n",
    "    - 객체 역직렬화 - 직렬화된 객체를 입력받는 것.\n",
    "- 파일과 연결시 **binary** 모드로 설정해야 한다.\n",
    "\n",
    "- 사용 이유\n"
   ]
  },
  {
   "cell_type": "code",
   "execution_count": 5,
   "metadata": {},
   "outputs": [],
   "source": [
    "list1 = [1,2,3,4,5]"
   ]
  },
  {
   "cell_type": "code",
   "execution_count": 6,
   "metadata": {},
   "outputs": [],
   "source": [
    "import pickle\n",
    "\n",
    "with open(\"list.pkl\", \"wb\") as fi:\n",
    "    pickle.dump(list1, fi) # 저장"
   ]
  },
  {
   "cell_type": "code",
   "execution_count": 7,
   "metadata": {},
   "outputs": [],
   "source": [
    "import pickle\n",
    "with open(\"list.pkl\", \"rb\") as fo:\n",
    "    list2 = pickle.load(fo)"
   ]
  },
  {
   "cell_type": "code",
   "execution_count": 8,
   "metadata": {},
   "outputs": [
    {
     "data": {
      "text/plain": [
       "[1, 2, 3, 4, 5]"
      ]
     },
     "execution_count": 8,
     "metadata": {},
     "output_type": "execute_result"
    }
   ],
   "source": [
    "list2"
   ]
  },
  {
   "cell_type": "code",
   "execution_count": 9,
   "metadata": {},
   "outputs": [
    {
     "name": "stdout",
     "output_type": "stream",
     "text": [
      "<class 'list'>\n"
     ]
    }
   ],
   "source": [
    "print(type(list2))"
   ]
  },
  {
   "cell_type": "code",
   "execution_count": 10,
   "metadata": {},
   "outputs": [],
   "source": [
    "class Person:\n",
    "    def __init__(self, name, age):\n",
    "        self.name = name\n",
    "        self.age = age\n",
    "        \n",
    "    def __str__(self):\n",
    "        return f\"{self.name}, {self.age}\""
   ]
  },
  {
   "cell_type": "code",
   "execution_count": 11,
   "metadata": {},
   "outputs": [],
   "source": [
    "p = Person(\"홍길동\", 30)"
   ]
  },
  {
   "cell_type": "code",
   "execution_count": 12,
   "metadata": {},
   "outputs": [],
   "source": [
    "p = Person(\"홍길동\", 30)\n",
    "import pickle\n",
    "with open(\"person.pkl\", \"wb\") as fo:\n",
    "    pickle.dump(p, fo)"
   ]
  },
  {
   "cell_type": "code",
   "execution_count": 14,
   "metadata": {},
   "outputs": [],
   "source": [
    "import pickle\n",
    "with open(\"person.pkl\", \"rb\") as fi:\n",
    "    p2 = pickle.load(fi)"
   ]
  },
  {
   "cell_type": "code",
   "execution_count": 17,
   "metadata": {},
   "outputs": [
    {
     "name": "stdout",
     "output_type": "stream",
     "text": [
      "홍길동, 30\n",
      "<class '__main__.Person'>\n"
     ]
    }
   ],
   "source": [
    "print(p2)\n",
    "print(type(p2))"
   ]
  },
  {
   "cell_type": "code",
   "execution_count": null,
   "metadata": {
    "scrolled": true
   },
   "outputs": [],
   "source": []
  },
  {
   "cell_type": "code",
   "execution_count": null,
   "metadata": {},
   "outputs": [],
   "source": []
  },
  {
   "cell_type": "code",
   "execution_count": null,
   "metadata": {},
   "outputs": [],
   "source": []
  },
  {
   "cell_type": "code",
   "execution_count": null,
   "metadata": {},
   "outputs": [],
   "source": []
  },
  {
   "cell_type": "code",
   "execution_count": null,
   "metadata": {},
   "outputs": [],
   "source": []
  },
  {
   "cell_type": "code",
   "execution_count": null,
   "metadata": {},
   "outputs": [],
   "source": []
  },
  {
   "cell_type": "code",
   "execution_count": null,
   "metadata": {},
   "outputs": [],
   "source": []
  },
  {
   "cell_type": "code",
   "execution_count": null,
   "metadata": {},
   "outputs": [],
   "source": []
  }
 ],
 "metadata": {
  "kernelspec": {
   "display_name": "Python 3",
   "language": "python",
   "name": "python3"
  },
  "language_info": {
   "codemirror_mode": {
    "name": "ipython",
    "version": 3
   },
   "file_extension": ".py",
   "mimetype": "text/x-python",
   "name": "python",
   "nbconvert_exporter": "python",
   "pygments_lexer": "ipython3",
   "version": "3.8.5"
  }
 },
 "nbformat": 4,
 "nbformat_minor": 4
}
