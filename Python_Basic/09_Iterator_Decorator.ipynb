{
 "cells": [
  {
   "cell_type": "code",
   "execution_count": 2,
   "metadata": {},
   "outputs": [],
   "source": [
    "l = [1,2,3] # 리스트 - iterable (__iter__() : Iterator를 생성해서 반환)"
   ]
  },
  {
   "cell_type": "code",
   "execution_count": 4,
   "metadata": {},
   "outputs": [
    {
     "name": "stdout",
     "output_type": "stream",
     "text": [
      "<list_iterator object at 0x0000000004CDE490> <class 'list_iterator'>\n"
     ]
    }
   ],
   "source": [
    "lt = iter(l) # l.__iter__() 호출\n",
    "print(lt, type(lt)) # Iterator (__next__() : Iterable 원소를 하나씩 제공|)"
   ]
  },
  {
   "cell_type": "code",
   "execution_count": 5,
   "metadata": {},
   "outputs": [
    {
     "data": {
      "text/plain": [
       "1"
      ]
     },
     "execution_count": 5,
     "metadata": {},
     "output_type": "execute_result"
    }
   ],
   "source": [
    "next(lt) # next(Iterator) : Iterator.__next__()"
   ]
  },
  {
   "cell_type": "code",
   "execution_count": 6,
   "metadata": {},
   "outputs": [
    {
     "data": {
      "text/plain": [
       "2"
      ]
     },
     "execution_count": 6,
     "metadata": {},
     "output_type": "execute_result"
    }
   ],
   "source": [
    "next(lt)"
   ]
  },
  {
   "cell_type": "code",
   "execution_count": 7,
   "metadata": {},
   "outputs": [
    {
     "data": {
      "text/plain": [
       "3"
      ]
     },
     "execution_count": 7,
     "metadata": {},
     "output_type": "execute_result"
    }
   ],
   "source": [
    "next(lt)"
   ]
  },
  {
   "cell_type": "code",
   "execution_count": 9,
   "metadata": {},
   "outputs": [
    {
     "ename": "StopIteration",
     "evalue": "",
     "output_type": "error",
     "traceback": [
      "\u001b[1;31m---------------------------------------------------------------------------\u001b[0m",
      "\u001b[1;31mStopIteration\u001b[0m                             Traceback (most recent call last)",
      "\u001b[1;32m<ipython-input-9-ad58db66a657>\u001b[0m in \u001b[0;36m<module>\u001b[1;34m\u001b[0m\n\u001b[1;32m----> 1\u001b[1;33m \u001b[0mnext\u001b[0m\u001b[1;33m(\u001b[0m\u001b[0mlt\u001b[0m\u001b[1;33m)\u001b[0m \u001b[1;31m# 더이상 제공할 원소가 없으면 stopIteration 예외를 발생시킨다.\u001b[0m\u001b[1;33m\u001b[0m\u001b[1;33m\u001b[0m\u001b[0m\n\u001b[0m",
      "\u001b[1;31mStopIteration\u001b[0m: "
     ]
    }
   ],
   "source": [
    "next(lt) # 더이상 제공할 원소가 없으면 stopIteration 예외를 발생시킨다."
   ]
  },
  {
   "cell_type": "code",
   "execution_count": 10,
   "metadata": {},
   "outputs": [
    {
     "name": "stdout",
     "output_type": "stream",
     "text": [
      "1\n",
      "2\n",
      "3\n"
     ]
    }
   ],
   "source": [
    "for i in l:\n",
    "    print(i)"
   ]
  },
  {
   "cell_type": "code",
   "execution_count": null,
   "metadata": {},
   "outputs": [],
   "source": []
  },
  {
   "cell_type": "code",
   "execution_count": 17,
   "metadata": {},
   "outputs": [
    {
     "name": "stdout",
     "output_type": "stream",
     "text": [
      "2.245215\n",
      "2\n",
      "245215\n"
     ]
    }
   ],
   "source": [
    "first, second = input().split(\".\")\n",
    "print(first)\n",
    "print(second)"
   ]
  },
  {
   "cell_type": "markdown",
   "metadata": {},
   "source": [
    "## 사용자 정의 Iterable, Iterator 구현\n",
    "- Iterable 클래스\n",
    "    - `__iter__()` : Iterator 생성, 반환\n",
    "- Iterator 클래스\n",
    "    - `__next__()` : 원소를 하나씩 제공"
   ]
  },
  {
   "cell_type": "code",
   "execution_count": 19,
   "metadata": {},
   "outputs": [],
   "source": [
    "# 시작, 끝, step 받아서 시작 ~ 끝 값까지 step만큼 증가하는 값들을 제공하는 Iterable 구현. = range\n",
    "# Iterable\n",
    "class RangeIterable:\n",
    "    \n",
    "    def __init__(self, start, end, step=1):\n",
    "        self.start = start\n",
    "        self.end = end\n",
    "        self.step = step\n",
    "        \n",
    "    def __iter__(self):\n",
    "        return Range_Iterator(self) # == Iterarot를 반환"
   ]
  },
  {
   "cell_type": "code",
   "execution_count": 24,
   "metadata": {},
   "outputs": [],
   "source": [
    "# Iterator : RangeIteranle의 원소를 하나씩 제공.\n",
    "class Range_Iterator:\n",
    "    \"\"\"\n",
    "    [매개변수]\n",
    "        iterable : RangeIterable - 원소를 제공할 Iterable객체.\n",
    "    \"\"\"\n",
    "    def __init__(self,iterable):\n",
    "        self.iterable = iterable\n",
    "        \n",
    "    def __next__(self):\n",
    "        it = self.iterable\n",
    "        if it.start > it.end: #제공할 값이 없으면\n",
    "            raise StopIteration()\n",
    "        value = it.start #start값을 반환\n",
    "        it.start += it.step #start = start값 + step값\n",
    "        \n",
    "        return value"
   ]
  },
  {
   "cell_type": "code",
   "execution_count": 25,
   "metadata": {},
   "outputs": [],
   "source": [
    "r = RangeIterable(1, 10, 3)"
   ]
  },
  {
   "cell_type": "code",
   "execution_count": 26,
   "metadata": {},
   "outputs": [
    {
     "name": "stdout",
     "output_type": "stream",
     "text": [
      "1\n",
      "4\n",
      "7\n",
      "10\n"
     ]
    }
   ],
   "source": [
    "for i in r:\n",
    "    print(i)"
   ]
  },
  {
   "cell_type": "code",
   "execution_count": 27,
   "metadata": {},
   "outputs": [
    {
     "name": "stdout",
     "output_type": "stream",
     "text": [
      "<class '__main__.Range_Iterator'>\n"
     ]
    }
   ],
   "source": [
    "r2 = RangeIterable(1, 10, 3)\n",
    "r_iter = iter(r2)\n",
    "print(type(r_iter))"
   ]
  },
  {
   "cell_type": "code",
   "execution_count": 33,
   "metadata": {},
   "outputs": [],
   "source": [
    "r3 = RangeIterable(10, 100, 20)\n",
    "# for i in r3:"
   ]
  },
  {
   "cell_type": "code",
   "execution_count": 34,
   "metadata": {},
   "outputs": [
    {
     "name": "stdout",
     "output_type": "stream",
     "text": [
      "10\n",
      "30\n",
      "50\n",
      "70\n",
      "90\n"
     ]
    }
   ],
   "source": [
    "r3_iter = iter(r3)\n",
    "while True:\n",
    "    try:\n",
    "        i = next(r3_iter)\n",
    "        # for in 문의 구현부\n",
    "        print(i)\n",
    "    except:\n",
    "        break"
   ]
  },
  {
   "cell_type": "markdown",
   "metadata": {},
   "source": [
    "###  Generator\n",
    "- Iterable + Iterator 의 함수버전\n",
    "- 함수로 구현\n",
    "- yield 반환값\n",
    "    - 반환값을 가지고 호출 한 곳으로 돌아간다. 단 함수는 종료하는 것이 아니라 일시정지상태로 기다린다. => 다음 호출때 yield 다음 구문을 실행한다.\n",
    "- Generator호출\n",
    "    - for in\n",
    "    - next() 함수로 호출"
   ]
  },
  {
   "cell_type": "code",
   "execution_count": 65,
   "metadata": {},
   "outputs": [],
   "source": [
    "def test_yield():\n",
    "    print(\"A\")\n",
    "    yield 10 # 호출한 곳으로 돌아가라\n",
    "    print(\"B\")\n",
    "    yield 20\n",
    "    print(\"C\")\n",
    "    yield 30\n",
    "    print(\"D\")\n",
    "    yield 40"
   ]
  },
  {
   "cell_type": "code",
   "execution_count": null,
   "metadata": {},
   "outputs": [],
   "source": []
  },
  {
   "cell_type": "code",
   "execution_count": 66,
   "metadata": {
    "scrolled": true
   },
   "outputs": [
    {
     "name": "stdout",
     "output_type": "stream",
     "text": [
      "<generator object test_yield at 0x00000000051FDEB0>\n"
     ]
    }
   ],
   "source": [
    "a = test_yield() #generator 객체 생성\n",
    "print(a)"
   ]
  },
  {
   "cell_type": "code",
   "execution_count": 67,
   "metadata": {},
   "outputs": [
    {
     "name": "stdout",
     "output_type": "stream",
     "text": [
      "A\n",
      "10\n"
     ]
    }
   ],
   "source": [
    "i1 = next(a)\n",
    "print(i1)"
   ]
  },
  {
   "cell_type": "code",
   "execution_count": 68,
   "metadata": {},
   "outputs": [
    {
     "name": "stdout",
     "output_type": "stream",
     "text": [
      "B\n",
      "20\n"
     ]
    }
   ],
   "source": [
    "i2 = next(a)\n",
    "print(i2)"
   ]
  },
  {
   "cell_type": "code",
   "execution_count": 69,
   "metadata": {},
   "outputs": [
    {
     "name": "stdout",
     "output_type": "stream",
     "text": [
      "C\n",
      "30\n"
     ]
    }
   ],
   "source": [
    "i3 = next(a)\n",
    "print(i3)"
   ]
  },
  {
   "cell_type": "code",
   "execution_count": 71,
   "metadata": {},
   "outputs": [
    {
     "name": "stdout",
     "output_type": "stream",
     "text": [
      "A\n",
      "10,B\n",
      "20,C\n",
      "30,D\n",
      "40,"
     ]
    }
   ],
   "source": [
    "# b = test_yield()\n",
    "for i in test_yield():\n",
    "    print(i, end=\",\")"
   ]
  },
  {
   "cell_type": "code",
   "execution_count": 82,
   "metadata": {},
   "outputs": [],
   "source": [
    "def my_range(start=1, end=10, step=3):\n",
    "    while True:\n",
    "        if start > end:\n",
    "            break\n",
    "        yield start\n",
    "        start += step"
   ]
  },
  {
   "cell_type": "code",
   "execution_count": 83,
   "metadata": {},
   "outputs": [],
   "source": [
    "gen = my_range(1, 10, 3)"
   ]
  },
  {
   "cell_type": "code",
   "execution_count": 84,
   "metadata": {},
   "outputs": [
    {
     "data": {
      "text/plain": [
       "1"
      ]
     },
     "execution_count": 84,
     "metadata": {},
     "output_type": "execute_result"
    }
   ],
   "source": [
    "next(gen)"
   ]
  },
  {
   "cell_type": "code",
   "execution_count": 85,
   "metadata": {},
   "outputs": [
    {
     "name": "stdout",
     "output_type": "stream",
     "text": [
      "0\n",
      "10\n",
      "20\n",
      "30\n",
      "40\n",
      "50\n",
      "60\n",
      "70\n",
      "80\n",
      "90\n",
      "100\n"
     ]
    }
   ],
   "source": [
    "for num in my_range(0, 100, 10):\n",
    "    print(num)"
   ]
  },
  {
   "cell_type": "code",
   "execution_count": 87,
   "metadata": {},
   "outputs": [
    {
     "data": {
      "text/plain": [
       "[101, 102, 103, 104, 105, 106, 107, 108, 109, 110]"
      ]
     },
     "execution_count": 87,
     "metadata": {},
     "output_type": "execute_result"
    }
   ],
   "source": [
    "[num+100 for num in my_range(1, 10, 1)]"
   ]
  },
  {
   "cell_type": "markdown",
   "metadata": {},
   "source": [
    "##  Generator comprehension(표현식)"
   ]
  },
  {
   "cell_type": "code",
   "execution_count": 91,
   "metadata": {},
   "outputs": [
    {
     "name": "stdout",
     "output_type": "stream",
     "text": [
      "<generator object <genexpr> at 0x00000000051E1820>\n"
     ]
    }
   ],
   "source": [
    "my_gen = (i for i in range(1, 10) if i%3==0)\n",
    "print(my_gen)"
   ]
  },
  {
   "cell_type": "code",
   "execution_count": 93,
   "metadata": {},
   "outputs": [
    {
     "name": "stdout",
     "output_type": "stream",
     "text": [
      "3\n",
      "6\n",
      "9\n"
     ]
    }
   ],
   "source": [
    "for i in (i for i in range(1, 10) if i%3==0):\n",
    "    print(i)"
   ]
  },
  {
   "cell_type": "code",
   "execution_count": 89,
   "metadata": {},
   "outputs": [],
   "source": [
    "def gen():\n",
    "    for i in range(1, 10):\n",
    "        if i%3==0:\n",
    "            yield i"
   ]
  },
  {
   "cell_type": "code",
   "execution_count": 90,
   "metadata": {},
   "outputs": [
    {
     "name": "stdout",
     "output_type": "stream",
     "text": [
      "3\n",
      "6\n",
      "9\n"
     ]
    }
   ],
   "source": [
    "a = gen()\n",
    "for i in a:\n",
    "    print(i)"
   ]
  },
  {
   "cell_type": "markdown",
   "metadata": {},
   "source": [
    "## 지역함수\n",
    "- 함수안에 함수를 정의한 것"
   ]
  },
  {
   "cell_type": "code",
   "execution_count": 94,
   "metadata": {},
   "outputs": [],
   "source": [
    "# 함수 == 일급 시민 객체\n",
    "def test(num):\n",
    "    return num+10"
   ]
  },
  {
   "cell_type": "code",
   "execution_count": 96,
   "metadata": {},
   "outputs": [
    {
     "name": "stdout",
     "output_type": "stream",
     "text": [
      "20\n"
     ]
    }
   ],
   "source": [
    "a = test(10) # 함수 호출 => 반환값을 변수에 대입\n",
    "print(a)"
   ]
  },
  {
   "cell_type": "code",
   "execution_count": 99,
   "metadata": {},
   "outputs": [
    {
     "name": "stdout",
     "output_type": "stream",
     "text": [
      "<function test at 0x0000000007EE5DC0>\n",
      "110\n"
     ]
    }
   ],
   "source": [
    "b = test # 함수를 변수 b에 대입\n",
    "print(b)\n",
    "c = b(100)\n",
    "print(c)"
   ]
  },
  {
   "cell_type": "code",
   "execution_count": 101,
   "metadata": {},
   "outputs": [],
   "source": [
    "def test2(fun):\n",
    "    num1, num2 = 10, 20\n",
    "    print(fun(num1,num2))"
   ]
  },
  {
   "cell_type": "code",
   "execution_count": 102,
   "metadata": {},
   "outputs": [
    {
     "name": "stdout",
     "output_type": "stream",
     "text": [
      "30\n"
     ]
    }
   ],
   "source": [
    "test2(lambda x, y: x+y) # test2() 호출. 매개변수에 함수를 전달."
   ]
  },
  {
   "cell_type": "code",
   "execution_count": 103,
   "metadata": {},
   "outputs": [
    {
     "name": "stdout",
     "output_type": "stream",
     "text": [
      "200\n"
     ]
    }
   ],
   "source": [
    "test2(lambda x, y: x*y)"
   ]
  },
  {
   "cell_type": "code",
   "execution_count": 112,
   "metadata": {},
   "outputs": [],
   "source": [
    "def outer(): # outer 함수\n",
    "    print(\"outer\")\n",
    "    def inner(): # 지역함수, inner 함수\n",
    "        print(\"inner\")\n",
    "#     inner()\n",
    "    return inner # 함수(객체) 자체를 반환."
   ]
  },
  {
   "cell_type": "code",
   "execution_count": 113,
   "metadata": {},
   "outputs": [
    {
     "name": "stdout",
     "output_type": "stream",
     "text": [
      "outer\n",
      "<function outer.<locals>.inner at 0x00000000084170D0>\n",
      "inner\n"
     ]
    }
   ],
   "source": [
    "a = outer()\n",
    "print(a)\n",
    "a()"
   ]
  },
  {
   "cell_type": "code",
   "execution_count": 119,
   "metadata": {},
   "outputs": [],
   "source": [
    "# 클로져(closure)\n",
    "def outer1():\n",
    "    num = 10\n",
    "    def inner1(num2):\n",
    "        print(f\"{num}+{num2}={num+num2}\") # num : outer1의 지역변수, num2 : inner1의 지역변수\n",
    "#     inner1(20)\n",
    "\n",
    "    return inner1"
   ]
  },
  {
   "cell_type": "code",
   "execution_count": 120,
   "metadata": {
    "scrolled": true
   },
   "outputs": [
    {
     "name": "stdout",
     "output_type": "stream",
     "text": [
      "10+1000=1010\n"
     ]
    }
   ],
   "source": [
    "func = outer1()\n",
    "func(1000) # inner1() 호풀"
   ]
  },
  {
   "cell_type": "markdown",
   "metadata": {},
   "source": [
    "## 데코레이더(Decorator)\n",
    "- 함수를 손보지 않고 장식할 수 있음!!"
   ]
  },
  {
   "cell_type": "code",
   "execution_count": 141,
   "metadata": {},
   "outputs": [],
   "source": [
    "def a():\n",
    "    print(\"안녕\")"
   ]
  },
  {
   "cell_type": "code",
   "execution_count": 145,
   "metadata": {},
   "outputs": [],
   "source": [
    "def deco(fun):\n",
    "    print(\"#\"*10) # (공통적으로 적용할) 전처리작업\n",
    "    fun()\n",
    "    print(\"#\"*10) # 후처리 작업"
   ]
  },
  {
   "cell_type": "code",
   "execution_count": 146,
   "metadata": {},
   "outputs": [
    {
     "name": "stdout",
     "output_type": "stream",
     "text": [
      "##########\n",
      "안녕\n"
     ]
    }
   ],
   "source": [
    "deco(a)"
   ]
  },
  {
   "cell_type": "markdown",
   "metadata": {},
   "source": [
    "## 데코레이션 구현"
   ]
  },
  {
   "cell_type": "code",
   "execution_count": 181,
   "metadata": {},
   "outputs": [],
   "source": [
    "# 데코레이터\n",
    "def my_deco(func): # 함수를 받을 매개변수\n",
    "    \n",
    "    def wrapper():\n",
    "        print(\"-\"*20) # 전처리\n",
    "        func()\n",
    "        print(\"=\"*20) # 후처리\n",
    "    \n",
    "    return wrapper"
   ]
  },
  {
   "cell_type": "code",
   "execution_count": 182,
   "metadata": {},
   "outputs": [],
   "source": [
    "def a():\n",
    "    print(\"안녕하세요\")"
   ]
  },
  {
   "cell_type": "code",
   "execution_count": 183,
   "metadata": {},
   "outputs": [
    {
     "name": "stdout",
     "output_type": "stream",
     "text": [
      "--------------------\n",
      "안녕하세요\n",
      "====================\n"
     ]
    }
   ],
   "source": [
    "f = my_deco(a) #f : wrapper함수\n",
    "f()"
   ]
  },
  {
   "cell_type": "code",
   "execution_count": 184,
   "metadata": {},
   "outputs": [
    {
     "name": "stdout",
     "output_type": "stream",
     "text": [
      "--------------------\n",
      "hello world\n",
      "====================\n"
     ]
    }
   ],
   "source": [
    "# 데코레이터 사용\n",
    "\n",
    "@my_deco # 데코레이터 호출\n",
    "def b():\n",
    "#     전처리\n",
    "    print(\"hello world\")\n",
    "#     후처리\n",
    "b()"
   ]
  },
  {
   "cell_type": "code",
   "execution_count": 185,
   "metadata": {},
   "outputs": [],
   "source": [
    "@my_deco\n",
    "def c():\n",
    "    print(\"안녕 안녕\")"
   ]
  },
  {
   "cell_type": "code",
   "execution_count": 186,
   "metadata": {},
   "outputs": [
    {
     "name": "stdout",
     "output_type": "stream",
     "text": [
      "--------------------\n",
      "안녕 안녕\n",
      "====================\n"
     ]
    }
   ],
   "source": [
    "c()"
   ]
  },
  {
   "cell_type": "code",
   "execution_count": 187,
   "metadata": {},
   "outputs": [
    {
     "name": "stdout",
     "output_type": "stream",
     "text": [
      "--------------------\n",
      "--------------------\n",
      "안녕 안녕\n",
      "====================\n",
      "====================\n"
     ]
    }
   ],
   "source": [
    "func = wrapper = my_deco(c)\n",
    "func()"
   ]
  },
  {
   "cell_type": "code",
   "execution_count": 188,
   "metadata": {},
   "outputs": [],
   "source": [
    "# 매개변수가 있는 함수의 decorator를 정의 - > 지역함수에 선언한다.\n",
    "# 데코레이터\n",
    "def my_deco2(func):\n",
    "    \n",
    "    def wrapper(name, age):\n",
    "        print(\"-------전처리-------\")\n",
    "        func(name, age)\n",
    "        print(\"-------후처리-------\")\n",
    "        \n",
    "    return wrapper"
   ]
  },
  {
   "cell_type": "code",
   "execution_count": 195,
   "metadata": {},
   "outputs": [],
   "source": [
    "@my_deco2\n",
    "def greeting(name, age):\n",
    "    print(name, age)"
   ]
  },
  {
   "cell_type": "code",
   "execution_count": 196,
   "metadata": {},
   "outputs": [
    {
     "name": "stdout",
     "output_type": "stream",
     "text": [
      "-------전처리-------\n",
      "윤우상 26\n",
      "-------후처리-------\n"
     ]
    }
   ],
   "source": [
    "greeting(\"윤우상\", 26)"
   ]
  },
  {
   "cell_type": "code",
   "execution_count": 197,
   "metadata": {},
   "outputs": [
    {
     "name": "stdout",
     "output_type": "stream",
     "text": [
      "-------전처리-------\n",
      "-------전처리-------\n",
      "홍길동 25\n",
      "-------후처리-------\n",
      "-------후처리-------\n"
     ]
    }
   ],
   "source": [
    "wrapper = my_deco2(greeting)\n",
    "wrapper(\"홍길동\", 25)"
   ]
  },
  {
   "cell_type": "code",
   "execution_count": 199,
   "metadata": {},
   "outputs": [
    {
     "name": "stdout",
     "output_type": "stream",
     "text": [
      "1611131147.6370692 초\n"
     ]
    }
   ],
   "source": [
    "import time\n",
    "a = time.time() # 실행시점의 시간 (1970년 1월 1일 0시 0분 0초 부터 실행시점까지를 초단위로 계산해서 반환)\n",
    "print(a, \"초\")"
   ]
  },
  {
   "cell_type": "code",
   "execution_count": 215,
   "metadata": {},
   "outputs": [],
   "source": [
    "def time_check(func):\n",
    "    \n",
    "    def wrapper():\n",
    "        a = time.time()\n",
    "        func()\n",
    "        b = time.time()\n",
    "        print(\"걸린시간: \", b-a, \"초\")\n",
    "    \n",
    "    return wrapper"
   ]
  },
  {
   "cell_type": "code",
   "execution_count": 216,
   "metadata": {},
   "outputs": [],
   "source": [
    "# @time_check\n",
    "def a():\n",
    "    time.sleep(1)\n",
    "    print(\"a()\")"
   ]
  },
  {
   "cell_type": "code",
   "execution_count": null,
   "metadata": {},
   "outputs": [],
   "source": []
  },
  {
   "cell_type": "code",
   "execution_count": null,
   "metadata": {},
   "outputs": [],
   "source": []
  },
  {
   "cell_type": "code",
   "execution_count": null,
   "metadata": {},
   "outputs": [],
   "source": []
  },
  {
   "cell_type": "code",
   "execution_count": null,
   "metadata": {},
   "outputs": [],
   "source": []
  },
  {
   "cell_type": "code",
   "execution_count": null,
   "metadata": {},
   "outputs": [],
   "source": []
  },
  {
   "cell_type": "code",
   "execution_count": null,
   "metadata": {},
   "outputs": [],
   "source": []
  },
  {
   "cell_type": "code",
   "execution_count": null,
   "metadata": {},
   "outputs": [],
   "source": []
  },
  {
   "cell_type": "code",
   "execution_count": null,
   "metadata": {},
   "outputs": [],
   "source": []
  },
  {
   "cell_type": "code",
   "execution_count": null,
   "metadata": {},
   "outputs": [],
   "source": []
  },
  {
   "cell_type": "code",
   "execution_count": null,
   "metadata": {},
   "outputs": [],
   "source": []
  },
  {
   "cell_type": "code",
   "execution_count": null,
   "metadata": {},
   "outputs": [],
   "source": []
  },
  {
   "cell_type": "code",
   "execution_count": null,
   "metadata": {},
   "outputs": [],
   "source": []
  },
  {
   "cell_type": "code",
   "execution_count": null,
   "metadata": {},
   "outputs": [],
   "source": []
  },
  {
   "cell_type": "code",
   "execution_count": null,
   "metadata": {},
   "outputs": [],
   "source": []
  },
  {
   "cell_type": "code",
   "execution_count": null,
   "metadata": {},
   "outputs": [],
   "source": []
  },
  {
   "cell_type": "code",
   "execution_count": null,
   "metadata": {},
   "outputs": [],
   "source": []
  },
  {
   "cell_type": "code",
   "execution_count": null,
   "metadata": {},
   "outputs": [],
   "source": []
  }
 ],
 "metadata": {
  "kernelspec": {
   "display_name": "Python 3",
   "language": "python",
   "name": "python3"
  },
  "language_info": {
   "codemirror_mode": {
    "name": "ipython",
    "version": 3
   },
   "file_extension": ".py",
   "mimetype": "text/x-python",
   "name": "python",
   "nbconvert_exporter": "python",
   "pygments_lexer": "ipython3",
   "version": "3.8.5"
  }
 },
 "nbformat": 4,
 "nbformat_minor": 4
}
