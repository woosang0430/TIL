{
 "cells": [
  {
   "cell_type": "markdown",
   "metadata": {},
   "source": [
    "#  객체지향 프로그래밍\n",
    "\n",
    "## class(클래스) 정의\n",
    "- 객체의 설계도\n",
    "    - 동일한 형태의 객체들이 가져야하는 Attribute와 메소드(method)를 정의한 것.\n",
    "    - 클래스로 부터 객체(instance)를 생성.\n",
    "- 구문\n",
    "````python\n",
    "class 클래스이름: #클래스 선언부\n",
    "    # 클래스 구현부\n",
    "    # 메소드들을 정의\n",
    "````\n",
    "- 클래스 이름의 관례\n",
    "    - 파스칼표기법 : 각 단어의 첫글자는 대문자 나머진 소문자.\n",
    "        - ex) BankAccount, Person\n",
    "\n",
    "\n",
    "- 객체 생성\n",
    "````python\n",
    "변수 = 클래스이름()\n",
    "````"
   ]
  },
  {
   "cell_type": "markdown",
   "metadata": {},
   "source": [
    "###  person 클래스를 작성  ( 클래스 만들기 전에 **설계** 먼저!!)\n",
    "- 객체 구성요소\n",
    "    - Instance 속성(Attribute)\n",
    "        - 객체의 데이터/ 상태\n",
    "        - 변수 => instance 변수(variable)\n",
    "        \n",
    "    - Instance method\n",
    "        - 객체가 제공하는 기능\n",
    "        - 함수를 객체에 넣은 것\n",
    "        \n",
    "1. Person의 속성은 ?\n",
    "    - name, age, address\n",
    "    \n",
    "2. Person method는?\n",
    "    - 나이를 더하는 메소드\n",
    "    - 전체 속성을 변경하는 메소드\n",
    "    - 전체 속성을 출력하는 메소드"
   ]
  },
  {
   "cell_type": "code",
   "execution_count": 1,
   "metadata": {},
   "outputs": [],
   "source": [
    "# 클래스 정의 : 코드 작성 + 실행\n",
    "class Person:\n",
    "    pass # 구현부를 비워둘때."
   ]
  },
  {
   "cell_type": "code",
   "execution_count": 6,
   "metadata": {},
   "outputs": [],
   "source": [
    "# 객체(instance) 생성\n",
    "p1 = Person()"
   ]
  },
  {
   "cell_type": "code",
   "execution_count": 7,
   "metadata": {},
   "outputs": [
    {
     "name": "stdout",
     "output_type": "stream",
     "text": [
      "<class '__main__.Person'>\n"
     ]
    }
   ],
   "source": [
    "print(type(p1))\n",
    "# class는 instance의 타입\n",
    "# instance는 class의 값"
   ]
  },
  {
   "cell_type": "code",
   "execution_count": 10,
   "metadata": {},
   "outputs": [
    {
     "name": "stdout",
     "output_type": "stream",
     "text": [
      "<class 'int'> <class 'str'> <class 'list'> <class 'bool'> <class 'float'>\n"
     ]
    }
   ],
   "source": [
    "print(type(10), type('abc'), type([1,2,3]), type(True), type(3.5))"
   ]
  },
  {
   "cell_type": "markdown",
   "metadata": {},
   "source": [
    "### Attribute\n",
    "- instance 변수!!!\n",
    "- instance에 Attribute를 추가\n",
    "    1. Initializer(생성자)를 이용해 추가\n",
    "    2. 객체.속성명 = 값\n",
    "        - ex) p1.age = 30\n",
    "        - 주로 변경할 때 사용 #unrecommand\n",
    "    3. 메소드를 이용\n",
    "        - 주로 변경할 때 사용\n",
    "        \n",
    "- 조회\n",
    "    - 객체.속성명(instance)\n",
    "        - ex) print(p1.name)"
   ]
  },
  {
   "cell_type": "code",
   "execution_count": 11,
   "metadata": {},
   "outputs": [],
   "source": [
    "p1 = Person()"
   ]
  },
  {
   "cell_type": "code",
   "execution_count": 12,
   "metadata": {},
   "outputs": [],
   "source": [
    "p1.name = '홍길동'"
   ]
  },
  {
   "cell_type": "code",
   "execution_count": 14,
   "metadata": {},
   "outputs": [],
   "source": [
    "p1.age = 30\n",
    "p1.address = '서울시'"
   ]
  },
  {
   "cell_type": "code",
   "execution_count": 16,
   "metadata": {},
   "outputs": [
    {
     "name": "stdout",
     "output_type": "stream",
     "text": [
      "홍길동\n",
      "30\n",
      "서울시\n"
     ]
    }
   ],
   "source": [
    "print(p1.name)\n",
    "print(p1.age)\n",
    "print(p1.address)"
   ]
  },
  {
   "cell_type": "code",
   "execution_count": 18,
   "metadata": {},
   "outputs": [],
   "source": [
    "p1.email = \"abc@abc.com\""
   ]
  },
  {
   "cell_type": "code",
   "execution_count": 19,
   "metadata": {},
   "outputs": [
    {
     "name": "stdout",
     "output_type": "stream",
     "text": [
      "abc@abc.com\n"
     ]
    }
   ],
   "source": [
    "print(p1.email)"
   ]
  },
  {
   "cell_type": "markdown",
   "metadata": {},
   "source": [
    "## Initializer (생성자)\n",
    "- 역할 : 클래스로 부터 instance를 생성할 때 instance 변수(속성)을 초기화 하는 역할.\n",
    "- 객체 생성할때 딱 한번만 호출되는 특이한 형태의 메소드\n",
    "```python\n",
    "class 클래스:\n",
    "    \n",
    "    def __init__(self [, 매개변수, ....]):\n",
    "#         구현\n",
    "#         self.변수명 = 값\n",
    "```\n",
    "\n",
    "## self 변수\n",
    "- 생성자 (Initailizer)나 메소드 (객체의 기능)의 첫번째 매개변수로 선언.\n",
    "    - 현재 객체(instance)를 전달받는 변수.\n",
    "- Initializer의 self : 현재 생성되고 있는 객체\n",
    "- 메소드 : 메소드를 호출한 객체(메소드 소유객체)\n",
    "- 생성자 / 메소드 정의할 때 호출시 전달받을 값을 저장하는 매개변수는 두번째 부터 선언한다."
   ]
  },
  {
   "cell_type": "code",
   "execution_count": 34,
   "metadata": {},
   "outputs": [],
   "source": [
    "class Person:\n",
    "    # initializer(생성자) 구현\n",
    "    def __init__(self, name, age, address=None):\n",
    "        # Attribute에 매개변수로 받은 값으로 초기화\n",
    "        self.name = name # self.name : instance 변수 name\n",
    "        self.age = age\n",
    "        self.address = address \n",
    "        print(\"생성됨\")\n",
    "#     def _str__(self):\n",
    "#         return self.name"
   ]
  },
  {
   "cell_type": "code",
   "execution_count": 3,
   "metadata": {},
   "outputs": [
    {
     "name": "stdout",
     "output_type": "stream",
     "text": [
      "생성됨\n"
     ]
    }
   ],
   "source": [
    "p3 = Person(\"박영희\", 40)"
   ]
  },
  {
   "cell_type": "code",
   "execution_count": 4,
   "metadata": {},
   "outputs": [
    {
     "name": "stdout",
     "output_type": "stream",
     "text": [
      "박영희 40 None\n"
     ]
    }
   ],
   "source": [
    "print(p3.name, p3.age, p3.address)"
   ]
  },
  {
   "cell_type": "code",
   "execution_count": 5,
   "metadata": {},
   "outputs": [
    {
     "name": "stdout",
     "output_type": "stream",
     "text": [
      "생성됨\n"
     ]
    }
   ],
   "source": [
    "# 클래스이름() : __init__() 를 호출\n",
    "p1 = Person(\"이순신\", 30, \"서울시\")"
   ]
  },
  {
   "cell_type": "code",
   "execution_count": 6,
   "metadata": {},
   "outputs": [
    {
     "name": "stdout",
     "output_type": "stream",
     "text": [
      "이순신 30 서울시\n"
     ]
    }
   ],
   "source": [
    "print(p1.name, p1.age, p1.address)"
   ]
  },
  {
   "cell_type": "code",
   "execution_count": 7,
   "metadata": {},
   "outputs": [
    {
     "name": "stdout",
     "output_type": "stream",
     "text": [
      "생성됨\n"
     ]
    }
   ],
   "source": [
    "p2 = Person(\"홍길동\", 10, \"인천시\")"
   ]
  },
  {
   "cell_type": "code",
   "execution_count": 8,
   "metadata": {},
   "outputs": [
    {
     "name": "stdout",
     "output_type": "stream",
     "text": [
      "홍길동 10 인천시\n"
     ]
    }
   ],
   "source": [
    "print(p2.name, p2.age, p2.address)"
   ]
  },
  {
   "cell_type": "code",
   "execution_count": 13,
   "metadata": {},
   "outputs": [
    {
     "name": "stdout",
     "output_type": "stream",
     "text": [
      "이순신 100 서울시\n",
      "홍길동 10 인천시\n"
     ]
    }
   ],
   "source": [
    "print(p1.name, p1.age, p1.address)\n",
    "print(p2.name, p2.age, p2.address)"
   ]
  },
  {
   "cell_type": "code",
   "execution_count": 14,
   "metadata": {},
   "outputs": [],
   "source": [
    "p1.age = 100 # 변경(재할당)"
   ]
  },
  {
   "cell_type": "code",
   "execution_count": 16,
   "metadata": {},
   "outputs": [
    {
     "name": "stdout",
     "output_type": "stream",
     "text": [
      "100 10\n"
     ]
    }
   ],
   "source": [
    "print(p1.age, p2.age)"
   ]
  },
  {
   "cell_type": "code",
   "execution_count": 30,
   "metadata": {},
   "outputs": [],
   "source": [
    "p1_1 = {\n",
    "    \"name\":\"홍길동\",\n",
    "    \"age\":30,\n",
    "    \"address\":\"부산시\",\n",
    "    \"item_name\":\"Tv\",\n",
    "}"
   ]
  },
  {
   "cell_type": "code",
   "execution_count": 31,
   "metadata": {},
   "outputs": [
    {
     "name": "stdout",
     "output_type": "stream",
     "text": [
      "이순신 100 서울시\n",
      "홍길동 30 부산시\n"
     ]
    }
   ],
   "source": [
    "print(p1.name, p1.age, p1.address)\n",
    "print(p1_1[\"name\"], p1_1[\"age\"], p1_1[\"address\"])"
   ]
  },
  {
   "cell_type": "code",
   "execution_count": 32,
   "metadata": {},
   "outputs": [],
   "source": [
    "#dictionary : 고객, 제품, 모든...정보  \n",
    "# 모든 정보를 위한 이친구\n",
    "# 장점 모든 정보를 담을 수 있음\n",
    "# 단점 특화된 정보로 정리를 할 수 없다.\n",
    "#     메소드 : items(), get(key)"
   ]
  },
  {
   "cell_type": "code",
   "execution_count": 35,
   "metadata": {},
   "outputs": [
    {
     "name": "stdout",
     "output_type": "stream",
     "text": [
      "<__main__.Person object at 0x0000000004CDD520>\n"
     ]
    }
   ],
   "source": [
    "print(p1)"
   ]
  },
  {
   "cell_type": "markdown",
   "metadata": {},
   "source": [
    "##  instance 메소드 (method)\n",
    "- 객체의 기능(객체가 제공하는 기능)\n",
    "- 함수와의 차이 : 메소드는 주로 instance변수(Attribute)의 값을 처리하는 역할.\n",
    "    - ex) 함수 : sorted(li), 메소드 : li.sort()\n",
    "- 구문 (함수구문과 **거의** 동일)\n",
    "```python\n",
    "def 이름(self [,매개변수, ...]): # 반드시 한개의 매개변수를 선언해야된 그것이~~~   **self**\n",
    "    # 구현부\n",
    "    # self를 이용해서 객체의 속성이나 메소드 호출.\n",
    "```\n",
    "- 메소드이름 관례는 함수/변수와 동일.\n",
    "    - snack 표기법 : 다 소문자로 주고 단어와 단어는 _ 로 연결.\n",
    "- self매개변수 : 메소드가 호출된 객체(instance)를 가리킨다.\n",
    "- 메소드 호출\n",
    "    - 객체.메소드이름(argument1 [,argument2, ...])\n",
    "    - argument1 -> 두번째 매개변수, argument2 -> 세번째 매개변수\n",
    "    "
   ]
  },
  {
   "cell_type": "code",
   "execution_count": 44,
   "metadata": {},
   "outputs": [],
   "source": [
    "# my_name = \"\"\n",
    "# myName = \"\"\n",
    "\n",
    "# def say_hello()\n",
    "# def sayHello() # 카멜표기법\n",
    "\n",
    "# def get_name()\n",
    "# def getName()"
   ]
  },
  {
   "cell_type": "code",
   "execution_count": 106,
   "metadata": {},
   "outputs": [],
   "source": [
    "class Person2:\n",
    "    \"\"\"\n",
    "    클래스에 대한 설명인 docstring\n",
    "    \"\"\"\n",
    "    # 생성자\n",
    "    def __init__(self, name, age, address=None):\n",
    "        self.name = name\n",
    "        self.age = age\n",
    "        self.address = address\n",
    "        \n",
    "    def print_info(self):\n",
    "        \"\"\"\n",
    "        모든 instance 변수의 값을 출력하는 메소드\n",
    "        \"\"\"\n",
    "        print(\"이름 : {0}, 나이 : {1}, 주소 : {2}\".format(self.name, self.age, self.address))\n",
    "        \n",
    "    def set_info(self, name, age, address=None):\n",
    "        \"\"\"\n",
    "        모든 instance 변수의 값들을 한번에 변경하는 메소드\n",
    "        [매개변수]\n",
    "            .....\n",
    "        \"\"\"\n",
    "        self.name = name\n",
    "        self.age = age\n",
    "        self.address = address\n",
    "        print(\"정보가 변경되었습니다.\")\n",
    "        \n",
    "    def add_age(self, add_age=0):\n",
    "        \"\"\"\n",
    "        나이에 매개변수로 받은 값을 더한 값으로 변경하는 메소드\n",
    "        [매개변수]\n",
    "            add_age : int - 더할 나이\n",
    "        \"\"\"\n",
    "        self.age += add_age\n",
    "        print(\"나이가 {0}추가되었습니다.\".format(add_age))"
   ]
  },
  {
   "cell_type": "code",
   "execution_count": 100,
   "metadata": {},
   "outputs": [],
   "source": [
    "p1 = Person2(\"윤우상\", 26, \"의정부시\")"
   ]
  },
  {
   "cell_type": "code",
   "execution_count": 114,
   "metadata": {},
   "outputs": [
    {
     "name": "stdout",
     "output_type": "stream",
     "text": [
      "Object `p1.print_info()` not found.\n"
     ]
    }
   ],
   "source": [
    "?p1.print_info()"
   ]
  },
  {
   "cell_type": "code",
   "execution_count": 101,
   "metadata": {},
   "outputs": [
    {
     "name": "stdout",
     "output_type": "stream",
     "text": [
      "이름 : 윤우상, 나이 : 26, 주소 : 의정부시\n"
     ]
    }
   ],
   "source": [
    "p1.print_info()"
   ]
  },
  {
   "cell_type": "code",
   "execution_count": 102,
   "metadata": {},
   "outputs": [
    {
     "name": "stdout",
     "output_type": "stream",
     "text": [
      "정보가 변경되었습니다.\n"
     ]
    }
   ],
   "source": [
    "p1.set_info(\"안남균\", 25)"
   ]
  },
  {
   "cell_type": "code",
   "execution_count": 103,
   "metadata": {},
   "outputs": [
    {
     "name": "stdout",
     "output_type": "stream",
     "text": [
      "이름 : 안남균, 나이 : 25, 주소 : None\n"
     ]
    }
   ],
   "source": [
    "p1.print_info()"
   ]
  },
  {
   "cell_type": "code",
   "execution_count": 104,
   "metadata": {},
   "outputs": [
    {
     "name": "stdout",
     "output_type": "stream",
     "text": [
      "나이가 0추가되었습니다.\n"
     ]
    }
   ],
   "source": [
    "p1.add_age()"
   ]
  },
  {
   "cell_type": "code",
   "execution_count": 105,
   "metadata": {},
   "outputs": [
    {
     "name": "stdout",
     "output_type": "stream",
     "text": [
      "이름 : 안남균, 나이 : 25, 주소 : None\n"
     ]
    }
   ],
   "source": [
    "p1.print_info()"
   ]
  },
  {
   "cell_type": "code",
   "execution_count": 116,
   "metadata": {},
   "outputs": [
    {
     "name": "stdout",
     "output_type": "stream",
     "text": [
      "이름 : 없는 이름, 나이 : -100, 주소 : None\n"
     ]
    }
   ],
   "source": [
    "p1.name = \"없는 이름\"\n",
    "p1.age = -100\n",
    "p1.print_info()"
   ]
  },
  {
   "cell_type": "markdown",
   "metadata": {},
   "source": [
    "## 정보 은닉 (information Hiding)\n",
    "- instance 변수(Attribute)의 값을 외부에서 직접 접근(호출- 변경/조회)하지 못하도록 막는다. (마음대로 바꾸지 못하게 하기위해)\n",
    "- 목적 : 마음대로 값을 변경하지 못하도록 한다.\n",
    "- instance 변수의 값을 변경(setter)/조회(getter)할 수 있는 메소드를 제공한다.\n",
    "    - setter : instance변수의 값을 변경하는 메소드. 관례상 set으로 시작.\n",
    "    - getter : instance변수의 값을 조회(반환)하는 메소드. 관례상 get으로 시작.\n",
    "- 구현\n",
    "    - instance변수의 이름을 `__`로 시작. ex) `self.__name`, `self.__age`\n",
    "    - getter/setter 메소드를 제공. ex) set_name(), get_age()\n",
    "```python\n",
    "class MyDate:\n",
    "    \n",
    "    def __init__(self, year, month, day):\n",
    "        self.__year = year\n",
    "        self.__month = month\n",
    "        self.__day = day\n",
    "        \n",
    "    def set_month(self, month):\n",
    "\n",
    "        if month >= 1 and month <= 12:\n",
    "            self.__month = month #__변수 : 같은 클래스 안에서는 호출 가능.\n",
    "        else:\n",
    "            print(\"{0}는 잘못된 월입니다. 1 ~ 12까지만 가능합니다.\".format(month))\n",
    "            \n",
    "    def get_month(self):\n",
    "\n",
    "        return self.__month\n",
    "    \n",
    "    # 변수명 = property(getter, setter)\n",
    "    외부에서 변수명으로 조회하면 getter \n",
    "    메소드를 변수에 값을 대입하면 setter메소드를 호출해준다.\n",
    "    # 변수 year의 값을 조회하면 get_year()      ex) print(today.year)\n",
    "    # 변수 year에 값을 대입하면 set_year(대입된 값)를 호출   ex) today.year = 100\n",
    "    month = property(get_month, set_month)\n",
    "````\n",
    "- property 간력화한 코드\n",
    "    - @property ---------------------getter\n",
    "    - @getter메소드의 이름.setter----setter\n",
    "    - getter 다음에 setter **반드시!!!!**\n",
    "```python\n",
    "  #year의 값을 반환하는 메소드 (getter)\n",
    "    @property\n",
    "    def year(self):\n",
    "      return self.__year\n",
    "  # year의 값을 변경하는 메소드(setter)\n",
    "    @year.setter\n",
    "    def year(self, year):\n",
    "        self__year = year\n",
    "```"
   ]
  },
  {
   "cell_type": "code",
   "execution_count": 164,
   "metadata": {},
   "outputs": [],
   "source": [
    "class MyDate:\n",
    "    \"\"\"\n",
    "    instance 변수로 년, 월, 일 (날짜)을 관리하는 클래스\n",
    "    \"\"\"\n",
    "    def __init__(self, year, month, day):\n",
    "        self.__year = year\n",
    "        self.__month = month\n",
    "        self.__day = day\n",
    "    def set_month(self, month):\n",
    "        \"\"\"\n",
    "        월을 변경하는 메소드\n",
    "        [매개변수]\n",
    "            month : int - 월 (범위: 1 ~ 12)\n",
    "        \"\"\"\n",
    "        if month >= 1 and month <= 12:\n",
    "            self.__month = month\n",
    "        else:\n",
    "            print(\"{0}는 잘못된 월입니다. 1 ~ 12까지만 가능합니다.\".format(month))\n",
    "    def get_month(self):\n",
    "        \"\"\"\n",
    "        instance변수 월을 반환하는 메소드\n",
    "        [반환값]\n",
    "            int : 월\n",
    "        \"\"\"\n",
    "        return self.__month"
   ]
  },
  {
   "cell_type": "code",
   "execution_count": 165,
   "metadata": {},
   "outputs": [],
   "source": [
    "date = MyDate(2021, 1, 13)"
   ]
  },
  {
   "cell_type": "code",
   "execution_count": 166,
   "metadata": {
    "scrolled": false
   },
   "outputs": [
    {
     "name": "stdout",
     "output_type": "stream",
     "text": [
      "1\n"
     ]
    }
   ],
   "source": [
    "print(date.get_month())"
   ]
  },
  {
   "cell_type": "code",
   "execution_count": 167,
   "metadata": {},
   "outputs": [],
   "source": [
    "date.set_month(5)"
   ]
  },
  {
   "cell_type": "code",
   "execution_count": 168,
   "metadata": {},
   "outputs": [
    {
     "name": "stdout",
     "output_type": "stream",
     "text": [
      "5\n"
     ]
    }
   ],
   "source": [
    "print(date.get_month())"
   ]
  },
  {
   "cell_type": "code",
   "execution_count": 169,
   "metadata": {},
   "outputs": [
    {
     "name": "stdout",
     "output_type": "stream",
     "text": [
      "1000는 잘못된 월입니다. 1 ~ 12까지만 가능합니다.\n"
     ]
    }
   ],
   "source": [
    "date.set_month(1000)"
   ]
  },
  {
   "cell_type": "code",
   "execution_count": 170,
   "metadata": {},
   "outputs": [
    {
     "name": "stdout",
     "output_type": "stream",
     "text": [
      "5\n"
     ]
    }
   ],
   "source": [
    "print(date.get_month())"
   ]
  },
  {
   "cell_type": "code",
   "execution_count": 182,
   "metadata": {},
   "outputs": [],
   "source": [
    "# date.__month()"
   ]
  },
  {
   "cell_type": "code",
   "execution_count": 179,
   "metadata": {},
   "outputs": [
    {
     "data": {
      "text/plain": [
       "{'_MyDate__year': 2021, '_MyDate__month': 10000, '_MyDate__day': 13}"
      ]
     },
     "execution_count": 179,
     "metadata": {},
     "output_type": "execute_result"
    }
   ],
   "source": [
    "# 객체.__dict__ # 객체의 instance변수들을 확인\n",
    "date.__dict__"
   ]
  },
  {
   "cell_type": "code",
   "execution_count": 180,
   "metadata": {},
   "outputs": [],
   "source": [
    "# __year => _MyDate__year\n",
    "# _클래스이름__변수이름 이렇게 바꿔줌"
   ]
  },
  {
   "cell_type": "code",
   "execution_count": 181,
   "metadata": {},
   "outputs": [],
   "source": [
    "date._MyDate__month = 10000"
   ]
  },
  {
   "cell_type": "code",
   "execution_count": 177,
   "metadata": {},
   "outputs": [
    {
     "data": {
      "text/plain": [
       "10000"
      ]
     },
     "execution_count": 177,
     "metadata": {},
     "output_type": "execute_result"
    }
   ],
   "source": [
    "date.get_month()"
   ]
  },
  {
   "cell_type": "code",
   "execution_count": 277,
   "metadata": {},
   "outputs": [],
   "source": [
    "class MyDate2:\n",
    "    \n",
    "    def __init__(self, year, month, day):\n",
    "        self.__year = year\n",
    "        self.__month = month\n",
    "        self.__day = day\n",
    "        print(\"정보가 입력되었습니다.\")\n",
    "        \n",
    "    def set_year(self, year):\n",
    "        print(\">>>> set_year\")\n",
    "        if year >= 2000:\n",
    "            self.__year = year\n",
    "        \n",
    "    def get_year(self):\n",
    "        print(\">>>> get_year\")\n",
    "        return self.__year\n",
    "    \n",
    "    def set_month(self, month):\n",
    "        print(\">>>> set_month\")\n",
    "        self.__month = month\n",
    "        \n",
    "    def get_month(self):\n",
    "        print(\">>>> get_month\")\n",
    "        return self.__month\n",
    "    \n",
    "    def set_day(self, day):\n",
    "        print(\">>>> set_day\")\n",
    "        self.__day = day\n",
    "        \n",
    "    def get_day(self):\n",
    "        print(\">>>> get_day\")\n",
    "        return self.__day\n",
    "    \n",
    "    # 변수명 = property(getter, setter)\n",
    "    # 외부에서 변수명으로 조회하면 getter \n",
    "    #메소드를 변수에 값을 대입하면 setter메소드를 호출해준다.\n",
    "    \n",
    "    year = property(get_year, set_year) \n",
    "    # 변수명 = property(getter, setter) -- 사용자를 편하게 쓸수 있도록 도와주는 메소드\n",
    "    # 변수 year의 값을 조회하면 get_year()      ex) print(today.year)\n",
    "    # 변수 year에 값을 대입하면 set_year(대입된 값)를 호출   ex) today.year = 100\n",
    "    \n",
    "    month = property(get_month, set_month)\n",
    "    day = property(get_day, set_day)"
   ]
  },
  {
   "cell_type": "code",
   "execution_count": 269,
   "metadata": {},
   "outputs": [
    {
     "name": "stdout",
     "output_type": "stream",
     "text": [
      "정보가 입력되었습니다.\n"
     ]
    }
   ],
   "source": [
    "today = MyDate2(2013, 1, 13)"
   ]
  },
  {
   "cell_type": "code",
   "execution_count": 270,
   "metadata": {},
   "outputs": [
    {
     "name": "stdout",
     "output_type": "stream",
     "text": [
      ">>>> get_year\n",
      "2013\n"
     ]
    }
   ],
   "source": [
    "print(today.year)"
   ]
  },
  {
   "cell_type": "code",
   "execution_count": 271,
   "metadata": {},
   "outputs": [
    {
     "name": "stdout",
     "output_type": "stream",
     "text": [
      ">>>> set_year\n"
     ]
    }
   ],
   "source": [
    "today.year = 2030"
   ]
  },
  {
   "cell_type": "code",
   "execution_count": 272,
   "metadata": {
    "scrolled": true
   },
   "outputs": [
    {
     "name": "stdout",
     "output_type": "stream",
     "text": [
      ">>>> get_year\n",
      "2030\n"
     ]
    }
   ],
   "source": [
    "print(today.year)"
   ]
  },
  {
   "cell_type": "code",
   "execution_count": 273,
   "metadata": {},
   "outputs": [
    {
     "name": "stdout",
     "output_type": "stream",
     "text": [
      ">>>> set_month\n",
      ">>>> set_day\n"
     ]
    }
   ],
   "source": [
    "today.month = 10\n",
    "today.day = 30"
   ]
  },
  {
   "cell_type": "code",
   "execution_count": 274,
   "metadata": {},
   "outputs": [
    {
     "name": "stdout",
     "output_type": "stream",
     "text": [
      ">>>> get_month\n",
      "10\n",
      ">>>> get_day\n",
      "30\n"
     ]
    }
   ],
   "source": [
    "print(today.month) # 월 출력 => 10\n",
    "print(today.day) #일 출력    => 30"
   ]
  },
  {
   "cell_type": "code",
   "execution_count": 275,
   "metadata": {
    "scrolled": true
   },
   "outputs": [
    {
     "data": {
      "text/plain": [
       "{'_MyDate2__year': 2030, '_MyDate2__month': 10, '_MyDate2__day': 30}"
      ]
     },
     "execution_count": 275,
     "metadata": {},
     "output_type": "execute_result"
    }
   ],
   "source": [
    "today.__dict__"
   ]
  },
  {
   "cell_type": "markdown",
   "metadata": {},
   "source": [
    "###  데코레이터(decorator)\n",
    "- setter/getter + property 변수를  지정하는 것을 setter/getter 메소드에 직접 설정.\n",
    "- 데코레이터(Decorator - 장식자) 이용 \n",
    "- 1. getter/setter 메소드의 이름을 호출될 떼 사용할 변수명으로 지정.\n",
    "- 2. getter메소드에 @property 데코레이터를 추가\n",
    "- 3. setter메소드에 @getter메소드의 이름.setter 데코레이터르 추가\n",
    "- 메소드 정의 순서는 반드시 getter를 먼저 정의해야 한다.\n",
    "- getter/setter 메소드명은 동일"
   ]
  },
  {
   "cell_type": "code",
   "execution_count": 319,
   "metadata": {},
   "outputs": [],
   "source": [
    "class MyDate3:\n",
    "\n",
    "    def __init__(self, year, month, day):\n",
    "        self.__year = year\n",
    "        self.__month = month\n",
    "        self.__day = day\n",
    "    \n",
    "    @property # year의 값을 반환하는 메소드 (getter)\n",
    "    def year(self):\n",
    "        return self.__year\n",
    "    \n",
    "    @year.setter# year의 값을 변경하는 메소드(setter)\n",
    "    def year(self, year):\n",
    "        self.__year = year\n",
    "        \n",
    "    @property\n",
    "    def month(self):\n",
    "        return self.__month\n",
    "    \n",
    "    @month.setter\n",
    "    def month(self, month):\n",
    "        self.__month = month\n",
    "        \n",
    "    @property\n",
    "    def day(self):\n",
    "        return self.__day\n",
    "    \n",
    "    @day.setter\n",
    "    def day(self, day):\n",
    "        self.__day = day"
   ]
  },
  {
   "cell_type": "code",
   "execution_count": 320,
   "metadata": {},
   "outputs": [
    {
     "name": "stdout",
     "output_type": "stream",
     "text": [
      "2021\n",
      "1\n",
      "13\n"
     ]
    }
   ],
   "source": [
    "today = MyDate3(2021, 1, 13)\n",
    "print(today.year)\n",
    "print(today.month)\n",
    "print(today.day)"
   ]
  },
  {
   "cell_type": "code",
   "execution_count": 321,
   "metadata": {},
   "outputs": [],
   "source": [
    "today.year = 1996\n",
    "today.month = 4\n",
    "today.day = 30"
   ]
  },
  {
   "cell_type": "code",
   "execution_count": 322,
   "metadata": {},
   "outputs": [
    {
     "name": "stdout",
     "output_type": "stream",
     "text": [
      "1996\n",
      "4\n",
      "30\n"
     ]
    }
   ],
   "source": [
    "print(today.year)\n",
    "print(today.month)\n",
    "print(today.day)"
   ]
  },
  {
   "cell_type": "code",
   "execution_count": null,
   "metadata": {},
   "outputs": [],
   "source": []
  },
  {
   "cell_type": "markdown",
   "metadata": {},
   "source": [
    "## TODO\n",
    "- 제품 클래스 구현\n",
    "- 속성 : 제품 ID : str, 제품이름 : str, 제품가격 : int, 제조사 :str\n",
    "    -정보은닉에 맞춰 작성. 값을 대입/조회 하는 것은 변수처리 방식으로 할 수 있도록.\n",
    "- 메소드 : 전체 정도를 출력하는 메소드\n",
    "\n",
    "메소드 : setter - 4개, getter - 4개, 전체정보 출력하는 메소드 - 1개"
   ]
  },
  {
   "cell_type": "code",
   "execution_count": null,
   "metadata": {},
   "outputs": [],
   "source": [
    "item = Item(\"id-1\", \"노트북\", 300000, \"삼성\")\n",
    "# id를 변경\n",
    "item.id = \"id-100\"\n",
    "# id를 조회\n",
    "print(item.id)"
   ]
  },
  {
   "cell_type": "code",
   "execution_count": null,
   "metadata": {},
   "outputs": [],
   "source": [
    "# 전체 정보 조회\n",
    "item.prin_all_info()"
   ]
  },
  {
   "cell_type": "code",
   "execution_count": 352,
   "metadata": {},
   "outputs": [],
   "source": [
    "class Item:\n",
    "    def __init__(self, id, name, price, maker):\n",
    "        self.__id = id\n",
    "        self.__name = name\n",
    "        self.__price = price\n",
    "        self.__maker = maker\n",
    "    \n",
    "    @property\n",
    "    def id(self):\n",
    "        return self.__id\n",
    "    @id.setter\n",
    "    def id(self, id):\n",
    "        self.__id = id\n",
    "        \n",
    "    @property\n",
    "    def name(self):\n",
    "        return self.__name\n",
    "    @name.setter\n",
    "    def name(self, name):\n",
    "        self.__name = name\n",
    "        \n",
    "    @property\n",
    "    def price(self):\n",
    "        return self.__price\n",
    "    @price.setter\n",
    "    def price(self, price):\n",
    "        self.__price = price\n",
    "        \n",
    "    @property\n",
    "    def maker(self):\n",
    "        return self.__maker\n",
    "    @maker.setter\n",
    "    def maker(self, maker):\n",
    "        self.__maker = maker\n",
    "        \n",
    "    def print_all_info(self):\n",
    "        print([self.__id, self.__name, self.__price, self.__maker])\n",
    "    "
   ]
  },
  {
   "cell_type": "code",
   "execution_count": 353,
   "metadata": {},
   "outputs": [],
   "source": [
    "item1 = Item(\"id-1\", \"노트북\", 300000, \"삼성\")"
   ]
  },
  {
   "cell_type": "code",
   "execution_count": 354,
   "metadata": {},
   "outputs": [
    {
     "name": "stdout",
     "output_type": "stream",
     "text": [
      "id-1\n",
      "노트북\n",
      "300000\n",
      "삼성\n",
      "['id-1', '노트북', 300000, '삼성']\n"
     ]
    }
   ],
   "source": [
    "print(item1.id)\n",
    "print(item1.name)\n",
    "print(item1.price)\n",
    "print(item1.maker)\n",
    "item1.print_all_info()"
   ]
  },
  {
   "cell_type": "code",
   "execution_count": 356,
   "metadata": {},
   "outputs": [],
   "source": [
    "item1.id =\"id-2\"\n",
    "item1.name =\"스마트폰\"\n",
    "item1.price =150000\n",
    "item1.maker =\"LG\""
   ]
  },
  {
   "cell_type": "code",
   "execution_count": 358,
   "metadata": {},
   "outputs": [
    {
     "name": "stdout",
     "output_type": "stream",
     "text": [
      "id-2\n",
      "스마트폰\n",
      "150000\n",
      "LG\n",
      "['id-2', '스마트폰', 150000, 'LG']\n"
     ]
    }
   ],
   "source": [
    "print(item1.id)\n",
    "print(item1.name)\n",
    "print(item1.price)\n",
    "print(item1.maker)\n",
    "item1.print_all_info()"
   ]
  },
  {
   "cell_type": "markdown",
   "metadata": {},
   "source": [
    "## 상속\n",
    "- 기존 클래스를 확장해서 새로운 클래스를 구현하는 방식.\n"
   ]
  },
  {
   "cell_type": "code",
   "execution_count": 20,
   "metadata": {},
   "outputs": [],
   "source": [
    "class Person:\n",
    "    \n",
    "    def eat(self):\n",
    "        print(\"사람이 먹는다.\") # 모든 학위클래스들에 적용될수 있는 구현!! -> 메소드의 구현이 추상적"
   ]
  },
  {
   "cell_type": "code",
   "execution_count": 21,
   "metadata": {},
   "outputs": [],
   "source": [
    "# eat(). study()\n",
    "# Person : 상위(Super) 클래스\n",
    "# Student : 하위(sub) 클래스\n",
    "class Student(Person):\n",
    "    \n",
    "    def study(self):\n",
    "        print(\"학생이 공부한다.\")"
   ]
  },
  {
   "cell_type": "code",
   "execution_count": 22,
   "metadata": {},
   "outputs": [],
   "source": [
    "class Teacher(Person):\n",
    "    \n",
    "    def teach(self):\n",
    "        print(\"선생이 가르친다.\")"
   ]
  },
  {
   "cell_type": "code",
   "execution_count": 23,
   "metadata": {},
   "outputs": [
    {
     "name": "stdout",
     "output_type": "stream",
     "text": [
      "학생이 공부한다.\n",
      "사람이 먹는다.\n"
     ]
    }
   ],
   "source": [
    "s = Student()\n",
    "s.study()\n",
    "s.eat()"
   ]
  },
  {
   "cell_type": "code",
   "execution_count": 24,
   "metadata": {},
   "outputs": [
    {
     "name": "stdout",
     "output_type": "stream",
     "text": [
      "선생이 가르친다.\n",
      "사람이 먹는다.\n"
     ]
    }
   ],
   "source": [
    "t = Teacher()\n",
    "t.teach()\n",
    "t.eat()"
   ]
  },
  {
   "cell_type": "code",
   "execution_count": 25,
   "metadata": {},
   "outputs": [],
   "source": [
    "# t.study()"
   ]
  },
  {
   "cell_type": "code",
   "execution_count": 28,
   "metadata": {},
   "outputs": [],
   "source": [
    "# 상속받은 메소드를 하위클래스에서 재정의할 수 있다. - 메소드 오버라이딩 (method overriding)\n",
    "# 상위클래스에 정의된 메소드는 추상적이므로 하위클래스에서 그 클래스가 해야 하는 동작에 맞게 구현을 재정의 하는 것.\n",
    "class Student2(Person):\n",
    "    \n",
    "    def eat(self):\n",
    "        print(\"학생이 먹는다.\")\n",
    "    \n",
    "    def study(self):\n",
    "        print(\"학생이 공부한다.\")"
   ]
  },
  {
   "cell_type": "code",
   "execution_count": 29,
   "metadata": {},
   "outputs": [
    {
     "name": "stdout",
     "output_type": "stream",
     "text": [
      "학생이 먹는다.\n",
      "학생이 공부한다.\n"
     ]
    }
   ],
   "source": [
    "s2 = Student2()\n",
    "s2.eat()\n",
    "s2.study()"
   ]
  },
  {
   "cell_type": "code",
   "execution_count": 289,
   "metadata": {},
   "outputs": [],
   "source": [
    "class Person:\n",
    "    \n",
    "    def __init__(self, name, age):\n",
    "        self.name = name\n",
    "        self.age = age\n",
    "        \n",
    "    def eat(self):\n",
    "        print(f\"{self.name}님이 먹는다.\")\n",
    "        \n",
    "    # 사람의 모든 instance 변수들의 값들(전체정보)를 묶어서 반환\n",
    "    def get_info(self):\n",
    "        return f\"이름 : {self.name}, 나이 : {self.age}세\"\n",
    "    \n",
    "    def __str__(self):\n",
    "        return f\"이름 : {self.name}, 나이 : {self.age}세\""
   ]
  },
  {
   "cell_type": "code",
   "execution_count": 290,
   "metadata": {
    "scrolled": true
   },
   "outputs": [
    {
     "name": "stdout",
     "output_type": "stream",
     "text": [
      "김영수님이 먹는다.\n",
      "이름 : 김영수, 나이 : 20세\n",
      "이름 : 김영수, 나이 : 20세\n"
     ]
    }
   ],
   "source": [
    "p = Person(\"김영수\", 20)\n",
    "p.eat()\n",
    "info = p.get_info()\n",
    "print(info)\n",
    "print(p)"
   ]
  },
  {
   "cell_type": "code",
   "execution_count": 291,
   "metadata": {},
   "outputs": [],
   "source": [
    "class Student(Person):\n",
    "    \n",
    "    def __init__(self, name, age, school_name):\n",
    "        # 상위클래스(Person)의 객체에 name과 age는 전달.\n",
    "        super().__init__(name, age)   # super ==> 상위 객체를 가르킨다.(부모 클래스에 있는 \"self\"을 가르키는 것)\n",
    "        \n",
    "        self.school_name = school_name # Student의 속성\n",
    "        \n",
    "    def study(self):\n",
    "        print(f\"학생 {self.name}이 공부한다.\")\n",
    "        \n",
    "    def get_info(self):  # 목적은 똑같으나 구현하는 방식이 다를 때 사용 => 오버라이딩(overriding)\n",
    "# #         info = super().get_info() + \"학교명 : {0}\".format(self.school_name)\n",
    "        return \"{0}, 학교명 : {1}\".format(super().get_info(), self.school_name)#, info\n",
    "\n",
    "    def __str__(self):\n",
    "        return \"{0}, 학교명 : {1}\".format(super().get_info(), self.school_name)#, info"
   ]
  },
  {
   "cell_type": "code",
   "execution_count": 292,
   "metadata": {},
   "outputs": [],
   "source": [
    "s = Student(\"박영철\", 15, \"A중학교\")"
   ]
  },
  {
   "cell_type": "code",
   "execution_count": 294,
   "metadata": {},
   "outputs": [
    {
     "name": "stdout",
     "output_type": "stream",
     "text": [
      "A중학교\n",
      "박영철 15 A중학교\n",
      "이름 : 박영철, 나이 : 15세, 학교명 : A중학교\n"
     ]
    }
   ],
   "source": [
    "print(s.school_name)\n",
    "print(s.name, s.age, s.school_name)\n",
    "print(s)"
   ]
  },
  {
   "cell_type": "code",
   "execution_count": 281,
   "metadata": {},
   "outputs": [
    {
     "name": "stdout",
     "output_type": "stream",
     "text": [
      "학생 박영철이 공부한다.\n"
     ]
    }
   ],
   "source": [
    "s.study()"
   ]
  },
  {
   "cell_type": "code",
   "execution_count": 282,
   "metadata": {},
   "outputs": [
    {
     "name": "stdout",
     "output_type": "stream",
     "text": [
      "박영철님이 먹는다.\n"
     ]
    }
   ],
   "source": [
    "s.eat()"
   ]
  },
  {
   "cell_type": "code",
   "execution_count": 283,
   "metadata": {},
   "outputs": [
    {
     "name": "stdout",
     "output_type": "stream",
     "text": [
      "이름 : 박영철, 나이 : 15세, 학교명 : A중학교\n",
      "이름 : 박영철, 나이 : 15세, 학교명 : A중학교\n"
     ]
    }
   ],
   "source": [
    "info = s.get_info()\n",
    "print(info)\n",
    "print(s)"
   ]
  },
  {
   "cell_type": "code",
   "execution_count": null,
   "metadata": {},
   "outputs": [],
   "source": []
  },
  {
   "cell_type": "code",
   "execution_count": 284,
   "metadata": {},
   "outputs": [
    {
     "name": "stdout",
     "output_type": "stream",
     "text": [
      "B중학교\n",
      "박학생 13 B중학교\n"
     ]
    }
   ],
   "source": [
    "s2 = Student(\"박학생\", 13, \"B중학교\")\n",
    "print(s2.school_name)\n",
    "print(s2.name, s2.age, s2.school_name)"
   ]
  },
  {
   "cell_type": "markdown",
   "metadata": {},
   "source": [
    "클래스이름() - Student(\"aa\", 20, \"aaa\") : 객체생성\n",
    "1. 객체를 만든다.\n",
    "    - 상속 : 상위 / 하위클래스의 객체를 모두 생성 - 상속으로 묶인다.\n",
    "2. 생성자 호출(`__init__`)\n",
    "    - 상속 : `super().__init__()`을 이용해 하위클래스의 생성자에서 상위클래스의 생성자들 호출할 수 있다.\n",
    "    - 위에서의 super().는 상위 객체(부모 클래스)를 뜻한다."
   ]
  },
  {
   "cell_type": "markdown",
   "metadata": {},
   "source": [
    "###  다중상속\n",
    "- 여러 클래스를 상속받는것.\n",
    "- MRO (Method Resolution Order) : 호출된 메소드를 찾는 순서\n",
    "    1. 자기자신\n",
    "    2. 상위 클래스 : 상속시 먼저 선언된 클래스 순서로 메소드를 찾는다. ([0] -> [1] ....)"
   ]
  },
  {
   "cell_type": "code",
   "execution_count": 150,
   "metadata": {},
   "outputs": [],
   "source": [
    "class Printer:\n",
    "    def print(self):\n",
    "        print(\"프린트 한다.\")\n",
    "    \n",
    "    def test(self):\n",
    "        print(\"프린트기능 테스트\")\n",
    "    \n",
    "class Saver:\n",
    "    def save(self):\n",
    "        print(\"저장한다.\")\n",
    "        \n",
    "    def test(self):\n",
    "        print(\"저장기능 테스트\")"
   ]
  },
  {
   "cell_type": "code",
   "execution_count": 151,
   "metadata": {},
   "outputs": [],
   "source": [
    "class WordProcessor(Printer, Saver):\n",
    "    \n",
    "    def write(self):\n",
    "        print(\"글을 작성한다.\")\n",
    "        \n",
    "    def test(self):\n",
    "        print(\"워드를 테스트한다\")"
   ]
  },
  {
   "cell_type": "code",
   "execution_count": 152,
   "metadata": {},
   "outputs": [
    {
     "name": "stdout",
     "output_type": "stream",
     "text": [
      "글을 작성한다.\n",
      "프린트 한다.\n",
      "저장한다.\n"
     ]
    }
   ],
   "source": [
    "wp = WordProcessor()\n",
    "wp.write() # WordProcessor\n",
    "wp.print() # Printer\n",
    "wp.save() # Saver"
   ]
  },
  {
   "cell_type": "code",
   "execution_count": 153,
   "metadata": {},
   "outputs": [
    {
     "name": "stdout",
     "output_type": "stream",
     "text": [
      "워드를 테스트한다\n"
     ]
    }
   ],
   "source": [
    "wp.test()"
   ]
  },
  {
   "cell_type": "markdown",
   "metadata": {},
   "source": [
    "## 상속 / 객체관련 메소드, 변수"
   ]
  },
  {
   "cell_type": "markdown",
   "metadata": {},
   "source": [
    "- class == type\n",
    "- instance == value"
   ]
  },
  {
   "cell_type": "code",
   "execution_count": 1,
   "metadata": {},
   "outputs": [
    {
     "data": {
      "text/plain": [
       "False"
      ]
     },
     "execution_count": 1,
     "metadata": {},
     "output_type": "execute_result"
    }
   ],
   "source": [
    "# isinstance(객체, 클래스) - 객체가 클래스로부터 생성되었는지 여부, 객체가 클래스의 데이터 타입인지?\n",
    "isinstance (\"abc\", int) # srr : 문자열 클래스"
   ]
  },
  {
   "cell_type": "code",
   "execution_count": 159,
   "metadata": {},
   "outputs": [
    {
     "data": {
      "text/plain": [
       "(True, False)"
      ]
     },
     "execution_count": 159,
     "metadata": {},
     "output_type": "execute_result"
    }
   ],
   "source": [
    "isinstance(30, int), isinstance(30, str)"
   ]
  },
  {
   "cell_type": "code",
   "execution_count": 157,
   "metadata": {},
   "outputs": [
    {
     "name": "stdout",
     "output_type": "stream",
     "text": [
      "<class 'str'>\n",
      "<class 'int'>\n"
     ]
    }
   ],
   "source": [
    "print(type(\"abc\"))\n",
    "print(type(20))"
   ]
  },
  {
   "cell_type": "code",
   "execution_count": 166,
   "metadata": {},
   "outputs": [],
   "source": [
    "def test(var): # 매개변수 var의 타입이 int\n",
    "#     if isinstance(var, int):\n",
    "    if type(var) == int:\n",
    "        print(var + 20)\n",
    "    else:\n",
    "        print(\"정수만 가능\")"
   ]
  },
  {
   "cell_type": "code",
   "execution_count": 167,
   "metadata": {
    "scrolled": true
   },
   "outputs": [
    {
     "name": "stdout",
     "output_type": "stream",
     "text": [
      "정수만 가능\n",
      "30\n"
     ]
    }
   ],
   "source": [
    "test(\"fs\")\n",
    "test(10)"
   ]
  },
  {
   "cell_type": "code",
   "execution_count": 173,
   "metadata": {},
   "outputs": [
    {
     "data": {
      "text/plain": [
       "(True, False)"
      ]
     },
     "execution_count": 173,
     "metadata": {},
     "output_type": "execute_result"
    }
   ],
   "source": [
    "p = Student(\"a\", 20, \"c\")\n",
    "isinstance(p, Student), isinstance(p, WordProcessor)"
   ]
  },
  {
   "cell_type": "code",
   "execution_count": 168,
   "metadata": {},
   "outputs": [],
   "source": [
    "wp = WordProcessor()"
   ]
  },
  {
   "cell_type": "code",
   "execution_count": 171,
   "metadata": {},
   "outputs": [
    {
     "data": {
      "text/plain": [
       "True"
      ]
     },
     "execution_count": 171,
     "metadata": {},
     "output_type": "execute_result"
    }
   ],
   "source": [
    "isinstance(wp, WordProcessor)"
   ]
  },
  {
   "cell_type": "code",
   "execution_count": 175,
   "metadata": {
    "scrolled": true
   },
   "outputs": [
    {
     "data": {
      "text/plain": [
       "(True, True)"
      ]
     },
     "execution_count": 175,
     "metadata": {},
     "output_type": "execute_result"
    }
   ],
   "source": [
    "isinstance(wp, Saver), isinstance(wp, Printer)"
   ]
  },
  {
   "cell_type": "markdown",
   "metadata": {},
   "source": [
    "##  isinstance\n",
    "\n",
    "- 객체의 타입을 뭏어보는 메소드\n",
    "- 객체 타입 : 생성할 때 사용한 클래스, 상위 클래스\n",
    "- wp 객체의 타입 : WordProcessor, saver, printer"
   ]
  },
  {
   "cell_type": "code",
   "execution_count": 178,
   "metadata": {},
   "outputs": [],
   "source": [
    "# 객체.__dict__ : 객체의 속성정보를 dictionary로 반환(key - 속성명, value - 속성값) => 객체 =(변환)=> 딕셔너리"
   ]
  },
  {
   "cell_type": "code",
   "execution_count": 182,
   "metadata": {},
   "outputs": [
    {
     "data": {
      "text/plain": [
       "{'name': 'a', 'age': 20, 'school_name': 'c'}"
      ]
     },
     "execution_count": 182,
     "metadata": {},
     "output_type": "execute_result"
    }
   ],
   "source": [
    "p.__dict__ # 상위객체 / 하위객체의 속성들을 모두 넣어서 변환."
   ]
  },
  {
   "cell_type": "code",
   "execution_count": 183,
   "metadata": {},
   "outputs": [
    {
     "data": {
      "text/plain": [
       "__main__.Student"
      ]
     },
     "execution_count": 183,
     "metadata": {},
     "output_type": "execute_result"
    }
   ],
   "source": [
    "p.__class__ #클래스 이름 반환  __main__.Student 모듈.클래스이름"
   ]
  },
  {
   "cell_type": "code",
   "execution_count": null,
   "metadata": {},
   "outputs": [],
   "source": []
  },
  {
   "cell_type": "code",
   "execution_count": 2,
   "metadata": {},
   "outputs": [],
   "source": [
    "class Person:\n",
    "    \n",
    "    def __init__(self, name, age):\n",
    "        self.name = name\n",
    "        self.age = age\n",
    "        \n",
    "    def __str__(self): # 값들을 한번에 확인할 때 사용 유용해~~~~~~~~**************\n",
    "        \"\"\"\n",
    "        객체를 문자열로 변환하는 메소드\n",
    "        내장함수 str(**객체**) 과 연동   ==>  **객체**를 문자열로 반환한다.\n",
    "        [반환값]\n",
    "            str : 객체의 정보(데이터)들을 묶어서 반환 => instance 변수들\n",
    "        \"\"\"\n",
    "        return f\"이름 : {self.name}, 나이 : {self.age}\"\n",
    "        #결과값 : [이름 : 홍길동, 나이 : 20]\n",
    "#         return self.name, self.age\n",
    "\n",
    "    def __repr__(self):\n",
    "        \n",
    "        \"\"\"\n",
    "        객체를 표현하는 표현식을 문자열로 만들어 반환.\n",
    "        내장함수 repr(객체)와 연동\n",
    "        [반환값]\n",
    "            str : 객체 생성했던 코드를 문자열로 반환.\n",
    "        \"\"\"\n",
    "        \n",
    "        return f'Person(\"{self.name}\", {self.age})'\n",
    "    \n",
    "    ######연산자 재정의 이런 객체들을 통해서 원래는 가능은 하지만 그것의 기능을 원하는대로 구현이 가능하다#######\n",
    "    def __eq__(self, other):  # 호출 ex)  p1 == p2\n",
    "        \n",
    "        \"\"\"\n",
    "        '==' 연산자를 재정의. 객체의 instance변수들의 값이 같으면 True가 나오도록 정의\n",
    "        객체1 == 객체2 self :  객체1, other : 객체2\n",
    "        \"\"\"\n",
    "        \n",
    "        result = False\n",
    "        if isinstance(other, Person):\n",
    "            if self.name==other.name:# and self.age==other.age:\n",
    "                result = True\n",
    "        \n",
    "        return result\n",
    "    \n",
    "    def __gt__(self, other):\n",
    "        \"\"\"\n",
    "        '>' 연산자를 재정의\n",
    "        객체1 > 객체2 : self(객체1), other(객체2)\n",
    "        \"\"\"\n",
    "        result = False\n",
    "        if isinstance(other, Person):\n",
    "            # 나이크기\n",
    "            if self.age > other.age:\n",
    "                result = True\n",
    "            elif isinstance(other, int):\n",
    "                self.age = other\n",
    "            return result\n",
    "        \n",
    "#         __eq__(self, other) : self < other\n",
    "#         __gt__(self, other) : self < other\n",
    "#         __lt__(self, other) : self < other\n",
    "#         __ge__(self, other) : self >= other\n",
    "#         __le__(self, other) : self <= other\n",
    "#         __ne__(self, other) : self != other\n",
    "\n",
    "\n",
    "## 산술 연산 메소드 재정의\n",
    "    def __add__(self, other):\n",
    "        \"\"\"\n",
    "        \"+\" 연산을 재정의\n",
    "        객체1 + 객체2 \n",
    "        \"\"\"\n",
    "        # 정수를 받아서 나이와 더한 값을 반환\n",
    "        result = None\n",
    "        if isinstance(other, int):\n",
    "            result = self.age + other\n",
    "        elif isinstance(other, Person):\n",
    "            result = self.age + other.age\n",
    "        return result\n",
    "    \n",
    "#         __sub__(self, other): self - other\n",
    "#         __mul__(self, other): self * other\n",
    "#         __truediv__(self, other): self / other\n",
    "#         __floordiv__(self, other): self // other\n",
    "#         __mod__(self, other): self % o her"
   ]
  },
  {
   "cell_type": "code",
   "execution_count": 353,
   "metadata": {},
   "outputs": [],
   "source": [
    "p1 = Person(\"홍길동\", 20)\n",
    "p2 = Person(\"이순신\", 30)"
   ]
  },
  {
   "cell_type": "code",
   "execution_count": 354,
   "metadata": {},
   "outputs": [
    {
     "data": {
      "text/plain": [
       "40"
      ]
     },
     "execution_count": 354,
     "metadata": {},
     "output_type": "execute_result"
    }
   ],
   "source": [
    "p1 + 20"
   ]
  },
  {
   "cell_type": "code",
   "execution_count": 355,
   "metadata": {},
   "outputs": [
    {
     "data": {
      "text/plain": [
       "50"
      ]
     },
     "execution_count": 355,
     "metadata": {},
     "output_type": "execute_result"
    }
   ],
   "source": [
    "p1 + p2"
   ]
  },
  {
   "cell_type": "code",
   "execution_count": 356,
   "metadata": {},
   "outputs": [
    {
     "data": {
      "text/plain": [
       "False"
      ]
     },
     "execution_count": 356,
     "metadata": {},
     "output_type": "execute_result"
    }
   ],
   "source": [
    "p1 > p2"
   ]
  },
  {
   "cell_type": "code",
   "execution_count": 337,
   "metadata": {},
   "outputs": [
    {
     "data": {
      "text/plain": [
       "True"
      ]
     },
     "execution_count": 337,
     "metadata": {},
     "output_type": "execute_result"
    }
   ],
   "source": [
    "p1 == p2"
   ]
  },
  {
   "cell_type": "code",
   "execution_count": 325,
   "metadata": {},
   "outputs": [],
   "source": [
    "p = Person(\"홍길동\", 20)\n",
    "p2 = Person(\"박영수\", 50)"
   ]
  },
  {
   "cell_type": "code",
   "execution_count": 326,
   "metadata": {},
   "outputs": [
    {
     "name": "stdout",
     "output_type": "stream",
     "text": [
      "이름 : 홍길동, 나이 : 20\n"
     ]
    }
   ],
   "source": [
    "print(p) # print() 함수가 내부에서 str() - 매개변수로 전달된 값을 문자열로 출력하는 함수"
   ]
  },
  {
   "cell_type": "code",
   "execution_count": 327,
   "metadata": {},
   "outputs": [
    {
     "name": "stdout",
     "output_type": "stream",
     "text": [
      "Person(\"홍길동\", 20)\n"
     ]
    }
   ],
   "source": [
    "r = repr(p) #p.__repr__\n",
    "print(r)"
   ]
  },
  {
   "cell_type": "code",
   "execution_count": 328,
   "metadata": {},
   "outputs": [
    {
     "data": {
      "text/plain": [
       "2"
      ]
     },
     "execution_count": 328,
     "metadata": {},
     "output_type": "execute_result"
    }
   ],
   "source": [
    "eval(\"1+1\") # eval(\"파이썬 코드\") : 파이썬 코드로 실행"
   ]
  },
  {
   "cell_type": "code",
   "execution_count": 329,
   "metadata": {},
   "outputs": [
    {
     "data": {
      "text/plain": [
       "'홍길동'"
      ]
     },
     "execution_count": 329,
     "metadata": {},
     "output_type": "execute_result"
    }
   ],
   "source": [
    "# 'Person(\"홍길동\", 20)' 문자열이 파이썬 코드로 실행 => Person객체 생거\n",
    "a = eval(r) # eval(문자열) : 문자열을 코드로 평가해서 실행\n",
    "a.name"
   ]
  },
  {
   "cell_type": "code",
   "execution_count": 330,
   "metadata": {},
   "outputs": [
    {
     "name": "stdout",
     "output_type": "stream",
     "text": [
      "이름 : 홍길동, 나이 : 20\n"
     ]
    }
   ],
   "source": [
    "print(p) # print() 함수가 내부에서 str() - 매개변수로 전달된 값을 문자열로 출력하는 함수"
   ]
  },
  {
   "cell_type": "code",
   "execution_count": 331,
   "metadata": {
    "scrolled": true
   },
   "outputs": [
    {
     "name": "stdout",
     "output_type": "stream",
     "text": [
      "Person(\"박영수\", 50)\n"
     ]
    }
   ],
   "source": [
    "print(repr(p2))"
   ]
  },
  {
   "cell_type": "code",
   "execution_count": 332,
   "metadata": {},
   "outputs": [
    {
     "name": "stdout",
     "output_type": "stream",
     "text": [
      "안녕\n"
     ]
    }
   ],
   "source": [
    "print(\"안녕\") # str(\"안녕\")"
   ]
  },
  {
   "cell_type": "code",
   "execution_count": 333,
   "metadata": {},
   "outputs": [
    {
     "data": {
      "text/plain": [
       "'안녕'"
      ]
     },
     "execution_count": 333,
     "metadata": {},
     "output_type": "execute_result"
    }
   ],
   "source": [
    "'안녕' # __repr__('안녕')"
   ]
  },
  {
   "cell_type": "markdown",
   "metadata": {},
   "source": [
    "### 특수 메소드 (연산)"
   ]
  },
  {
   "cell_type": "code",
   "execution_count": 334,
   "metadata": {},
   "outputs": [],
   "source": [
    "p1 = Person(\"홍길동\", 20)\n",
    "p2 = Person(\"홍길동\", 20)\n",
    "p3 = p1"
   ]
  },
  {
   "cell_type": "code",
   "execution_count": 335,
   "metadata": {},
   "outputs": [
    {
     "data": {
      "text/plain": [
       "True"
      ]
     },
     "execution_count": 335,
     "metadata": {},
     "output_type": "execute_result"
    }
   ],
   "source": [
    "# 객체 == 객체 (둘이 동일한 객체인지)\n",
    "p1 == p2"
   ]
  },
  {
   "cell_type": "code",
   "execution_count": 336,
   "metadata": {
    "scrolled": true
   },
   "outputs": [
    {
     "data": {
      "text/plain": [
       "False"
      ]
     },
     "execution_count": 336,
     "metadata": {},
     "output_type": "execute_result"
    }
   ],
   "source": [
    "p1 != p2"
   ]
  },
  {
   "cell_type": "markdown",
   "metadata": {},
   "source": [
    "##  Class 변수, Class 메소드\n",
    "- class 변수 : 클래스 자체의 변수(속성, 데이터), class 메소드 : 클래스 변수를 처리하는 메소드\n",
    "    - instance(객체)와는 관계없다.\n",
    "\n",
    "## Static(정적) 메소드\n",
    "- 클래스의 기능을 제공하는 메소드\n",
    "    - 클래스 변수들 처리하는 일을 하지 않는다."
   ]
  },
  {
   "cell_type": "code",
   "execution_count": 14,
   "metadata": {},
   "outputs": [],
   "source": [
    "class Calculator:\n",
    "    \"\"\" 다양한 연산을 하는 메소드들을 묶어놓은 클래스\"\"\"\n",
    "    # 클래스 변수 : PI\n",
    "    PI = 3.14\n",
    "    \n",
    "    # 반지름을 받아서 원에 넓이를 구하는 메소드 생성\n",
    "    @classmethod\n",
    "    def circleArea(clazz, radius): # class를 clzz or clazz, clz이런 변수명으로 사용\n",
    "        result = radius * radius * clazz.PI\n",
    "        return result\n",
    "    \n",
    "    @staticmethod\n",
    "    def plus(*args):\n",
    "        return sum(args)\n",
    "    \n",
    "    @staticmethod\n",
    "    def minus(n1, n2):\n",
    "#         print(Calculator.PI) -> 이런 경우는 class메소드로 만드는 것이 맞다.\n",
    "        return n1 - n2"
   ]
  },
  {
   "cell_type": "code",
   "execution_count": 15,
   "metadata": {},
   "outputs": [
    {
     "data": {
      "text/plain": [
       "3.14"
      ]
     },
     "execution_count": 15,
     "metadata": {},
     "output_type": "execute_result"
    }
   ],
   "source": [
    "Calculator.PI # 클래스 변수/메소드 호출 : 클래스이름.변수명, 클래스이름.메소드()"
   ]
  },
  {
   "cell_type": "code",
   "execution_count": 16,
   "metadata": {},
   "outputs": [
    {
     "data": {
      "text/plain": [
       "314.0"
      ]
     },
     "execution_count": 16,
     "metadata": {},
     "output_type": "execute_result"
    }
   ],
   "source": [
    "Calculator.circleArea(10)"
   ]
  },
  {
   "cell_type": "code",
   "execution_count": 17,
   "metadata": {},
   "outputs": [
    {
     "data": {
      "text/plain": [
       "15"
      ]
     },
     "execution_count": 17,
     "metadata": {},
     "output_type": "execute_result"
    }
   ],
   "source": [
    "Calculator.plus(1, 2, 3, 4, 5) # static메소드 호출 : 클래스이름.메소드()"
   ]
  },
  {
   "cell_type": "code",
   "execution_count": 18,
   "metadata": {},
   "outputs": [
    {
     "name": "stdout",
     "output_type": "stream",
     "text": [
      "3.14\n"
     ]
    },
    {
     "data": {
      "text/plain": [
       "5"
      ]
     },
     "execution_count": 18,
     "metadata": {},
     "output_type": "execute_result"
    }
   ],
   "source": [
    "Calculator.minus(10, 5)"
   ]
  },
  {
   "cell_type": "code",
   "execution_count": 19,
   "metadata": {},
   "outputs": [],
   "source": [
    "# script 전체실행코드를 작성하고 한번에 실행.\n",
    "# 코드를 작성 => text에디터\n",
    "# 파일 : 파일명.py => 실행 python 파일명.py (터미널, 명령프롬프트)"
   ]
  },
  {
   "cell_type": "code",
   "execution_count": null,
   "metadata": {
    "scrolled": true
   },
   "outputs": [],
   "source": []
  },
  {
   "cell_type": "code",
   "execution_count": null,
   "metadata": {},
   "outputs": [],
   "source": []
  },
  {
   "cell_type": "code",
   "execution_count": null,
   "metadata": {},
   "outputs": [],
   "source": []
  },
  {
   "cell_type": "code",
   "execution_count": null,
   "metadata": {},
   "outputs": [],
   "source": []
  },
  {
   "cell_type": "code",
   "execution_count": null,
   "metadata": {},
   "outputs": [],
   "source": []
  },
  {
   "cell_type": "code",
   "execution_count": null,
   "metadata": {},
   "outputs": [],
   "source": []
  },
  {
   "cell_type": "code",
   "execution_count": null,
   "metadata": {},
   "outputs": [],
   "source": []
  },
  {
   "cell_type": "code",
   "execution_count": null,
   "metadata": {},
   "outputs": [],
   "source": []
  },
  {
   "cell_type": "code",
   "execution_count": null,
   "metadata": {},
   "outputs": [],
   "source": []
  },
  {
   "cell_type": "code",
   "execution_count": null,
   "metadata": {},
   "outputs": [],
   "source": []
  },
  {
   "cell_type": "code",
   "execution_count": null,
   "metadata": {},
   "outputs": [],
   "source": []
  },
  {
   "cell_type": "code",
   "execution_count": null,
   "metadata": {},
   "outputs": [],
   "source": []
  },
  {
   "cell_type": "code",
   "execution_count": null,
   "metadata": {},
   "outputs": [],
   "source": []
  },
  {
   "cell_type": "code",
   "execution_count": null,
   "metadata": {},
   "outputs": [],
   "source": []
  },
  {
   "cell_type": "code",
   "execution_count": null,
   "metadata": {},
   "outputs": [],
   "source": []
  },
  {
   "cell_type": "code",
   "execution_count": null,
   "metadata": {},
   "outputs": [],
   "source": []
  },
  {
   "cell_type": "code",
   "execution_count": null,
   "metadata": {},
   "outputs": [],
   "source": []
  },
  {
   "cell_type": "code",
   "execution_count": null,
   "metadata": {},
   "outputs": [],
   "source": []
  }
 ],
 "metadata": {
  "kernelspec": {
   "display_name": "Python 3",
   "language": "python",
   "name": "python3"
  },
  "language_info": {
   "codemirror_mode": {
    "name": "ipython",
    "version": 3
   },
   "file_extension": ".py",
   "mimetype": "text/x-python",
   "name": "python",
   "nbconvert_exporter": "python",
   "pygments_lexer": "ipython3",
   "version": "3.8.5"
  }
 },
 "nbformat": 4,
 "nbformat_minor": 4
}
