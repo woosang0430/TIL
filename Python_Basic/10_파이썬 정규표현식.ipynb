{
 "cells": [
  {
   "cell_type": "code",
   "execution_count": 1,
   "metadata": {},
   "outputs": [
    {
     "data": {
      "text/plain": [
       "True"
      ]
     },
     "execution_count": 1,
     "metadata": {},
     "output_type": "execute_result"
    }
   ],
   "source": [
    "tel = \"010-111-2222\" #2222가 있는지 찾고 싶음\n",
    "\"2222\" in tel"
   ]
  },
  {
   "cell_type": "code",
   "execution_count": 7,
   "metadata": {},
   "outputs": [],
   "source": [
    "# 111 => ###\n",
    "tel.replace(\"111\", \"###\")\n",
    "\n",
    "tels = \"\"\"\n",
    "010-111-2222\n",
    "010-333-2323\n",
    "010-4212-1020\n",
    "\"\"\""
   ]
  },
  {
   "cell_type": "code",
   "execution_count": 10,
   "metadata": {
    "scrolled": true
   },
   "outputs": [
    {
     "name": "stdout",
     "output_type": "stream",
     "text": [
      "\n",
      "010-###-2222\n",
      "010-333-2323\n",
      "010-4212-1020\n",
      "\n"
     ]
    }
   ],
   "source": [
    "print(tels.replace(\"111\", \"###\")) # 가운데 그룹의 숫자들을 ###로 바꿔"
   ]
  },
  {
   "cell_type": "markdown",
   "metadata": {
    "slideshow": {
     "slide_type": "slide"
    }
   },
   "source": [
    "# <font size=50>정규 표현식 (Regular Expression)</font>"
   ]
  },
  {
   "cell_type": "markdown",
   "metadata": {
    "slideshow": {
     "slide_type": "slide"
    }
   },
   "source": [
    "# 1. 정규 표현식(Regular Expression) 개요"
   ]
  },
  {
   "cell_type": "markdown",
   "metadata": {
    "slideshow": {
     "slide_type": "subslide"
    }
   },
   "source": [
    "## 1.1. 정규 표현식이란\n",
    "- 텍스트에서 특정한 형태나 규칙을 가지는 문자열을 찾기 위해 그 형태나 **규칙을 정의**하는 것.\n",
    "- 파이썬 뿐만 아니라 문자열을 다루는 모든 곳에서 사용된다.\n",
    "- **정규식, Regexp**이라고도 한다.\n",
    "- 특정 패턴을 가지는 문자열을 찾기 위한 방식"
   ]
  },
  {
   "cell_type": "markdown",
   "metadata": {
    "slideshow": {
     "slide_type": "fragment"
    }
   },
   "source": [
    "## 1.2. 기본개념\n",
    "- 패턴 \n",
    "    - 정규 표현식이라고 한다.\n",
    "    - 문장내에서 찾기위한 문구의 형태에 대한 표현식.\n",
    "- **메타문자**\n",
    "    - **패턴**을 기술하기 위해 사용되는 특별한 의미를 가지는 문자\n",
    "    - 예) `a*` : a가 0회 이상 반복을 뜻한다. a, aa, aaaa\n",
    "        - ex) ``a*`` => 정규 표현식\n",
    "            - `a` : 리터럴 - 찾으려는 대상 `a`\n",
    "            - `*` : 메타문자 - 앞의 글가자 0글자 이상 반복\n",
    "- 리터럴\n",
    "    - 표현식이 값 자체를 의미하는 것\n",
    "    - 예) `a`는 `a` 자체를 의미한다.    "
   ]
  },
  {
   "cell_type": "markdown",
   "metadata": {
    "slideshow": {
     "slide_type": "slide"
    }
   },
   "source": [
    "# 2. 정규 표현식 메타 문자\n",
    "- 패턴을 기술하기 위한 문자"
   ]
  },
  {
   "cell_type": "markdown",
   "metadata": {
    "slideshow": {
     "slide_type": "subslide"
    }
   },
   "source": [
    "## 2.1 문자 클래스 :  [  ]\n",
    "- `[ ]` 사이의 문자들과 매칭\n",
    "    - `[abc]` : a, b, c 중 **하나의 문자**와 매치\n",
    "- `-`를 이용해 범위로 설정할 수 있다.\n",
    "    - `[a-z]` : 알파벳소문자중 하나의 문자와 매치\n",
    "    - `[a-zA-Z0-9]` : 알파벳대소문자와 숫자 중 하나의 문자와 매치\n",
    "- `[^패턴]` : ^ 으로 시작하는 경우 **반대**의 의미 (패턴을 **제외**하고)\n",
    "    - `[^abc]` : a, b, c를 제외한 나머지 문자들 중 하나와 매치.\n",
    "    - `[^a-z]` : 알파벳 소문자를 제외한 나머지 문자들 중 하나와 매치\n",
    "    - **`^`** 대괄호 안 or 밖에 있는 것에 차이가 있음\n",
    "- 한글 정규 표현식\n",
    "    - `[가-힣]` => 모든 한글 다 찾는다.(자음만은 못참음)"
   ]
  },
  {
   "cell_type": "markdown",
   "metadata": {
    "slideshow": {
     "slide_type": "subslide"
    }
   },
   "source": [
    "## 2.2 미리 정의된 문자 클래스\n",
    "- 자주 사용되는 문자클래스를 미리 정의된 별도 표기법으로 제공한다.\n",
    "- `\\d` : 숫자와 매치. [0-9]와 동일\n",
    "- `\\D` : `\\d`의 반대. 숫자가 아닌 문자와 매치.  [^0-9]와 동일\n",
    "- `\\w` : 문자와 숫자, _(underscore)와 매치. `[a-zA-Z0-9_]`와 동일. 한글 등 다국어 문자 포함\n",
    "- `\\W` : `\\w`의 반대. 문자와 숫자와 _ 가 아닌 문자와 매치.  `[^a-zA-Z0-9_]`와 동일 **주로 공백문자**\n",
    "- `\\s` : 공백문자와 매치. tab,줄바꿈,공백문자와 일치\n",
    "- `\\S` : `\\s`와 반대. 공백을 제외한 문자열과 매치.\n",
    "- `\\b` : 단어 경계(word boundary) 표시. 보통 단어 경계로 공백을 의미\n",
    "    - `\\b가족\\b` => 우리 가족 만세(O), 우리가족만세 (X)\n",
    "- `\\B` : `\\b`의 반대. 단어 경계로 구분된 단어가 아닌 경우\n",
    "    - `\\B가족\\B` => 우리 가족 만세(X), 우리가족만세 (O)"
   ]
  },
  {
   "cell_type": "markdown",
   "metadata": {
    "slideshow": {
     "slide_type": "subslide"
    }
   },
   "source": [
    "## 2.3. 글자수와 관련된 메타문자\n",
    "- `.` : 한개의 모든 문자(\\n-줄바꿈 제외) (`a.b`)\n",
    "- `*` : 앞의 문자(패턴)과 일치하는 문자가 0개 이상인 경우. (`a*b`) => \"b,\", \"ab', \"aaaab\"\n",
    "- `+` : 앞의 문자(패턴)과 일치하는 문자가 1개이상인 경우.  (`a+b`) \n",
    "- `?` :  앞의 문자(패턴)과 일치하는 문자가 한개 있거나 없는 경우. (`a?b`) => \"b\", \"ab\"\n",
    "- `{m}` : 앞의 문자(패턴)가 m개. (`a{3}b`) => \"aaab\"\n",
    "- `{m,}` : 앞의 문자(패턴)이 m개 이상. (`a{3,}b`) \n",
    "    - , 뒤에 공백이 들어오지 않도록 한다.\n",
    "- `{m,n}` : 앞의 문자(패턴)이 m개이상 n개 이하. (`a{2,5}b`)    \n",
    "- `.`, `*`, `+`, `?` 를 리터럴로 표현할 경우 `\\`를 붙인다."
   ]
  },
  {
   "cell_type": "code",
   "execution_count": null,
   "metadata": {},
   "outputs": [],
   "source": [
    "\"a*b\" # b앞에 a가 0글자 이상 오는 패던\n",
    "\"b\", \"ab\", \"aaaaaab\"\n",
    "\"a+b\" # b앞에 a가 1글자 이상 오는 패턴\n",
    "\"ab\", \"aaab\", \"b\"(x)\n",
    "\"a?b\" #b앞에 a가 오거나 안오거나 하는 패턴 (한글자만)\n",
    "\"b\". \"ab\", \"aab\"(X)\n",
    "\n",
    "r\"\\.\\\" or \"\\\\.\""
   ]
  },
  {
   "cell_type": "markdown",
   "metadata": {
    "ExecuteTime": {
     "end_time": "2019-05-15T10:08:16.413433Z",
     "start_time": "2019-05-15T10:08:16.407394Z"
    },
    "slideshow": {
     "slide_type": "subslide"
    }
   },
   "source": [
    "## 2.4. 문장의 시작과 끝 표현\n",
    "- `^` 문자열의 시작 (`^abc`) abc로 시작\n",
    "    - 문자 클래스([ ])의 ^와는 의미가 다르다.\n",
    "- `$` : 문자열의 끝 (`abc$`) abc로 끝난다."
   ]
  },
  {
   "cell_type": "markdown",
   "metadata": {
    "ExecuteTime": {
     "end_time": "2019-05-15T10:08:16.413433Z",
     "start_time": "2019-05-15T10:08:16.407394Z"
    },
    "slideshow": {
     "slide_type": "fragment"
    }
   },
   "source": [
    "## 2.5. 기타\n",
    "- `|` : 둘중 하나 (**OR**) (010|011|016|019)\n",
    "    - ( )로 묶어서 사용한다. \n",
    "    - 010|016-111 : 010 또는 016-111 이 된다. \n",
    "- `(  )` : 패턴내 하위그룹을 만들때 사용\n",
    "    - (xxx)-(xxxx)-(xxxx)"
   ]
  },
  {
   "cell_type": "markdown",
   "metadata": {
    "slideshow": {
     "slide_type": "slide"
    }
   },
   "source": [
    "# 3. re 모듈\n",
    "- 파이썬에서 정규 표현식을 지원하기 위한 모듈\n",
    "- 파이썬 기본 라이브러리"
   ]
  },
  {
   "cell_type": "markdown",
   "metadata": {
    "slideshow": {
     "slide_type": "subslide"
    }
   },
   "source": [
    "## 3.1 코딩패턴\n",
    "1. 모듈 import\n",
    "    - import re\n",
    "2. 패턴 객체 생성\n",
    "    - 패턴 컴파일\n",
    "    - 패턴을 가지고 있는 객체 생성\n",
    "3. 텍스트에서 패턴 문자열 검색또는 변경 작업\n",
    "\n",
    "> ### raw string\n",
    "> - 패턴을 지정하는 문자열 앞에 r 표시구분자(**접두어**)를 붙인 것을 말한다.\n",
    "> - `\\`를 일반문자로 처리\n",
    ">    - `re.compile('\\b가족\\b')` : `\\b`를 escape 문자 b(백스페이스)로 인식\n",
    ">    - `re.compile(r'\\b가족\\b')` : `\\b`가 일반문자가 되어 컴파일시 정규식 메타문자로 처리된다.\n"
   ]
  },
  {
   "cell_type": "code",
   "execution_count": 16,
   "metadata": {},
   "outputs": [
    {
     "name": "stdout",
     "output_type": "stream",
     "text": [
      "c:\\a\\b\\c\n",
      "c:\\a\\b\\c\n"
     ]
    }
   ],
   "source": [
    "# \\:escape문자 표시 \\t: 탭, \\n: 엔터, \"\\\\\", \\b : 백스페이스\n",
    "print(r\"c:\\a\\b\\c\")\n",
    "print(\"c:\\\\a\\\\b\\\\c\")"
   ]
  },
  {
   "cell_type": "code",
   "execution_count": 17,
   "metadata": {},
   "outputs": [],
   "source": [
    "import re\n",
    "p = re.compile(\"\\\\b가족\\\\b\")\n",
    "p = re.compile(r\"\\b가족\\b\")"
   ]
  },
  {
   "cell_type": "markdown",
   "metadata": {
    "slideshow": {
     "slide_type": "subslide"
    }
   },
   "source": [
    "> ### 정규식 관련 함수 구문의 두 형태\n",
    "1. pattern객체.함수(매개변수) **세밀하게 찾아야되는 경우 사용**\n",
    "    ```python\n",
    "        p = re.compile(r'\\d+')\n",
    "        p.search('abc123def')\n",
    "    ```\n",
    "2. re.정규식사용함수(패턴, 매개변수)\n",
    "    ```python\n",
    "        re.search(r'\\d+', 'abc123def')\n",
    "    ```"
   ]
  },
  {
   "cell_type": "markdown",
   "metadata": {
    "slideshow": {
     "slide_type": "slide"
    }
   },
   "source": [
    "## 3.2. 검색함수\n",
    "- match(), search() : 패턴과 일치하는 문장이 **있는지 여부**를 확인할 때 사용\n",
    "- findall() : 패턴과 일치하는 문장을 **찾을 때** 사용"
   ]
  },
  {
   "cell_type": "markdown",
   "metadata": {
    "slideshow": {
     "slide_type": "subslide"
    }
   },
   "source": [
    "### 3.2.1. Match 객체\n",
    "- **검색 결과를** 담아 반환되는 객체\n",
    "    - match(), search() 의 반환타입\n",
    "- 패턴과 일치한 문자열과 대상문자열 내에서의 위치를 가지고 있는 객체\n",
    "- 주요 메소드\n",
    "    - **group()** : 매치된 문자열들을 튜플로 반환\n",
    "    - **group(subgroup 번호)** : 패턴에 하위그룹이 지정된 경우 특정 그룹의 문자열 반환\n",
    "    - **start(), end()** : 대상 문자열내에서 시작, 끝 index 반환\n",
    "    - **span()** : 대상 문자열 내에서 시작, 끝 index를 tuple로 반환"
   ]
  },
  {
   "cell_type": "markdown",
   "metadata": {
    "slideshow": {
     "slide_type": "subslide"
    }
   },
   "source": [
    "### 3.2.2 match(대상문자열 [, pos=0])\n",
    "- 대상 문자열의 시작 부터 정규식과 일치하는 것이 있는지 조회\n",
    "- pos : 시작 index 지정\n",
    "- 반환값\n",
    "    - Match 객체: 일치하는 문자열이 있는 경우\n",
    "    - None: 일치하는 문자열이 없는 경우"
   ]
  },
  {
   "cell_type": "code",
   "execution_count": null,
   "metadata": {},
   "outputs": [],
   "source": [
    "import re\n",
    "\n",
    "txt = \"안녕하세요. 제 나이는 20세 입니다.\" # 대상문자열\n",
    "m = re.match(r\"안녕하세요\", txt) # \"안녕하세요\"로 사작하냐? txt가 => 결과를 Match 객체로 반환\n",
    "m1 = re.match(r\"나이는\", txt) \n",
    "print(m)\n",
    "print(m1) # 일치하는 결과가 겂으면 None 반환\n",
    "if m1:\n",
    "    print(m1)\n",
    "else:\n",
    "    print(\"일치하는 결과가 없다.\")\n",
    "\n"
   ]
  },
  {
   "cell_type": "code",
   "execution_count": 24,
   "metadata": {},
   "outputs": [
    {
     "name": "stdout",
     "output_type": "stream",
     "text": [
      "일치하는 결과가 없다.\n"
     ]
    }
   ],
   "source": [
    "import re\n",
    "# 패턴 정의\n",
    "p = re.compile(r\"안녕하세요\")\n",
    "m3 = p.match(txt)\n",
    "if m3: # None이 아니라면\n",
    "    print(m3)\n",
    "else:\n",
    "    print(\"일치하는 결과가 없다.\")"
   ]
  },
  {
   "cell_type": "code",
   "execution_count": 26,
   "metadata": {},
   "outputs": [
    {
     "name": "stdout",
     "output_type": "stream",
     "text": [
      "<re.Match object; span=(9, 12), match='나이는'>\n"
     ]
    }
   ],
   "source": [
    "txt = \"안녕하세요. 제 나이는 20세 입니다.\"\n",
    "p1 = re.compile(r\"나이는\")\n",
    "m4 = p.match(txt, pos=9)\n",
    "if m4:\n",
    "    print(m4)\n",
    "else:\n",
    "    print(\"없다.\")"
   ]
  },
  {
   "cell_type": "code",
   "execution_count": 47,
   "metadata": {},
   "outputs": [],
   "source": [
    "txt1 = \"aaaaa\"\n",
    "txt2 = \"sadasfasf\"\n",
    "txt3 = \"asdjiasf\"\n",
    "# txt1,2,3이 abc로 시작하냐?\n",
    "re.match(r\"abc\", txt1)\n",
    "re.match(r\"abc\", txt2)\n",
    "re.match(r\"abc\", txt3)"
   ]
  },
  {
   "cell_type": "code",
   "execution_count": 48,
   "metadata": {},
   "outputs": [],
   "source": [
    "p = re.compile(r\"abc\")\n",
    "p.match(txt1)\n",
    "p.match(txt2)\n",
    "p.match(txt3)"
   ]
  },
  {
   "cell_type": "code",
   "execution_count": 49,
   "metadata": {},
   "outputs": [
    {
     "name": "stdout",
     "output_type": "stream",
     "text": [
      "없음\n"
     ]
    }
   ],
   "source": [
    "txt = \"30부터 시작\"\n",
    "txt = \"40부터 시작\"\n",
    "txt = \"50부터 시작\"\n",
    "txt = \"안녕하세요.\"\n",
    "if m:\n",
    "    m = re.match(r\"\\d{2}\", txt)\n",
    "    m.group()\n",
    "else:\n",
    "    print(\"없음\")"
   ]
  },
  {
   "cell_type": "code",
   "execution_count": null,
   "metadata": {},
   "outputs": [],
   "source": [
    "txt = \"안녕하세요. 제 나이는 20세 입니다.\"\n",
    "m = re.match(r\"안녕하세요\", txt)\n",
    "print(m)\n",
    "# Match 메소드들\n",
    "print(\"찾은 전체 문자열을 반환 :\", m.group())\n",
    "print(\"찾은 문자열의 시작, 끝idx :\", m.start(), m.end())\n",
    "print(\"(시작, 끝) :\", m.span())"
   ]
  },
  {
   "cell_type": "markdown",
   "metadata": {
    "slideshow": {
     "slide_type": "subslide"
    }
   },
   "source": [
    "### 3.2.3 search(대상문자열 [, pos=0])\n",
    "- 대상문자열 전체 안에서 정규식과 일치하는 것이 있는지 조회\n",
    "- pos: 찾기 시작하는 index 지정\n",
    "- 반환값\n",
    "    - Match 객체: 일치하는 문자열이 있는 경우\n",
    "    - None: 일치하는 문자열이 없는 경우|"
   ]
  },
  {
   "cell_type": "code",
   "execution_count": 50,
   "metadata": {},
   "outputs": [
    {
     "name": "stdout",
     "output_type": "stream",
     "text": [
      "<re.Match object; span=(9, 12), match='나이는'>\n"
     ]
    }
   ],
   "source": [
    "txt = \"안녕하세요. 제 나이는 20살 입니다.\"\n",
    "p = re.compile(r\"나이는\")# 패턴 정의\n",
    "m = p.search(txt) # 패턴의 문자열이 txt에 있는지 찾는 작업\n",
    "print(m)"
   ]
  },
  {
   "cell_type": "code",
   "execution_count": 53,
   "metadata": {},
   "outputs": [
    {
     "name": "stdout",
     "output_type": "stream",
     "text": [
      "None\n"
     ]
    }
   ],
   "source": [
    "m2 = re.search(r\"30\", txt)\n",
    "print(m2)"
   ]
  },
  {
   "cell_type": "code",
   "execution_count": 60,
   "metadata": {},
   "outputs": [
    {
     "name": "stdout",
     "output_type": "stream",
     "text": [
      "50000\n",
      "(18, 23)\n"
     ]
    }
   ],
   "source": [
    "import re\n",
    "txt = \"가격은 4000원, 2000원, 50000원 입니다.\"\n",
    "\n",
    "# m = re.search(r\"\\d\", txt) # re.search(패턴, 대상문자열) \\d:정수문자 1개\n",
    "m = re.search(r\"\\d+\", txt) # \\d+ : 정수문자 1개 이상\n",
    "m = re.search(r\"\\d{3}\", txt) # \\d{3} : 정수문자 3개\n",
    "m = re.search(r\"\\d{5}\", txt) # \\d{5} : 정수문자 5개\n",
    "if m: # 찾은 패턴이 대상에 있는지\n",
    "    print(m.group())# 패턴과 일치하는 문자열을 조회\n",
    "    print(m.span())\n",
    "else:\n",
    "    pass"
   ]
  },
  {
   "cell_type": "markdown",
   "metadata": {
    "slideshow": {
     "slide_type": "subslide"
    }
   },
   "source": [
    "### 3.2.4. findall(대상문자열)\n",
    "- 대상문자열에서 정규식과 매칭되는 문자열들을 **리스트**로 반환\n",
    "- 반환값\n",
    "    - 리스트(List) : 일치하는 문자열들을 가진 리스트를 반환\n",
    "    - 일치하는 문자열이 없는 경우 빈 리스트 반환"
   ]
  },
  {
   "cell_type": "code",
   "execution_count": 62,
   "metadata": {},
   "outputs": [
    {
     "name": "stdout",
     "output_type": "stream",
     "text": [
      "['4000', '2000', '5000']\n",
      "가격은 4000원, 2000원, 50000원 입니다.\n"
     ]
    }
   ],
   "source": [
    "import re\n",
    "txt = \"가격은 4000원, 2000원, 50000원 입니다.\"\n",
    "\n",
    "result = re.findall(r\"\\d{4}\", txt)\n",
    "print(result)"
   ]
  },
  {
   "cell_type": "code",
   "execution_count": 173,
   "metadata": {},
   "outputs": [
    {
     "name": "stdout",
     "output_type": "stream",
     "text": [
      "[' ', ' ', '. ', ' ', ' ', '. ', ' ', '!']\n"
     ]
    }
   ],
   "source": [
    "txt = 'Life is short. You need python.'\n",
    "txt = \"Life is short. You need python. 파이썬3 프로그래밍_언어!\"\n",
    "# result = re.findall(r\"[a-z]\", txt)\n",
    "# result = re.findall(r\"[a-zA-Z가-힣]+\", txt)\n",
    "# result = re.findall(r\"\\w+\", txt) #\\w : a-zA-z가-힣0-9_ + ==> 한글자 이상\n",
    "result = re.findall(r\"\\W+\", txt)\n",
    "print(result)"
   ]
  },
  {
   "cell_type": "markdown",
   "metadata": {
    "slideshow": {
     "slide_type": "slide"
    }
   },
   "source": [
    "### 예제\n",
    "- info 변수는 한줄에 한사람의 data가 있고 구성은 **`이름 이메일주소 주민번호`** 순서로 되어있다."
   ]
  },
  {
   "cell_type": "code",
   "execution_count": 75,
   "metadata": {},
   "outputs": [],
   "source": [
    "info ='''김정수 kjs@gmail.com 801023-1010221\n",
    "박영수 pys@gmail.com 700121-1120212\n",
    "이민영 lmy@naver.com 820301-2020122\n",
    "김순희 ksh@daum.net 781223-2012212\n",
    "오주연 ojy@daum.net 900522-1023218\n",
    "'''"
   ]
  },
  {
   "cell_type": "code",
   "execution_count": 88,
   "metadata": {},
   "outputs": [
    {
     "name": "stdout",
     "output_type": "stream",
     "text": [
      "['김정수', '박영수', '이민영', '김순희', '오주연']\n"
     ]
    }
   ],
   "source": [
    "name_lst = re.findall(r\"[가-힣]{3}\", info)\n",
    "print(name_lst)"
   ]
  },
  {
   "cell_type": "code",
   "execution_count": 83,
   "metadata": {},
   "outputs": [
    {
     "name": "stdout",
     "output_type": "stream",
     "text": [
      "['kjs@gmail.com', 'pys@gmail.com', 'lmy@naver.com', 'ksh@daum.net', 'ojy@daum.net']\n"
     ]
    }
   ],
   "source": [
    "# 이메일 주소만 조회\n",
    "email_lst = re.findall(r\"\\w+@\\w+\\.\\w{2,4}\", info)\n",
    "print(email_lst)"
   ]
  },
  {
   "cell_type": "code",
   "execution_count": 89,
   "metadata": {},
   "outputs": [
    {
     "name": "stdout",
     "output_type": "stream",
     "text": [
      "['801023-1010221', '700121-1120212', '820301-2020122', '781223-2012212', '900522-1023218']\n"
     ]
    }
   ],
   "source": [
    "# 주민번호만 출력\n",
    "jumin_lst = re.findall(r\"\\d{6}\\-\\d{7}\", info)\n",
    "jumin_lst = re.findall(r\"\\d{6}\\-[12349]\\d{6}\", info)\n",
    "\n",
    "print(jumin_lst)"
   ]
  },
  {
   "cell_type": "markdown",
   "metadata": {
    "slideshow": {
     "slide_type": "subslide"
    }
   },
   "source": [
    "## 3.3. 문자열 변경(원래의 문자열은 안바뀐다.)\n",
    "- sub(): 변경된 문자열 반환\n",
    "- subn(): 변경된 문자열, 변경개수 반환"
   ]
  },
  {
   "cell_type": "markdown",
   "metadata": {
    "slideshow": {
     "slide_type": "subslide"
    }
   },
   "source": [
    "### 3.3.1 sub(바꿀문자열, 대상문자열 [, count=양수])\n",
    "- 대상문자열에서 패턴과 일치하는 것을 바꿀문자열로 변경한다.\n",
    "- count: 변경할 개수를 지정. 기본: 매칭되는 문자열은 다 변경\n",
    "- 반환값: 변경된 문자열\n",
    "\n",
    "### 3.3.2 subn(바꿀문자열, 대상문자열 [, count=양수])\n",
    "- sub()와 동일한 역할.\n",
    "- 반환값 : (변경된 문자열, 변경된문자열개수) 를 tuple로 반환"
   ]
  },
  {
   "cell_type": "code",
   "execution_count": null,
   "metadata": {},
   "outputs": [],
   "source": []
  },
  {
   "cell_type": "markdown",
   "metadata": {
    "slideshow": {
     "slide_type": "slide"
    }
   },
   "source": [
    "### 예제 "
   ]
  },
  {
   "cell_type": "code",
   "execution_count": 98,
   "metadata": {},
   "outputs": [
    {
     "name": "stdout",
     "output_type": "stream",
     "text": [
      "오늘은 월요일 입니다. 내일은 화요일 입니다.\n",
      "오늘은      월요일     입니다.\n",
      "내일은      화요일           입니다.\n"
     ]
    }
   ],
   "source": [
    "# 띄여 쓰기 여러개를 한개로 변경.\n",
    "import re\n",
    "txt= \"오늘            밥을           먹었다.\" # \"오늘 밥을 먹었다.\"\n",
    "txt = \"\"\"오늘은      월요일     입니다.\n",
    "내일은      화요일           입니다.\"\"\"\n",
    "# \\s => 공백 문자열 1개\n",
    "new_txt = re.sub(r\"\\s+\", \" \", txt) # sub(패턴, 바꿀문자열, 대상문자열)\n",
    "print(new_txt)\n",
    "print(txt)"
   ]
  },
  {
   "cell_type": "code",
   "execution_count": 99,
   "metadata": {},
   "outputs": [
    {
     "name": "stdout",
     "output_type": "stream",
     "text": [
      "오늘은 월요일 입니다.\n",
      "내일은 화요일 입니다.\n"
     ]
    }
   ],
   "source": [
    "new_txt = re.sub(r\" +\", \" \", txt)\n",
    "print(new_txt)"
   ]
  },
  {
   "cell_type": "code",
   "execution_count": 103,
   "metadata": {
    "scrolled": true
   },
   "outputs": [
    {
     "name": "stdout",
     "output_type": "stream",
     "text": [
      "('오늘은 월요일 입니다. 내일은 화요일 입니다.', 5)\n",
      "오늘은 월요일 입니다. 내일은 화요일 입니다.\n",
      "변경된 개수 : 5\n"
     ]
    }
   ],
   "source": [
    "result = re.subn(r\"\\s+\", \" \", txt)\n",
    "print(result)\n",
    "print(result[0])\n",
    "print(\"변경된 개수 : {0}\".format(result[1]))"
   ]
  },
  {
   "cell_type": "code",
   "execution_count": 106,
   "metadata": {},
   "outputs": [
    {
     "name": "stdout",
     "output_type": "stream",
     "text": [
      "010 1111 2222  01033213201  010 3213 3031\n"
     ]
    }
   ],
   "source": [
    "# 전화번호에서 사용된 구분자를 제거. 각 전화번호를 구분하는 공백은 남긴다.\n",
    "tel = '010-1111-2222, 01033213201 (010)3213-3031'\n",
    "new_tel = re.sub(r\"[-()]\", \" \", tel)\n",
    "new_tel = re.sub(r\"\\D+\", \" \", tel)\n",
    "new_tel = re.sub(r\"[^0-9]\", \" \", tel)\n",
    "print(new_tel)"
   ]
  },
  {
   "cell_type": "markdown",
   "metadata": {
    "slideshow": {
     "slide_type": "subslide"
    }
   },
   "source": [
    "## 3.4 나누기(토큰화)\n",
    "### 3.4.1 split(대상문자열)\n",
    "- pattern을 구분자로 문장을 나눈다.\n",
    "- 반환: 나눈 문자열을 원소로 하는 리스트"
   ]
  },
  {
   "cell_type": "code",
   "execution_count": 110,
   "metadata": {},
   "outputs": [
    {
     "name": "stdout",
     "output_type": "stream",
     "text": [
      "['사과', '귤', '복숭아', '수박']\n"
     ]
    }
   ],
   "source": [
    "txt = \"사과|귤|복숭아|수박\"\n",
    "txt.split(\"|\")"
   ]
  },
  {
   "cell_type": "code",
   "execution_count": 114,
   "metadata": {},
   "outputs": [
    {
     "name": "stdout",
     "output_type": "stream",
     "text": [
      "A,B,C,D,E,F\n",
      "<class 'str'>\n"
     ]
    }
   ],
   "source": [
    "txt = 'A.B|C.D,E:F'\n",
    "new_txt = re.sub(r\"\\W\", \",\", txt)\n",
    "new_txt = re.sub(r\"[^\\w]\", \",\", txt)\n",
    "print(new_txt)"
   ]
  },
  {
   "cell_type": "code",
   "execution_count": 115,
   "metadata": {},
   "outputs": [
    {
     "name": "stdout",
     "output_type": "stream",
     "text": [
      "['A', 'B', 'C', 'D', 'E', 'F']\n"
     ]
    }
   ],
   "source": [
    "txt = 'A.B|C.D,E:F'\n",
    "result = re.split(r\"[\\.|,:]\", txt)\n",
    "print(result)"
   ]
  },
  {
   "cell_type": "markdown",
   "metadata": {
    "slideshow": {
     "slide_type": "slide"
    }
   },
   "source": [
    "# 4. 그룹핑(Grouping)\n",
    "- 패턴 내에서 하위패턴을 만드는 것.\n",
    "    - 전체 패턴에서 일부 패턴을 묶어준다.\n",
    "- 구문: (패턴)"
   ]
  },
  {
   "cell_type": "markdown",
   "metadata": {
    "ExecuteTime": {
     "end_time": "2019-05-16T00:50:03.543080Z",
     "start_time": "2019-05-16T00:50:03.537062Z"
    },
    "slideshow": {
     "slide_type": "subslide"
    }
   },
   "source": [
    "## 4.1. 그룹핑 예"
   ]
  },
  {
   "cell_type": "markdown",
   "metadata": {
    "ExecuteTime": {
     "end_time": "2019-05-16T00:56:13.966065Z",
     "start_time": "2019-05-16T00:56:13.960644Z"
    },
    "slideshow": {
     "slide_type": "subslide"
    }
   },
   "source": [
    "### 4.1.1 전체 패턴 내에서 일부 패턴을 조회\n",
    "- 전체 패턴과 일치하는 문자열을 찾은 뒤 그 안에서 하위패턴과 일치하는 문자열을 조회."
   ]
  },
  {
   "cell_type": "code",
   "execution_count": 128,
   "metadata": {},
   "outputs": [
    {
     "name": "stdout",
     "output_type": "stream",
     "text": [
      "<re.Match object; span=(0, 13), match='010-1111-2345'>\n",
      "010-1111-2345\n",
      "1111\n"
     ]
    }
   ],
   "source": [
    "# 전화번호에서 국번만 조회하려는 경우\n",
    "import re\n",
    "tel = '010-1111-2345'\n",
    "pattern = r\"\\d{2,3}-(\\d{3,4})-\\d{4}\"\n",
    "m = re.search(pattern, tel)\n",
    "print(m)\n",
    "print(m.group())\n",
    "print(m.group(1)) # 그룹(소괄호)의 index를 지정"
   ]
  },
  {
   "cell_type": "code",
   "execution_count": 134,
   "metadata": {},
   "outputs": [
    {
     "name": "stdout",
     "output_type": "stream",
     "text": [
      "전화번호 : 010-1111-2345\n",
      "통신사번호 : 010\n",
      "국번 : 1111\n",
      "번호 : 2345\n"
     ]
    }
   ],
   "source": [
    "import re\n",
    "tel = '010-1111-2345, 02-323-4545'\n",
    "pattern = r\"(\\d{2,3})-(\\d{3,4})-(\\d{4})\" #하위그룹 : 3개 각각 index는 1부터 시작\n",
    "m = re.search(pattern, tel)\n",
    "print(\"전화번호 : {0}\".format(m.group()))\n",
    "print(\"통신사번호 : {0}\".format(m.group(1)))\n",
    "print(\"국번 : {0}\".format(m.group(2)))\n",
    "print(\"번호 : {0}\".format(m.group(3)))\n"
   ]
  },
  {
   "cell_type": "code",
   "execution_count": 135,
   "metadata": {},
   "outputs": [
    {
     "name": "stdout",
     "output_type": "stream",
     "text": [
      "[('010', '1111', '2345'), ('02', '323', '4545')]\n"
     ]
    }
   ],
   "source": [
    "l = re.findall(pattern, tel) # findall() : 소그룹으로 찾은 것들을 묶은 튜플을 반환\n",
    "print(l)"
   ]
  },
  {
   "cell_type": "code",
   "execution_count": 140,
   "metadata": {
    "scrolled": true
   },
   "outputs": [
    {
     "name": "stdout",
     "output_type": "stream",
     "text": [
      "010-1111-2345\n",
      "010\n",
      "1111-2345\n",
      "1111\n",
      "2345\n",
      "1111-2345\n"
     ]
    }
   ],
   "source": [
    "# 중첩 그룹\n",
    "num = '010-1111-2345'\n",
    "pattern = r\"(\\d{2,3})-((\\d{3,4})-(\\d{4}))\"\n",
    "m = re.search(pattern, tel)\n",
    "print(m.group())\n",
    "print(m.group(1))\n",
    "print(m.group(2))\n",
    "print(m.group(3))\n",
    "print(m.group(4))\n",
    "print(m.group(3)+\"-\"+m.group(4))\n",
    "# 0 : 전체\n",
    "# 1 : (\\d{2,3})\n",
    "# 2 : ((\\d{3,4})-(\\d{4}))\n",
    "# 3 : (\\d{3,4})\n",
    "# 4 : (\\d{4})"
   ]
  },
  {
   "cell_type": "code",
   "execution_count": 141,
   "metadata": {},
   "outputs": [
    {
     "data": {
      "text/plain": [
       "[('010', '1111-2345', '1111', '2345'), ('02', '1234-5678', '1234', '5678')]"
      ]
     },
     "execution_count": 141,
     "metadata": {},
     "output_type": "execute_result"
    }
   ],
   "source": [
    "num = '010-1111-2345, 02-1234-5678'\n",
    "l = re.findall(pattern, num)\n",
    "l"
   ]
  },
  {
   "cell_type": "markdown",
   "metadata": {
    "slideshow": {
     "slide_type": "subslide"
    }
   },
   "source": [
    "### 4.1.2 패턴 내에서 하위그룹 참조\n",
    "- `\\번호`\n",
    "- 지정한 '번호' 번째 패턴으로 매칭된 문자열과 같은 문자열을 의미"
   ]
  },
  {
   "cell_type": "code",
   "execution_count": 145,
   "metadata": {},
   "outputs": [],
   "source": [
    "tel = \"\"\"010-1111-1111\n",
    "010-2222-3333\n",
    "010-3333-3333\n",
    "010-5555-6666\"\"\""
   ]
  },
  {
   "cell_type": "code",
   "execution_count": 155,
   "metadata": {},
   "outputs": [
    {
     "name": "stdout",
     "output_type": "stream",
     "text": [
      "[('010', '1111', '1111'), ('010', '3333', '3333')]\n"
     ]
    }
   ],
   "source": [
    "# 가운데와 끝 번호가 같은 전화번호를 찾기\n",
    "pattern = r\"(\\d{2,3})-(\\d{3,4})-(\\2)\" # \\2 => 2번 소그룹의 패턴으로 찾은 문자열과 동일한 문자열\n",
    "\n",
    "# pattern = r\"\\d{2,3}-(\\d{3,4})-\\1\"\n",
    "\n",
    "l = re.findall(pattern, tel) # ( ) 묶인 소그룹으로 찾은 값들만 반환\n",
    "\n",
    "print(l)"
   ]
  },
  {
   "cell_type": "markdown",
   "metadata": {},
   "source": [
    "###  패턴내의 특정 부분만 변경\n",
    "- 첫번째 소그룹으로 찾은 부분을 `\"\\g<1>\"`로 표시\n",
    "- 뒤에 원하는거 추가 ㄱㄱ\n",
    "-  ex)\n",
    "```python\n",
    "pattern = r\"(\\d{6}-[0-4])\\d{6}\"\n",
    "new_info = re.sub(pattern, \"\\g<1>######\", info)\n",
    "print(new_info)\n",
    "```"
   ]
  },
  {
   "cell_type": "code",
   "execution_count": 161,
   "metadata": {
    "scrolled": true
   },
   "outputs": [
    {
     "name": "stdout",
     "output_type": "stream",
     "text": [
      "김정수 kjs@gmail.com 801023-1010221\n",
      "박영수 pys@gmail.com 700121-1120212\n",
      "이민영 lmy@naver.com 820301-2020122\n",
      "김순희 ksh@daum.net 781223-2012212\n",
      "오주연 ojy@daum.net 900522-1023218\n",
      "\n"
     ]
    }
   ],
   "source": [
    "info = \"\"\"김정수 kjs@gmail.com 801023-1010221\n",
    "박영수 pys@gmail.com 700121-1120212\n",
    "이민영 lmy@naver.com 820301-2020122\n",
    "김순희 ksh@daum.net 781223-2012212\n",
    "오주연 ojy@daum.net 900522-1023218\n",
    "\"\"\"\n",
    "print(info)"
   ]
  },
  {
   "cell_type": "code",
   "execution_count": 165,
   "metadata": {},
   "outputs": [
    {
     "name": "stdout",
     "output_type": "stream",
     "text": [
      "김정수 kjs@gmail.com 801023-1######\n",
      "박영수 pys@gmail.com 700121-1######\n",
      "이민영 lmy@naver.com 820301-2######\n",
      "김순희 ksh@daum.net 781223-2######\n",
      "오주연 ojy@daum.net 900522-1######\n",
      "\n"
     ]
    }
   ],
   "source": [
    "pattern = r\"(\\d{6}-[0-4])\\d{6}\" #그대로 나올 것만 group으로 묶음\n",
    "new_info = re.sub(pattern, \"\\g<1>######\", info) #pattern으로 찾은 문자열을 패턴의 1번 소그룹 ######로 변경\n",
    "print(new_info)"
   ]
  },
  {
   "cell_type": "markdown",
   "metadata": {},
   "source": [
    "### group으로 묶인 것 참조\n",
    "- Match객체에서 특정 그룹으로 찾은 문자열 조회\n",
    "    - match객체.group(괄호idx)\n",
    "- 패턴안에서 group을 참조\n",
    "    - `\\괄호index` ex)\\\\2\n",
    "- sub() 함수에서 대체 문자로 그룹을 참조\n",
    "    - `\"\\g<괄호index>` ex) \\\\g\\<n\\>"
   ]
  },
  {
   "cell_type": "markdown",
   "metadata": {
    "slideshow": {
     "slide_type": "slide"
    }
   },
   "source": [
    "# 5. Greedy 와 Non-Greedy\n",
    "- Greedy(탐욕스러운-최대일치) 의 의미\n",
    "    - 주어진 패턴에 만족하는 문자열을 최대한 넓게(길게) 잡아 찾는다.\n",
    "    - 매칭시 기본 방식\n",
    "- Non-Greedy(최소일치)\n",
    "    - 주어진 패턴에 만족하는 문자열을 최초의 일치하는 위치까지 찾는다\n",
    "    - 개수를 나타내는 메타문자에 **`?`**를 붙인다.\n",
    "    - `*?`, `+?`, `{m,n}?`"
   ]
  },
  {
   "cell_type": "code",
   "execution_count": 172,
   "metadata": {},
   "outputs": [
    {
     "name": "stdout",
     "output_type": "stream",
     "text": [
      "['<h1>', '<h2>', '</h2>', '</h1>'] 4\n"
     ]
    }
   ],
   "source": [
    "txt = '<h1>파이썬 정규식<h2>정규식이란</h2></h1>'\n",
    "pattern = r\"<.+?>\" #<한글자이상> . => 모든 한글자, + => 한글자 이상\n",
    "result = re.findall(pattern, txt)\n",
    "print(result, len(result))"
   ]
  },
  {
   "cell_type": "code",
   "execution_count": null,
   "metadata": {},
   "outputs": [],
   "source": []
  },
  {
   "cell_type": "code",
   "execution_count": null,
   "metadata": {},
   "outputs": [],
   "source": []
  },
  {
   "cell_type": "code",
   "execution_count": null,
   "metadata": {},
   "outputs": [],
   "source": []
  },
  {
   "cell_type": "code",
   "execution_count": null,
   "metadata": {},
   "outputs": [],
   "source": []
  },
  {
   "cell_type": "code",
   "execution_count": null,
   "metadata": {},
   "outputs": [],
   "source": []
  }
 ],
 "metadata": {
  "kernelspec": {
   "display_name": "Python 3",
   "language": "python",
   "name": "python3"
  },
  "language_info": {
   "codemirror_mode": {
    "name": "ipython",
    "version": 3
   },
   "file_extension": ".py",
   "mimetype": "text/x-python",
   "name": "python",
   "nbconvert_exporter": "python",
   "pygments_lexer": "ipython3",
   "version": "3.8.5"
  },
  "toc": {
   "base_numbering": 1,
   "nav_menu": {},
   "number_sections": false,
   "sideBar": false,
   "skip_h1_title": false,
   "title_cell": "Table of Contents",
   "title_sidebar": "Contents",
   "toc_cell": false,
   "toc_position": {
    "height": "606.319px",
    "left": "10px",
    "top": "150px",
    "width": "336.889px"
   },
   "toc_section_display": false,
   "toc_window_display": false
  },
  "varInspector": {
   "cols": {
    "lenName": 16,
    "lenType": 16,
    "lenVar": 40
   },
   "kernels_config": {
    "python": {
     "delete_cmd_postfix": "",
     "delete_cmd_prefix": "del ",
     "library": "var_list.py",
     "varRefreshCmd": "print(var_dic_list())"
    },
    "r": {
     "delete_cmd_postfix": ") ",
     "delete_cmd_prefix": "rm(",
     "library": "var_list.r",
     "varRefreshCmd": "cat(var_dic_list()) "
    }
   },
   "types_to_exclude": [
    "module",
    "function",
    "builtin_function_or_method",
    "instance",
    "_Feature"
   ],
   "window_display": false
  }
 },
 "nbformat": 4,
 "nbformat_minor": 2
}
