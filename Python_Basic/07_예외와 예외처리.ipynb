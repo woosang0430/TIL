{
 "cells": [
  {
   "cell_type": "code",
   "execution_count": 23,
   "metadata": {},
   "outputs": [
    {
     "name": "stdout",
     "output_type": "stream",
     "text": [
      "0으로 나눌 수 없습니다\n",
      "뺀 결과 :  10\n"
     ]
    }
   ],
   "source": [
    "a, b = 10, 0\n",
    "try:    \n",
    "    c = a / b # 예외가 발생할 가능성이 있는 코드 (를 시도해봐 - try 블럭)\n",
    "    print(\"결과 : \", c)\n",
    "except: # 만약에 예외가 발생했다면(비정상적 상황) except 블럭을 실행 = > 정상화 => 예외처리\n",
    " # 모든 exception을 다 잡는다.\n",
    "# except 예외이름: # 지정한 예외이름만 처리한다.\n",
    "\n",
    "    print(\"0으로 나눌 수 없습니다\")\n",
    "    \n",
    "d = a - b\n",
    "print(\"뺀 결과 : \", d)"
   ]
  },
  {
   "cell_type": "code",
   "execution_count": 53,
   "metadata": {},
   "outputs": [
    {
     "ename": "ZeroDivisionError",
     "evalue": "division by zero",
     "output_type": "error",
     "traceback": [
      "\u001b[1;31m---------------------------------------------------------------------------\u001b[0m",
      "\u001b[1;31mZeroDivisionError\u001b[0m                         Traceback (most recent call last)",
      "\u001b[1;32m<ipython-input-53-b99424b702fe>\u001b[0m in \u001b[0;36m<module>\u001b[1;34m\u001b[0m\n\u001b[0;32m      1\u001b[0m \u001b[1;31m# 특정 Exception만 처리\u001b[0m\u001b[1;33m\u001b[0m\u001b[1;33m\u001b[0m\u001b[1;33m\u001b[0m\u001b[0m\n\u001b[0;32m      2\u001b[0m \u001b[1;32mtry\u001b[0m\u001b[1;33m:\u001b[0m\u001b[1;33m\u001b[0m\u001b[1;33m\u001b[0m\u001b[0m\n\u001b[1;32m----> 3\u001b[1;33m     \u001b[0ma\u001b[0m \u001b[1;33m=\u001b[0m \u001b[1;36m10\u001b[0m \u001b[1;33m/\u001b[0m \u001b[1;36m0\u001b[0m     \u001b[1;31m# ZeroDivisionError\u001b[0m\u001b[1;33m\u001b[0m\u001b[1;33m\u001b[0m\u001b[0m\n\u001b[0m\u001b[0;32m      4\u001b[0m \u001b[1;33m\u001b[0m\u001b[0m\n\u001b[0;32m      5\u001b[0m     \u001b[0mb\u001b[0m \u001b[1;33m=\u001b[0m \u001b[0mprint\u001b[0m\u001b[1;33m(\u001b[0m\u001b[0ma\u001b[0m\u001b[1;33m)\u001b[0m    \u001b[1;31m# NameError\u001b[0m\u001b[1;33m\u001b[0m\u001b[1;33m\u001b[0m\u001b[0m\n",
      "\u001b[1;31mZeroDivisionError\u001b[0m: division by zero"
     ]
    }
   ],
   "source": [
    "# # 특정 Exception만 처리\n",
    "# try:\n",
    "#     a = 10 / 0     # ZeroDivisionError\n",
    "    \n",
    "#     b = print(a)    # NameError\n",
    "    \n",
    "#     l = [1,2,3]\n",
    "#     print(l[10]+b) # IndexError\n",
    "# # except:\n",
    "# except NameError: # NameError만 처리\n",
    "#     print(\"NameError 에러발생\")\n",
    "    \n",
    "# print(\"정상종료\")"
   ]
  },
  {
   "cell_type": "code",
   "execution_count": 57,
   "metadata": {},
   "outputs": [
    {
     "name": "stdout",
     "output_type": "stream",
     "text": [
      "1.0\n",
      "3.0\n",
      "정상종료\n"
     ]
    }
   ],
   "source": [
    "try:\n",
    "    a = 10 / 10     # ZeroDivisionError\n",
    "    \n",
    "    b = print(a)    # NameError\n",
    "    \n",
    "    l = [1,2,3]\n",
    "    print(l[1]+a) # IndexError\n",
    "# except:\n",
    "except NameError: # NameError만 처리\n",
    "    print(\"NameError 에러발생\")\n",
    "except ZeroDivisionError: # ZeroDivisionError 처리\n",
    "    print(\"ZeroDivisionError 에러발생\")\n",
    "except IndexError: # IndexError 처리\n",
    "    print(\"IndexError 에러발생\")\n",
    "print(\"정상종료\")"
   ]
  },
  {
   "cell_type": "code",
   "execution_count": null,
   "metadata": {},
   "outputs": [],
   "source": [
    "try:\n",
    "    a = 10 / 10     # ZeroDivisionError\n",
    "    \n",
    "    b = print(a)    # NameError\n",
    "    \n",
    "    l = [1,2,3]\n",
    "    print(l[10]+a) # IndexError\n",
    "# except:\n",
    "except NameError: # NameError만 처리\n",
    "    print(\"NameError 에러발생\")\n",
    "except ZeroDivisionError: # ZeroDivisionError 처리\n",
    "    print(\"ZeroDivisionError 에러발생\")\n",
    "except: # NameError, ZeroDivisionError를 제외한 나머지 Exception(Error)들을 처리. => except의 마지막 구문으로 넣는다.\n",
    "    print(\"IndexError 에러발생\")\n",
    "print(\"정상종료\")"
   ]
  },
  {
   "cell_type": "code",
   "execution_count": 59,
   "metadata": {},
   "outputs": [
    {
     "name": "stdout",
     "output_type": "stream",
     "text": [
      "1.0\n",
      "예외가 발생안함\n",
      "종료\n"
     ]
    }
   ],
   "source": [
    "a = 10\n",
    "\n",
    "try:\n",
    "    b = 10 / a\n",
    "    print(b)\n",
    "except:\n",
    "    print(\"0으로 못나눔\")\n",
    "else:\n",
    "    print(\"예외가 발생안함\")\n",
    "\n",
    "print(\"종료\")"
   ]
  },
  {
   "cell_type": "markdown",
   "metadata": {},
   "source": [
    "#  finally"
   ]
  },
  {
   "cell_type": "code",
   "execution_count": 68,
   "metadata": {},
   "outputs": [
    {
     "name": "stdout",
     "output_type": "stream",
     "text": [
      "0.1\n",
      "try 블럭 실행\n",
      "finally 블럭 실행\n",
      "종료\n"
     ]
    }
   ],
   "source": [
    "try:\n",
    "    print(1/10)\n",
    "    print(\"try 블럭 실행\")\n",
    "except ZeroDivisionError:\n",
    "    print(\"except  블럭 실행\")\n",
    "finally: #무조건 실행되는 코드 블럭 - I/O에서 외부자원과 연결을 닫는 코드를 작성\n",
    "    print(\"finally 블럭 실행\")\n",
    "print(\"종료\")"
   ]
  },
  {
   "cell_type": "code",
   "execution_count": 69,
   "metadata": {},
   "outputs": [],
   "source": [
    "dic = {\n",
    "    \"사과\" :10,\n",
    "    \"귤\" :20,\n",
    "    \"배\" :5\n",
    "}"
   ]
  },
  {
   "cell_type": "code",
   "execution_count": 71,
   "metadata": {},
   "outputs": [
    {
     "data": {
      "text/plain": [
       "10"
      ]
     },
     "execution_count": 71,
     "metadata": {},
     "output_type": "execute_result"
    }
   ],
   "source": [
    "dic[\"사과\"]"
   ]
  },
  {
   "cell_type": "code",
   "execution_count": 77,
   "metadata": {},
   "outputs": [
    {
     "data": {
      "text/plain": [
       "20"
      ]
     },
     "execution_count": 77,
     "metadata": {},
     "output_type": "execute_result"
    }
   ],
   "source": [
    "dic.get(\"귤\")"
   ]
  },
  {
   "cell_type": "code",
   "execution_count": 78,
   "metadata": {},
   "outputs": [
    {
     "name": "stdout",
     "output_type": "stream",
     "text": [
      "복숭아는 없습니다.\n"
     ]
    }
   ],
   "source": [
    "try:\n",
    "    r = dic[\"복숭아\"]\n",
    "    print(r)\n",
    "except:\n",
    "    print(\"복숭아는 없습니다.\")"
   ]
  },
  {
   "cell_type": "code",
   "execution_count": 79,
   "metadata": {
    "scrolled": true
   },
   "outputs": [
    {
     "name": "stdout",
     "output_type": "stream",
     "text": [
      "복숭아는 없습니다.\n"
     ]
    }
   ],
   "source": [
    "r = dic.get(\"복숭아\")\n",
    "if r != None: #if r:\n",
    "    print(r)\n",
    "else:\n",
    "    print(\"복숭아는 없습니다.\")"
   ]
  },
  {
   "cell_type": "markdown",
   "metadata": {},
   "source": [
    "## 함수/메소드 호출 흐름\n",
    "- call stack mechanism"
   ]
  },
  {
   "cell_type": "code",
   "execution_count": 153,
   "metadata": {},
   "outputs": [],
   "source": [
    "#####여기 중요함!! 꼭 이해하고있기!!\n",
    "\n",
    "def a():\n",
    "    print(\"a시작\")\n",
    "    try:\n",
    "        b()\n",
    "    except:\n",
    "        print(\"A에서 예외처리\")\n",
    "#     b()\n",
    "    print(\"a종료\")\n",
    "    \n",
    "def b():\n",
    "    print(\"b시작\")\n",
    "    c()\n",
    "\n",
    "    print(\"b종료\")\n",
    "    \n",
    "def c():\n",
    "    print(\"c시작\")\n",
    "    print(10/0)\n",
    "    print(\"c종료\")"
   ]
  },
  {
   "cell_type": "code",
   "execution_count": 154,
   "metadata": {},
   "outputs": [
    {
     "name": "stdout",
     "output_type": "stream",
     "text": [
      "a시작\n",
      "b시작\n",
      "c시작\n"
     ]
    },
    {
     "ename": "ZeroDivisionError",
     "evalue": "division by zero",
     "output_type": "error",
     "traceback": [
      "\u001b[1;31m---------------------------------------------------------------------------\u001b[0m",
      "\u001b[1;31mZeroDivisionError\u001b[0m                         Traceback (most recent call last)",
      "\u001b[1;32m<ipython-input-154-8d7b4527e81d>\u001b[0m in \u001b[0;36m<module>\u001b[1;34m\u001b[0m\n\u001b[1;32m----> 1\u001b[1;33m \u001b[0ma\u001b[0m\u001b[1;33m(\u001b[0m\u001b[1;33m)\u001b[0m\u001b[1;33m\u001b[0m\u001b[1;33m\u001b[0m\u001b[0m\n\u001b[0m",
      "\u001b[1;32m<ipython-input-153-ed5cc07fbe7b>\u001b[0m in \u001b[0;36ma\u001b[1;34m()\u001b[0m\n\u001b[0;32m      3\u001b[0m \u001b[1;32mdef\u001b[0m \u001b[0ma\u001b[0m\u001b[1;33m(\u001b[0m\u001b[1;33m)\u001b[0m\u001b[1;33m:\u001b[0m\u001b[1;33m\u001b[0m\u001b[1;33m\u001b[0m\u001b[0m\n\u001b[0;32m      4\u001b[0m     \u001b[0mprint\u001b[0m\u001b[1;33m(\u001b[0m\u001b[1;34m\"a시작\"\u001b[0m\u001b[1;33m)\u001b[0m\u001b[1;33m\u001b[0m\u001b[1;33m\u001b[0m\u001b[0m\n\u001b[1;32m----> 5\u001b[1;33m     \u001b[0mb\u001b[0m\u001b[1;33m(\u001b[0m\u001b[1;33m)\u001b[0m\u001b[1;33m\u001b[0m\u001b[1;33m\u001b[0m\u001b[0m\n\u001b[0m\u001b[0;32m      6\u001b[0m     \u001b[0mprint\u001b[0m\u001b[1;33m(\u001b[0m\u001b[1;34m\"a종료\"\u001b[0m\u001b[1;33m)\u001b[0m\u001b[1;33m\u001b[0m\u001b[1;33m\u001b[0m\u001b[0m\n\u001b[0;32m      7\u001b[0m \u001b[1;33m\u001b[0m\u001b[0m\n",
      "\u001b[1;32m<ipython-input-153-ed5cc07fbe7b>\u001b[0m in \u001b[0;36mb\u001b[1;34m()\u001b[0m\n\u001b[0;32m      8\u001b[0m \u001b[1;32mdef\u001b[0m \u001b[0mb\u001b[0m\u001b[1;33m(\u001b[0m\u001b[1;33m)\u001b[0m\u001b[1;33m:\u001b[0m\u001b[1;33m\u001b[0m\u001b[1;33m\u001b[0m\u001b[0m\n\u001b[0;32m      9\u001b[0m     \u001b[0mprint\u001b[0m\u001b[1;33m(\u001b[0m\u001b[1;34m\"b시작\"\u001b[0m\u001b[1;33m)\u001b[0m\u001b[1;33m\u001b[0m\u001b[1;33m\u001b[0m\u001b[0m\n\u001b[1;32m---> 10\u001b[1;33m     \u001b[0mc\u001b[0m\u001b[1;33m(\u001b[0m\u001b[1;33m)\u001b[0m\u001b[1;33m\u001b[0m\u001b[1;33m\u001b[0m\u001b[0m\n\u001b[0m\u001b[0;32m     11\u001b[0m     \u001b[0mprint\u001b[0m\u001b[1;33m(\u001b[0m\u001b[1;34m\"b종료\"\u001b[0m\u001b[1;33m)\u001b[0m\u001b[1;33m\u001b[0m\u001b[1;33m\u001b[0m\u001b[0m\n\u001b[0;32m     12\u001b[0m \u001b[1;33m\u001b[0m\u001b[0m\n",
      "\u001b[1;32m<ipython-input-153-ed5cc07fbe7b>\u001b[0m in \u001b[0;36mc\u001b[1;34m()\u001b[0m\n\u001b[0;32m     13\u001b[0m \u001b[1;32mdef\u001b[0m \u001b[0mc\u001b[0m\u001b[1;33m(\u001b[0m\u001b[1;33m)\u001b[0m\u001b[1;33m:\u001b[0m\u001b[1;33m\u001b[0m\u001b[1;33m\u001b[0m\u001b[0m\n\u001b[0;32m     14\u001b[0m     \u001b[0mprint\u001b[0m\u001b[1;33m(\u001b[0m\u001b[1;34m\"c시작\"\u001b[0m\u001b[1;33m)\u001b[0m\u001b[1;33m\u001b[0m\u001b[1;33m\u001b[0m\u001b[0m\n\u001b[1;32m---> 15\u001b[1;33m     \u001b[0mprint\u001b[0m\u001b[1;33m(\u001b[0m\u001b[1;36m10\u001b[0m\u001b[1;33m/\u001b[0m\u001b[1;36m0\u001b[0m\u001b[1;33m)\u001b[0m\u001b[1;33m\u001b[0m\u001b[1;33m\u001b[0m\u001b[0m\n\u001b[0m\u001b[0;32m     16\u001b[0m     \u001b[0mprint\u001b[0m\u001b[1;33m(\u001b[0m\u001b[1;34m\"c종료\"\u001b[0m\u001b[1;33m)\u001b[0m\u001b[1;33m\u001b[0m\u001b[1;33m\u001b[0m\u001b[0m\n",
      "\u001b[1;31mZeroDivisionError\u001b[0m: division by zero"
     ]
    }
   ],
   "source": [
    "a()"
   ]
  },
  {
   "cell_type": "markdown",
   "metadata": {},
   "source": [
    "### 예외클래스 정의 및 예외 발생"
   ]
  },
  {
   "cell_type": "code",
   "execution_count": 123,
   "metadata": {},
   "outputs": [],
   "source": [
    "# 예외클래스 정의 : 이름관례 = ~~~~Error\n",
    "class InvalidMonthError(Exception):\n",
    "    \n",
    "    def __init__(self, invalid_month):\n",
    "        self.invalid_month = invalid_month\n",
    "        \n",
    "    def __str__(self):\n",
    "        return f\"{self.invalid_month} -> 사용할 수 없는 월 입니다. 1~12 숫자만 가능합니다.\""
   ]
  },
  {
   "cell_type": "code",
   "execution_count": 124,
   "metadata": {},
   "outputs": [],
   "source": [
    "def set_month(month):\n",
    "    \"\"\"\n",
    "    월을 변경하는 함수\n",
    "    [매개변수]\n",
    "        month : int - 변경할 월 (1 ~ 12 사이의 정수)\n",
    "    [반환값]\n",
    "        \n",
    "    [exception]\n",
    "        InvalidMonthError : 변경할 수 없는 월이 매개변수로 받으면 발생.    \n",
    "    \"\"\"\n",
    "    if month >= 1 and month <= 12:\n",
    "        print(f\"{month}월로 변경합니다.\")\n",
    "    else:\n",
    "#         예외를 발생시킨다. raise Exception 객체\n",
    "        raise InvalidMonthError(month)"
   ]
  },
  {
   "cell_type": "code",
   "execution_count": 126,
   "metadata": {},
   "outputs": [
    {
     "ename": "InvalidMonthError",
     "evalue": "50 -> 사용할 수 없는 월 입니다. 1~12 숫자만 가능합니다.",
     "output_type": "error",
     "traceback": [
      "\u001b[1;31m---------------------------------------------------------------------------\u001b[0m",
      "\u001b[1;31mInvalidMonthError\u001b[0m                         Traceback (most recent call last)",
      "\u001b[1;32m<ipython-input-126-1e88ac7413e8>\u001b[0m in \u001b[0;36m<module>\u001b[1;34m\u001b[0m\n\u001b[1;32m----> 1\u001b[1;33m \u001b[0mset_month\u001b[0m\u001b[1;33m(\u001b[0m\u001b[1;36m50\u001b[0m\u001b[1;33m)\u001b[0m\u001b[1;33m\u001b[0m\u001b[1;33m\u001b[0m\u001b[0m\n\u001b[0m\u001b[0;32m      2\u001b[0m \u001b[1;31m# try:\u001b[0m\u001b[1;33m\u001b[0m\u001b[1;33m\u001b[0m\u001b[1;33m\u001b[0m\u001b[0m\n\u001b[0;32m      3\u001b[0m \u001b[1;31m#     set_month(100)\u001b[0m\u001b[1;33m\u001b[0m\u001b[1;33m\u001b[0m\u001b[1;33m\u001b[0m\u001b[0m\n\u001b[0;32m      4\u001b[0m \u001b[1;31m# except:\u001b[0m\u001b[1;33m\u001b[0m\u001b[1;33m\u001b[0m\u001b[1;33m\u001b[0m\u001b[0m\n\u001b[0;32m      5\u001b[0m \u001b[1;31m#     print(\"예외처리\")\u001b[0m\u001b[1;33m\u001b[0m\u001b[1;33m\u001b[0m\u001b[1;33m\u001b[0m\u001b[0m\n",
      "\u001b[1;32m<ipython-input-124-9be7c46b8b63>\u001b[0m in \u001b[0;36mset_month\u001b[1;34m(month)\u001b[0m\n\u001b[0;32m     13\u001b[0m     \u001b[1;32melse\u001b[0m\u001b[1;33m:\u001b[0m\u001b[1;33m\u001b[0m\u001b[1;33m\u001b[0m\u001b[0m\n\u001b[0;32m     14\u001b[0m \u001b[1;31m#         예외를 발생시킨다. raise Exception 객체\u001b[0m\u001b[1;33m\u001b[0m\u001b[1;33m\u001b[0m\u001b[1;33m\u001b[0m\u001b[0m\n\u001b[1;32m---> 15\u001b[1;33m         \u001b[1;32mraise\u001b[0m \u001b[0mInvalidMonthError\u001b[0m\u001b[1;33m(\u001b[0m\u001b[0mmonth\u001b[0m\u001b[1;33m)\u001b[0m\u001b[1;33m\u001b[0m\u001b[1;33m\u001b[0m\u001b[0m\n\u001b[0m",
      "\u001b[1;31mInvalidMonthError\u001b[0m: 50 -> 사용할 수 없는 월 입니다. 1~12 숫자만 가능합니다."
     ]
    }
   ],
   "source": [
    "set_month(50)\n",
    "print(\"월 변경 후 해야하는 다음 작업 실행\")"
   ]
  },
  {
   "cell_type": "code",
   "execution_count": 130,
   "metadata": {},
   "outputs": [
    {
     "name": "stdout",
     "output_type": "stream",
     "text": [
      "set_month 호출 시 오류발생,100 -> 사용할 수 없는 월 입니다. 1~12 숫자만 가능합니다.,100\n",
      "100 -> 사용할 수 없는 월 입니다. 1~12 숫자만 가능합니다.\n"
     ]
    }
   ],
   "source": [
    "try:\n",
    "    set_month(100)\n",
    "    # print(\"월 변경 후 해야하는 다음 작업 실행\")\n",
    "except InvalidMonthError as e: # except 예외클래스 as 변수 : 변수를 이용해 raise된 Exception 객체를 받을 수 있다.\n",
    "    print(\"set_month 호출 시 오류발생\", e, e.invalid_month, sep=\",\")\n",
    "    print(e)"
   ]
  },
  {
   "cell_type": "code",
   "execution_count": null,
   "metadata": {},
   "outputs": [],
   "source": []
  },
  {
   "cell_type": "code",
   "execution_count": null,
   "metadata": {},
   "outputs": [],
   "source": [
    "# 주문 함수\n",
    "1. 재고량을 조회\n",
    "2. 주문량과 재고량을 비교\n",
    "    2-1. 재고량 >= 주문량 : 정상 주문처리\n",
    "    2-2. 재고량 < 주문량 : 주문처리(X) => 예외발생"
   ]
  },
  {
   "cell_type": "code",
   "execution_count": 139,
   "metadata": {},
   "outputs": [],
   "source": [
    "# 주문처리를 못하는 상황에서 발생시킬 예외클래스\n",
    "class OrderFailError(Exception):\n",
    "    \n",
    "    def __init__(self, error_message):\n",
    "        self.message = error_message\n",
    "        \n",
    "    def __str__(self):\n",
    "        return self.message"
   ]
  },
  {
   "cell_type": "code",
   "execution_count": 149,
   "metadata": {},
   "outputs": [],
   "source": [
    "def order(order_amount):\n",
    "    \"\"\"\n",
    "    [매개변수]\n",
    "        order_amount : int - 주문량\n",
    "    \"\"\"\n",
    "    # 재고량을 조회\n",
    "    stock_amount = 10\n",
    "    \n",
    "    if stock_amount < order_amount: # 에러 발생시키기\n",
    "        raise OrderFailError(\"주문량이 재고량보다 많습니다. 주문량 : {0}, 재고량 : {1}\".format(order_amount, stock_amount))\n",
    "        \n",
    "        # 주문처리\n",
    "    stock_amount -= order_amount\n",
    "    print(\"주문처리 완료\")\n",
    "    print(\"주문처리량 : {0}, 주문 후 재고량 : {1}\".format(order_amount, stock_amount))\n",
    "        "
   ]
  },
  {
   "cell_type": "code",
   "execution_count": 152,
   "metadata": {},
   "outputs": [
    {
     "name": "stdout",
     "output_type": "stream",
     "text": [
      "주문처리 완료\n",
      "주문처리량 : 10, 주문 후 재고량 : 0\n",
      "주문 후 다음 작업\n"
     ]
    }
   ],
   "source": [
    "try:\n",
    "    order(10)\n",
    "    print(\"주문 후 다음 작업\")\n",
    "except OrderFailError as e:\n",
    "    print(e)"
   ]
  },
  {
   "cell_type": "code",
   "execution_count": 151,
   "metadata": {},
   "outputs": [],
   "source": [
    "# 호출한 곳으로 돌아간다.\n",
    "# return : 함수/메소드의 정상종료 (호출된 곳으로 처리 결과를 가지고감)\n",
    "# raise : 함수/메소드의 비정상종료 ( 오류가 나서 호출된 곳으로 오류를 가지고감)"
   ]
  },
  {
   "cell_type": "code",
   "execution_count": null,
   "metadata": {},
   "outputs": [],
   "source": []
  },
  {
   "cell_type": "code",
   "execution_count": null,
   "metadata": {},
   "outputs": [],
   "source": []
  },
  {
   "cell_type": "code",
   "execution_count": null,
   "metadata": {},
   "outputs": [],
   "source": []
  },
  {
   "cell_type": "code",
   "execution_count": null,
   "metadata": {},
   "outputs": [],
   "source": []
  },
  {
   "cell_type": "code",
   "execution_count": null,
   "metadata": {},
   "outputs": [],
   "source": []
  },
  {
   "cell_type": "code",
   "execution_count": null,
   "metadata": {},
   "outputs": [],
   "source": []
  },
  {
   "cell_type": "code",
   "execution_count": null,
   "metadata": {},
   "outputs": [],
   "source": []
  },
  {
   "cell_type": "code",
   "execution_count": null,
   "metadata": {},
   "outputs": [],
   "source": []
  },
  {
   "cell_type": "code",
   "execution_count": null,
   "metadata": {},
   "outputs": [],
   "source": []
  },
  {
   "cell_type": "code",
   "execution_count": null,
   "metadata": {},
   "outputs": [],
   "source": []
  },
  {
   "cell_type": "code",
   "execution_count": null,
   "metadata": {},
   "outputs": [],
   "source": []
  },
  {
   "cell_type": "code",
   "execution_count": 157,
   "metadata": {},
   "outputs": [
    {
     "name": "stdout",
     "output_type": "stream",
     "text": [
      "0\n"
     ]
    }
   ],
   "source": [
    "s = \"0101100\"\n",
    "s = list(s)\n",
    "if s.count(\"0\") > s.count(\"1\"): # 많은 문자를 x로, 적은 문자를 y로 정의한다.\n",
    "    x, y = \"0\", \"1\"\n",
    "else:\n",
    "    x, y = \"1\", \"0\"\n",
    "\n",
    "cnt = 0\n",
    "n = s.index(y) # 리스트 안에 y의 첫번째 자리를 n으로 정의한다.\n",
    "for _ in range(len(s)):\n",
    "    if s[n] == s[n+1]: # y문자가 연속되는지 확인 \n",
    "        n+=1  # 연속되면 \n",
    "        cnt+=1\n",
    "#     try:\n",
    "#         if s[n] == s[n+1]:\n",
    "#             n+=1\n",
    "#         cnt+=1\n",
    "#     except:\n",
    "#         break\n",
    "print(cnt)"
   ]
  },
  {
   "cell_type": "code",
   "execution_count": null,
   "metadata": {},
   "outputs": [],
   "source": []
  }
 ],
 "metadata": {
  "kernelspec": {
   "display_name": "Python 3",
   "language": "python",
   "name": "python3"
  },
  "language_info": {
   "codemirror_mode": {
    "name": "ipython",
    "version": 3
   },
   "file_extension": ".py",
   "mimetype": "text/x-python",
   "name": "python",
   "nbconvert_exporter": "python",
   "pygments_lexer": "ipython3",
   "version": "3.8.5"
  }
 },
 "nbformat": 4,
 "nbformat_minor": 4
}
