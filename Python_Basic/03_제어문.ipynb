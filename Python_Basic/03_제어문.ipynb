{
 "cells": [
  {
   "cell_type": "code",
   "execution_count": 1,
   "metadata": {},
   "outputs": [
    {
     "data": {
      "text/plain": [
       "False"
      ]
     },
     "execution_count": 1,
     "metadata": {},
     "output_type": "execute_result"
    }
   ],
   "source": [
    "bool([]) # 자료구조 : 원소가 0개 이면 False, 원소가 1개 이상이면 True"
   ]
  },
  {
   "cell_type": "code",
   "execution_count": 2,
   "metadata": {},
   "outputs": [
    {
     "name": "stdout",
     "output_type": "stream",
     "text": [
      "종료\n"
     ]
    }
   ],
   "source": [
    "num = 10 #만약에 num이 0이면 \"0입니다.\"출력, 아니면 아무것도 출력 안함.\n",
    "\n",
    "if num == 0:\n",
    "    print(\"0입니다.\")\n",
    "    print(\"영입니다.\")\n",
    "    print(\"없습니다.\")\n",
    "\n",
    "print(\"종료\")"
   ]
  },
  {
   "cell_type": "code",
   "execution_count": 3,
   "metadata": {},
   "outputs": [
    {
     "name": "stdout",
     "output_type": "stream",
     "text": [
      "0입니다.\n",
      "영입니다.\n",
      "없습니다.\n",
      "종료\n"
     ]
    }
   ],
   "source": [
    "num = 10\n",
    "# if 조건 :  -조건 : bool 타입이 들어와야 하는 곳. 다른 타입의 값이 들어오면 bool(논리형)으로 알아서 변환됨.\n",
    "if not num == 0:\n",
    "    print(\"0입니다.\")\n",
    "    print(\"영입니다.\")\n",
    "    print(\"없습니다.\")\n",
    "\n",
    "print(\"종료\")"
   ]
  },
  {
   "cell_type": "code",
   "execution_count": 4,
   "metadata": {},
   "outputs": [
    {
     "name": "stdout",
     "output_type": "stream",
     "text": [
      "0이 아닙니다.\n",
      "값 : 12\n",
      "종료\n"
     ]
    }
   ],
   "source": [
    "# 만약에 num이 0이면 \"0입니다.\"를 출력하고 아니면 \"0이 아닙니다.\" 출력\n",
    "num = 12\n",
    "\n",
    "if num == 0:\n",
    "    print(\"0입니다.\")\n",
    "    print(\"영입니다.\")\n",
    "else:\n",
    "    print(\"0이 아닙니다.\")\n",
    "    print(\"값 :\", num)\n",
    "\n",
    "print(\"종료\")"
   ]
  },
  {
   "cell_type": "code",
   "execution_count": 5,
   "metadata": {},
   "outputs": [],
   "source": [
    "# tab : 자동완성, shift + tap : 설명"
   ]
  },
  {
   "cell_type": "code",
   "execution_count": 6,
   "metadata": {},
   "outputs": [
    {
     "name": "stdout",
     "output_type": "stream",
     "text": [
      "음수\n"
     ]
    }
   ],
   "source": [
    "num = -10 # num 이 0보다 크면 \"양수\" 출력, 0이면 \"0\"을 출력, 0 보다 작으면 \"음수\" 출력\n",
    "if num > 0:\n",
    "    print(\"양수\")\n",
    "elif num == 0:\n",
    "    print(\"0\")\n",
    "elif num < 0:\n",
    "    print(\"음수\")"
   ]
  },
  {
   "cell_type": "code",
   "execution_count": 7,
   "metadata": {},
   "outputs": [
    {
     "name": "stdout",
     "output_type": "stream",
     "text": [
      "0\n"
     ]
    }
   ],
   "source": [
    "num = 0 # num 이 0보다 크면 \"양수\" 출력, 0이면 \"0\"을 출력, 0 보다 작으면 \"음수\" 출력\n",
    "if num > 0:\n",
    "    print(\"양수\")\n",
    "elif num == 0:\n",
    "    print(\"0\")\n",
    "else:\n",
    "    print(\"음수\")"
   ]
  },
  {
   "cell_type": "code",
   "execution_count": 8,
   "metadata": {},
   "outputs": [],
   "source": [
    "# \"서울\" : 서울 특별시, \n",
    "# 인천, 부산, 대구, 광주, 대전, 울산 : \"xx광역시\", 나머지 : \"xxx는 일반시\"\n",
    "# city = input(\"도시명 : \")"
   ]
  },
  {
   "cell_type": "code",
   "execution_count": 9,
   "metadata": {
    "scrolled": true
   },
   "outputs": [],
   "source": [
    "# city = input(\"도시명 : \").strip()\n",
    "\n",
    "# if city == \"서울\":\n",
    "#     print(\"서울 특별시\")\n",
    "# elif city in [\"인천\", \"부산\", \"대구\", \"광주\", \"대전\", \"울산\"]:\n",
    "#     print(\"{0}광역시\".format(city))\n",
    "# else:\n",
    "#     print(\"{0}는 일반시\".format(city))"
   ]
  },
  {
   "cell_type": "markdown",
   "metadata": {},
   "source": [
    "# 반복문\n",
    "- whlie 문\n",
    "    - 조건이 True인 동안 반복\n",
    "- for in 문\n",
    "    - 문자열, 자료구조(리스트, 튜플, 셋, 딕셔너리)의 원소들을 하나씩 모두 조회할 때 사용. (Iterable type)"
   ]
  },
  {
   "cell_type": "markdown",
   "metadata": {},
   "source": [
    "##  while 문"
   ]
  },
  {
   "cell_type": "markdown",
   "metadata": {},
   "source": [
    "- 대입 연산자\n",
    "    - 변수 = 값\n",
    "    - 변수 연산자 = 값\n",
    "        - a += 10 :: a = a + 10\n",
    "        - a -= 10 :: a= a - 10\n",
    "        - a *= 10 :: a = a * 10"
   ]
  },
  {
   "cell_type": "code",
   "execution_count": 10,
   "metadata": {
    "scrolled": true
   },
   "outputs": [
    {
     "name": "stdout",
     "output_type": "stream",
     "text": [
      "안녕하세요.\n",
      "안녕하세요.\n",
      "안녕하세요.\n",
      "안녕하세요.\n",
      "안녕하세요.\n",
      "안녕하세요.\n",
      "안녕하세요.\n",
      "안녕하세요.\n",
      "안녕하세요.\n",
      "안녕하세요.\n",
      "종료\n"
     ]
    }
   ],
   "source": [
    "cnt = 0 # 초기식 - 조건에서 사용되면서 조건을 False로 바꿀 때 사용할 값. 이 값은 반복구문에서 사용할 수 있다.\n",
    "while cnt < 10: # 조건식\n",
    "    print(\"안녕하세요.\")\n",
    "#   cnt = cnt + 1\n",
    "    cnt += 1 # 증감식\n",
    "    \n",
    "print(\"종료\")"
   ]
  },
  {
   "cell_type": "code",
   "execution_count": 11,
   "metadata": {},
   "outputs": [
    {
     "name": "stdout",
     "output_type": "stream",
     "text": [
      "5\n",
      "10\n",
      "15\n",
      "20\n",
      "25\n",
      "30\n",
      "35\n",
      "40\n",
      "45\n",
      "50\n",
      "55\n",
      "60\n",
      "65\n",
      "70\n",
      "75\n",
      "80\n",
      "85\n",
      "90\n",
      "95\n",
      "100\n"
     ]
    }
   ],
   "source": [
    "# 1 ~ 100 중에서 5의 배수만 출력\n",
    "cnt = 1\n",
    "five_cnt = 0\n",
    "while cnt <= 100:\n",
    "    if cnt % 5 == 0:\n",
    "        five_cnt +=1\n",
    "        print(cnt)\n",
    "    cnt += 1"
   ]
  },
  {
   "cell_type": "markdown",
   "metadata": {},
   "source": [
    "## for in 문\n",
    "```python\n",
    "for 변수 in iterable:\n",
    "    반복할 구문\n",
    "```"
   ]
  },
  {
   "cell_type": "code",
   "execution_count": 12,
   "metadata": {},
   "outputs": [
    {
     "name": "stdout",
     "output_type": "stream",
     "text": [
      "사과\n",
      "복숭아\n",
      "귤\n",
      "수박\n",
      "배\n",
      "자두\n"
     ]
    }
   ],
   "source": [
    "fruits = [\"사과\", \"복숭아\", \"귤\", \"수박\", \"배\", \"자두\"]\n",
    "\n",
    "index = 0 # 리스트의 index\n",
    "length = len(fruits)\n",
    "\n",
    "while index < length:\n",
    "    fruit = fruits[index]\n",
    "    print(fruit)\n",
    "    index+=1"
   ]
  },
  {
   "cell_type": "code",
   "execution_count": 13,
   "metadata": {},
   "outputs": [
    {
     "name": "stdout",
     "output_type": "stream",
     "text": [
      "사과\n",
      "복숭아\n",
      "귤\n",
      "수박\n",
      "배\n",
      "자두\n"
     ]
    }
   ],
   "source": [
    " for fruit in fruits:\n",
    "    print(fruit)"
   ]
  },
  {
   "cell_type": "code",
   "execution_count": 14,
   "metadata": {},
   "outputs": [
    {
     "name": "stdout",
     "output_type": "stream",
     "text": [
      "1\n",
      "2\n",
      "3\n",
      "4\n",
      "5\n"
     ]
    }
   ],
   "source": [
    "for num in (1,2,3,4,5):\n",
    "    print(num)"
   ]
  },
  {
   "cell_type": "code",
   "execution_count": 15,
   "metadata": {},
   "outputs": [
    {
     "name": "stdout",
     "output_type": "stream",
     "text": [
      "1\n",
      "10\n",
      "20\n",
      "30\n"
     ]
    }
   ],
   "source": [
    "for num in {10, 20, 30, 1}:\n",
    "    print(num)"
   ]
  },
  {
   "cell_type": "code",
   "execution_count": 16,
   "metadata": {},
   "outputs": [
    {
     "name": "stdout",
     "output_type": "stream",
     "text": [
      "a\n",
      "b\n",
      "c\n"
     ]
    }
   ],
   "source": [
    "d = {\n",
    "    \"a\":10,\n",
    "    \"b\":20,\n",
    "    \"c\":30,\n",
    "}\n",
    "for key in d: # 딕셔너리는 key값을 반환해준다.\n",
    "    print(key)"
   ]
  },
  {
   "cell_type": "code",
   "execution_count": 17,
   "metadata": {},
   "outputs": [
    {
     "name": "stdout",
     "output_type": "stream",
     "text": [
      "10\n",
      "20\n",
      "30\n"
     ]
    }
   ],
   "source": [
    "for key in d: # 딕셔너리 같은 경우는 반복하면 key값이 반환된다.\n",
    "    print(d[key])"
   ]
  },
  {
   "cell_type": "code",
   "execution_count": 18,
   "metadata": {},
   "outputs": [
    {
     "name": "stdout",
     "output_type": "stream",
     "text": [
      "('a', 10)\n",
      "('b', 20)\n",
      "('c', 30)\n"
     ]
    }
   ],
   "source": [
    "# key가 \"b\"인 item의 value를 출력\n",
    "for v in d.items(): # (key, value)\n",
    "    print(v)\n",
    "#     if v[0] == \"b\":\n",
    "#         print(v[1])"
   ]
  },
  {
   "cell_type": "code",
   "execution_count": 19,
   "metadata": {},
   "outputs": [
    {
     "name": "stdout",
     "output_type": "stream",
     "text": [
      "a 10\n",
      "b 20\n",
      "c 30\n"
     ]
    }
   ],
   "source": [
    "for key, value in d.items():   # 튜플 대입 활용!!!! => v1, v2 = (\"a\", 10)\n",
    "    print(key, value)\n",
    "#     if key == \"b\":\n",
    "#         print(value)"
   ]
  },
  {
   "cell_type": "code",
   "execution_count": 20,
   "metadata": {},
   "outputs": [
    {
     "name": "stdout",
     "output_type": "stream",
     "text": [
      "10 20\n"
     ]
    }
   ],
   "source": [
    "# 튜플 대입\n",
    "a, b = 10, 20\n",
    "print(a, b)"
   ]
  },
  {
   "cell_type": "code",
   "execution_count": 21,
   "metadata": {},
   "outputs": [],
   "source": [
    "lst = [\n",
    "    [1,2,3],\n",
    "    [10,20,30],\n",
    "    [100,200,300],\n",
    "]"
   ]
  },
  {
   "cell_type": "code",
   "execution_count": 22,
   "metadata": {},
   "outputs": [
    {
     "data": {
      "text/plain": [
       "3"
      ]
     },
     "execution_count": 22,
     "metadata": {},
     "output_type": "execute_result"
    }
   ],
   "source": [
    "len(lst)"
   ]
  },
  {
   "cell_type": "code",
   "execution_count": 23,
   "metadata": {},
   "outputs": [
    {
     "name": "stdout",
     "output_type": "stream",
     "text": [
      "1-2-3\n",
      "10-20-30\n",
      "100-200-300\n"
     ]
    }
   ],
   "source": [
    "for v1, v2, v3 in lst:\n",
    "    print(v1, v2, v3, sep=\"-\")"
   ]
  },
  {
   "cell_type": "code",
   "execution_count": 24,
   "metadata": {},
   "outputs": [
    {
     "name": "stdout",
     "output_type": "stream",
     "text": [
      "1 2 3 3\n",
      "10 20 30 30\n",
      "100 200 300 300\n"
     ]
    }
   ],
   "source": [
    "for l in lst:\n",
    "    for v in l:\n",
    "        print(v, end=\" \")\n",
    "    print(v)"
   ]
  },
  {
   "cell_type": "code",
   "execution_count": 25,
   "metadata": {},
   "outputs": [
    {
     "name": "stdout",
     "output_type": "stream",
     "text": [
      "a\n",
      "b\n",
      "c\n",
      "d\n",
      "e\n",
      "f\n",
      "가\n",
      "나\n",
      "다\n",
      "라\n"
     ]
    }
   ],
   "source": [
    "for s in \"abcdef가나다라\":\n",
    "    print(s)"
   ]
  },
  {
   "cell_type": "code",
   "execution_count": 26,
   "metadata": {},
   "outputs": [
    {
     "name": "stdout",
     "output_type": "stream",
     "text": [
      "a/b/c/d "
     ]
    }
   ],
   "source": [
    "# print안에서의 sep= 이친구는 중간중간, end= 이친구는 마지막에!!\n",
    "print(\"a\", \"b\",\"c\",\"d\", sep=\"/\", end=\" \") "
   ]
  },
  {
   "cell_type": "code",
   "execution_count": null,
   "metadata": {},
   "outputs": [],
   "source": []
  },
  {
   "cell_type": "code",
   "execution_count": 27,
   "metadata": {},
   "outputs": [
    {
     "name": "stdout",
     "output_type": "stream",
     "text": [
      "1\n"
     ]
    }
   ],
   "source": [
    "while True:\n",
    "    print(1)\n",
    "    break"
   ]
  },
  {
   "cell_type": "code",
   "execution_count": null,
   "metadata": {},
   "outputs": [],
   "source": []
  },
  {
   "cell_type": "code",
   "execution_count": 28,
   "metadata": {},
   "outputs": [],
   "source": [
    "# while True:\n",
    "#     a = input(\"입력 :\")\n",
    "#     print(a)\n",
    "#     if a == \"종료\":\n",
    "#         break"
   ]
  },
  {
   "cell_type": "code",
   "execution_count": null,
   "metadata": {},
   "outputs": [],
   "source": []
  },
  {
   "cell_type": "code",
   "execution_count": 29,
   "metadata": {},
   "outputs": [
    {
     "name": "stdout",
     "output_type": "stream",
     "text": [
      "5\n",
      "10\n",
      "15\n",
      "20\n",
      "25\n",
      "30\n",
      "35\n",
      "40\n",
      "45\n",
      "50\n"
     ]
    }
   ],
   "source": [
    "cnt = 1\n",
    "while True:\n",
    "    if cnt % 5 == 0:\n",
    "        print(cnt)\n",
    "    cnt += 1\n",
    "    \n",
    "    if cnt > 50:\n",
    "        break #반복문 끝내라."
   ]
  },
  {
   "cell_type": "code",
   "execution_count": 30,
   "metadata": {},
   "outputs": [],
   "source": [
    "# while True:\n",
    "#     print(1)\n",
    "#     if 멈출조건:\n",
    "#         break"
   ]
  },
  {
   "cell_type": "code",
   "execution_count": 31,
   "metadata": {},
   "outputs": [
    {
     "name": "stdout",
     "output_type": "stream",
     "text": [
      "5\n",
      "10\n",
      "15\n",
      "20\n",
      "25\n",
      "30\n",
      "35\n",
      "40\n",
      "45\n",
      "50\n"
     ]
    }
   ],
   "source": [
    "cnt = 1\n",
    "while cnt <= 50:\n",
    "    if cnt % 5 != 0: # 5의 배수가 아니면\n",
    "        cnt += 1\n",
    "        continue\n",
    "    print(cnt)\n",
    "    cnt += 1"
   ]
  },
  {
   "cell_type": "code",
   "execution_count": 32,
   "metadata": {},
   "outputs": [
    {
     "name": "stdout",
     "output_type": "stream",
     "text": [
      "3\n",
      "6\n",
      "9\n"
     ]
    }
   ],
   "source": [
    "for i in range(1, 11):\n",
    "    if i%3 != 0:\n",
    "        continue\n",
    "    print(i)"
   ]
  },
  {
   "cell_type": "code",
   "execution_count": 33,
   "metadata": {},
   "outputs": [],
   "source": [
    "# Ex) 반복 100\n",
    "# 10 실행대상, 90은 ㄴㄴ"
   ]
  },
  {
   "cell_type": "markdown",
   "metadata": {},
   "source": [
    "##  for in 문 관련 내장 함수\n",
    "- range()\n",
    "- enumerate()\n",
    "- zip()"
   ]
  },
  {
   "cell_type": "markdown",
   "metadata": {},
   "source": [
    "###  range([시작정수], 종료정수, [증감정수]) = [] 생략가능"
   ]
  },
  {
   "cell_type": "code",
   "execution_count": 34,
   "metadata": {
    "scrolled": true
   },
   "outputs": [
    {
     "name": "stdout",
     "output_type": "stream",
     "text": [
      "10\n",
      "9\n",
      "8\n",
      "7\n",
      "6\n",
      "5\n",
      "4\n",
      "3\n",
      "2\n",
      "1\n"
     ]
    }
   ],
   "source": [
    "for i in range(10, 0, -1):\n",
    "    print(i)"
   ]
  },
  {
   "cell_type": "code",
   "execution_count": 35,
   "metadata": {},
   "outputs": [],
   "source": [
    "# list(), tuple(), set() iterable타입의 객체를 list, tuple, set 으로 변환"
   ]
  },
  {
   "cell_type": "code",
   "execution_count": 36,
   "metadata": {},
   "outputs": [],
   "source": [
    "#list = range(1,10)"
   ]
  },
  {
   "cell_type": "code",
   "execution_count": 37,
   "metadata": {
    "scrolled": true
   },
   "outputs": [
    {
     "data": {
      "text/plain": [
       "[1, 2, 3, 4, 5, 6, 7, 8, 9, 10]"
      ]
     },
     "execution_count": 37,
     "metadata": {},
     "output_type": "execute_result"
    }
   ],
   "source": [
    "list(range(1,11))"
   ]
  },
  {
   "cell_type": "code",
   "execution_count": 38,
   "metadata": {},
   "outputs": [
    {
     "data": {
      "text/plain": [
       "(0, 1, 2, 3, 4, 5, 6, 7, 8, 9)"
      ]
     },
     "execution_count": 38,
     "metadata": {},
     "output_type": "execute_result"
    }
   ],
   "source": [
    "tu = tuple(range(10))\n",
    "tu"
   ]
  },
  {
   "cell_type": "code",
   "execution_count": 39,
   "metadata": {},
   "outputs": [
    {
     "data": {
      "text/plain": [
       "{0, 1, 2, 3, 4}"
      ]
     },
     "execution_count": 39,
     "metadata": {},
     "output_type": "execute_result"
    }
   ],
   "source": [
    "s = set(range(5))\n",
    "s"
   ]
  },
  {
   "cell_type": "code",
   "execution_count": 40,
   "metadata": {},
   "outputs": [
    {
     "data": {
      "text/plain": [
       "[10, 9, 8, 7, 6, 5, 4, 3, 2, 1, 0, -1, -2, -3, -4, -5, -6, -7, -8, -9]"
      ]
     },
     "execution_count": 40,
     "metadata": {},
     "output_type": "execute_result"
    }
   ],
   "source": [
    "# 증감치가 음수일 경우 시작값 > 종료값\n",
    "list(range(10, -10, -1))"
   ]
  },
  {
   "cell_type": "code",
   "execution_count": 41,
   "metadata": {},
   "outputs": [
    {
     "name": "stdout",
     "output_type": "stream",
     "text": [
      "0 안녕\n",
      "1 안녕\n",
      "2 안녕\n",
      "3 안녕\n"
     ]
    }
   ],
   "source": [
    "# 안녕 10 번 반복 사용\n",
    "# 변수를 `_` : 반복문내에서 사용하지 않겠다.\n",
    "for _ in range(4):\n",
    "    print(_, \"안녕\")"
   ]
  },
  {
   "cell_type": "markdown",
   "metadata": {},
   "source": [
    "###  enumerate(iterable [, start=시작값]) => []는 생략가능"
   ]
  },
  {
   "cell_type": "code",
   "execution_count": 42,
   "metadata": {},
   "outputs": [
    {
     "name": "stdout",
     "output_type": "stream",
     "text": [
      "(0, '가')\n",
      "(1, '나')\n",
      "(2, '다')\n",
      "(3, '라')\n",
      "(4, '마')\n"
     ]
    }
   ],
   "source": [
    "str_list = [\"가\", \"나\", \"다\", \"라\", \"마\"]\n",
    "for s in enumerate(str_list):\n",
    "    print(s)"
   ]
  },
  {
   "cell_type": "code",
   "execution_count": 43,
   "metadata": {},
   "outputs": [
    {
     "name": "stdout",
     "output_type": "stream",
     "text": [
      "3 라\n"
     ]
    }
   ],
   "source": [
    "for idx, s in enumerate(str_list):\n",
    "    if idx == 3:\n",
    "        print(idx, s)"
   ]
  },
  {
   "cell_type": "code",
   "execution_count": 44,
   "metadata": {},
   "outputs": [
    {
     "name": "stdout",
     "output_type": "stream",
     "text": [
      "1 가\n",
      "2 나\n",
      "3 다\n",
      "4 라\n",
      "5 마\n"
     ]
    }
   ],
   "source": [
    "for idx, s in enumerate(str_list, start=1):\n",
    "    print(idx, s)"
   ]
  },
  {
   "cell_type": "markdown",
   "metadata": {},
   "source": [
    "###  zip(iterable, iterable [, ......})  "
   ]
  },
  {
   "cell_type": "code",
   "execution_count": 45,
   "metadata": {},
   "outputs": [],
   "source": [
    "a = [1, 2, 3]\n",
    "b = [10, 20, 30]\n",
    "c = 100, 200, 300,\n",
    "d = {'가', '나', '다'}"
   ]
  },
  {
   "cell_type": "code",
   "execution_count": 46,
   "metadata": {},
   "outputs": [
    {
     "name": "stdout",
     "output_type": "stream",
     "text": [
      "(1, 10, 100, '다')\n",
      "(2, 20, 200, '나')\n",
      "(3, 30, 300, '가')\n"
     ]
    }
   ],
   "source": [
    "for v in zip(a, b, c, d):\n",
    "    print(v)"
   ]
  },
  {
   "cell_type": "code",
   "execution_count": 47,
   "metadata": {},
   "outputs": [],
   "source": [
    "names = ['홍길동', '이순신', '박영희', '윤우상']\n",
    "ages = [20, 30, 40, 25]\n",
    "talls = [170, 180, 190, 172]"
   ]
  },
  {
   "cell_type": "code",
   "execution_count": 48,
   "metadata": {},
   "outputs": [
    {
     "name": "stdout",
     "output_type": "stream",
     "text": [
      "('홍길동', 20, 170)\n",
      "('이순신', 30, 180)\n",
      "('박영희', 40, 190)\n",
      "('윤우상', 25, 172)\n"
     ]
    }
   ],
   "source": [
    "for info in zip(names, ages, talls):\n",
    "    print(info)"
   ]
  },
  {
   "cell_type": "code",
   "execution_count": 49,
   "metadata": {},
   "outputs": [
    {
     "name": "stdout",
     "output_type": "stream",
     "text": [
      "홍길동 20 170\n",
      "이순신 30 180\n",
      "박영희 40 190\n",
      "윤우상 25 172\n"
     ]
    }
   ],
   "source": [
    "for name, age, tall in zip(names, ages, talls):\n",
    "    print(name, age, tall)"
   ]
  },
  {
   "cell_type": "markdown",
   "metadata": {},
   "source": [
    "##  comprehension"
   ]
  },
  {
   "cell_type": "code",
   "execution_count": 50,
   "metadata": {},
   "outputs": [],
   "source": [
    "lst = [1, 2, 3, 4, 5, 6]\n",
    "# lst의 원소들에 10을 더한 값들을 원소로 가지는 리스트를 생성.\n"
   ]
  },
  {
   "cell_type": "code",
   "execution_count": 51,
   "metadata": {},
   "outputs": [
    {
     "data": {
      "text/plain": [
       "[11, 12, 13, 14, 15, 16]"
      ]
     },
     "execution_count": 51,
     "metadata": {},
     "output_type": "execute_result"
    }
   ],
   "source": [
    "lst2 = []\n",
    "for num in lst:\n",
    "    lst2.append(num + 10)\n",
    "lst2"
   ]
  },
  {
   "cell_type": "code",
   "execution_count": 52,
   "metadata": {},
   "outputs": [],
   "source": [
    "result = [num+10 for num in lst] # 최종적으로 만든것이 list이기 때문에 컴프리헨션"
   ]
  },
  {
   "cell_type": "code",
   "execution_count": 53,
   "metadata": {},
   "outputs": [
    {
     "name": "stdout",
     "output_type": "stream",
     "text": [
      "[11, 12, 13, 14, 15, 16]\n"
     ]
    }
   ],
   "source": [
    "print(lst2)"
   ]
  },
  {
   "cell_type": "code",
   "execution_count": 54,
   "metadata": {},
   "outputs": [
    {
     "data": {
      "text/plain": [
       "({11, 12, 13, 14, 15, 16}, set)"
      ]
     },
     "execution_count": 54,
     "metadata": {},
     "output_type": "execute_result"
    }
   ],
   "source": [
    "result2 = {num+10 for num in lst} # 최종적으로 만든것이 set이기 때문에 컴프리헨션\n",
    "result2, type(result2)"
   ]
  },
  {
   "cell_type": "code",
   "execution_count": 55,
   "metadata": {},
   "outputs": [],
   "source": [
    "lst = [1, 2, 3, 4, 5, 6]"
   ]
  },
  {
   "cell_type": "code",
   "execution_count": 56,
   "metadata": {
    "scrolled": false
   },
   "outputs": [
    {
     "data": {
      "text/plain": [
       "({1: '가', 2: '가', 3: '가', 4: '가', 5: '가', 6: '가'}, dict)"
      ]
     },
     "execution_count": 56,
     "metadata": {},
     "output_type": "execute_result"
    }
   ],
   "source": [
    "result2 = {num:'가' for num in lst} #{k:v, k:v} # 최종적으로 만든것이 set이기 때문에 컴프리헨션\n",
    "result2, type(result2)"
   ]
  },
  {
   "cell_type": "code",
   "execution_count": 57,
   "metadata": {},
   "outputs": [
    {
     "data": {
      "text/plain": [
       "[11, 12, 13, 14, 15, 16]"
      ]
     },
     "execution_count": 57,
     "metadata": {},
     "output_type": "execute_result"
    }
   ],
   "source": [
    "lst2"
   ]
  },
  {
   "cell_type": "code",
   "execution_count": 58,
   "metadata": {},
   "outputs": [
    {
     "name": "stdout",
     "output_type": "stream",
     "text": [
      "(0, 11)\n",
      "(1, 12)\n",
      "(2, 13)\n",
      "(3, 14)\n",
      "(4, 15)\n",
      "(5, 16)\n"
     ]
    }
   ],
   "source": [
    "for num in enumerate(lst2):\n",
    "    print(num)"
   ]
  },
  {
   "cell_type": "code",
   "execution_count": 59,
   "metadata": {},
   "outputs": [
    {
     "data": {
      "text/plain": [
       "{0: 11, 1: 12, 2: 13, 3: 14, 4: 15, 5: 16}"
      ]
     },
     "execution_count": 59,
     "metadata": {},
     "output_type": "execute_result"
    }
   ],
   "source": [
    "result3 = {idx:num for idx, num in enumerate(lst2)}\n",
    "result3"
   ]
  },
  {
   "cell_type": "code",
   "execution_count": 60,
   "metadata": {},
   "outputs": [],
   "source": [
    "dic = {}\n",
    "for idx, num in enumerate(lst2):\n",
    "    dic[idx] = num"
   ]
  },
  {
   "cell_type": "code",
   "execution_count": 61,
   "metadata": {},
   "outputs": [
    {
     "data": {
      "text/plain": [
       "{0: 11, 1: 12, 2: 13, 3: 14, 4: 15, 5: 16}"
      ]
     },
     "execution_count": 61,
     "metadata": {},
     "output_type": "execute_result"
    }
   ],
   "source": [
    "dic"
   ]
  },
  {
   "cell_type": "code",
   "execution_count": 62,
   "metadata": {},
   "outputs": [],
   "source": [
    "num_list = list(range(100))"
   ]
  },
  {
   "cell_type": "code",
   "execution_count": 63,
   "metadata": {},
   "outputs": [
    {
     "data": {
      "text/plain": [
       "[0, 10, 20, 30, 40, 50, 60, 70, 80, 90]"
      ]
     },
     "execution_count": 63,
     "metadata": {},
     "output_type": "execute_result"
    }
   ],
   "source": [
    "# num_list의 원소들 중에 1-의 배수만 가지는 리스트를 생성\n",
    "result = []\n",
    "for num in num_list:\n",
    "    if num%10 == 0:\n",
    "        result.append(num)\n",
    "result"
   ]
  },
  {
   "cell_type": "code",
   "execution_count": 64,
   "metadata": {},
   "outputs": [
    {
     "data": {
      "text/plain": [
       "[0, 10, 20, 30, 40, 50, 60, 70, 80, 90]"
      ]
     },
     "execution_count": 64,
     "metadata": {},
     "output_type": "execute_result"
    }
   ],
   "source": [
    "result2 = [num for num in num_list if num%10 == 0]\n",
    "result2"
   ]
  },
  {
   "cell_type": "code",
   "execution_count": 65,
   "metadata": {},
   "outputs": [],
   "source": [
    "# [변수 for 변수 in iterable [for in 또는 if 문] [for in 또는 if 문] ...] posible 이 이상하면 보기가 힘듬"
   ]
  },
  {
   "cell_type": "markdown",
   "metadata": {},
   "source": [
    "#  튜두"
   ]
  },
  {
   "cell_type": "code",
   "execution_count": null,
   "metadata": {
    "scrolled": true
   },
   "outputs": [],
   "source": [
    "#(1) 다음 점수 구간에 맞게 학점을 출력하세요.\n",
    "# 91 ~ 100 : A학점\n",
    "# 81 ~ 90 :  B학점\n",
    "# 71 ~ 80 :  C학점\n",
    "# 61 ~ 70 :  D학점\n",
    "# 60이하   :  F학점\n",
    "score = int(input())\n",
    "if score > 90:\n",
    "    print(\"A학점\")\n",
    "elif score > 80:\n",
    "    print(\"B학점\")\n",
    "elif score > 70:\n",
    "    print(\"C학점\")\n",
    "elif score > 60:\n",
    "    print(\"D학점\")\n",
    "else:\n",
    "    print(\"F학점\")"
   ]
  },
  {
   "cell_type": "code",
   "execution_count": 82,
   "metadata": {},
   "outputs": [
    {
     "name": "stdout",
     "output_type": "stream",
     "text": [
      "89.0\n"
     ]
    }
   ],
   "source": [
    "#(2) 아래 리스트의 평균을 구하시오.\n",
    "jumsu = [100, 90, 100, 80, 70, 100, 80, 90, 95, 85]\n",
    "for _ in jumsu:\n",
    "    avg = sum(jumsu) / len(jumsu)\n",
    "print(avg)    \n",
    "\n",
    "# total = 0\n",
    "# for i in jumsu:\n",
    "#     total+=i\n",
    "# print(total / len(jumsu))"
   ]
  },
  {
   "cell_type": "code",
   "execution_count": 83,
   "metadata": {},
   "outputs": [
    {
     "name": "stdout",
     "output_type": "stream",
     "text": [
      "0-pass\n",
      "1-pass\n",
      "2-pass\n",
      "3-fail\n",
      "4-fail\n",
      "5-pass\n",
      "6-fail\n",
      "7-pass\n",
      "8-pass\n",
      "9-fail\n"
     ]
    }
   ],
   "source": [
    "#(3) 위 jumsu리스트에서 평균점수이상은 pass, 미만은 fail을 index번호와 함께 출력하시오. (ex: 0-pass, 1-pass, 2-fail)\n",
    "#################################\n",
    "# result_lst = []\n",
    "# for jumsu_idx in jumsu:\n",
    "#     if jumsu_idx > avg:\n",
    "#         jumsu_idx = \"pass\"\n",
    "#         result_lst.append(jumsu_idx)\n",
    "#     else:\n",
    "#         jumsu_idx = \"fail\"\n",
    "#         result_lst.append(jumsu_idx)\n",
    "# lst = [idx, value for idx, value in enumerate(result_lst)]\n",
    "# print(lst)\n",
    "#################################\n",
    "for idx, num in enumerate(jumsu):\n",
    "    if num >= avg:\n",
    "        print(\"{0}-pass\".format(idx))\n",
    "    else:\n",
    "        print(\"{0}-fail\".format(idx))\n",
    "#################################\n",
    "# for i in range(len(jumsu)):\n",
    "#     if jumsu[i] >= avg:\n",
    "#         print(\"{0}-pass\".format(i)) \n",
    "#     else:\n",
    "#         jumsu[i] = \"fail\"\n",
    "#     print(\"{0}-fail\".format(i))   "
   ]
  },
  {
   "cell_type": "code",
   "execution_count": 84,
   "metadata": {},
   "outputs": [
    {
     "name": "stdout",
     "output_type": "stream",
     "text": [
      "95\n"
     ]
    }
   ],
   "source": [
    "\t\t\n",
    "#(4) 아래 리스트 값들 중 최대값을 조회해 출력\n",
    "jumsu = [60, 90, 80, 80, 70, 55, 80, 90, 95, 85]\n",
    "# max(jumsu)\n",
    "maxmum = jumsu[0]\n",
    "for i in jumsu:\n",
    "    if maxmum < i:\n",
    "        maxmum = i\n",
    "print(maxmum)"
   ]
  },
  {
   "cell_type": "code",
   "execution_count": 85,
   "metadata": {},
   "outputs": [
    {
     "name": "stdout",
     "output_type": "stream",
     "text": [
      "갑\n",
      "을\n",
      "병\n",
      "['갑', '을', '병']\n",
      "['갑', '을', '병']\n"
     ]
    }
   ],
   "source": [
    "#(5) 다음 리스트 중에서 '정' 글자를 제외하고 출력하세요.\n",
    "str_list = [\"갑\", \"을\", \"병\", \"정\"]\n",
    "for i in str_list:\n",
    "    if i != \"정\":\n",
    "        print(i)\n",
    "print(str_list[:3])\n",
    "str_list.pop(3)\n",
    "print(str_list)"
   ]
  },
  {
   "cell_type": "code",
   "execution_count": 86,
   "metadata": {},
   "outputs": [],
   "source": [
    "#(6) 사용자로부터 정수를 입력받아 그 단의 구구단을 출력하시오.\n",
    "# ex) 단을 입력하시오 : 2\n",
    "# 2 x 1 = 2\n",
    "# 2 x 2 = 4\n",
    "#..\n",
    "# 2 x 9 = 18\n",
    "#컴프리헨션\n",
    "# num = int(input(\"단을 입력하시오 :\"))\n",
    "# for i in range(1, 10):\n",
    "#     print(\"{0} x {1} = {2}\".format(num, i, num*i))\n",
    "#     print(\"%d x %d = %d\" % (num, i, num*i))"
   ]
  },
  {
   "cell_type": "code",
   "execution_count": 87,
   "metadata": {
    "scrolled": false
   },
   "outputs": [
    {
     "name": "stdout",
     "output_type": "stream",
     "text": [
      "2 x 1 = 2\t3 x 1 = 3\t4 x 1 = 4\t5 x 1 = 5\t6 x 1 = 6\t7 x 1 = 7\t8 x 1 = 8\t9 x 1 = 9\t\n",
      "2 x 2 = 4\t3 x 2 = 6\t4 x 2 = 8\t5 x 2 = 10\t6 x 2 = 12\t7 x 2 = 14\t8 x 2 = 16\t9 x 2 = 18\t\n",
      "2 x 3 = 6\t3 x 3 = 9\t4 x 3 = 12\t5 x 3 = 15\t6 x 3 = 18\t7 x 3 = 21\t8 x 3 = 24\t9 x 3 = 27\t\n",
      "2 x 4 = 8\t3 x 4 = 12\t4 x 4 = 16\t5 x 4 = 20\t6 x 4 = 24\t7 x 4 = 28\t8 x 4 = 32\t9 x 4 = 36\t\n",
      "2 x 5 = 10\t3 x 5 = 15\t4 x 5 = 20\t5 x 5 = 25\t6 x 5 = 30\t7 x 5 = 35\t8 x 5 = 40\t9 x 5 = 45\t\n",
      "2 x 6 = 12\t3 x 6 = 18\t4 x 6 = 24\t5 x 6 = 30\t6 x 6 = 36\t7 x 6 = 42\t8 x 6 = 48\t9 x 6 = 54\t\n",
      "2 x 7 = 14\t3 x 7 = 21\t4 x 7 = 28\t5 x 7 = 35\t6 x 7 = 42\t7 x 7 = 49\t8 x 7 = 56\t9 x 7 = 63\t\n",
      "2 x 8 = 16\t3 x 8 = 24\t4 x 8 = 32\t5 x 8 = 40\t6 x 8 = 48\t7 x 8 = 56\t8 x 8 = 64\t9 x 8 = 72\t\n",
      "2 x 9 = 18\t3 x 9 = 27\t4 x 9 = 36\t5 x 9 = 45\t6 x 9 = 54\t7 x 9 = 63\t8 x 9 = 72\t9 x 9 = 81\t\n"
     ]
    }
   ],
   "source": [
    "# 구구단 표\n",
    "for num in range(1, 10):\n",
    "    for dan in range(2, 10):\n",
    "        print(\"{0} x {1} = {2}\".format(dan, num, dan*num), end=\"\\t\")\n",
    "    print()"
   ]
  },
  {
   "cell_type": "code",
   "execution_count": 88,
   "metadata": {},
   "outputs": [],
   "source": [
    "# comprehension"
   ]
  },
  {
   "cell_type": "code",
   "execution_count": 89,
   "metadata": {},
   "outputs": [
    {
     "name": "stdout",
     "output_type": "stream",
     "text": [
      "[20, 60, 140, 10, 240, 1400, 2, 70]\n"
     ]
    }
   ],
   "source": [
    "#(7) 다음 리스트가 가진 값에 두배(* 2)를 가지는 새로운 리스트를 만드시오. (리스트 컴프리헨션 이용)\n",
    "lst = [10, 30, 70, 5, 120, 700, 1, 35]\n",
    "result = [i * 2 for i in lst] #################mapping 한다라고 말한다.#########################\n",
    "print(result)"
   ]
  },
  {
   "cell_type": "code",
   "execution_count": 90,
   "metadata": {},
   "outputs": [
    {
     "data": {
      "text/plain": [
       "[(10, 100),\n",
       " (30, 300),\n",
       " (70, 700),\n",
       " (5, 50),\n",
       " (5, 50),\n",
       " (120, 1200),\n",
       " (700, 7000),\n",
       " (1, 10),\n",
       " (35, 350),\n",
       " (35, 350)]"
      ]
     },
     "execution_count": 90,
     "metadata": {},
     "output_type": "execute_result"
    }
   ],
   "source": [
    "#(8) 다음 리스트가 가진 값에 10배의 값을 가지는 값을 (원래값, 10배값) 의 튜플묶음으로 가지는 리스트를 만드시오 (리스트 컴프리헨션 이용)\n",
    "# Ex) [(10,100), (30,300), .., (35, 350)]\n",
    "lst = [10, 30, 70, 5, 5, 120, 700, 1, 35, 35]\n",
    "result = [(i, i*10) for i in lst]\n",
    "result"
   ]
  },
  {
   "cell_type": "code",
   "execution_count": 91,
   "metadata": {},
   "outputs": [
    {
     "data": {
      "text/plain": [
       "[3, 33, 21, 33, 60, 120]"
      ]
     },
     "execution_count": 91,
     "metadata": {},
     "output_type": "execute_result"
    }
   ],
   "source": [
    "#(9) 다음 리스트가 가진 값들 중 3의 배수만 가지는 리스트를 만드시오. (리스트 컴프리헨션 이용)\n",
    "lst2 = [ 3, 20, 33, 21, 33, 8, 11, 10, 7, 17, 60, 120, 2]\n",
    "result = [i for i in lst2 if i%3 == 0] ################filtering#############\n",
    "result"
   ]
  },
  {
   "cell_type": "code",
   "execution_count": 92,
   "metadata": {},
   "outputs": [
    {
     "data": {
      "text/plain": [
       "['a.exe', 'function.exe', 'b.exe', 'run.exe']"
      ]
     },
     "execution_count": 92,
     "metadata": {},
     "output_type": "execute_result"
    }
   ],
   "source": [
    "#(10) 다음 파일이름들을 담은 리스트에서 확장자가 exe인 파일만 골라서 새로운 리스트에 담으시오.(string의 endswith()함수 이용)\n",
    "file_name=[\"test.txt\", \"a.exe\", \"jupyter.bat\", \"function.exe\", \"b.exe\", \"cat.jpg\", \"dog.png\", \"run.exe\", \"i.dll\"]\n",
    "[i for i in file_name if i.endswith(\"exe\")]\n",
    "[i for i in file_name if \"exe\" in i]"
   ]
  },
  {
   "cell_type": "code",
   "execution_count": 93,
   "metadata": {},
   "outputs": [
    {
     "data": {
      "text/plain": [
       "['mystroy.txt', 'jupyter.bat', 'function.exe']"
      ]
     },
     "execution_count": 93,
     "metadata": {},
     "output_type": "execute_result"
    }
   ],
   "source": [
    "#(11) 다음 중 10글자 이상인 파일명(확장자포함)만 가지는 리스트를 만드시오.\n",
    "file_name=[\"mystroy.txt\", \"a.exe\", \"jupyter.bat\", \"function.exe\", \"b.exe\", \"cat.jpg\", \"dog.png\", \"run.exe\", \"i.dll\"]\n",
    "result = [file_name_val for file_name_val in file_name if len(file_name_val) >= 10]\n",
    "result"
   ]
  },
  {
   "cell_type": "code",
   "execution_count": 94,
   "metadata": {},
   "outputs": [
    {
     "data": {
      "text/plain": [
       "{'mystroy.txt': 11, 'jupyter.bat': 11, 'function.exe': 12}"
      ]
     },
     "execution_count": 94,
     "metadata": {},
     "output_type": "execute_result"
    }
   ],
   "source": [
    "result = {file_name_val:len(file_name_val) for file_name_val in file_name if len(file_name_val) >= 10}\n",
    "\n",
    "result"
   ]
  },
  {
   "cell_type": "code",
   "execution_count": null,
   "metadata": {},
   "outputs": [],
   "source": []
  },
  {
   "cell_type": "code",
   "execution_count": 95,
   "metadata": {},
   "outputs": [],
   "source": [
    "# 예측할 숫자를 생성\n",
    "# import random\n",
    "# num = random.randint(1,100) # 1 ~ 100(포함) 사이의 정수를 실행시마다 랜덤하게 반환.\n",
    "# print(num)"
   ]
  },
  {
   "cell_type": "markdown",
   "metadata": {},
   "source": [
    "## 플로우\n",
    "1. 예측 숫자 설정\n",
    "2. 시도횟수를 저장할 변수 선언\n",
    "3. input() 값을 받는다.\n",
    "4. 입력받은 숫자와 예측숫자를 비교\n",
    "\n",
    "    4-1 같으면 몇번째 성공했는지 출력하고 종료\n",
    "    \n",
    "    4-2 입력값이 더 큰 경우 '작은숫자를 입력하세여' 출력하고 다시 입력\n",
    "    \n",
    "    4-3 입력값이 더 큰 경우 '더 큰숫자를 입력하세여' 출력하고 다시 입력\n",
    "    \n",
    "5.  맞추때 4번 까지 반복"
   ]
  },
  {
   "cell_type": "code",
   "execution_count": 104,
   "metadata": {},
   "outputs": [
    {
     "name": "stdout",
     "output_type": "stream",
     "text": [
      "45\n",
      "숫자을 입력하세요 : 10\n",
      "1번째 시도\n",
      "틀렸습니다.10 보다 큽니다.\n",
      "====================\n",
      "숫자을 입력하세요 : 60\n",
      "2번째 시도\n",
      "틀렸습니다. 60 보다 작습니다.\n",
      "====================\n",
      "숫자을 입력하세요 : 50\n",
      "3번째 시도\n",
      "틀렸습니다. 50 보다 작습니다.\n",
      "==========\n",
      "실패했습니다.\n",
      "==========\n"
     ]
    }
   ],
   "source": [
    "import random\n",
    "answer = random.randint(1, 100)\n",
    "cnt = 1\n",
    "\n",
    "max_cnt = 3\n",
    "print(answer)\n",
    "while True:\n",
    "    n = int(input(\"숫자을 입력하세요 : \"))\n",
    "    if n == answer:\n",
    "        print(\"{0}번째 시도\".format(cnt))\n",
    "        print(\"정답입니다. 축하합니다.\")\n",
    "        break\n",
    "    elif n > answer:\n",
    "        print(\"{0}번째 시도\".format(cnt))\n",
    "        print(\"틀렸습니다. {0} 보다 작습니다.\".format(n))\n",
    "    elif n < answer:\n",
    "        print(\"{0}번째 시도\".format(cnt))\n",
    "        print(\"틀렸습니다.{0} 보다 큽니다.\".format(n))\n",
    "        \n",
    "    if max_cnt == cnt:\n",
    "        print(\"=\"*10)\n",
    "        print(\"실패했습니다.\")\n",
    "        print(\"=\"*10)\n",
    "        break\n",
    "    cnt+=1\n",
    "    print(\"=\" * 20)"
   ]
  },
  {
   "cell_type": "code",
   "execution_count": 72,
   "metadata": {},
   "outputs": [
    {
     "name": "stdout",
     "output_type": "stream",
     "text": [
      "25\n",
      "100 99 1\n",
      "더 작은 값을 입력하세요\n",
      "25\n",
      "96 95 1\n",
      "더 작은 값을 입력하세요\n",
      "25\n",
      "6 95 5\n",
      "더 큰 값을 입력하세요\n",
      "25\n",
      "34 33 5\n",
      "더 작은 값을 입력하세요\n",
      "25\n",
      "8 33 7\n",
      "더 큰 값을 입력하세요\n",
      "25\n",
      "31 30 7\n",
      "더 작은 값을 입력하세요\n",
      "25\n",
      "15 30 14\n",
      "더 큰 값을 입력하세요\n",
      "25\n",
      "19 30 18\n",
      "더 큰 값을 입력하세요\n",
      "25\n",
      "21 30 20\n",
      "더 큰 값을 입력하세요\n",
      "25\n",
      "24 30 23\n",
      "더 큰 값을 입력하세요\n",
      "25\n",
      "24 30 23\n",
      "더 큰 값을 입력하세요\n",
      "25\n",
      "23 30 22\n",
      "더 큰 값을 입력하세요\n",
      "25\n",
      "22 30 21\n",
      "더 큰 값을 입력하세요\n",
      "25\n",
      "21 30 20\n",
      "더 큰 값을 입력하세요\n",
      "====================\n",
      "25\n",
      "25 30 20\n",
      "15번만에 정답을 맞쳤습니다.\n",
      "====================\n"
     ]
    }
   ],
   "source": [
    "import random\n",
    "\n",
    "ans = random.randint(1, 100)\n",
    "high = 100\n",
    "low = 1\n",
    "cnt = 0\n",
    "\n",
    "while True:\n",
    "    auto_ans = random.randint(low, high)\n",
    "    if ans > auto_ans:\n",
    "        cnt+=1\n",
    "        low = auto_ans\n",
    "        print(ans)\n",
    "        print(auto_ans, high, low)\n",
    "        print(\"더 큰 값을 입력하세요\")\n",
    "    elif ans < auto_ans:\n",
    "        cnt+=1\n",
    "        high = auto_ans\n",
    "        print(ans)\n",
    "        print(auto_ans, high, low)\n",
    "        print(\"더 작은 값을 입력하세요\")\n",
    "    else:\n",
    "        cnt+=1\n",
    "        print(\"=\"*20)\n",
    "        print(ans)\n",
    "        print(auto_ans, low, high)\n",
    "        print('{0}번만에 정답을 맞쳤습니다.'.format(cnt))\n",
    "        print(\"=\"*20)\n",
    "        break"
   ]
  },
  {
   "cell_type": "code",
   "execution_count": 5,
   "metadata": {},
   "outputs": [
    {
     "name": "stdout",
     "output_type": "stream",
     "text": [
      "{'a': 48, 'b': 51, 'c': 50}\n"
     ]
    }
   ],
   "source": [
    "lst = ['a', 'b', 'c', 'b']\n",
    "\n",
    "dic = {key:val for val, key in enumerate(lst, 48)}\n",
    "print(dic)"
   ]
  },
  {
   "cell_type": "code",
   "execution_count": 6,
   "metadata": {},
   "outputs": [],
   "source": [
    "l = [\n",
    "    (1, 2, 3),\n",
    "    (10, 20, 30), \n",
    "    (100, 200, 300, 400)\n",
    "]"
   ]
  },
  {
   "cell_type": "code",
   "execution_count": 8,
   "metadata": {},
   "outputs": [],
   "source": [
    "k = []\n",
    "for i in l:\n",
    "    for j in i:\n",
    "        k.append(j)"
   ]
  },
  {
   "cell_type": "code",
   "execution_count": 11,
   "metadata": {},
   "outputs": [
    {
     "name": "stdout",
     "output_type": "stream",
     "text": [
      "[1, 2, 3, 10, 20, 30, 100, 200, 300, 400]\n"
     ]
    }
   ],
   "source": [
    "print(k)"
   ]
  },
  {
   "cell_type": "code",
   "execution_count": 12,
   "metadata": {},
   "outputs": [
    {
     "name": "stdout",
     "output_type": "stream",
     "text": [
      "[1, 2, 3, 10, 20, 30, 100, 200, 300, 400]\n"
     ]
    }
   ],
   "source": [
    "k1 = [j for i in l for j in i]\n",
    "print(k1)"
   ]
  },
  {
   "cell_type": "code",
   "execution_count": 13,
   "metadata": {},
   "outputs": [
    {
     "data": {
      "text/plain": [
       "[3, 30, 300]"
      ]
     },
     "execution_count": 13,
     "metadata": {},
     "output_type": "execute_result"
    }
   ],
   "source": [
    "[j for i in l for j in i if j%3==0]"
   ]
  },
  {
   "cell_type": "code",
   "execution_count": 4,
   "metadata": {},
   "outputs": [],
   "source": [
    "def trans_dict(lst, n):\n",
    "    dict = {key:val for val, key in enumerate(lst, n)}\n",
    "    return dict"
   ]
  },
  {
   "cell_type": "code",
   "execution_count": 15,
   "metadata": {},
   "outputs": [
    {
     "name": "stdout",
     "output_type": "stream",
     "text": [
      "{0: 48, 1: 49, 2: 50, 3: 51, 4: 52, 5: 53, 6: 54, 7: 55, 8: 56, 9: 57}\n",
      "\n",
      "{'A': 75, 'B': 76, 'C': 77, 'D': 78, 'E': 79, 'F': 80, 'G': 81, 'H': 82, 'I': 83, 'J': 84, 'L': 86, 'M': 87, 'N': 88, 'O': 89, 'P': 90, 'Q': 91, 'R': 92, 'S': 93, 'T': 94, 'U': 95, 'V': 96, 'W': 97, 'X': 98, 'Y': 99, 'Z': 100}\n",
      "\n",
      "{'a': 95, 'b': 96, 'c': 97, 'd': 98, 'e': 99, 'f': 100, 'g': 104, 'h': 102, 'i': 103, 'k': 105, 'l': 106, 'm': 107, 'n': 108, 'o': 109, 'p': 110, 'q': 111, 'r': 112, 's': 113, 't': 114, 'u': 115, 'v': 116, 'w': 117, 'x': 118, 'y': 119, 'z': 120}\n"
     ]
    }
   ],
   "source": [
    "num_lst = [0, 1, 2, 3, 4, 5, 6, 7, 8, 9]\n",
    "uper_lst = list('ABCDEFGHIJLLMNOPQRSTUVWXYZ')\n",
    "lower_lst = list('abcdefghigklmnopqrstuvwxyz')\n",
    "\n",
    "num_dict = trans_dict(num_lst, 48)\n",
    "uper_dict = trans_dict(uper_lst, 75)\n",
    "lower_dict = {key:val for val, key in enumerate(lower_lst, 95)}\n",
    "print(num_dict)\n",
    "print()\n",
    "print(uper_dict)\n",
    "print()\n",
    "print(lower_dict)"
   ]
  },
  {
   "cell_type": "code",
   "execution_count": null,
   "metadata": {},
   "outputs": [],
   "source": []
  },
  {
   "cell_type": "code",
   "execution_count": null,
   "metadata": {},
   "outputs": [],
   "source": []
  },
  {
   "cell_type": "code",
   "execution_count": null,
   "metadata": {},
   "outputs": [],
   "source": []
  },
  {
   "cell_type": "code",
   "execution_count": null,
   "metadata": {},
   "outputs": [],
   "source": []
  }
 ],
 "metadata": {
  "kernelspec": {
   "display_name": "Python 3",
   "language": "python",
   "name": "python3"
  },
  "language_info": {
   "codemirror_mode": {
    "name": "ipython",
    "version": 3
   },
   "file_extension": ".py",
   "mimetype": "text/x-python",
   "name": "python",
   "nbconvert_exporter": "python",
   "pygments_lexer": "ipython3",
   "version": "3.8.5"
  }
 },
 "nbformat": 4,
 "nbformat_minor": 4
}
