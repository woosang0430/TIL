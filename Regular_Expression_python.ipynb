{
 "cells": [
  {
   "cell_type": "markdown",
   "metadata": {},
   "source": [
    "# 정규 표현식(regular expression)"
   ]
  },
  {
   "cell_type": "markdown",
   "metadata": {},
   "source": [
    "## 1. 정규 표현식\n",
    "- 텍스트의 특정한 형태나 규칙의 문자열을 찾기 위해 **규칙 정의**한 것\n",
    "- **정규식, Regexp**이라고도 한다."
   ]
  },
  {
   "cell_type": "markdown",
   "metadata": {},
   "source": [
    "### 1-2 기본개념\n",
    "- 메타문자\n",
    "   - **패턴**을 기술하기 위해 사용되는 의미를 갖는 문자\n",
    "   - ex) `a*` : a가 0회 이상 반복을 뜻함 a, aa, aaa..\n",
    "       - `a*` => 정규 표현식\n",
    "           - `a` : 리터럴 - 찾으려는 대상\n",
    "           - `*` : 메타문자 - 앞의 글자의 0회 이상 반복\n",
    "   - 리터럴\n",
    "       - 표현식의 값 자체를 의미"
   ]
  },
  {
   "cell_type": "markdown",
   "metadata": {},
   "source": [
    "## 2. 정규 표현식 메타 문자"
   ]
  },
  {
   "cell_type": "markdown",
   "metadata": {},
   "source": [
    "### 2-1 문자 클래스 : []\n",
    "- `[ ]` 사이의 문자들 매치\n",
    "    - `[abc]` : a, b, c 중 **하나의 문자**와 매치\n",
    "- `-`를 이용한 범위 설정\n",
    "    - `[a-z]`\n",
    "    - `[a-zA-Z0-9]`\n",
    "    - `[가-힣]`\n",
    "- `[^패턴]` : `^`으로 시작하면 **반대**의 의미(패턴을 **제외**하고)\n",
    "    - `[^abc]`\n",
    "    - `[^a-z]`\n",
    "    - `^` 대괄호 안 or 밖에 있는 것 차이 확인!"
   ]
  },
  {
   "cell_type": "markdown",
   "metadata": {},
   "source": [
    "### 2-2 정의된 문자 클래스\n",
    "- 대문자는 소문자의 **반대**\n",
    "- `\\d`, `\\D` : 숫자와 매치\n",
    "- `\\w`, `\\W` : 문자, 숫자, _와 매치\n",
    "- `\\s`, `\\S` : 공백문자(tab, \\n, 공백)와 매치\n",
    "- `\\b`, `\\B` : 단어 경계 표시, 보통 단어 경계로 공백을 의미\n",
    "    - `\\b` => 우리 가족 만세(o), 우리가족만세(x)\n",
    "    - `\\B` => 우리 가족 만세(x), 우리가족만세(o)"
   ]
  },
  {
   "cell_type": "markdown",
   "metadata": {},
   "source": [
    "### 2-3 글자수와 관련된 메타문자\n",
    "- `.` : 한개의 모든 문자(\\n 줄바꿈 제외)\n",
    "- `*` : 앞 문자(패턴)과 일치하는 문자 0개 이상인 경우\n",
    "- `+` : 앞 문자(패턴)과 일치하는 문자 1개 이상인 경우\n",
    "- `?` : 앞 문자(패턴)과 일치하는 문자 한개가 있거나 없는 경우\n",
    "- `{m}` : 앞의 문자(패턴) m개\n",
    "- `{m,}` : 앞의 문자(패턴) m개 이상\n",
    "- `{m, n}` : 앞의 문자(패턴) m개 이상, n개 이하"
   ]
  },
  {
   "cell_type": "markdown",
   "metadata": {},
   "source": [
    "### 2-4 문장의 시작과 끝 표현\n",
    "- `^` : 문자열의 시작(`^abc`) abc로 시작\n",
    "    - 문자 클래스([])의 `^`와는 다른 의미\n",
    "- `$`: 문자열의 끝(`abc$`) abc로 끝난다."
   ]
  },
  {
   "cell_type": "markdown",
   "metadata": {},
   "source": [
    "### 2-5 기타\n",
    "- `|` : 둘중 하나(**OR**) (010|011|016)\n",
    "    - `()`로 묶어서 사용한다.\n",
    "- `( )` : 패턴내 하위 그룹을 만들때 사용"
   ]
  },
  {
   "cell_type": "markdown",
   "metadata": {},
   "source": [
    "## 3 RE 함수"
   ]
  },
  {
   "cell_type": "markdown",
   "metadata": {},
   "source": [
    "### 3-1 검색함수\n",
    "- `match()`, `search()` : 패턴과 일치하는 문장이 있는지 여부 확인 용\n",
    "    - 앞에서 부터 하나만 가져옴\n",
    "- `findall()` : 패턴과 일치하는 문장을 찾을 때 사용\n",
    "    - 찾고자 하는 문장을 전부 가져옴"
   ]
  },
  {
   "cell_type": "markdown",
   "metadata": {},
   "source": [
    "### 3-1-1 Match 객체\n",
    "- **검색 결과**를 담아 반환\n",
    "- 패턴과 일치한 문자열과 대상문자열 내에서의 위치를 가지고 있는 객체\n",
    "- 주요 메소드\n",
    "    - `group()` : 매치된 문자열들을 튜플로 반환\n",
    "    - `group(subgroup 번호)` : 패턴에 하위 그룹이 지정된 경우 특정 그룹의 문자열 반환\n",
    "    - `start()`, `end()` : 대상 문자열내에서 시작, 끝 idx반환\n",
    "    - `span()` : 대상 문자열 내에서 시작, 끝 idx를 튜플로 반환"
   ]
  },
  {
   "cell_type": "markdown",
   "metadata": {},
   "source": [
    "### 3-1-2 match(대상문자열 [, pos=0])\n",
    "- 대상 문자열의 시작 부터 정규식과 일치하는 것이 있는지 조회\n",
    "- pos : 시작 idx지정\n",
    "- 반환값\n",
    "    - Match 객체 : 일치하는 문자열이 있는 경우\n",
    "    - None : 일치하는 문자열이 없는 경우"
   ]
  },
  {
   "cell_type": "code",
   "execution_count": null,
   "metadata": {},
   "outputs": [],
   "source": [
    "import re\n",
    "\n",
    "txt = \"안녕하세요. 제 나이는 20세 입니다.\" # 대상문자열\n",
    "m = re.match(r\"안녕하세요\", txt) # \"안녕하세요\"로 사작하냐? txt가 => 결과를 Match 객체로 반환\n",
    "m1 = re.match(r\"나이는\", txt) \n",
    "print(m)\n",
    "print(m1) # 일치하는 결과가 겂으면 None 반환\n",
    "if m1:\n",
    "    print(m1)\n",
    "else:\n",
    "    print(\"일치하는 결과가 없다.\")"
   ]
  },
  {
   "cell_type": "markdown",
   "metadata": {},
   "source": [
    "### 3-1-3 search(대상문자열 [, pos=0])\n",
    "- 대상 문자열의 시작 부터 정규식이 일치하는 것이 있는지 조회\n",
    "- pos : 찾기 시작하는 idx 지정\n",
    "- 반환값\n",
    "    - Match 객체 : 일치하는 문자열이 있는 경우\n",
    "    - None : 일치하는 문자열이 없는 경우     "
   ]
  },
  {
   "cell_type": "code",
   "execution_count": null,
   "metadata": {},
   "outputs": [],
   "source": [
    "import re\n",
    "txt = \"가격은 4000원, 2000원, 50000원 입니다.\"\n",
    "\n",
    "# m = re.search(r\"\\d\", txt) # re.search(패턴, 대상문자열) \\d:정수문자 1개\n",
    "m = re.search(r\"\\d+\", txt) # \\d+ : 정수문자 1개 이상\n",
    "m = re.search(r\"\\d{3}\", txt) # \\d{3} : 정수문자 3개\n",
    "m = re.search(r\"\\d{5}\", txt) # \\d{5} : 정수문자 5개\n",
    "if m: # 찾은 패턴이 대상에 있는지\n",
    "    print(m.group())# 패턴과 일치하는 문자열을 조회\n",
    "    print(m.span())\n",
    "else:\n",
    "    pass"
   ]
  },
  {
   "cell_type": "markdown",
   "metadata": {},
   "source": [
    "### 3-1-4 findall(대상문자열)\n",
    "- 대상문자열에서 정규식과 매칭되는 문자열들을 **리스트**로 반환\n",
    "- 반환값\n",
    "    - 리스트(list) : 일치하는 문자열들을 가진 리스트 반환\n",
    "    - 일치하는 문자열이 없는 경우 빈 리스트 반환"
   ]
  },
  {
   "cell_type": "code",
   "execution_count": null,
   "metadata": {},
   "outputs": [],
   "source": [
    "import re\n",
    "info ='''김정수 kjs@gmail.com 801023-1010221\n",
    "박영수 pys@gmail.com 700121-1120212\n",
    "이민영 lmy@naver.com 820301-2020122\n",
    "김순희 ksh@daum.net 781223-2012212\n",
    "오주연 ojy@daum.net 900522-1023218\n",
    "'''\n",
    "\n",
    "# 이메일 주소만 조회\n",
    "email_lst = re.findall(r\"\\w+@\\w+\\.\\w{2,4}\", info)\n",
    "print(email_lst)\n",
    "\n",
    "# 주민번호만 출력\n",
    "jumin_lst = re.findall(r\"\\d{6}\\-\\d{7}\", info)\n",
    "jumin_lst = re.findall(r\"\\d{6}\\-[12349]\\d{6}\", info)\n",
    "\n",
    "print(jumin_lst)"
   ]
  },
  {
   "cell_type": "markdown",
   "metadata": {},
   "source": [
    "## 3-2 문자열 변경(원래의 문자열은 바뀌지 않는다.)\n",
    "- `sub()` : 변경된 문자열 반환\n",
    "- `subn()` : 변경된 문자열, 변경개수 반환"
   ]
  },
  {
   "cell_type": "markdown",
   "metadata": {},
   "source": [
    "### 3-2-1 sub(바꿀문자열, 대상 문자열 [, count=양수])\n",
    "    - 대상문자열에서 패턴과 일치하는 것을 바꿀 문자열로 변경\n",
    "    - count : 변경할 개수를 지정. (기본: 매칭되는 문자열은 다 변경)\n",
    "    - 반환값 : 변경된 문자열"
   ]
  },
  {
   "cell_type": "code",
   "execution_count": null,
   "metadata": {},
   "outputs": [],
   "source": [
    "# 띄여 쓰기 여러개를 한개로 변경.\n",
    "import re\n",
    "txt= \"오늘            밥을           먹었다.\" # \"오늘 밥을 먹었다.\"\n",
    "txt = \"\"\"오늘은      월요일     입니다.\n",
    "내일은      화요일           입니다.\"\"\"\n",
    "# \\s => 공백 문자열 1개\n",
    "new_txt = re.sub(r\"\\s+\", \" \", txt) # sub(패턴, 바꿀문자열, 대상문자열)\n",
    "print(new_txt)\n",
    "print(txt)"
   ]
  },
  {
   "cell_type": "code",
   "execution_count": null,
   "metadata": {},
   "outputs": [],
   "source": [
    "# 전화번호에서 사용된 구분자를 제거. 각 전화번호를 구분하는 공백은 남긴다.\n",
    "tel = '010-1111-2222, 01033213201 (010)3213-3031'\n",
    "new_tel = re.sub(r\"[-()]\", \" \", tel)\n",
    "new_tel = re.sub(r\"\\D+\", \" \", tel)\n",
    "new_tel = re.sub(r\"[^0-9]\", \" \", tel)\n",
    "print(new_tel)"
   ]
  },
  {
   "cell_type": "markdown",
   "metadata": {},
   "source": [
    "### 3-2-2 subn(바꿀문자열, 대상문자열 [, count=양수])\n",
    "- sub()와 동일한 역할\n",
    "- 반환값 : (변경된 문자열, 변경된 문자열개수)를 튜플로 반환"
   ]
  },
  {
   "cell_type": "markdown",
   "metadata": {},
   "source": [
    "## 3-3 나누기 (토큰화)"
   ]
  },
  {
   "cell_type": "markdown",
   "metadata": {},
   "source": [
    "### 3-3-1 split(대상문자열)\n",
    "- pattern을 구분자로 문장을 나눈다.\n",
    "- 반환 : 나눈 문자열을 원소로 하는 리스트"
   ]
  },
  {
   "cell_type": "markdown",
   "metadata": {},
   "source": [
    "## 4. 그룹핑(Grouping)\n",
    "- 패턴 내에서 하위패턴을 만드는 것\n",
    "    - 전체 패턴에서 일부 패턴을 묶어준다."
   ]
  },
  {
   "cell_type": "markdown",
   "metadata": {},
   "source": [
    "### 4-1 전체 패턴 내에서 일부 패턴 조회\n",
    "- 전체 패턴과 일치하는 문자열을 찾은 뒤 안에서 하위패턴과 일치하는 문자열 조회"
   ]
  },
  {
   "cell_type": "code",
   "execution_count": 2,
   "metadata": {
    "collapsed": true
   },
   "outputs": [
    {
     "name": "stdout",
     "output_type": "stream",
     "text": [
      "010-1111-2345\n",
      "010\n",
      "1111-2345\n",
      "1111\n",
      "2345\n",
      "1111-2345\n"
     ]
    }
   ],
   "source": [
    "# 중첩 그룹\n",
    "import re\n",
    "tel = '010-1111-2345'\n",
    "pattern = r\"(\\d{2,3})-((\\d{3,4})-(\\d{4}))\"\n",
    "m = re.search(pattern, tel)\n",
    "print(m.group())\n",
    "print(m.group(1))\n",
    "print(m.group(2))\n",
    "print(m.group(3))\n",
    "print(m.group(4))\n",
    "print(m.group(3)+\"-\"+m.group(4))\n",
    "# 0 : 전체\n",
    "# 1 : (\\d{2,3})\n",
    "# 2 : ((\\d{3,4})-(\\d{4}))\n",
    "# 3 : (\\d{3,4})\n",
    "# 4 : (\\d{4})"
   ]
  },
  {
   "cell_type": "markdown",
   "metadata": {},
   "source": [
    "### 4-2 패턴 내에서 하위그룹 참조\n",
    "- `\\번호`\n",
    "- 지정한 '번호'번째 패턴으로 매칭된 문자열과 같은 문자열 의미"
   ]
  },
  {
   "cell_type": "code",
   "execution_count": null,
   "metadata": {},
   "outputs": [],
   "source": [
    "import re\n",
    "tel = \"\"\"010-1111-1111\n",
    "010-2222-3333\n",
    "010-3333-3333\n",
    "010-5555-6666\"\"\"\n",
    "# 가운데와 끝 번호가 같은 전화번호를 찾기\n",
    "pattern = r\"(\\d{2,3})-(\\d{3,4})-(\\2)\" # \\2 => 2번 소그룹의 패턴으로 찾은 문자열과 동일한 문자열\n",
    "\n",
    "# pattern = r\"\\d{2,3}-(\\d{3,4})-\\1\"\n",
    "\n",
    "l = re.findall(pattern, tel) # ( ) 묶인 소그룹으로 찾은 값들만 반환\n",
    "\n",
    "print(l)"
   ]
  },
  {
   "cell_type": "markdown",
   "metadata": {},
   "source": [
    "####  패턴내의 특정 부분만 변경\n",
    "- 첫번째 소그룹으로 찾은 부분을 `\"\\g<1>\"`로 표시\n",
    "- 뒤에 원하는거 추가 ㄱㄱ\n",
    "-  ex)\n",
    "```python\n",
    "pattern = r\"(\\d{6}-[0-4])\\d{6}\"\n",
    "new_info = re.sub(pattern, \"\\g<1>######\", info)\n",
    "print(new_info)\n",
    "```"
   ]
  },
  {
   "cell_type": "markdown",
   "metadata": {},
   "source": [
    "#### group으로 묶인 것 참조\n",
    "- Match객체에서 특정 그룹으로 찾은 문자열 조회\n",
    "    - match객체.group(괄호idx)\n",
    "- 패턴안에서 group을 참조\n",
    "    - `\\괄호index` ex)\\\\2\n",
    "- sub() 함수에서 대체 문자로 그룹을 참조\n",
    "    - `\"\\g<괄호index>` ex) \\\\g\\<n\\>"
   ]
  },
  {
   "cell_type": "markdown",
   "metadata": {},
   "source": [
    "## 5. Greedy 와 Non-Greedy\n",
    "- Greedy(탐욕스러운-최대일치) 의 의미\n",
    "    - 주어진 패턴에 만족하는 문자열을 최대한 넓게(길게) 잡아 찾는다.\n",
    "    - 매칭시 기본 방식\n",
    "- Non-Greedy(최소일치)\n",
    "    - 주어진 패턴에 만족하는 문자열을 최초의 일치하는 위치까지 찾는다\n",
    "    - 개수를 나타내는 메타문자에 **`?`**를 붙인다.\n",
    "    - `*?`, `+?`, `{m,n}?`"
   ]
  },
  {
   "cell_type": "code",
   "execution_count": 4,
   "metadata": {},
   "outputs": [
    {
     "name": "stdout",
     "output_type": "stream",
     "text": [
      "['<h1>', '<h2>', '</h2>', '</h1>'] 4\n"
     ]
    }
   ],
   "source": [
    "import re\n",
    "txt = '<h1>파이썬 정규식<h2>정규식이란</h2></h1>'\n",
    "pattern = r\"<.+?>\" #<한글자이상> . => 모든 한글자, + => 한글자 이상\n",
    "result = re.findall(pattern, txt)\n",
    "print(result, len(result))"
   ]
  },
  {
   "cell_type": "code",
   "execution_count": null,
   "metadata": {},
   "outputs": [],
   "source": []
  },
  {
   "cell_type": "code",
   "execution_count": null,
   "metadata": {},
   "outputs": [],
   "source": []
  },
  {
   "cell_type": "code",
   "execution_count": null,
   "metadata": {},
   "outputs": [],
   "source": []
  },
  {
   "cell_type": "code",
   "execution_count": null,
   "metadata": {},
   "outputs": [],
   "source": []
  }
 ],
 "metadata": {
  "kernelspec": {
   "display_name": "Python 3",
   "language": "python",
   "name": "python3"
  },
  "language_info": {
   "codemirror_mode": {
    "name": "ipython",
    "version": 3
   },
   "file_extension": ".py",
   "mimetype": "text/x-python",
   "name": "python",
   "nbconvert_exporter": "python",
   "pygments_lexer": "ipython3",
   "version": "3.8.5"
  }
 },
 "nbformat": 4,
 "nbformat_minor": 4
}
