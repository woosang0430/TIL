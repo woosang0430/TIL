{
 "cells": [
  {
   "cell_type": "markdown",
   "metadata": {},
   "source": [
    "# oracle (SQL)_DML"
   ]
  },
  {
   "cell_type": "markdown",
   "metadata": {},
   "source": [
    "## DML - (insert, update, delete, select)\n",
    "- 조회하는거 위주로 본다."
   ]
  },
  {
   "cell_type": "markdown",
   "metadata": {},
   "source": [
    "###  1. 데이터 삽입- (insert)\n",
    "- insert 기본구문\n",
    "    - ``insert into 테이블 이름 (컬럼명, 컬럼명 [,...[) values(값1, 값2 [,..])``\n",
    "    - ex) insert into deptartment(department_id, department_name, location) valuse(100, '기획부', '서울')\n",
    "- insert는 한 행(row, 레코드)씩 처리한다.\n",
    "- **문자열**의 경우 삽입할 값을 **`' '`(작은따음표)** 로 감싸준다.\n",
    "- 날짜는 형태에 맞게 문자열로 넣어준다. ( `-` or `/`로 구분해서 넣는다.) yyyy/mm/dd\n",
    "- 테이블의 모든 컬럼에 데이터를 넣을 경우 컬럼 항목을 생략할 수 있다.\n",
    "    - 특정 컬럼에만 넣을 때는 생략 XX\n",
    "   \n",
    "### 2.update"
   ]
  },
  {
   "cell_type": "markdown",
   "metadata": {},
   "source": [
    "### 3. 조회 - (select)\n",
    "- select 기본구문 (순서 지키기)\n",
    "```python\n",
    "select [distinct] 칼럼명 [별칭][,칼럼명2,..] --- 필수\n",
    "from 테이블 이름 [별칭]                      --- 필수\n",
    "[where 제약조건]                            --- 거의 들어감\n",
    "[group by 그룹화할 기준 컬럼]\n",
    "[having 조건]\n",
    "[order by 정렬기준컬럼 [asc|desc]]\n",
    "```\n",
    "- 항목\n",
    "    - `select` : 조회할 컬럼들 지어. 모든 컬럼 조회시 `*`. (distinct : **유일값**원하는 값만)\n",
    "    - `from` : 조회할 컬럼들을 가진 테이블이름\n",
    "    - `where` : 조회할 row을 찾기 위한 제약 조건을 넣는다.\n",
    "    - `group by` : group으로 묶어서 조회할 때 묶을 조건이 될 컬럼들 지정\n",
    "        - **그룹함수**와 연결되어 사용\n",
    "    - `having` : 그룹함수로 조회한 결과에 조건을 줄 때 사용\n",
    "    - `order by` : 조회결과 정렬을 위한 옵션(`ASC`:오름차순(Default). `DESC`:내림차순)\n",
    "    \n",
    "\n",
    "- 연산자 \n",
    "     - 연산은 그 컬럼의 모든 값들에 일률적으로 적용, 같은 컬럼을 여러번 조회할 수 있다.\n",
    "\n",
    "    - 산술연산: `+`, `-`, `*`, `/`,    `mod(n, m)` == n%m\n",
    "        - 피연산자 중 null이 있으면 결과는 무조건 null. null + 10=>null\n",
    "            - null: 값이 없다. 모르는 값.\n",
    "    \n",
    "    - date타입값 +/- 정수 : day(일)을 +/-,  오늘날짜 + 5: 5일후 날짜, 오늘날짜 - 5 : 5일전 날짜 \n",
    "    \n",
    "    - 파생컬럼 : 기존에 있던 데이터를 이용해 새로운 데이터를 만드는 컬럼\n",
    "    \n",
    "    - 컬럼 * 컬럼 : 행단위로 계산\n",
    "    \n",
    "    - sysdate : 실행시점의 일시를 반환. 반환타입: date\n",
    "    \n",
    "    - 연결연산자: 문자열을 붙이는 연산자.  || => 모든타입을 다 붙일 수 있다.\n",
    "        ex) '$'||salary"
   ]
  },
  {
   "cell_type": "markdown",
   "metadata": {},
   "source": [
    "### 3-1 where 절\n",
    "\n",
    "- 행을 선택해 조건에 맞는 컬럼의 data 가져오기\n",
    "\n",
    "    - 연산자\n",
    "        - `and`, `or`\n",
    "        - `=`, (`<>`, `!=`), `>`, `<`, `>=`, `<=`\n",
    "        - `between` a `and` b\n",
    "        - `in (list)`\n",
    "        - `like` \n",
    "        - `is null`\n",
    "        - `not`\n",
    "\n",
    "- exstract(year|month|day from date) : date에서 year, month, day만 추출\n",
    "\n",
    "- where 조건이 여러개일 경우\n",
    "(and, or)\n",
    "\n",
    "- 연산 우선순위 : and > or!!\n"
   ]
  },
  {
   "cell_type": "markdown",
   "metadata": {},
   "source": [
    "### 3-2 order by절\n",
    "- order by를 이용한 컬럼 기준 정렬\n",
    "\n",
    "- select문에 가장 마지막에 오는 구절.\n",
    "\n",
    "- order by 정렬기준컬럼 정렬방식 [, 정렬기준컬럼 정렬방식,...]\n",
    "\t- 같은 값이 있을 때는 2차 정렬을 해준다.\n",
    "\n",
    "- 정렬기준컬럼\n",
    "\t- 컬럼이름.\n",
    "\t- select절에 선언된 순서.\n",
    "\t- 별칭이 있을 경우 별칭.\n",
    "\n",
    "- 정렬방식\n",
    "\t- `asc` : 오름차순 (기본-생략가능)\n",
    "\t- `desc` : 내림차순\n",
    "\n",
    "- 문자열: 특수문자 < 숫자 < 대문자 < 소문자 < 한글 < null\n",
    "\n",
    "- date : 과거 < 미래\t\n",
    "\n",
    "- NULL 값 => 오라클 문법(다른 SQL은 적용 안됨)\n",
    "    - nulls first, nulls last ==> 오라클 문법.\n",
    "    - ASC : 마지막.  order by 컬럼명 asc nulls first\n",
    "        - order by dept_name asc nulls first;\n",
    "    - DESC : 처음.   order by 컬럼명 desc nulls last\n",
    "        - order by dept_name desc nulls last;\n",
    "```python\n",
    "##방법 1\n",
    "select  emp_id,\n",
    "        emp_name,\n",
    "        job, \n",
    "        salary\n",
    "from    emp\n",
    "order by job asc, salary desc;\n",
    "```\n",
    "```python\n",
    "##방법 2\n",
    "select  emp_id,\n",
    "        emp_name,\n",
    "        job, \n",
    "        salary\n",
    "from    emp\n",
    "order by 3 asc, 4 desc; \n",
    "# select 절의 3번째(job), 4번째(salary) 컬럼기준 정렬. \n",
    "#***테이블의 컬럼순서가 아니라 select절에 선언한 컬럼순서\n",
    "```\n",
    "```python\n",
    "##방법 3\n",
    "select  emp_id \"직원ID\",\n",
    "        emp_name \"이름\",\n",
    "        job \"업무\",\n",
    "        salary \"급여\"\n",
    "from    emp\n",
    "order by \"업무\" asc, \"급여\" desc; # 컬럼의 별칭을 사용할 수 있다.\n",
    "```"
   ]
  }
 ],
 "metadata": {
  "kernelspec": {
   "display_name": "Python 3",
   "language": "python",
   "name": "python3"
  },
  "language_info": {
   "codemirror_mode": {
    "name": "ipython",
    "version": 3
   },
   "file_extension": ".py",
   "mimetype": "text/x-python",
   "name": "python",
   "nbconvert_exporter": "python",
   "pygments_lexer": "ipython3",
   "version": "3.8.5"
  }
 },
 "nbformat": 4,
 "nbformat_minor": 4
}
