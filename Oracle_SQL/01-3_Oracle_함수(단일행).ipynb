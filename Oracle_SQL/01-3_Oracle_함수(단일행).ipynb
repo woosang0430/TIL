{
 "cells": [
  {
   "cell_type": "markdown",
   "metadata": {},
   "source": [
    "# 단일행 함수(행 단위 처리)\n",
    "- select, where절에 사용가능"
   ]
  },
  {
   "cell_type": "markdown",
   "metadata": {},
   "source": [
    "## 1. data type별 함수\n",
    "\n",
    "### 1-1. 문자열(조회 결과만 바뀜, 원본은 변환 X)\n",
    "- `upper()`/`lower()` : 대문자/소문자로 변환\n",
    "- `initcap()` : 단어 첫글자만 대문자 나머진 소문자로 변환\n",
    "      - (예제1)\n",
    "    \n",
    "- `LENGTH()` : 글자수 조회\n",
    "      - (예제2)\n",
    "\n",
    "- `LPAD(값, 크기, 채울값)` : **값**을 지정한 **크기**의 고정길이 문자열로 만들고 모자라는 것은 왼쪽부터 **채울값**으로 채운다.\n",
    "- `RPAD(값, 크기, 채울값)` : **값**을 지정한 **크기**의 고정길이 문자열로 만들고 모자라는 것은 오른쪽부터 **채울값**으로 채운다.\n",
    "          - (예제3)\n",
    "    \n",
    "- `SUBSTR(값, 시작index, 글자수)` : **값**에서 **시작index**번째 글자부터 지정한 **글자수** 만큼의 문자열을 추출. 글자수 생략시 끝까지.\n",
    "           - (예제4)\n",
    "    \n",
    "- `REPLACE(값, 찾을문자열, 변경할문자열)` : **값**에서 **찾을문자열**을 **변경할문자열**로 바꾼다.\n",
    "           - (예제5)\n",
    "    \n",
    "- `LTRIM(값)`: 왼공백 제거\n",
    "- `RTRIM(값)`: 오른공백 제거\n",
    "- `TRIM(값)`: 양쪽 공백 제거\n",
    "           - (예제6)"
   ]
  },
  {
   "cell_type": "markdown",
   "metadata": {},
   "source": [
    "```python\n",
    "## 예시1 UPPER(), LOWER(), INITCAP()\n",
    "select  upper('abcDE') \"소문자를대문자로\",\n",
    "        lower('ABCde') \"대문자를소문자로\",\n",
    "       \tinitcap('abcde abced') \"단어의 첫글자만대문자\"\n",
    "from    dual;\n",
    "```\n",
    "```python\n",
    "## 예시2 LENGTH()\n",
    "select  *\n",
    "from    emp\n",
    "where   length (emp_name) > 7;\n",
    "```\n",
    "```python\n",
    "## 예시3 LPAD(), RPAD()\n",
    "select  lpad('abc', 10, '+') \"A\",\n",
    "        rpad('abc', 10) \"B\"\n",
    "\t\trpad('123456789', 3) # 앞에 3글자 나옴\n",
    "\t\tfrom dual;\n",
    "```\n",
    "```python\n",
    "## 예시4 SUBSTR()\n",
    "select substr('123456789', 2, 5) #2번째 글자부터 5개 글자만 출력.\n",
    "       substr('123456789', 2)\t\t\n",
    "       from dual;\n",
    "```\n",
    "```python\n",
    "## 예시5 REPLACE()\n",
    "select replace('010-1111-2222', '010', '###')\n",
    "       from dual;\n",
    "```\n",
    "```python\n",
    "## 예시6 TRIM(), LTRIM(), RTRIM()\n",
    "select  trim('   abc   ') \"A\",\n",
    "        ltrim('    abc    ') \"B\",\n",
    "        rtrim('    abc    ') \"C\"\n",
    "\t\tfrom dual;\n",
    "```"
   ]
  },
  {
   "cell_type": "markdown",
   "metadata": {},
   "source": [
    "### 1-2. 정수 / 실수 (함수 - 숫자관련 함수)\n",
    "\t    \t\n",
    "- 결과 : 정수, 실수\n",
    "    - `round(값, 자릿수)` : 자릿수이하에서 반올림 (양수 - 실수부, 음수 - 정수부, 기본값 : 0)\n",
    "    - `trunc(값, 자릿수)` : 자릿수이하에서 절삭(양수 - 실수부, 음수 - 정수부, 기본값: 0)\n",
    "\t\t\n",
    "- 결과 : 정수\n",
    "    - `ceil(값)` : 올림\n",
    "\t- `floor(값)` : 내림\n",
    "\n",
    "\n",
    "- `mod(나뉘는수, 나누는수)` : 나눗셈의 나머지 연산"
   ]
  },
  {
   "cell_type": "markdown",
   "metadata": {},
   "source": [
    "### 1-3. date(함수 - 숫자관련 함수)"
   ]
  },
  {
   "cell_type": "markdown",
   "metadata": {},
   "source": [
    "- `sysdate` : 실행시점의 일시\n",
    "- `Date +- 정수` : 일자 계산.\n",
    "- `months_between(d1, d2)` : 경과한 개월수(**d1**이 최근, **d2**가 과거)\n",
    "    - 일수가 다를 경우 소수로 나오기때문에 **ceil**로 묶어주자\n",
    "    - (예시 1)\n",
    "- `add_months(d1, 정수)` : **정수**개월 지난 날짜. 마지막 날짜의 1개월 후는 달의 마지막 날이 된다.\n",
    "    - (예시 2)\n",
    "- `next_day(d1, '요일')` : d1에서 첫번째 지정한 요일의 날짜. 요일은 한글(locale)로 지정한다.\n",
    "    - (예시 3)\n",
    "- `last_day(d)` : d 달의 마지막날.\n",
    "- `extract(year|month|day from date)` : date에서 year/month/day만 추출\n",
    "    - (예시 4)"
   ]
  },
  {
   "cell_type": "markdown",
   "metadata": {},
   "source": [
    "```python\n",
    "## 예시1 MONTHS_BETWEEN()\n",
    "select  months_between(sysdate, '2020/12/28')||'개월',\n",
    "        months_between(sysdate, '2020/12/28')||'개월',\n",
    "        ceil(months_between(sysdate, '2020/12/26'))||'개월'\n",
    "from    dual;\n",
    "\"\"\"\n",
    "결과값 1개월    2개월     2개월 #ceil사용안할 시 소수로 나옴\n",
    "\"\"\"\n",
    "```\n",
    "```python\n",
    "## 예시2 ADD_MONTHS()\n",
    "select  add_months(sysdate, 2), --양수 : 2개월후\n",
    "        add_months(sysdate, -2), --음수 : 2개월전\n",
    "        add_months('2021/01/31', 1)\n",
    "from dual;\n",
    "```\n",
    "```python\n",
    "## 예시3 LPAD(), RPAD()\n",
    "select  next_day(sysdate, '금요일'),\n",
    "        next_day(sysdate, '수요일')\n",
    "from    dual;\n",
    "```\n",
    "```python\n",
    "## 예시4 EXTRACT()\n",
    "select  extract(year from sysdate),\n",
    "        extract(month from sysdate),\n",
    "        extract(day from sysdate)\n",
    "from    dual;\n",
    "\n",
    "select * \n",
    "from   emp\n",
    "where  extract(month from hire_date) = 11;\n",
    "```"
   ]
  },
  {
   "cell_type": "markdown",
   "metadata": {},
   "source": [
    "## 2. 변환 함수\n",
    "- data type을 바꿔주는 함수\n",
    "- 문자열을 기분으로 변환, number이랑 date는 서로 변환 X\n",
    "    - `to_char()` : 숫자형, 날짜형을 문자형으로 변환\n",
    "    - `to_number()` : 문자형을 숫자형으로 변환 \n",
    "    - `to_date()` : 문자형을 날짜형으로 변환"
   ]
  },
  {
   "cell_type": "markdown",
   "metadata": {},
   "source": [
    "##  3. 기타 함수\n",
    "\n",
    "### 3-1. 형식(format)문자 \n",
    "- 숫자\n",
    "    - `0`, `9` : 숫자가 들어갈 자릿수 지정. (9: 정수부 남는자리를 공백으로 채움, 0은 0으로 채움) \n",
    "        - 실수부 남는 자리는 둘다 0으로 채운다.\n",
    "        - fm으로 시작하면 9일 경우 공백을 제거.\n",
    "    - `.` : 정수/실수부 구문자.\n",
    "    - `,`: 정수부 단위구분자\n",
    "    - `$` : 통화표시, `L` : 로컬통화기호\n",
    "    \n",
    "- 일시\n",
    "      - yyyy : 4자리, yy: 2자리(2000년대), rr: 2자리(50이상:90년대, 50미만:2000년대) - 50이 기준\n",
    "      - mm: 월 2자리  (11, 05)\n",
    "      - dd: 일 2자리\n",
    "      - hh24: 시간(00 ~ 23) 2자리, hh(01 ~ 12)\n",
    "      - mi: 분 2자리\n",
    "      - ss: 초 2자리\n",
    "      - day(요일), \n",
    "      - am 또는 pm : 오전/오후"
   ]
  }
 ],
 "metadata": {
  "kernelspec": {
   "display_name": "Python 3",
   "language": "python",
   "name": "python3"
  },
  "language_info": {
   "codemirror_mode": {
    "name": "ipython",
    "version": 3
   },
   "file_extension": ".py",
   "mimetype": "text/x-python",
   "name": "python",
   "nbconvert_exporter": "python",
   "pygments_lexer": "ipython3",
   "version": "3.8.5"
  }
 },
 "nbformat": 4,
 "nbformat_minor": 4
}
