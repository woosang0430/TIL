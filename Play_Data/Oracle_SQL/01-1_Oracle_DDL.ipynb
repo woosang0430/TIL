{
 "cells": [
  {
   "cell_type": "markdown",
   "metadata": {},
   "source": [
    "# oracle (SQL)_DDL"
   ]
  },
  {
   "cell_type": "markdown",
   "metadata": {},
   "source": [
    "## SQL\n",
    "- 데이터 베이스에 데이터를 질의, 등록, 수정, 삭제 등을 요청하기 위한 언어\n",
    "    - `DML` : insert, update, delete, select\n",
    "        - table에 data 추가, 수정, 삭제, 조회\n",
    "    - `DDL`(**많이씀**) : create, alter, drop, truncate\n",
    "        - DB 스키마(database나 table등) 생성 및 변경\n",
    "    - `DCL` : grant, revoke\n",
    "        - 사용자에게 권한을 주거나 없애는 것과 같은 data접근을 제어하기 위한 언어\n",
    "    - `TCL` : commit, rollback, savepoint\n",
    "        - Transaction을 관리하는 언어"
   ]
  },
  {
   "cell_type": "markdown",
   "metadata": {},
   "source": [
    "# DDL - (create, drop, alter, truncate)\n",
    "\n",
    "### 사용자 계정 생성 및 권한 설정\n",
    "- 사용자 계정 생성\n",
    "    - create user 계정명 identified by 암호\n",
    "    - Ex) **create user** c##scott **identified by** tiger;\n",
    "- 사용자 계정 삭제\n",
    "    - drop user 계정명 cascade\n",
    "- 권한 지정\n",
    "    - grant 권한 to 계정\n",
    "    - Ex) **grant all privileges to** scott;"
   ]
  },
  {
   "cell_type": "markdown",
   "metadata": {},
   "source": [
    "### 1. 테이블 생성 - (create)\n",
    "- create table 테이블이름(컬럼이름 datatype[제약조건][,컬럼 이름 datatype ...])\n",
    "\n",
    "- 계정내의 테이블 **조회**(오라클)\n",
    "    - select * from tab\n",
    "    \n",
    "- **제약조건**\n",
    "    - 열(컬럼)에 넣을 데이터에 제약이나 조건을 추가하는 기능\n",
    "- 종류\n",
    "    - `primary key(pk)` : 행을 식별하는데 쓰임 (행을 대표 키)\n",
    "    - `unique key(uk)` : 모든 행이 다른 값을 가여야 하는 열(null은 제외)\n",
    "    - `not null(nn)` : null 일 수 없는 열. 반드시 값을 가져야하는 열(nullable => 널을 허용)\n",
    "    - `foreign key(uk)` : 열과 참조하는 테이블의 열 사이의 연결 관계를 설정\n",
    "    - `check(ck)` : 열에 있는 값의 조건을 지정(대부분 업무 규칙을 설정)\n",
    "    - `default` : 컬럼에 넣은 값이 없는 경우(null) 기본 값 지정"
   ]
  },
  {
   "cell_type": "code",
   "execution_count": 1,
   "metadata": {
    "collapsed": true
   },
   "outputs": [
    {
     "ename": "SyntaxError",
     "evalue": "invalid syntax (<ipython-input-1-75ce4bd72411>, line 1)",
     "output_type": "error",
     "traceback": [
      "\u001b[1;36m  File \u001b[1;32m\"<ipython-input-1-75ce4bd72411>\"\u001b[1;36m, line \u001b[1;32m1\u001b[0m\n\u001b[1;33m    create table member(\u001b[0m\n\u001b[1;37m           ^\u001b[0m\n\u001b[1;31mSyntaxError\u001b[0m\u001b[1;31m:\u001b[0m invalid syntax\n"
     ]
    }
   ],
   "source": [
    "# 테이블 생성 예시 (oracle)\n",
    "create table member(\n",
    "    id varchar2(10) primary key,\n",
    "    password varchar2(10) not null,\n",
    "    name nvarchar2(50) not null,\n",
    "    point number(7),\n",
    "    join_date date not null\n",
    ");"
   ]
  },
  {
   "cell_type": "markdown",
   "metadata": {},
   "source": [
    "#### 1-1. 데이터 타입\n",
    "- `char()`(2000byte) : 고정길이(아스키 코드)\n",
    "- `varchar2()`(4000byte) : 가변길이(아스키 코드)  # 한글이랑 영문자의 바이트 차이가 나므로 주의해야한다.\n",
    "- `nchar()`(2000byte) : 고정길이(유니 코드 한글 쓸때)\n",
    "- `nvarchar2()`(4000byte) : 가변길이(유니 코드 한글 쓸때)\n",
    "- `clob` : \n",
    "- `nclob` :\n",
    "\n",
    "#### 1-2. 데이터 타입(숫자)\n",
    "숫자\n",
    "- `number()` : (최대크기 +- 10 \\*\\*38) - 정수, 실수\n",
    "    - ex) `number(2)` : +- 10 \\*\\*2(-999 ~ 999)\n",
    "    - 소수 다룰 때 ex) number(5, 2) : 175.25\n",
    "    \n",
    "날짜/시간\n",
    "- `date` : 일시 - 년월일시분초\n",
    "- ` timestamp` : 일시 - 년월일시분초 + 소수점 이하 초\n",
    "- `null` : 값이 없음을 의미하는 값\n",
    "- 초 정밀도 기본값 6. (0~9 사이의 값"
   ]
  },
  {
   "cell_type": "markdown",
   "metadata": {},
   "source": [
    "## 2.테이블 삭제 - (drop)\n",
    "- drop table 테이블이름 [cascade constraint]\n",
    "- 삭제 하면 되돌릴 수 없다.\n",
    "```python\n",
    "drop table member;\n",
    "```"
   ]
  },
  {
   "cell_type": "markdown",
   "metadata": {},
   "source": [
    "## 3.컬럼이나 제약조건 수정 - (alter)"
   ]
  }
 ],
 "metadata": {
  "kernelspec": {
   "display_name": "Python 3",
   "language": "python",
   "name": "python3"
  },
  "language_info": {
   "codemirror_mode": {
    "name": "ipython",
    "version": 3
   },
   "file_extension": ".py",
   "mimetype": "text/x-python",
   "name": "python",
   "nbconvert_exporter": "python",
   "pygments_lexer": "ipython3",
   "version": "3.8.5"
  }
 },
 "nbformat": 4,
 "nbformat_minor": 4
}
